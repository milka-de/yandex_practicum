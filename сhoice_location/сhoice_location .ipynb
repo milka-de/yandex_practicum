{
 "cells": [
  {
   "cell_type": "markdown",
   "metadata": {},
   "source": [
    "# Выбор локации для скважины"
   ]
  },
  {
   "cell_type": "markdown",
   "metadata": {},
   "source": [
    "Мы работаем в добывающей компании «ГлавРосГосНефть». Нужно решить, где бурить новую скважину.\n",
    "\n",
    "Нам предоставлены пробы нефти в трёх регионах: в каждом 10 000 месторождений, где измерили качество нефти и объём её запасов. Нужно постоить модель машинного обучения, которая поможет определить регион, где добыча принесёт наибольшую прибыль, проанализировать возможную прибыль и риски техникой *Bootstrap.*\n",
    "\n",
    "Шаги для выбора локации:\n",
    "\n",
    "- В избранном регионе ищут месторождения, для каждого определяют значения признаков;\n",
    "- Строят модель и оценивают объём запасов;\n",
    "- Выбирают месторождения с самым высокими оценками значений. Количество месторождений зависит от бюджета компании и стоимости разработки одной скважины;\n",
    "- Прибыль равна суммарной прибыли отобранных месторождений."
   ]
  },
  {
   "cell_type": "markdown",
   "metadata": {},
   "source": [
    "## Загрузка и подготовка данных"
   ]
  },
  {
   "cell_type": "code",
   "execution_count": 1,
   "metadata": {},
   "outputs": [],
   "source": [
    "import pandas as pd\n",
    "import matplotlib.pyplot as plt\n",
    "import numpy as np\n",
    "import plotly.express as px\n",
    "import seaborn as sns\n",
    "import re\n",
    "\n",
    "import warnings\n",
    "warnings.filterwarnings('ignore')\n",
    "\n",
    "from sklearn.linear_model import LinearRegression\n",
    "\n",
    "from sklearn.utils import shuffle\n",
    "\n",
    "\n",
    "from sklearn.metrics import (precision_recall_curve,\n",
    "                             mean_absolute_error,\n",
    "                             confusion_matrix,\n",
    "                             recall_score,\n",
    "                             precision_score,\n",
    "                             f1_score,\n",
    "                             roc_auc_score,\n",
    "                             mean_squared_error)\n",
    "from sklearn.model_selection import train_test_split, GridSearchCV\n",
    "from sklearn.preprocessing import OrdinalEncoder, StandardScaler\n"
   ]
  },
  {
   "cell_type": "code",
   "execution_count": 2,
   "metadata": {},
   "outputs": [],
   "source": [
    "data_0= pd.read_csv('/datasets/geo_data_0.csv')\n",
    "data_1= pd.read_csv('/datasets/geo_data_1.csv')\n",
    "data_2= pd.read_csv('/datasets/geo_data_2.csv')"
   ]
  },
  {
   "cell_type": "code",
   "execution_count": 3,
   "metadata": {},
   "outputs": [
    {
     "name": "stdout",
     "output_type": "stream",
     "text": [
      "<class 'pandas.core.frame.DataFrame'>\n",
      "RangeIndex: 100000 entries, 0 to 99999\n",
      "Data columns (total 5 columns):\n",
      " #   Column   Non-Null Count   Dtype  \n",
      "---  ------   --------------   -----  \n",
      " 0   id       100000 non-null  object \n",
      " 1   f0       100000 non-null  float64\n",
      " 2   f1       100000 non-null  float64\n",
      " 3   f2       100000 non-null  float64\n",
      " 4   product  100000 non-null  float64\n",
      "dtypes: float64(4), object(1)\n",
      "memory usage: 3.8+ MB\n"
     ]
    }
   ],
   "source": [
    "data_0.info()"
   ]
  },
  {
   "cell_type": "code",
   "execution_count": 4,
   "metadata": {},
   "outputs": [
    {
     "data": {
      "text/html": [
       "<div>\n",
       "<style scoped>\n",
       "    .dataframe tbody tr th:only-of-type {\n",
       "        vertical-align: middle;\n",
       "    }\n",
       "\n",
       "    .dataframe tbody tr th {\n",
       "        vertical-align: top;\n",
       "    }\n",
       "\n",
       "    .dataframe thead th {\n",
       "        text-align: right;\n",
       "    }\n",
       "</style>\n",
       "<table border=\"1\" class=\"dataframe\">\n",
       "  <thead>\n",
       "    <tr style=\"text-align: right;\">\n",
       "      <th></th>\n",
       "      <th>f0</th>\n",
       "      <th>f1</th>\n",
       "      <th>f2</th>\n",
       "      <th>product</th>\n",
       "    </tr>\n",
       "  </thead>\n",
       "  <tbody>\n",
       "    <tr>\n",
       "      <th>count</th>\n",
       "      <td>100000.000000</td>\n",
       "      <td>100000.000000</td>\n",
       "      <td>100000.000000</td>\n",
       "      <td>100000.000000</td>\n",
       "    </tr>\n",
       "    <tr>\n",
       "      <th>mean</th>\n",
       "      <td>0.500419</td>\n",
       "      <td>0.250143</td>\n",
       "      <td>2.502647</td>\n",
       "      <td>92.500000</td>\n",
       "    </tr>\n",
       "    <tr>\n",
       "      <th>std</th>\n",
       "      <td>0.871832</td>\n",
       "      <td>0.504433</td>\n",
       "      <td>3.248248</td>\n",
       "      <td>44.288691</td>\n",
       "    </tr>\n",
       "    <tr>\n",
       "      <th>min</th>\n",
       "      <td>-1.408605</td>\n",
       "      <td>-0.848218</td>\n",
       "      <td>-12.088328</td>\n",
       "      <td>0.000000</td>\n",
       "    </tr>\n",
       "    <tr>\n",
       "      <th>25%</th>\n",
       "      <td>-0.072580</td>\n",
       "      <td>-0.200881</td>\n",
       "      <td>0.287748</td>\n",
       "      <td>56.497507</td>\n",
       "    </tr>\n",
       "    <tr>\n",
       "      <th>50%</th>\n",
       "      <td>0.502360</td>\n",
       "      <td>0.250252</td>\n",
       "      <td>2.515969</td>\n",
       "      <td>91.849972</td>\n",
       "    </tr>\n",
       "    <tr>\n",
       "      <th>75%</th>\n",
       "      <td>1.073581</td>\n",
       "      <td>0.700646</td>\n",
       "      <td>4.715088</td>\n",
       "      <td>128.564089</td>\n",
       "    </tr>\n",
       "    <tr>\n",
       "      <th>max</th>\n",
       "      <td>2.362331</td>\n",
       "      <td>1.343769</td>\n",
       "      <td>16.003790</td>\n",
       "      <td>185.364347</td>\n",
       "    </tr>\n",
       "  </tbody>\n",
       "</table>\n",
       "</div>"
      ],
      "text/plain": [
       "                  f0             f1             f2        product\n",
       "count  100000.000000  100000.000000  100000.000000  100000.000000\n",
       "mean        0.500419       0.250143       2.502647      92.500000\n",
       "std         0.871832       0.504433       3.248248      44.288691\n",
       "min        -1.408605      -0.848218     -12.088328       0.000000\n",
       "25%        -0.072580      -0.200881       0.287748      56.497507\n",
       "50%         0.502360       0.250252       2.515969      91.849972\n",
       "75%         1.073581       0.700646       4.715088     128.564089\n",
       "max         2.362331       1.343769      16.003790     185.364347"
      ]
     },
     "execution_count": 4,
     "metadata": {},
     "output_type": "execute_result"
    }
   ],
   "source": [
    "data_0.describe()"
   ]
  },
  {
   "cell_type": "code",
   "execution_count": 5,
   "metadata": {
    "scrolled": true
   },
   "outputs": [
    {
     "name": "stdout",
     "output_type": "stream",
     "text": [
      "<class 'pandas.core.frame.DataFrame'>\n",
      "RangeIndex: 100000 entries, 0 to 99999\n",
      "Data columns (total 5 columns):\n",
      " #   Column   Non-Null Count   Dtype  \n",
      "---  ------   --------------   -----  \n",
      " 0   id       100000 non-null  object \n",
      " 1   f0       100000 non-null  float64\n",
      " 2   f1       100000 non-null  float64\n",
      " 3   f2       100000 non-null  float64\n",
      " 4   product  100000 non-null  float64\n",
      "dtypes: float64(4), object(1)\n",
      "memory usage: 3.8+ MB\n"
     ]
    }
   ],
   "source": [
    "data_1.info()"
   ]
  },
  {
   "cell_type": "code",
   "execution_count": 6,
   "metadata": {},
   "outputs": [
    {
     "data": {
      "text/html": [
       "<div>\n",
       "<style scoped>\n",
       "    .dataframe tbody tr th:only-of-type {\n",
       "        vertical-align: middle;\n",
       "    }\n",
       "\n",
       "    .dataframe tbody tr th {\n",
       "        vertical-align: top;\n",
       "    }\n",
       "\n",
       "    .dataframe thead th {\n",
       "        text-align: right;\n",
       "    }\n",
       "</style>\n",
       "<table border=\"1\" class=\"dataframe\">\n",
       "  <thead>\n",
       "    <tr style=\"text-align: right;\">\n",
       "      <th></th>\n",
       "      <th>f0</th>\n",
       "      <th>f1</th>\n",
       "      <th>f2</th>\n",
       "      <th>product</th>\n",
       "    </tr>\n",
       "  </thead>\n",
       "  <tbody>\n",
       "    <tr>\n",
       "      <th>count</th>\n",
       "      <td>100000.000000</td>\n",
       "      <td>100000.000000</td>\n",
       "      <td>100000.000000</td>\n",
       "      <td>100000.000000</td>\n",
       "    </tr>\n",
       "    <tr>\n",
       "      <th>mean</th>\n",
       "      <td>1.141296</td>\n",
       "      <td>-4.796579</td>\n",
       "      <td>2.494541</td>\n",
       "      <td>68.825000</td>\n",
       "    </tr>\n",
       "    <tr>\n",
       "      <th>std</th>\n",
       "      <td>8.965932</td>\n",
       "      <td>5.119872</td>\n",
       "      <td>1.703572</td>\n",
       "      <td>45.944423</td>\n",
       "    </tr>\n",
       "    <tr>\n",
       "      <th>min</th>\n",
       "      <td>-31.609576</td>\n",
       "      <td>-26.358598</td>\n",
       "      <td>-0.018144</td>\n",
       "      <td>0.000000</td>\n",
       "    </tr>\n",
       "    <tr>\n",
       "      <th>25%</th>\n",
       "      <td>-6.298551</td>\n",
       "      <td>-8.267985</td>\n",
       "      <td>1.000021</td>\n",
       "      <td>26.953261</td>\n",
       "    </tr>\n",
       "    <tr>\n",
       "      <th>50%</th>\n",
       "      <td>1.153055</td>\n",
       "      <td>-4.813172</td>\n",
       "      <td>2.011479</td>\n",
       "      <td>57.085625</td>\n",
       "    </tr>\n",
       "    <tr>\n",
       "      <th>75%</th>\n",
       "      <td>8.621015</td>\n",
       "      <td>-1.332816</td>\n",
       "      <td>3.999904</td>\n",
       "      <td>107.813044</td>\n",
       "    </tr>\n",
       "    <tr>\n",
       "      <th>max</th>\n",
       "      <td>29.421755</td>\n",
       "      <td>18.734063</td>\n",
       "      <td>5.019721</td>\n",
       "      <td>137.945408</td>\n",
       "    </tr>\n",
       "  </tbody>\n",
       "</table>\n",
       "</div>"
      ],
      "text/plain": [
       "                  f0             f1             f2        product\n",
       "count  100000.000000  100000.000000  100000.000000  100000.000000\n",
       "mean        1.141296      -4.796579       2.494541      68.825000\n",
       "std         8.965932       5.119872       1.703572      45.944423\n",
       "min       -31.609576     -26.358598      -0.018144       0.000000\n",
       "25%        -6.298551      -8.267985       1.000021      26.953261\n",
       "50%         1.153055      -4.813172       2.011479      57.085625\n",
       "75%         8.621015      -1.332816       3.999904     107.813044\n",
       "max        29.421755      18.734063       5.019721     137.945408"
      ]
     },
     "execution_count": 6,
     "metadata": {},
     "output_type": "execute_result"
    }
   ],
   "source": [
    "data_1.describe()"
   ]
  },
  {
   "cell_type": "code",
   "execution_count": 7,
   "metadata": {
    "scrolled": true
   },
   "outputs": [
    {
     "name": "stdout",
     "output_type": "stream",
     "text": [
      "<class 'pandas.core.frame.DataFrame'>\n",
      "RangeIndex: 100000 entries, 0 to 99999\n",
      "Data columns (total 5 columns):\n",
      " #   Column   Non-Null Count   Dtype  \n",
      "---  ------   --------------   -----  \n",
      " 0   id       100000 non-null  object \n",
      " 1   f0       100000 non-null  float64\n",
      " 2   f1       100000 non-null  float64\n",
      " 3   f2       100000 non-null  float64\n",
      " 4   product  100000 non-null  float64\n",
      "dtypes: float64(4), object(1)\n",
      "memory usage: 3.8+ MB\n"
     ]
    }
   ],
   "source": [
    "data_2.info()"
   ]
  },
  {
   "cell_type": "code",
   "execution_count": 8,
   "metadata": {
    "scrolled": true
   },
   "outputs": [
    {
     "data": {
      "text/html": [
       "<div>\n",
       "<style scoped>\n",
       "    .dataframe tbody tr th:only-of-type {\n",
       "        vertical-align: middle;\n",
       "    }\n",
       "\n",
       "    .dataframe tbody tr th {\n",
       "        vertical-align: top;\n",
       "    }\n",
       "\n",
       "    .dataframe thead th {\n",
       "        text-align: right;\n",
       "    }\n",
       "</style>\n",
       "<table border=\"1\" class=\"dataframe\">\n",
       "  <thead>\n",
       "    <tr style=\"text-align: right;\">\n",
       "      <th></th>\n",
       "      <th>f0</th>\n",
       "      <th>f1</th>\n",
       "      <th>f2</th>\n",
       "      <th>product</th>\n",
       "    </tr>\n",
       "  </thead>\n",
       "  <tbody>\n",
       "    <tr>\n",
       "      <th>count</th>\n",
       "      <td>100000.000000</td>\n",
       "      <td>100000.000000</td>\n",
       "      <td>100000.000000</td>\n",
       "      <td>100000.000000</td>\n",
       "    </tr>\n",
       "    <tr>\n",
       "      <th>mean</th>\n",
       "      <td>0.002023</td>\n",
       "      <td>-0.002081</td>\n",
       "      <td>2.495128</td>\n",
       "      <td>95.000000</td>\n",
       "    </tr>\n",
       "    <tr>\n",
       "      <th>std</th>\n",
       "      <td>1.732045</td>\n",
       "      <td>1.730417</td>\n",
       "      <td>3.473445</td>\n",
       "      <td>44.749921</td>\n",
       "    </tr>\n",
       "    <tr>\n",
       "      <th>min</th>\n",
       "      <td>-8.760004</td>\n",
       "      <td>-7.084020</td>\n",
       "      <td>-11.970335</td>\n",
       "      <td>0.000000</td>\n",
       "    </tr>\n",
       "    <tr>\n",
       "      <th>25%</th>\n",
       "      <td>-1.162288</td>\n",
       "      <td>-1.174820</td>\n",
       "      <td>0.130359</td>\n",
       "      <td>59.450441</td>\n",
       "    </tr>\n",
       "    <tr>\n",
       "      <th>50%</th>\n",
       "      <td>0.009424</td>\n",
       "      <td>-0.009482</td>\n",
       "      <td>2.484236</td>\n",
       "      <td>94.925613</td>\n",
       "    </tr>\n",
       "    <tr>\n",
       "      <th>75%</th>\n",
       "      <td>1.158535</td>\n",
       "      <td>1.163678</td>\n",
       "      <td>4.858794</td>\n",
       "      <td>130.595027</td>\n",
       "    </tr>\n",
       "    <tr>\n",
       "      <th>max</th>\n",
       "      <td>7.238262</td>\n",
       "      <td>7.844801</td>\n",
       "      <td>16.739402</td>\n",
       "      <td>190.029838</td>\n",
       "    </tr>\n",
       "  </tbody>\n",
       "</table>\n",
       "</div>"
      ],
      "text/plain": [
       "                  f0             f1             f2        product\n",
       "count  100000.000000  100000.000000  100000.000000  100000.000000\n",
       "mean        0.002023      -0.002081       2.495128      95.000000\n",
       "std         1.732045       1.730417       3.473445      44.749921\n",
       "min        -8.760004      -7.084020     -11.970335       0.000000\n",
       "25%        -1.162288      -1.174820       0.130359      59.450441\n",
       "50%         0.009424      -0.009482       2.484236      94.925613\n",
       "75%         1.158535       1.163678       4.858794     130.595027\n",
       "max         7.238262       7.844801      16.739402     190.029838"
      ]
     },
     "execution_count": 8,
     "metadata": {},
     "output_type": "execute_result"
    }
   ],
   "source": [
    "data_2.describe()"
   ]
  },
  {
   "cell_type": "code",
   "execution_count": 9,
   "metadata": {
    "scrolled": false
   },
   "outputs": [
    {
     "data": {
      "text/plain": [
       "0"
      ]
     },
     "metadata": {},
     "output_type": "display_data"
    },
    {
     "data": {
      "text/plain": [
       "0"
      ]
     },
     "metadata": {},
     "output_type": "display_data"
    },
    {
     "data": {
      "text/plain": [
       "0"
      ]
     },
     "metadata": {},
     "output_type": "display_data"
    }
   ],
   "source": [
    "display(data_0.duplicated().sum())\n",
    "display(data_1.duplicated().sum())\n",
    "display(data_2.duplicated().sum())"
   ]
  },
  {
   "cell_type": "markdown",
   "metadata": {},
   "source": [
    "### Вывод"
   ]
  },
  {
   "cell_type": "markdown",
   "metadata": {},
   "source": [
    "Каждая таблица имеет 10000 строк и 5 столбцов\n",
    "\n",
    "Из документации:\n",
    "\n",
    "* `id` — уникальный идентификатор скважины;\n",
    "* `f0`, `f1`, `f2` — три признака точек (неважно, что они означают, но сами признаки значимы);\n",
    "* `product` — объём запасов в скважине (тыс. баррелей).\n",
    "\n",
    "Данные таблицы не имеют дубликатов, пропусков и явных анамальных значений\n",
    "\n",
    "Данные таблицы имеют правильный регистр и тип данных\n",
    "\n",
    "Можем приступать к обучению модели"
   ]
  },
  {
   "cell_type": "markdown",
   "metadata": {},
   "source": [
    "## Обучение и проверка модели"
   ]
  },
  {
   "cell_type": "markdown",
   "metadata": {},
   "source": [
    "* Для обучения модели подходит только линейная регрессия (остальные — недостаточно предсказуемые)."
   ]
  },
  {
   "cell_type": "code",
   "execution_count": 10,
   "metadata": {
    "scrolled": true
   },
   "outputs": [
    {
     "data": {
      "text/plain": [
       "(75000, 3)"
      ]
     },
     "metadata": {},
     "output_type": "display_data"
    },
    {
     "data": {
      "text/plain": [
       "(25000,)"
      ]
     },
     "metadata": {},
     "output_type": "display_data"
    }
   ],
   "source": [
    "def train_valid(data):\n",
    "    global features, target, features_train, features_valid, target_train, target_valid\n",
    "    features = data.drop(['product', 'id'], axis=1)\n",
    "    target = data['product']\n",
    "    #обучающая & валидационная\n",
    "    features_train, features_valid, target_train, target_valid = train_test_split(\n",
    "    features, target, test_size=0.25, random_state=12345)\n",
    "    display(features_train.shape) #обучающая\n",
    "    display(target_valid.shape) #валидационная\n",
    "train_valid(data_0)"
   ]
  },
  {
   "cell_type": "code",
   "execution_count": 11,
   "metadata": {
    "scrolled": true
   },
   "outputs": [
    {
     "name": "stdout",
     "output_type": "stream",
     "text": [
      "mean valid: 92.07859674082927\n",
      "mean predictions: 92.59256778438035\n",
      "rmse: 37.5794217150813\n"
     ]
    }
   ],
   "source": [
    "model = LinearRegression()\n",
    "model.fit(features_train, target_train)\n",
    "\n",
    "predictions_0 = model.predict(features_valid)\n",
    "mean_predictions_0 = predictions_0.mean()\n",
    "\n",
    "rmse_0 = np.sqrt(mean_squared_error(target_valid, predictions_0))\n",
    "\n",
    "target_valid_0 = target_valid\n",
    "mean_valid_0 = target_valid_0.mean()\n",
    "print('mean valid:', mean_valid_0)\n",
    "\n",
    "print('mean predictions:', mean_predictions_0)\n",
    "print('rmse:', rmse_0)"
   ]
  },
  {
   "cell_type": "code",
   "execution_count": 12,
   "metadata": {},
   "outputs": [
    {
     "data": {
      "text/plain": [
       "(75000, 3)"
      ]
     },
     "metadata": {},
     "output_type": "display_data"
    },
    {
     "data": {
      "text/plain": [
       "(25000,)"
      ]
     },
     "metadata": {},
     "output_type": "display_data"
    }
   ],
   "source": [
    "train_valid(data_1)"
   ]
  },
  {
   "cell_type": "code",
   "execution_count": 13,
   "metadata": {},
   "outputs": [
    {
     "name": "stdout",
     "output_type": "stream",
     "text": [
      "mean valid: 68.72313602435997\n",
      "mean: 68.728546895446\n",
      "rmse: 0.893099286775617\n"
     ]
    }
   ],
   "source": [
    "model = LinearRegression()\n",
    "model.fit(features_train, target_train)\n",
    "\n",
    "predictions_1= model.predict(features_valid)\n",
    "\n",
    "mean_predictions_1 = predictions_1.mean()\n",
    "rmse_1 = np.sqrt(mean_squared_error(target_valid, predictions_1))\n",
    "\n",
    "target_valid_1 = target_valid\n",
    "mean_valid_1 = target_valid_1.mean()\n",
    "print('mean valid:', mean_valid_1)\n",
    "\n",
    "print('mean:', mean_predictions_1)\n",
    "print('rmse:', rmse_1)"
   ]
  },
  {
   "cell_type": "code",
   "execution_count": 14,
   "metadata": {},
   "outputs": [
    {
     "data": {
      "text/plain": [
       "(75000, 3)"
      ]
     },
     "metadata": {},
     "output_type": "display_data"
    },
    {
     "data": {
      "text/plain": [
       "(25000,)"
      ]
     },
     "metadata": {},
     "output_type": "display_data"
    }
   ],
   "source": [
    "train_valid(data_2)"
   ]
  },
  {
   "cell_type": "code",
   "execution_count": 15,
   "metadata": {},
   "outputs": [
    {
     "name": "stdout",
     "output_type": "stream",
     "text": [
      "mean valid: 94.88423280885438\n",
      "mean: 94.96504596800489\n",
      "rmse: 40.02970873393434\n"
     ]
    }
   ],
   "source": [
    "model = LinearRegression()\n",
    "model.fit(features_train, target_train)\n",
    "\n",
    "predictions_2 = model.predict(features_valid)\n",
    "\n",
    "mean_predictions_2 = predictions_2.mean()\n",
    "rmse_2 = np.sqrt(mean_squared_error(target_valid, predictions_2))\n",
    "\n",
    "target_valid_2 = target_valid\n",
    "mean_valid_2 = target_valid_2.mean()\n",
    "print('mean valid:', mean_valid_2)\n",
    "\n",
    "print('mean:', mean_predictions_2)\n",
    "print('rmse:', rmse_2)"
   ]
  },
  {
   "cell_type": "code",
   "execution_count": 16,
   "metadata": {},
   "outputs": [
    {
     "data": {
      "text/html": [
       "<div>\n",
       "<style scoped>\n",
       "    .dataframe tbody tr th:only-of-type {\n",
       "        vertical-align: middle;\n",
       "    }\n",
       "\n",
       "    .dataframe tbody tr th {\n",
       "        vertical-align: top;\n",
       "    }\n",
       "\n",
       "    .dataframe thead th {\n",
       "        text-align: right;\n",
       "    }\n",
       "</style>\n",
       "<table border=\"1\" class=\"dataframe\">\n",
       "  <thead>\n",
       "    <tr style=\"text-align: right;\">\n",
       "      <th></th>\n",
       "      <th>mean_valid</th>\n",
       "      <th>mean_predictions</th>\n",
       "      <th>rmse</th>\n",
       "    </tr>\n",
       "  </thead>\n",
       "  <tbody>\n",
       "    <tr>\n",
       "      <th>0</th>\n",
       "      <td>92.078597</td>\n",
       "      <td>92.592568</td>\n",
       "      <td>37.579422</td>\n",
       "    </tr>\n",
       "    <tr>\n",
       "      <th>1</th>\n",
       "      <td>68.723136</td>\n",
       "      <td>68.728547</td>\n",
       "      <td>0.893099</td>\n",
       "    </tr>\n",
       "    <tr>\n",
       "      <th>2</th>\n",
       "      <td>94.884233</td>\n",
       "      <td>94.965046</td>\n",
       "      <td>40.029709</td>\n",
       "    </tr>\n",
       "  </tbody>\n",
       "</table>\n",
       "</div>"
      ],
      "text/plain": [
       "   mean_valid  mean_predictions       rmse\n",
       "0   92.078597         92.592568  37.579422\n",
       "1   68.723136         68.728547   0.893099\n",
       "2   94.884233         94.965046  40.029709"
      ]
     },
     "metadata": {},
     "output_type": "display_data"
    }
   ],
   "source": [
    "mean_rmse_frame= pd.DataFrame()\n",
    "mean_rmse_frame['mean_valid']= mean_valid_0, mean_valid_1, mean_valid_2\n",
    "mean_rmse_frame['mean_predictions']= mean_predictions_0, mean_predictions_1, mean_predictions_2\n",
    "mean_rmse_frame['rmse']= rmse_0, rmse_1, rmse_2\n",
    "\n",
    "display(mean_rmse_frame)"
   ]
  },
  {
   "cell_type": "markdown",
   "metadata": {},
   "source": [
    "### Вывод"
   ]
  },
  {
   "cell_type": "markdown",
   "metadata": {},
   "source": [
    "Средние на валидационной выборке очень похожи на предсказанные средние, вполне вероятно, что модели хорошо обучены\n",
    "\n",
    "Но здесь очень заметна разница между второй моделью(data_1) и осталными(0 и 2)\n",
    "\n",
    "Это логично, ведь, если обратить внимание на этап подготовки данных, мы увидим, что таблица `data_1` имеет намного больший разброс параметров, нежели оставшиеся таблицы\n",
    "\n",
    "Можем заранее предположить, что так как данные региона 1 очень отличаются, скорее всего, это будет либо единственный реггион который нам подходит, либо наоборот - единственный регион, который нам не подходит"
   ]
  },
  {
   "cell_type": "markdown",
   "metadata": {},
   "source": [
    "## Подготовка к расчёту прибыли"
   ]
  },
  {
   "cell_type": "markdown",
   "metadata": {},
   "source": [
    "* При разведке региона исследуют 500 точек, из которых с помощью машинного обучения выбирают 200 лучших для разработки.\n",
    "* Бюджет на разработку скважин в регионе — 10 млрд рублей.\n",
    "* При нынешних ценах один баррель сырья приносит 450 рублей дохода. Доход с каждой единицы продукта составляет 450 тыс. рублей, поскольку объём указан в тысячах баррелей.\n",
    "* После оценки рисков нужно оставить лишь те регионы, в которых вероятность убытков меньше 2.5%. Среди них выбирают регион с наибольшей средней прибылью"
   ]
  },
  {
   "cell_type": "code",
   "execution_count": 17,
   "metadata": {},
   "outputs": [],
   "source": [
    "def reset_indx(target_valid):\n",
    "    target_valid = target_valid.reset_index()\n",
    "    target_valid = target_valid.drop(['index'], axis=1)\n",
    "    return target_valid\n",
    "target_valid_0= reset_indx(target_valid_0)\n",
    "target_valid_1= reset_indx(target_valid_1)\n",
    "target_valid_2= reset_indx(target_valid_2)"
   ]
  },
  {
   "cell_type": "code",
   "execution_count": 18,
   "metadata": {},
   "outputs": [
    {
     "data": {
      "text/html": [
       "<div>\n",
       "<style scoped>\n",
       "    .dataframe tbody tr th:only-of-type {\n",
       "        vertical-align: middle;\n",
       "    }\n",
       "\n",
       "    .dataframe tbody tr th {\n",
       "        vertical-align: top;\n",
       "    }\n",
       "\n",
       "    .dataframe thead th {\n",
       "        text-align: right;\n",
       "    }\n",
       "</style>\n",
       "<table border=\"1\" class=\"dataframe\">\n",
       "  <thead>\n",
       "    <tr style=\"text-align: right;\">\n",
       "      <th></th>\n",
       "      <th>predictions_0</th>\n",
       "      <th>target_valid_0</th>\n",
       "      <th>predictions_1</th>\n",
       "      <th>target_valid_1</th>\n",
       "      <th>predictions_2</th>\n",
       "      <th>target_valid_2</th>\n",
       "    </tr>\n",
       "  </thead>\n",
       "  <tbody>\n",
       "    <tr>\n",
       "      <th>0</th>\n",
       "      <td>95.894952</td>\n",
       "      <td>10.038645</td>\n",
       "      <td>82.663314</td>\n",
       "      <td>80.859783</td>\n",
       "      <td>93.599633</td>\n",
       "      <td>61.212375</td>\n",
       "    </tr>\n",
       "    <tr>\n",
       "      <th>1</th>\n",
       "      <td>77.572583</td>\n",
       "      <td>114.551489</td>\n",
       "      <td>54.431786</td>\n",
       "      <td>53.906522</td>\n",
       "      <td>75.105159</td>\n",
       "      <td>41.850118</td>\n",
       "    </tr>\n",
       "    <tr>\n",
       "      <th>2</th>\n",
       "      <td>77.892640</td>\n",
       "      <td>132.603635</td>\n",
       "      <td>29.748760</td>\n",
       "      <td>30.132364</td>\n",
       "      <td>90.066809</td>\n",
       "      <td>57.776581</td>\n",
       "    </tr>\n",
       "    <tr>\n",
       "      <th>3</th>\n",
       "      <td>90.175134</td>\n",
       "      <td>169.072125</td>\n",
       "      <td>53.552133</td>\n",
       "      <td>53.906522</td>\n",
       "      <td>105.162375</td>\n",
       "      <td>100.053761</td>\n",
       "    </tr>\n",
       "    <tr>\n",
       "      <th>4</th>\n",
       "      <td>70.510088</td>\n",
       "      <td>122.325180</td>\n",
       "      <td>1.243856</td>\n",
       "      <td>0.000000</td>\n",
       "      <td>115.303310</td>\n",
       "      <td>109.897122</td>\n",
       "    </tr>\n",
       "    <tr>\n",
       "      <th>...</th>\n",
       "      <td>...</td>\n",
       "      <td>...</td>\n",
       "      <td>...</td>\n",
       "      <td>...</td>\n",
       "      <td>...</td>\n",
       "      <td>...</td>\n",
       "    </tr>\n",
       "    <tr>\n",
       "      <th>24995</th>\n",
       "      <td>103.037104</td>\n",
       "      <td>170.116726</td>\n",
       "      <td>136.869211</td>\n",
       "      <td>137.945408</td>\n",
       "      <td>78.765887</td>\n",
       "      <td>28.492402</td>\n",
       "    </tr>\n",
       "    <tr>\n",
       "      <th>24996</th>\n",
       "      <td>85.403255</td>\n",
       "      <td>93.632175</td>\n",
       "      <td>110.693465</td>\n",
       "      <td>110.992147</td>\n",
       "      <td>95.603394</td>\n",
       "      <td>21.431303</td>\n",
       "    </tr>\n",
       "    <tr>\n",
       "      <th>24997</th>\n",
       "      <td>61.509833</td>\n",
       "      <td>127.352259</td>\n",
       "      <td>137.879341</td>\n",
       "      <td>137.945408</td>\n",
       "      <td>99.407281</td>\n",
       "      <td>125.487229</td>\n",
       "    </tr>\n",
       "    <tr>\n",
       "      <th>24998</th>\n",
       "      <td>118.180397</td>\n",
       "      <td>99.782700</td>\n",
       "      <td>83.761966</td>\n",
       "      <td>84.038886</td>\n",
       "      <td>77.779912</td>\n",
       "      <td>99.422903</td>\n",
       "    </tr>\n",
       "    <tr>\n",
       "      <th>24999</th>\n",
       "      <td>118.169392</td>\n",
       "      <td>177.821022</td>\n",
       "      <td>53.958466</td>\n",
       "      <td>53.906522</td>\n",
       "      <td>129.032417</td>\n",
       "      <td>127.445075</td>\n",
       "    </tr>\n",
       "  </tbody>\n",
       "</table>\n",
       "<p>25000 rows × 6 columns</p>\n",
       "</div>"
      ],
      "text/plain": [
       "       predictions_0  target_valid_0  predictions_1  target_valid_1  \\\n",
       "0          95.894952       10.038645      82.663314       80.859783   \n",
       "1          77.572583      114.551489      54.431786       53.906522   \n",
       "2          77.892640      132.603635      29.748760       30.132364   \n",
       "3          90.175134      169.072125      53.552133       53.906522   \n",
       "4          70.510088      122.325180       1.243856        0.000000   \n",
       "...              ...             ...            ...             ...   \n",
       "24995     103.037104      170.116726     136.869211      137.945408   \n",
       "24996      85.403255       93.632175     110.693465      110.992147   \n",
       "24997      61.509833      127.352259     137.879341      137.945408   \n",
       "24998     118.180397       99.782700      83.761966       84.038886   \n",
       "24999     118.169392      177.821022      53.958466       53.906522   \n",
       "\n",
       "       predictions_2  target_valid_2  \n",
       "0          93.599633       61.212375  \n",
       "1          75.105159       41.850118  \n",
       "2          90.066809       57.776581  \n",
       "3         105.162375      100.053761  \n",
       "4         115.303310      109.897122  \n",
       "...              ...             ...  \n",
       "24995      78.765887       28.492402  \n",
       "24996      95.603394       21.431303  \n",
       "24997      99.407281      125.487229  \n",
       "24998      77.779912       99.422903  \n",
       "24999     129.032417      127.445075  \n",
       "\n",
       "[25000 rows x 6 columns]"
      ]
     },
     "metadata": {},
     "output_type": "display_data"
    }
   ],
   "source": [
    "key_values= pd.DataFrame()\n",
    "key_values['predictions_0']= predictions_0\n",
    "key_values['target_valid_0']= target_valid_0\n",
    "key_values['predictions_1']= predictions_1\n",
    "key_values['target_valid_1']= target_valid_1\n",
    "key_values['predictions_2']= predictions_2\n",
    "key_values['target_valid_2']= target_valid_2\n",
    "key_values['predictions_0']= predictions_0\n",
    "\n",
    "display(key_values)"
   ]
  },
  {
   "cell_type": "code",
   "execution_count": 19,
   "metadata": {
    "scrolled": false
   },
   "outputs": [
    {
     "data": {
      "text/plain": [
       "111.11111111111111"
      ]
     },
     "execution_count": 19,
     "metadata": {},
     "output_type": "execute_result"
    }
   ],
   "source": [
    "a = 10_000_000_000/200 # максимальная стоимость одной разрабатываемой скважины\n",
    "b= a/450_000 #минимальное среднее количество продукта в тысячах баррелей в месторождениях региона, достаточное для разработки\n",
    "b"
   ]
  },
  {
   "cell_type": "code",
   "execution_count": null,
   "metadata": {},
   "outputs": [],
   "source": [
    "def prof(target, predictions, count):\n",
    "    predict_sorted = predictions.sort_values(ascending=False)\n",
    "    selected = target[predict_sorted.index][:count]\n",
    "    return  selected.sum()*450_000-10**10"
   ]
  },
  {
   "cell_type": "markdown",
   "metadata": {},
   "source": [
    "### Вывод"
   ]
  },
  {
   "cell_type": "markdown",
   "metadata": {},
   "source": [
    "\n",
    "Для дальнейших расчётов мы создали таблицу в которой каждому предсказанию соответствует значение валидационной выборки\n",
    "\n",
    "Также созжали функцию для расчёта прибыли"
   ]
  },
  {
   "cell_type": "markdown",
   "metadata": {},
   "source": [
    "## Расчёт прибыли и рисков "
   ]
  },
  {
   "cell_type": "code",
   "execution_count": 21,
   "metadata": {
    "scrolled": true
   },
   "outputs": [],
   "source": [
    "state = np.random.RandomState(12345)\n",
    "values = []\n",
    "def bootstep(target, probabilities):\n",
    "    for i in range(1000):\n",
    "        target_subsample= target.sample(n=500,replace=True,random_state=state)\n",
    "        probs_subsample = probabilities[target_subsample.index]\n",
    "        rev = prof(target_subsample,probs_subsample,200)\n",
    "        values.append(rev)\n",
    "    return values"
   ]
  },
  {
   "cell_type": "code",
   "execution_count": 26,
   "metadata": {
    "scrolled": true
   },
   "outputs": [],
   "source": [
    "bootstep_0 = bootstep( key_values['target_valid_0'], key_values['predictions_0'])\n",
    "bootstep_0 = pd.Series(bootstep_0)\n",
    "lower = bootstep_0.quantile(0.025)\n",
    "apper = bootstep_0.quantile(0.975)\n",
    "\n",
    "mean= bootstep_0.mean()"
   ]
  },
  {
   "cell_type": "code",
   "execution_count": 27,
   "metadata": {},
   "outputs": [
    {
     "name": "stdout",
     "output_type": "stream",
     "text": [
      "регион 0\n",
      "Средняя прибыль: 477723131.79467154 рублей\n",
      "Риск убытков: 2.65 %\n",
      "С вероятностью 95% выручка будет не менее: -6930525.967865173 рублей и не более: 976440320.83285\n"
     ]
    }
   ],
   "source": [
    "print('регион 0')\n",
    "print(f'Средняя прибыль: {mean} рублей')\n",
    "print('Риск убытков:', (len(bootstep_0[bootstep_0<0])/len(bootstep_0))*100, '%')\n",
    "print(f'С вероятностью 95% выручка будет не менее: {lower} рублей и не более: {apper}')\n"
   ]
  },
  {
   "cell_type": "code",
   "execution_count": 24,
   "metadata": {},
   "outputs": [],
   "source": [
    "values = []\n",
    "bootstep_1 = bootstep( key_values['target_valid_1'], key_values['predictions_1'])\n",
    "bootstep_1 = pd.Series(bootstep_1)\n",
    "lower = bootstep_1.quantile(0.025)\n",
    "apper = bootstep_1.quantile(0.975)\n",
    "mean= bootstep_1.mean()"
   ]
  },
  {
   "cell_type": "code",
   "execution_count": 25,
   "metadata": {},
   "outputs": [
    {
     "name": "stdout",
     "output_type": "stream",
     "text": [
      "регион 1\n",
      "Средняя прибыль: 518259493.6973249 рублей\n",
      "Риск убытков: 0.3 %\n",
      "С вероятностью 95% выручка будет не менее: 128123231.43308444 рублей и не более: 953612982.0669085\n"
     ]
    }
   ],
   "source": [
    "print('регион 1')\n",
    "print(f'Средняя прибыль: {mean} рублей')\n",
    "print('Риск убытков:', (len(bootstep_1[bootstep_1<0])/len(bootstep_1))*100, '%')\n",
    "print(f'С вероятностью 95% выручка будет не менее: {lower} рублей и не более: {apper}')\n"
   ]
  },
  {
   "cell_type": "code",
   "execution_count": 28,
   "metadata": {},
   "outputs": [],
   "source": [
    "values = []\n",
    "bootstep_2 = bootstep( key_values['target_valid_2'], key_values['predictions_2'])\n",
    "bootstep_2 = pd.Series(bootstep_2)\n",
    "lower = bootstep_2.quantile(0.025)\n",
    "apper = bootstep_2.quantile(0.975)\n",
    "mean= bootstep_2.mean()"
   ]
  },
  {
   "cell_type": "code",
   "execution_count": 29,
   "metadata": {
    "scrolled": false
   },
   "outputs": [
    {
     "name": "stdout",
     "output_type": "stream",
     "text": [
      "регион 2\n",
      "Средняя прибыль: 424212488.0991597 рублей\n",
      "Риск убытков: 4.9 %\n",
      "С вероятностью 95% выручка будет не менее: -94920268.4330111 рублей и не более: 932890021.6850643\n"
     ]
    }
   ],
   "source": [
    "print('регион 2')\n",
    "print(f'Средняя прибыль: {mean} рублей')\n",
    "print('Риск убытков:', (len(bootstep_2[bootstep_2<0])/len(bootstep_2))*100, '%')\n",
    "print(f'С вероятностью 95% выручка будет не менее: {lower} рублей и не более: {apper}')\n"
   ]
  },
  {
   "cell_type": "markdown",
   "metadata": {},
   "source": [
    "## Вывод"
   ]
  },
  {
   "cell_type": "markdown",
   "metadata": {},
   "source": [
    "Техникой Бутстреп мы нашли среднюю прибыль,  95%-й доверительный интервал и риск убытков для каждого региона\n",
    "\n",
    "По условию после оценки рисков нужно оставить лишь те регионы, в которых вероятность убытков меньше 2.5%. Среди них выбирать регион с наибольшей средней прибылью. Но из данных регионов только один регион имеет риск меньше 2.5% \n",
    "\n",
    "В разработку мы берём Регион 1 - Риск 0.3%, у остальных регионов риски намного больше и нам они не подходят, поэтому нет необходимости сравнивать среднюю прибыль, хотя она также выше в этом регионе\n",
    "\n",
    "Средняя прибыль: 420194005.3440501 рублей\n"
   ]
  },
  {
   "cell_type": "markdown",
   "metadata": {},
   "source": [
    "## Чек-лист готовности проекта"
   ]
  },
  {
   "cell_type": "markdown",
   "metadata": {},
   "source": [
    "Поставьте 'x' в выполненных пунктах. Далее нажмите Shift+Enter."
   ]
  },
  {
   "cell_type": "markdown",
   "metadata": {},
   "source": [
    "- [x]  Jupyter Notebook открыт\n",
    "- [x]  Весь код выполняется без ошибок\n",
    "- [x]  Ячейки с кодом расположены в порядке исполнения\n",
    "- [x]  Выполнен шаг 1: данные подготовлены\n",
    "- [x]  Выполнен шаг 2: модели обучены и проверены\n",
    "    - [x]  Данные корректно разбиты на обучающую и валидационную выборки\n",
    "    - [x]  Модели обучены, предсказания сделаны\n",
    "    - [x]  Предсказания и правильные ответы на валидационной выборке сохранены\n",
    "    - [x]  На экране напечатаны результаты\n",
    "    - [x]  Сделаны выводы\n",
    "- [x]  Выполнен шаг 3: проведена подготовка к расчёту прибыли\n",
    "    - [x]  Для всех ключевых значений созданы константы Python\n",
    "    - [x]  Посчитано минимальное среднее количество продукта в месторождениях региона, достаточное для разработки\n",
    "    - [x]  По предыдущему пункту сделаны выводы\n",
    "    - [x]  Написана функция расчёта прибыли\n",
    "- [x]  Выполнен шаг 4: посчитаны риски и прибыль\n",
    "    - [x]  Проведена процедура *Bootstrap*\n",
    "    - [x]  Все параметры бутстрепа соответствуют условию\n",
    "    - [x]  Найдены все нужные величины\n",
    "    - [x]  Предложен регион для разработки месторождения\n",
    "    - [x]  Выбор региона обоснован"
   ]
  }
 ],
 "metadata": {
  "ExecuteTimeLog": [
   {
    "duration": 1605,
    "start_time": "2022-05-24T19:31:03.805Z"
   },
   {
    "duration": 2373,
    "start_time": "2022-05-24T19:34:47.661Z"
   },
   {
    "duration": 15,
    "start_time": "2022-05-24T19:34:50.036Z"
   },
   {
    "duration": 13,
    "start_time": "2022-05-24T19:34:52.961Z"
   },
   {
    "duration": 11,
    "start_time": "2022-05-24T19:34:55.317Z"
   },
   {
    "duration": 15,
    "start_time": "2022-05-24T21:23:17.081Z"
   },
   {
    "duration": 12,
    "start_time": "2022-05-24T21:23:35.722Z"
   },
   {
    "duration": 16,
    "start_time": "2022-05-24T21:23:57.888Z"
   },
   {
    "duration": 35,
    "start_time": "2022-05-24T21:24:26.831Z"
   },
   {
    "duration": 33,
    "start_time": "2022-05-24T21:24:59.567Z"
   },
   {
    "duration": 32,
    "start_time": "2022-05-24T21:25:35.347Z"
   },
   {
    "duration": 104,
    "start_time": "2022-05-24T21:26:56.885Z"
   },
   {
    "duration": 47,
    "start_time": "2022-05-24T21:27:07.690Z"
   },
   {
    "duration": 122,
    "start_time": "2022-05-24T21:27:23.540Z"
   },
   {
    "duration": 13,
    "start_time": "2022-05-24T21:34:01.092Z"
   },
   {
    "duration": 2767,
    "start_time": "2022-05-24T21:34:57.643Z"
   },
   {
    "duration": 22,
    "start_time": "2022-05-24T21:35:20.673Z"
   },
   {
    "duration": 719,
    "start_time": "2022-05-24T21:42:13.026Z"
   },
   {
    "duration": 285,
    "start_time": "2022-05-24T21:42:54.122Z"
   },
   {
    "duration": 254,
    "start_time": "2022-05-24T21:43:14.065Z"
   },
   {
    "duration": 234,
    "start_time": "2022-05-24T21:43:27.184Z"
   },
   {
    "duration": 1441,
    "start_time": "2022-05-25T18:47:04.158Z"
   },
   {
    "duration": 792,
    "start_time": "2022-05-25T18:47:05.600Z"
   },
   {
    "duration": 19,
    "start_time": "2022-05-25T18:47:06.394Z"
   },
   {
    "duration": 47,
    "start_time": "2022-05-25T18:47:06.417Z"
   },
   {
    "duration": 16,
    "start_time": "2022-05-25T18:47:06.466Z"
   },
   {
    "duration": 54,
    "start_time": "2022-05-25T18:47:06.484Z"
   },
   {
    "duration": 23,
    "start_time": "2022-05-25T18:47:06.540Z"
   },
   {
    "duration": 36,
    "start_time": "2022-05-25T18:47:06.565Z"
   },
   {
    "duration": 157,
    "start_time": "2022-05-25T18:47:06.602Z"
   },
   {
    "duration": 11,
    "start_time": "2022-05-25T18:53:06.197Z"
   },
   {
    "duration": 2280,
    "start_time": "2022-05-25T18:53:15.076Z"
   },
   {
    "duration": 632,
    "start_time": "2022-05-25T18:53:21.463Z"
   },
   {
    "duration": 24,
    "start_time": "2022-05-25T18:53:26.248Z"
   },
   {
    "duration": 39,
    "start_time": "2022-05-25T18:53:28.290Z"
   },
   {
    "duration": 15,
    "start_time": "2022-05-25T18:53:30.698Z"
   },
   {
    "duration": 36,
    "start_time": "2022-05-25T18:53:32.774Z"
   },
   {
    "duration": 14,
    "start_time": "2022-05-25T18:53:34.992Z"
   },
   {
    "duration": 42,
    "start_time": "2022-05-25T18:53:37.258Z"
   },
   {
    "duration": 194,
    "start_time": "2022-05-25T18:53:40.226Z"
   },
   {
    "duration": 25,
    "start_time": "2022-05-25T18:53:48.248Z"
   },
   {
    "duration": 115,
    "start_time": "2022-05-25T19:00:30.543Z"
   },
   {
    "duration": 38,
    "start_time": "2022-05-25T19:00:55.601Z"
   },
   {
    "duration": 16,
    "start_time": "2022-05-25T19:04:35.141Z"
   },
   {
    "duration": 16,
    "start_time": "2022-05-25T19:04:54.095Z"
   },
   {
    "duration": 15,
    "start_time": "2022-05-25T19:05:33.532Z"
   },
   {
    "duration": 20,
    "start_time": "2022-05-25T19:05:39.562Z"
   },
   {
    "duration": 14,
    "start_time": "2022-05-25T19:06:45.028Z"
   },
   {
    "duration": 6,
    "start_time": "2022-05-25T19:10:12.692Z"
   },
   {
    "duration": 54,
    "start_time": "2022-05-25T19:13:16.982Z"
   },
   {
    "duration": 25,
    "start_time": "2022-05-25T19:16:09.416Z"
   },
   {
    "duration": 18,
    "start_time": "2022-05-25T19:21:59.848Z"
   },
   {
    "duration": 149,
    "start_time": "2022-05-25T19:22:10.727Z"
   },
   {
    "duration": 20,
    "start_time": "2022-05-25T19:22:35.119Z"
   },
   {
    "duration": 115,
    "start_time": "2022-05-25T19:22:37.512Z"
   },
   {
    "duration": 12,
    "start_time": "2022-05-25T19:27:02.543Z"
   },
   {
    "duration": 20,
    "start_time": "2022-05-25T19:27:28.240Z"
   },
   {
    "duration": 14,
    "start_time": "2022-05-25T19:28:19.664Z"
   },
   {
    "duration": 94,
    "start_time": "2022-05-25T19:28:24.855Z"
   },
   {
    "duration": 24,
    "start_time": "2022-05-25T19:28:42.224Z"
   },
   {
    "duration": 62,
    "start_time": "2022-05-25T19:28:45.469Z"
   },
   {
    "duration": 12,
    "start_time": "2022-05-25T19:33:50.917Z"
   },
   {
    "duration": 20,
    "start_time": "2022-05-25T19:33:52.573Z"
   },
   {
    "duration": 16,
    "start_time": "2022-05-25T19:33:56.722Z"
   },
   {
    "duration": 19,
    "start_time": "2022-05-25T19:33:58.529Z"
   },
   {
    "duration": 12,
    "start_time": "2022-05-25T19:39:40.877Z"
   },
   {
    "duration": 33,
    "start_time": "2022-05-25T19:40:02.052Z"
   },
   {
    "duration": 24,
    "start_time": "2022-05-25T19:40:15.894Z"
   },
   {
    "duration": 16,
    "start_time": "2022-05-25T19:40:44.878Z"
   },
   {
    "duration": 18,
    "start_time": "2022-05-25T19:40:51.466Z"
   },
   {
    "duration": 14,
    "start_time": "2022-05-25T19:42:29.200Z"
   },
   {
    "duration": 16,
    "start_time": "2022-05-25T19:42:30.439Z"
   },
   {
    "duration": 14,
    "start_time": "2022-05-25T19:42:39.625Z"
   },
   {
    "duration": 17,
    "start_time": "2022-05-25T19:42:40.995Z"
   },
   {
    "duration": 22,
    "start_time": "2022-05-25T19:42:49.188Z"
   },
   {
    "duration": 15,
    "start_time": "2022-05-25T19:42:51.799Z"
   },
   {
    "duration": 17,
    "start_time": "2022-05-25T19:42:54.264Z"
   },
   {
    "duration": 17,
    "start_time": "2022-05-25T19:43:02.395Z"
   },
   {
    "duration": 18,
    "start_time": "2022-05-25T19:43:03.405Z"
   },
   {
    "duration": 17,
    "start_time": "2022-05-25T19:43:04.087Z"
   },
   {
    "duration": 14,
    "start_time": "2022-05-25T19:43:04.311Z"
   },
   {
    "duration": 15,
    "start_time": "2022-05-25T19:43:04.695Z"
   },
   {
    "duration": 14,
    "start_time": "2022-05-25T19:43:05.393Z"
   },
   {
    "duration": 14,
    "start_time": "2022-05-25T19:43:06.103Z"
   },
   {
    "duration": 14,
    "start_time": "2022-05-25T19:43:06.821Z"
   },
   {
    "duration": 17,
    "start_time": "2022-05-25T19:43:07.481Z"
   },
   {
    "duration": 15,
    "start_time": "2022-05-25T19:43:08.806Z"
   },
   {
    "duration": 15,
    "start_time": "2022-05-25T19:43:19.673Z"
   },
   {
    "duration": 15,
    "start_time": "2022-05-25T19:43:21.853Z"
   },
   {
    "duration": 14,
    "start_time": "2022-05-25T19:43:23.807Z"
   },
   {
    "duration": 22,
    "start_time": "2022-05-25T19:43:25.697Z"
   },
   {
    "duration": 1442,
    "start_time": "2022-05-25T19:44:55.859Z"
   },
   {
    "duration": 745,
    "start_time": "2022-05-25T19:44:57.303Z"
   },
   {
    "duration": 17,
    "start_time": "2022-05-25T19:44:58.049Z"
   },
   {
    "duration": 44,
    "start_time": "2022-05-25T19:44:58.068Z"
   },
   {
    "duration": 14,
    "start_time": "2022-05-25T19:44:58.115Z"
   },
   {
    "duration": 35,
    "start_time": "2022-05-25T19:44:58.131Z"
   },
   {
    "duration": 17,
    "start_time": "2022-05-25T19:44:58.168Z"
   },
   {
    "duration": 70,
    "start_time": "2022-05-25T19:44:58.189Z"
   },
   {
    "duration": 179,
    "start_time": "2022-05-25T19:44:58.261Z"
   },
   {
    "duration": 22,
    "start_time": "2022-05-25T19:45:09.474Z"
   },
   {
    "duration": 139,
    "start_time": "2022-05-25T19:45:16.353Z"
   },
   {
    "duration": 25,
    "start_time": "2022-05-25T19:47:21.867Z"
   },
   {
    "duration": 19,
    "start_time": "2022-05-25T19:48:19.112Z"
   },
   {
    "duration": 11,
    "start_time": "2022-05-25T19:48:21.316Z"
   },
   {
    "duration": 23,
    "start_time": "2022-05-25T19:48:26.851Z"
   },
   {
    "duration": 14,
    "start_time": "2022-05-25T19:48:29.569Z"
   },
   {
    "duration": 10,
    "start_time": "2022-05-25T19:48:32.063Z"
   },
   {
    "duration": 28,
    "start_time": "2022-05-25T19:50:29.650Z"
   },
   {
    "duration": 23,
    "start_time": "2022-05-25T19:50:32.960Z"
   },
   {
    "duration": 11,
    "start_time": "2022-05-25T19:51:34.009Z"
   },
   {
    "duration": 26,
    "start_time": "2022-05-25T19:52:08.623Z"
   },
   {
    "duration": 16,
    "start_time": "2022-05-25T19:52:11.868Z"
   },
   {
    "duration": 10,
    "start_time": "2022-05-25T19:52:33.126Z"
   },
   {
    "duration": 25,
    "start_time": "2022-05-25T19:53:30.454Z"
   },
   {
    "duration": 17,
    "start_time": "2022-05-25T19:53:39.335Z"
   },
   {
    "duration": 15,
    "start_time": "2022-05-25T19:53:41.237Z"
   },
   {
    "duration": 13,
    "start_time": "2022-05-25T19:53:45.799Z"
   },
   {
    "duration": 14,
    "start_time": "2022-05-25T19:53:48.513Z"
   },
   {
    "duration": 29,
    "start_time": "2022-05-25T19:57:08.295Z"
   },
   {
    "duration": 18,
    "start_time": "2022-05-25T19:58:39.278Z"
   },
   {
    "duration": 91,
    "start_time": "2022-05-25T19:58:41.938Z"
   },
   {
    "duration": 28,
    "start_time": "2022-05-25T19:59:04.718Z"
   },
   {
    "duration": 17,
    "start_time": "2022-05-25T19:59:22.118Z"
   },
   {
    "duration": 16,
    "start_time": "2022-05-25T19:59:26.925Z"
   },
   {
    "duration": 14,
    "start_time": "2022-05-25T19:59:34.011Z"
   },
   {
    "duration": 15,
    "start_time": "2022-05-25T19:59:44.393Z"
   },
   {
    "duration": 24,
    "start_time": "2022-05-25T19:59:46.911Z"
   },
   {
    "duration": 29,
    "start_time": "2022-05-25T20:15:28.145Z"
   },
   {
    "duration": 16,
    "start_time": "2022-05-25T20:16:30.371Z"
   },
   {
    "duration": 24,
    "start_time": "2022-05-25T20:17:20.688Z"
   },
   {
    "duration": 13,
    "start_time": "2022-05-25T20:17:23.342Z"
   },
   {
    "duration": 14,
    "start_time": "2022-05-25T20:17:37.501Z"
   },
   {
    "duration": 16,
    "start_time": "2022-05-25T20:18:07.593Z"
   },
   {
    "duration": 47,
    "start_time": "2022-05-25T20:18:09.382Z"
   },
   {
    "duration": 17,
    "start_time": "2022-05-25T20:29:58.238Z"
   },
   {
    "duration": 21,
    "start_time": "2022-05-25T20:30:55.559Z"
   },
   {
    "duration": 23,
    "start_time": "2022-05-25T20:33:43.059Z"
   },
   {
    "duration": 19,
    "start_time": "2022-05-25T20:33:49.787Z"
   },
   {
    "duration": 21,
    "start_time": "2022-05-25T20:35:33.745Z"
   },
   {
    "duration": 17,
    "start_time": "2022-05-25T20:35:47.460Z"
   },
   {
    "duration": 18,
    "start_time": "2022-05-25T20:37:09.214Z"
   },
   {
    "duration": 4,
    "start_time": "2022-05-25T21:01:11.026Z"
   },
   {
    "duration": 4,
    "start_time": "2022-05-25T21:03:19.431Z"
   },
   {
    "duration": 15,
    "start_time": "2022-05-25T21:08:32.116Z"
   },
   {
    "duration": 14,
    "start_time": "2022-05-25T21:09:58.761Z"
   },
   {
    "duration": 13,
    "start_time": "2022-05-25T21:13:20.595Z"
   },
   {
    "duration": 20,
    "start_time": "2022-05-25T21:13:58.840Z"
   },
   {
    "duration": 15,
    "start_time": "2022-05-25T21:14:15.870Z"
   },
   {
    "duration": 26,
    "start_time": "2022-05-25T21:17:57.556Z"
   },
   {
    "duration": 20,
    "start_time": "2022-05-25T21:19:33.901Z"
   },
   {
    "duration": 23,
    "start_time": "2022-05-25T21:19:51.398Z"
   },
   {
    "duration": 17,
    "start_time": "2022-05-25T21:20:10.543Z"
   },
   {
    "duration": 23,
    "start_time": "2022-05-25T21:20:41.698Z"
   },
   {
    "duration": 23,
    "start_time": "2022-05-25T21:21:10.605Z"
   },
   {
    "duration": 26,
    "start_time": "2022-05-25T21:21:26.453Z"
   },
   {
    "duration": 22,
    "start_time": "2022-05-25T21:22:19.340Z"
   },
   {
    "duration": 8,
    "start_time": "2022-05-25T21:25:16.140Z"
   },
   {
    "duration": 5,
    "start_time": "2022-05-25T21:25:32.678Z"
   },
   {
    "duration": 13,
    "start_time": "2022-05-25T21:25:34.984Z"
   },
   {
    "duration": 12,
    "start_time": "2022-05-25T21:25:51.090Z"
   },
   {
    "duration": 5,
    "start_time": "2022-05-25T21:26:21.217Z"
   },
   {
    "duration": 13,
    "start_time": "2022-05-25T21:26:32.346Z"
   },
   {
    "duration": 6,
    "start_time": "2022-05-25T21:26:49.483Z"
   },
   {
    "duration": 3,
    "start_time": "2022-05-25T21:27:04.762Z"
   },
   {
    "duration": 3,
    "start_time": "2022-05-25T21:27:06.175Z"
   },
   {
    "duration": 3,
    "start_time": "2022-05-25T21:27:07.469Z"
   },
   {
    "duration": 7,
    "start_time": "2022-05-25T21:27:08.138Z"
   },
   {
    "duration": 16,
    "start_time": "2022-05-25T21:28:09.989Z"
   },
   {
    "duration": 1393,
    "start_time": "2022-05-25T21:28:24.844Z"
   },
   {
    "duration": 429,
    "start_time": "2022-05-25T21:28:26.244Z"
   },
   {
    "duration": 18,
    "start_time": "2022-05-25T21:28:26.675Z"
   },
   {
    "duration": 55,
    "start_time": "2022-05-25T21:28:26.696Z"
   },
   {
    "duration": 15,
    "start_time": "2022-05-25T21:28:26.753Z"
   },
   {
    "duration": 37,
    "start_time": "2022-05-25T21:28:26.769Z"
   },
   {
    "duration": 31,
    "start_time": "2022-05-25T21:28:26.808Z"
   },
   {
    "duration": 41,
    "start_time": "2022-05-25T21:28:26.840Z"
   },
   {
    "duration": 161,
    "start_time": "2022-05-25T21:28:26.883Z"
   },
   {
    "duration": 17,
    "start_time": "2022-05-25T21:28:27.047Z"
   },
   {
    "duration": 69,
    "start_time": "2022-05-25T21:28:27.066Z"
   },
   {
    "duration": 96,
    "start_time": "2022-05-25T21:28:27.137Z"
   },
   {
    "duration": 43,
    "start_time": "2022-05-25T21:28:27.236Z"
   },
   {
    "duration": 163,
    "start_time": "2022-05-25T21:28:27.282Z"
   },
   {
    "duration": 17,
    "start_time": "2022-05-25T21:28:27.447Z"
   },
   {
    "duration": 13,
    "start_time": "2022-05-25T21:28:30.279Z"
   },
   {
    "duration": 159,
    "start_time": "2022-05-25T21:29:16.121Z"
   },
   {
    "duration": 3,
    "start_time": "2022-05-25T21:29:23.095Z"
   },
   {
    "duration": 2,
    "start_time": "2022-05-25T21:29:25.442Z"
   },
   {
    "duration": 57,
    "start_time": "2022-05-25T21:29:52.616Z"
   },
   {
    "duration": 1371,
    "start_time": "2022-05-25T21:30:03.641Z"
   },
   {
    "duration": 398,
    "start_time": "2022-05-25T21:30:05.014Z"
   },
   {
    "duration": 28,
    "start_time": "2022-05-25T21:30:05.414Z"
   },
   {
    "duration": 40,
    "start_time": "2022-05-25T21:30:05.444Z"
   },
   {
    "duration": 14,
    "start_time": "2022-05-25T21:30:05.487Z"
   },
   {
    "duration": 55,
    "start_time": "2022-05-25T21:30:05.503Z"
   },
   {
    "duration": 13,
    "start_time": "2022-05-25T21:30:05.560Z"
   },
   {
    "duration": 69,
    "start_time": "2022-05-25T21:30:05.575Z"
   },
   {
    "duration": 140,
    "start_time": "2022-05-25T21:30:05.646Z"
   },
   {
    "duration": 18,
    "start_time": "2022-05-25T21:30:05.788Z"
   },
   {
    "duration": 121,
    "start_time": "2022-05-25T21:30:05.807Z"
   },
   {
    "duration": 124,
    "start_time": "2022-05-25T21:30:05.934Z"
   },
   {
    "duration": 18,
    "start_time": "2022-05-25T21:30:06.060Z"
   },
   {
    "duration": 170,
    "start_time": "2022-05-25T21:30:06.080Z"
   },
   {
    "duration": 79,
    "start_time": "2022-05-25T21:30:06.252Z"
   },
   {
    "duration": 19,
    "start_time": "2022-05-25T21:30:07.426Z"
   },
   {
    "duration": 10,
    "start_time": "2022-05-25T21:30:41.879Z"
   },
   {
    "duration": 8,
    "start_time": "2022-05-25T21:30:45.740Z"
   },
   {
    "duration": 26,
    "start_time": "2022-05-25T21:31:26.282Z"
   },
   {
    "duration": 19,
    "start_time": "2022-05-25T21:35:36.487Z"
   },
   {
    "duration": 21,
    "start_time": "2022-05-25T21:36:38.113Z"
   },
   {
    "duration": 17,
    "start_time": "2022-05-25T21:37:22.951Z"
   },
   {
    "duration": 24,
    "start_time": "2022-05-25T21:37:59.478Z"
   },
   {
    "duration": 123,
    "start_time": "2022-05-25T21:44:25.226Z"
   },
   {
    "duration": 11,
    "start_time": "2022-05-25T21:44:32.052Z"
   },
   {
    "duration": 16,
    "start_time": "2022-05-25T21:44:49.133Z"
   },
   {
    "duration": 9,
    "start_time": "2022-05-25T21:46:00.444Z"
   },
   {
    "duration": 14,
    "start_time": "2022-05-25T21:46:34.407Z"
   },
   {
    "duration": 7,
    "start_time": "2022-05-25T21:47:59.571Z"
   },
   {
    "duration": 7,
    "start_time": "2022-05-25T21:49:01.282Z"
   },
   {
    "duration": 8,
    "start_time": "2022-05-25T21:49:47.987Z"
   },
   {
    "duration": 7,
    "start_time": "2022-05-25T21:49:49.345Z"
   },
   {
    "duration": 4,
    "start_time": "2022-05-25T22:21:18.071Z"
   },
   {
    "duration": 6,
    "start_time": "2022-05-25T22:22:17.300Z"
   },
   {
    "duration": 3,
    "start_time": "2022-05-25T22:22:25.040Z"
   },
   {
    "duration": 4,
    "start_time": "2022-05-25T22:22:32.645Z"
   },
   {
    "duration": 5,
    "start_time": "2022-05-25T22:22:32.847Z"
   },
   {
    "duration": 2238,
    "start_time": "2022-05-26T05:32:06.845Z"
   },
   {
    "duration": 1621,
    "start_time": "2022-05-26T05:32:09.085Z"
   },
   {
    "duration": 20,
    "start_time": "2022-05-26T05:32:10.707Z"
   },
   {
    "duration": 54,
    "start_time": "2022-05-26T05:32:10.730Z"
   },
   {
    "duration": 21,
    "start_time": "2022-05-26T05:32:10.786Z"
   },
   {
    "duration": 68,
    "start_time": "2022-05-26T05:32:10.809Z"
   },
   {
    "duration": 24,
    "start_time": "2022-05-26T05:32:10.879Z"
   },
   {
    "duration": 47,
    "start_time": "2022-05-26T05:32:10.905Z"
   },
   {
    "duration": 182,
    "start_time": "2022-05-26T05:32:10.954Z"
   },
   {
    "duration": 20,
    "start_time": "2022-05-26T05:32:11.138Z"
   },
   {
    "duration": 133,
    "start_time": "2022-05-26T05:32:11.161Z"
   },
   {
    "duration": 104,
    "start_time": "2022-05-26T05:32:11.296Z"
   },
   {
    "duration": 84,
    "start_time": "2022-05-26T05:32:11.402Z"
   },
   {
    "duration": 103,
    "start_time": "2022-05-26T05:32:11.488Z"
   },
   {
    "duration": 16,
    "start_time": "2022-05-26T05:32:11.592Z"
   },
   {
    "duration": 80,
    "start_time": "2022-05-26T05:32:11.610Z"
   },
   {
    "duration": 112,
    "start_time": "2022-05-26T05:32:11.692Z"
   },
   {
    "duration": 4,
    "start_time": "2022-05-26T05:32:11.805Z"
   },
   {
    "duration": 10,
    "start_time": "2022-05-26T05:32:11.811Z"
   },
   {
    "duration": 8,
    "start_time": "2022-05-26T05:32:11.823Z"
   },
   {
    "duration": 9,
    "start_time": "2022-05-26T05:32:11.833Z"
   },
   {
    "duration": 5,
    "start_time": "2022-05-26T05:32:37.934Z"
   },
   {
    "duration": 5,
    "start_time": "2022-05-26T05:32:46.451Z"
   },
   {
    "duration": 4,
    "start_time": "2022-05-26T05:32:53.866Z"
   },
   {
    "duration": 1133,
    "start_time": "2022-05-26T05:38:09.120Z"
   },
   {
    "duration": 30,
    "start_time": "2022-05-26T05:39:21.001Z"
   },
   {
    "duration": 30,
    "start_time": "2022-05-26T05:40:05.333Z"
   },
   {
    "duration": 35,
    "start_time": "2022-05-26T05:42:04.688Z"
   },
   {
    "duration": 56,
    "start_time": "2022-05-26T05:56:16.623Z"
   },
   {
    "duration": 49,
    "start_time": "2022-05-26T05:57:10.972Z"
   },
   {
    "duration": 45,
    "start_time": "2022-05-26T05:57:31.913Z"
   },
   {
    "duration": 67,
    "start_time": "2022-05-26T05:58:21.166Z"
   },
   {
    "duration": 1547,
    "start_time": "2022-05-26T19:04:42.875Z"
   },
   {
    "duration": 1698,
    "start_time": "2022-05-26T19:04:44.425Z"
   },
   {
    "duration": 15,
    "start_time": "2022-05-26T19:04:46.126Z"
   },
   {
    "duration": 41,
    "start_time": "2022-05-26T19:04:46.143Z"
   },
   {
    "duration": 15,
    "start_time": "2022-05-26T19:04:46.186Z"
   },
   {
    "duration": 47,
    "start_time": "2022-05-26T19:04:46.211Z"
   },
   {
    "duration": 14,
    "start_time": "2022-05-26T19:04:46.259Z"
   },
   {
    "duration": 61,
    "start_time": "2022-05-26T19:04:46.274Z"
   },
   {
    "duration": 145,
    "start_time": "2022-05-26T19:04:46.337Z"
   },
   {
    "duration": 17,
    "start_time": "2022-05-26T19:04:46.483Z"
   },
   {
    "duration": 99,
    "start_time": "2022-05-26T19:04:46.513Z"
   },
   {
    "duration": 109,
    "start_time": "2022-05-26T19:04:46.615Z"
   },
   {
    "duration": 16,
    "start_time": "2022-05-26T19:04:46.726Z"
   },
   {
    "duration": 101,
    "start_time": "2022-05-26T19:04:46.815Z"
   },
   {
    "duration": 25,
    "start_time": "2022-05-26T19:04:46.918Z"
   },
   {
    "duration": 15,
    "start_time": "2022-05-26T19:04:47.013Z"
   },
   {
    "duration": 119,
    "start_time": "2022-05-26T19:04:47.030Z"
   },
   {
    "duration": 5,
    "start_time": "2022-05-26T19:04:47.150Z"
   },
   {
    "duration": 9,
    "start_time": "2022-05-26T19:04:47.157Z"
   },
   {
    "duration": 8,
    "start_time": "2022-05-26T19:04:47.168Z"
   },
   {
    "duration": 10,
    "start_time": "2022-05-26T19:04:47.178Z"
   },
   {
    "duration": 119,
    "start_time": "2022-05-26T19:04:49.838Z"
   },
   {
    "duration": 12,
    "start_time": "2022-05-26T19:05:50.995Z"
   },
   {
    "duration": 16,
    "start_time": "2022-05-26T19:07:25.495Z"
   },
   {
    "duration": 15,
    "start_time": "2022-05-26T19:07:51.219Z"
   },
   {
    "duration": 17,
    "start_time": "2022-05-26T19:09:45.645Z"
   },
   {
    "duration": 15,
    "start_time": "2022-05-26T19:10:02.838Z"
   },
   {
    "duration": 14,
    "start_time": "2022-05-26T19:10:58.471Z"
   },
   {
    "duration": 13,
    "start_time": "2022-05-26T19:14:06.645Z"
   },
   {
    "duration": 27,
    "start_time": "2022-05-26T19:14:24.814Z"
   },
   {
    "duration": 15,
    "start_time": "2022-05-26T19:14:57.738Z"
   },
   {
    "duration": 15,
    "start_time": "2022-05-26T19:15:53.149Z"
   },
   {
    "duration": 14,
    "start_time": "2022-05-26T19:18:03.355Z"
   },
   {
    "duration": 14,
    "start_time": "2022-05-26T19:18:13.108Z"
   },
   {
    "duration": 10,
    "start_time": "2022-05-26T19:19:58.156Z"
   },
   {
    "duration": 20,
    "start_time": "2022-05-26T19:20:10.734Z"
   },
   {
    "duration": 13,
    "start_time": "2022-05-26T19:20:57.667Z"
   },
   {
    "duration": 14,
    "start_time": "2022-05-26T19:21:39.175Z"
   },
   {
    "duration": 36,
    "start_time": "2022-05-26T19:22:02.672Z"
   },
   {
    "duration": 15,
    "start_time": "2022-05-26T19:22:22.801Z"
   },
   {
    "duration": 15,
    "start_time": "2022-05-26T19:23:07.650Z"
   },
   {
    "duration": 8,
    "start_time": "2022-05-26T19:23:32.957Z"
   },
   {
    "duration": 11,
    "start_time": "2022-05-26T19:23:57.260Z"
   },
   {
    "duration": 9,
    "start_time": "2022-05-26T19:23:58.995Z"
   },
   {
    "duration": 15,
    "start_time": "2022-05-26T19:24:31.354Z"
   },
   {
    "duration": 15,
    "start_time": "2022-05-26T19:26:20.277Z"
   },
   {
    "duration": 14,
    "start_time": "2022-05-26T19:28:52.068Z"
   },
   {
    "duration": 15,
    "start_time": "2022-05-26T19:29:32.370Z"
   },
   {
    "duration": 18,
    "start_time": "2022-05-26T19:30:47.329Z"
   },
   {
    "duration": 18,
    "start_time": "2022-05-26T19:31:08.249Z"
   },
   {
    "duration": 24,
    "start_time": "2022-05-26T19:31:55.328Z"
   },
   {
    "duration": 14,
    "start_time": "2022-05-26T20:00:57.414Z"
   },
   {
    "duration": 15,
    "start_time": "2022-05-26T20:07:30.041Z"
   },
   {
    "duration": 17,
    "start_time": "2022-05-26T20:08:04.737Z"
   },
   {
    "duration": 261,
    "start_time": "2022-05-26T20:11:49.351Z"
   },
   {
    "duration": 6,
    "start_time": "2022-05-26T20:13:32.913Z"
   },
   {
    "duration": 10,
    "start_time": "2022-05-26T20:14:44.659Z"
   },
   {
    "duration": 3,
    "start_time": "2022-05-26T20:19:02.617Z"
   },
   {
    "duration": 1469,
    "start_time": "2022-05-27T20:23:04.618Z"
   },
   {
    "duration": 728,
    "start_time": "2022-05-27T20:23:06.089Z"
   },
   {
    "duration": 15,
    "start_time": "2022-05-27T20:23:06.818Z"
   },
   {
    "duration": 41,
    "start_time": "2022-05-27T20:23:06.834Z"
   },
   {
    "duration": 12,
    "start_time": "2022-05-27T20:23:06.877Z"
   },
   {
    "duration": 43,
    "start_time": "2022-05-27T20:23:06.890Z"
   },
   {
    "duration": 12,
    "start_time": "2022-05-27T20:23:06.934Z"
   },
   {
    "duration": 31,
    "start_time": "2022-05-27T20:23:06.948Z"
   },
   {
    "duration": 127,
    "start_time": "2022-05-27T20:23:06.981Z"
   },
   {
    "duration": 26,
    "start_time": "2022-05-27T20:23:07.110Z"
   },
   {
    "duration": 18,
    "start_time": "2022-05-27T20:23:07.137Z"
   },
   {
    "duration": 104,
    "start_time": "2022-05-27T20:23:07.228Z"
   },
   {
    "duration": 18,
    "start_time": "2022-05-27T20:23:07.334Z"
   },
   {
    "duration": 101,
    "start_time": "2022-05-27T20:23:07.428Z"
   },
   {
    "duration": 14,
    "start_time": "2022-05-27T20:23:07.530Z"
   },
   {
    "duration": 86,
    "start_time": "2022-05-27T20:23:07.546Z"
   },
   {
    "duration": 111,
    "start_time": "2022-05-27T20:23:07.634Z"
   },
   {
    "duration": 4,
    "start_time": "2022-05-27T20:23:07.746Z"
   },
   {
    "duration": 11,
    "start_time": "2022-05-27T20:23:07.751Z"
   },
   {
    "duration": 7,
    "start_time": "2022-05-27T20:23:07.764Z"
   },
   {
    "duration": 8,
    "start_time": "2022-05-27T20:23:07.772Z"
   },
   {
    "duration": 3,
    "start_time": "2022-05-27T20:23:07.781Z"
   },
   {
    "duration": 107,
    "start_time": "2022-05-27T20:23:11.070Z"
   },
   {
    "duration": 3,
    "start_time": "2022-05-27T20:23:21.364Z"
   },
   {
    "duration": 6,
    "start_time": "2022-05-27T20:23:23.146Z"
   },
   {
    "duration": 5,
    "start_time": "2022-05-27T20:23:54.599Z"
   },
   {
    "duration": 6,
    "start_time": "2022-05-27T20:23:59.431Z"
   },
   {
    "duration": 5,
    "start_time": "2022-05-27T20:24:54.782Z"
   },
   {
    "duration": 4,
    "start_time": "2022-05-27T20:25:35.572Z"
   },
   {
    "duration": 5,
    "start_time": "2022-05-27T20:26:10.542Z"
   },
   {
    "duration": 3,
    "start_time": "2022-05-27T21:18:19.678Z"
   },
   {
    "duration": 5,
    "start_time": "2022-05-27T21:30:24.361Z"
   },
   {
    "duration": 13,
    "start_time": "2022-05-27T21:30:26.969Z"
   },
   {
    "duration": 6,
    "start_time": "2022-05-27T21:42:24.718Z"
   },
   {
    "duration": 16,
    "start_time": "2022-05-27T21:42:26.833Z"
   },
   {
    "duration": 5,
    "start_time": "2022-05-27T21:44:14.786Z"
   },
   {
    "duration": 12,
    "start_time": "2022-05-27T21:44:16.907Z"
   },
   {
    "duration": 12,
    "start_time": "2022-05-27T21:47:45.159Z"
   },
   {
    "duration": 5,
    "start_time": "2022-05-27T21:47:50.679Z"
   },
   {
    "duration": 12,
    "start_time": "2022-05-27T21:47:52.639Z"
   },
   {
    "duration": 3,
    "start_time": "2022-05-27T22:00:35.596Z"
   },
   {
    "duration": 5,
    "start_time": "2022-05-27T22:00:38.093Z"
   },
   {
    "duration": 10,
    "start_time": "2022-05-27T22:01:03.990Z"
   },
   {
    "duration": 8,
    "start_time": "2022-05-27T22:01:06.904Z"
   },
   {
    "duration": 8,
    "start_time": "2022-05-27T22:01:09.905Z"
   },
   {
    "duration": 6,
    "start_time": "2022-05-27T22:01:42.610Z"
   },
   {
    "duration": 6,
    "start_time": "2022-05-27T22:01:44.067Z"
   },
   {
    "duration": 5,
    "start_time": "2022-05-27T22:01:46.260Z"
   },
   {
    "duration": 5,
    "start_time": "2022-05-27T22:04:31.421Z"
   },
   {
    "duration": 1002,
    "start_time": "2022-05-27T22:04:32.715Z"
   },
   {
    "duration": 11,
    "start_time": "2022-05-27T22:05:34.986Z"
   },
   {
    "duration": 10,
    "start_time": "2022-05-27T22:06:02.420Z"
   },
   {
    "duration": 8,
    "start_time": "2022-05-27T22:06:25.702Z"
   },
   {
    "duration": 1032,
    "start_time": "2022-05-27T22:06:41.687Z"
   },
   {
    "duration": 2,
    "start_time": "2022-05-27T22:11:06.197Z"
   },
   {
    "duration": 3,
    "start_time": "2022-05-27T22:11:38.757Z"
   },
   {
    "duration": 5,
    "start_time": "2022-05-27T22:11:54.926Z"
   },
   {
    "duration": 1233,
    "start_time": "2022-05-27T22:13:46.700Z"
   },
   {
    "duration": 5,
    "start_time": "2022-05-27T22:13:59.825Z"
   },
   {
    "duration": 1254,
    "start_time": "2022-05-27T22:14:01.665Z"
   },
   {
    "duration": 62,
    "start_time": "2022-05-28T08:00:04.990Z"
   },
   {
    "duration": 1591,
    "start_time": "2022-05-28T08:00:15.459Z"
   },
   {
    "duration": 820,
    "start_time": "2022-05-28T08:00:17.052Z"
   },
   {
    "duration": 16,
    "start_time": "2022-05-28T08:00:17.874Z"
   },
   {
    "duration": 42,
    "start_time": "2022-05-28T08:00:17.892Z"
   },
   {
    "duration": 13,
    "start_time": "2022-05-28T08:00:17.936Z"
   },
   {
    "duration": 51,
    "start_time": "2022-05-28T08:00:17.951Z"
   },
   {
    "duration": 15,
    "start_time": "2022-05-28T08:00:18.003Z"
   },
   {
    "duration": 58,
    "start_time": "2022-05-28T08:00:18.019Z"
   },
   {
    "duration": 150,
    "start_time": "2022-05-28T08:00:18.079Z"
   },
   {
    "duration": 17,
    "start_time": "2022-05-28T08:00:18.232Z"
   },
   {
    "duration": 21,
    "start_time": "2022-05-28T08:00:18.264Z"
   },
   {
    "duration": 103,
    "start_time": "2022-05-28T08:00:18.364Z"
   },
   {
    "duration": 16,
    "start_time": "2022-05-28T08:00:18.469Z"
   },
   {
    "duration": 108,
    "start_time": "2022-05-28T08:00:18.565Z"
   },
   {
    "duration": 16,
    "start_time": "2022-05-28T08:00:18.674Z"
   },
   {
    "duration": 82,
    "start_time": "2022-05-28T08:00:18.692Z"
   },
   {
    "duration": 57,
    "start_time": "2022-05-28T08:00:18.865Z"
   },
   {
    "duration": 5,
    "start_time": "2022-05-28T08:00:18.924Z"
   },
   {
    "duration": 11,
    "start_time": "2022-05-28T08:00:23.314Z"
   },
   {
    "duration": 5,
    "start_time": "2022-05-28T08:02:10.907Z"
   },
   {
    "duration": 3929,
    "start_time": "2022-05-28T08:02:14.009Z"
   },
   {
    "duration": 5,
    "start_time": "2022-05-28T08:04:02.235Z"
   },
   {
    "duration": 16,
    "start_time": "2022-05-28T08:04:04.215Z"
   },
   {
    "duration": 5,
    "start_time": "2022-05-28T08:05:23.152Z"
   },
   {
    "duration": 18,
    "start_time": "2022-05-28T08:05:25.074Z"
   },
   {
    "duration": 6,
    "start_time": "2022-05-28T08:06:19.157Z"
   },
   {
    "duration": 16,
    "start_time": "2022-05-28T08:06:20.643Z"
   },
   {
    "duration": 6,
    "start_time": "2022-05-28T08:06:30.944Z"
   },
   {
    "duration": 17,
    "start_time": "2022-05-28T08:06:32.746Z"
   },
   {
    "duration": 6,
    "start_time": "2022-05-28T08:07:23.437Z"
   },
   {
    "duration": 19,
    "start_time": "2022-05-28T08:07:24.787Z"
   },
   {
    "duration": 18,
    "start_time": "2022-05-28T08:07:45.326Z"
   },
   {
    "duration": 19,
    "start_time": "2022-05-28T08:07:47.314Z"
   },
   {
    "duration": 5,
    "start_time": "2022-05-28T08:08:08.230Z"
   },
   {
    "duration": 5,
    "start_time": "2022-05-28T08:08:17.768Z"
   },
   {
    "duration": 18,
    "start_time": "2022-05-28T08:08:19.964Z"
   },
   {
    "duration": 5,
    "start_time": "2022-05-28T08:17:55.514Z"
   },
   {
    "duration": 18,
    "start_time": "2022-05-28T08:17:57.531Z"
   },
   {
    "duration": 5,
    "start_time": "2022-05-28T08:32:15.843Z"
   },
   {
    "duration": 1773,
    "start_time": "2022-05-28T08:32:17.845Z"
   },
   {
    "duration": 6,
    "start_time": "2022-05-28T08:32:38.185Z"
   },
   {
    "duration": 2553,
    "start_time": "2022-05-28T08:32:39.591Z"
   },
   {
    "duration": 8,
    "start_time": "2022-05-28T08:33:14.444Z"
   },
   {
    "duration": 2352,
    "start_time": "2022-05-28T08:33:16.091Z"
   },
   {
    "duration": 5,
    "start_time": "2022-05-28T08:35:02.935Z"
   },
   {
    "duration": 2651,
    "start_time": "2022-05-28T08:35:04.167Z"
   },
   {
    "duration": 19,
    "start_time": "2022-05-28T08:35:45.865Z"
   },
   {
    "duration": 4,
    "start_time": "2022-05-28T08:35:54.858Z"
   },
   {
    "duration": 1425,
    "start_time": "2022-05-28T08:35:56.020Z"
   },
   {
    "duration": 16,
    "start_time": "2022-05-28T08:36:35.743Z"
   },
   {
    "duration": 4,
    "start_time": "2022-05-28T08:37:21.813Z"
   },
   {
    "duration": 2630,
    "start_time": "2022-05-28T08:37:23.782Z"
   },
   {
    "duration": 5,
    "start_time": "2022-05-28T08:39:46.347Z"
   },
   {
    "duration": 2155,
    "start_time": "2022-05-28T08:39:48.385Z"
   },
   {
    "duration": 20,
    "start_time": "2022-05-28T08:40:35.014Z"
   },
   {
    "duration": 22,
    "start_time": "2022-05-28T08:41:08.028Z"
   },
   {
    "duration": 4,
    "start_time": "2022-05-28T08:41:13.335Z"
   },
   {
    "duration": 1383,
    "start_time": "2022-05-28T08:41:15.304Z"
   },
   {
    "duration": 18,
    "start_time": "2022-05-28T08:41:52.544Z"
   },
   {
    "duration": 37,
    "start_time": "2022-05-28T08:42:31.848Z"
   },
   {
    "duration": 6,
    "start_time": "2022-05-28T08:44:31.965Z"
   },
   {
    "duration": 1459,
    "start_time": "2022-05-28T08:44:33.207Z"
   },
   {
    "duration": 4,
    "start_time": "2022-05-28T08:45:07.950Z"
   },
   {
    "duration": 1425,
    "start_time": "2022-05-28T08:45:09.625Z"
   },
   {
    "duration": 20,
    "start_time": "2022-05-28T08:45:28.165Z"
   },
   {
    "duration": 19,
    "start_time": "2022-05-28T08:45:44.828Z"
   },
   {
    "duration": 20,
    "start_time": "2022-05-28T08:46:12.512Z"
   },
   {
    "duration": 4,
    "start_time": "2022-05-28T08:48:10.046Z"
   },
   {
    "duration": 1419,
    "start_time": "2022-05-28T08:48:11.898Z"
   },
   {
    "duration": 1407,
    "start_time": "2022-05-28T08:48:44.010Z"
   },
   {
    "duration": 1382,
    "start_time": "2022-05-28T08:48:57.404Z"
   },
   {
    "duration": 1421,
    "start_time": "2022-05-28T08:49:00.356Z"
   },
   {
    "duration": 1401,
    "start_time": "2022-05-28T08:49:03.087Z"
   },
   {
    "duration": 4,
    "start_time": "2022-05-28T08:50:14.130Z"
   },
   {
    "duration": 1402,
    "start_time": "2022-05-28T08:50:16.798Z"
   },
   {
    "duration": 18,
    "start_time": "2022-05-28T08:50:59.241Z"
   },
   {
    "duration": 17,
    "start_time": "2022-05-28T08:51:25.304Z"
   },
   {
    "duration": 23,
    "start_time": "2022-05-28T08:51:38.434Z"
   },
   {
    "duration": 4,
    "start_time": "2022-05-28T08:51:51.060Z"
   },
   {
    "duration": 1489,
    "start_time": "2022-05-28T08:51:52.854Z"
   },
   {
    "duration": 1500,
    "start_time": "2022-05-28T08:54:14.485Z"
   },
   {
    "duration": 1385,
    "start_time": "2022-05-28T08:54:49.111Z"
   },
   {
    "duration": 1420,
    "start_time": "2022-05-28T08:56:16.734Z"
   },
   {
    "duration": 1400,
    "start_time": "2022-05-28T08:57:15.324Z"
   },
   {
    "duration": 1520,
    "start_time": "2022-05-28T10:17:25.914Z"
   },
   {
    "duration": 1522,
    "start_time": "2022-05-28T10:18:54.331Z"
   },
   {
    "duration": 22,
    "start_time": "2022-05-28T10:18:57.283Z"
   },
   {
    "duration": 156,
    "start_time": "2022-05-28T10:19:30.283Z"
   },
   {
    "duration": 7,
    "start_time": "2022-05-28T10:19:57.358Z"
   },
   {
    "duration": 7,
    "start_time": "2022-05-28T10:20:50.780Z"
   },
   {
    "duration": 6,
    "start_time": "2022-05-28T10:21:05.007Z"
   },
   {
    "duration": 7,
    "start_time": "2022-05-28T10:21:22.222Z"
   },
   {
    "duration": 1804,
    "start_time": "2022-05-28T10:25:54.394Z"
   },
   {
    "duration": 7,
    "start_time": "2022-05-28T10:26:34.750Z"
   },
   {
    "duration": 14,
    "start_time": "2022-05-28T10:30:44.871Z"
   },
   {
    "duration": 1493,
    "start_time": "2022-05-28T10:31:39.131Z"
   },
   {
    "duration": 8,
    "start_time": "2022-05-28T10:31:42.252Z"
   },
   {
    "duration": 8,
    "start_time": "2022-05-28T10:32:01.752Z"
   },
   {
    "duration": 1636,
    "start_time": "2022-05-28T10:33:08.399Z"
   },
   {
    "duration": 8,
    "start_time": "2022-05-28T10:33:12.810Z"
   },
   {
    "duration": 6,
    "start_time": "2022-05-28T10:37:55.987Z"
   },
   {
    "duration": 7,
    "start_time": "2022-05-28T10:38:26.549Z"
   },
   {
    "duration": 6,
    "start_time": "2022-05-28T10:39:38.491Z"
   },
   {
    "duration": 7,
    "start_time": "2022-05-28T10:40:18.932Z"
   },
   {
    "duration": 7,
    "start_time": "2022-05-28T10:42:04.243Z"
   },
   {
    "duration": 1509,
    "start_time": "2022-05-28T10:42:10.398Z"
   },
   {
    "duration": 6,
    "start_time": "2022-05-28T10:42:21.681Z"
   },
   {
    "duration": 1754,
    "start_time": "2022-05-28T10:42:32.352Z"
   },
   {
    "duration": 6,
    "start_time": "2022-05-28T10:42:35.551Z"
   },
   {
    "duration": 1819,
    "start_time": "2022-05-28T10:42:46.035Z"
   },
   {
    "duration": 6,
    "start_time": "2022-05-28T10:42:48.586Z"
   },
   {
    "duration": 1658,
    "start_time": "2022-05-28T10:43:15.023Z"
   },
   {
    "duration": 8,
    "start_time": "2022-05-28T10:43:18.622Z"
   },
   {
    "duration": 6,
    "start_time": "2022-05-28T10:43:33.856Z"
   },
   {
    "duration": 1606,
    "start_time": "2022-05-28T10:50:18.150Z"
   },
   {
    "duration": 424,
    "start_time": "2022-05-28T10:50:19.758Z"
   },
   {
    "duration": 17,
    "start_time": "2022-05-28T10:50:20.184Z"
   },
   {
    "duration": 42,
    "start_time": "2022-05-28T10:50:20.203Z"
   },
   {
    "duration": 23,
    "start_time": "2022-05-28T10:50:20.269Z"
   },
   {
    "duration": 40,
    "start_time": "2022-05-28T10:50:20.293Z"
   },
   {
    "duration": 13,
    "start_time": "2022-05-28T10:50:20.335Z"
   },
   {
    "duration": 42,
    "start_time": "2022-05-28T10:50:20.365Z"
   },
   {
    "duration": 168,
    "start_time": "2022-05-28T10:50:20.409Z"
   },
   {
    "duration": 22,
    "start_time": "2022-05-28T10:50:20.585Z"
   },
   {
    "duration": 60,
    "start_time": "2022-05-28T10:50:20.608Z"
   },
   {
    "duration": 24,
    "start_time": "2022-05-28T10:50:20.770Z"
   },
   {
    "duration": 21,
    "start_time": "2022-05-28T10:50:20.796Z"
   },
   {
    "duration": 102,
    "start_time": "2022-05-28T10:50:20.872Z"
   },
   {
    "duration": 26,
    "start_time": "2022-05-28T10:50:20.975Z"
   },
   {
    "duration": 67,
    "start_time": "2022-05-28T10:50:21.003Z"
   },
   {
    "duration": 122,
    "start_time": "2022-05-28T10:50:21.072Z"
   },
   {
    "duration": 5,
    "start_time": "2022-05-28T10:50:21.196Z"
   },
   {
    "duration": 5,
    "start_time": "2022-05-28T10:50:21.202Z"
   },
   {
    "duration": 8,
    "start_time": "2022-05-28T10:50:21.209Z"
   },
   {
    "duration": 1583,
    "start_time": "2022-05-28T10:50:21.219Z"
   },
   {
    "duration": 8,
    "start_time": "2022-05-28T10:50:22.804Z"
   },
   {
    "duration": 1572,
    "start_time": "2022-05-28T10:50:22.814Z"
   },
   {
    "duration": 4,
    "start_time": "2022-05-28T10:50:24.388Z"
   },
   {
    "duration": 1503,
    "start_time": "2022-05-28T10:50:24.394Z"
   },
   {
    "duration": 6,
    "start_time": "2022-05-28T10:50:25.900Z"
   },
   {
    "duration": 1743,
    "start_time": "2022-05-28T11:01:03.198Z"
   },
   {
    "duration": 439,
    "start_time": "2022-05-28T11:01:04.943Z"
   },
   {
    "duration": 17,
    "start_time": "2022-05-28T11:01:05.384Z"
   },
   {
    "duration": 44,
    "start_time": "2022-05-28T11:01:05.402Z"
   },
   {
    "duration": 33,
    "start_time": "2022-05-28T11:01:05.448Z"
   },
   {
    "duration": 41,
    "start_time": "2022-05-28T11:01:05.485Z"
   },
   {
    "duration": 44,
    "start_time": "2022-05-28T11:01:05.527Z"
   },
   {
    "duration": 40,
    "start_time": "2022-05-28T11:01:05.576Z"
   },
   {
    "duration": 177,
    "start_time": "2022-05-28T11:01:05.617Z"
   },
   {
    "duration": 22,
    "start_time": "2022-05-28T11:01:05.795Z"
   },
   {
    "duration": 156,
    "start_time": "2022-05-28T11:01:05.819Z"
   },
   {
    "duration": 17,
    "start_time": "2022-05-28T11:01:05.987Z"
   },
   {
    "duration": 20,
    "start_time": "2022-05-28T11:01:06.006Z"
   },
   {
    "duration": 102,
    "start_time": "2022-05-28T11:01:06.072Z"
   },
   {
    "duration": 92,
    "start_time": "2022-05-28T11:01:06.178Z"
   },
   {
    "duration": 15,
    "start_time": "2022-05-28T11:01:07.394Z"
   },
   {
    "duration": 12,
    "start_time": "2022-05-28T11:01:29.563Z"
   },
   {
    "duration": 29,
    "start_time": "2022-05-28T11:01:31.217Z"
   },
   {
    "duration": 5,
    "start_time": "2022-05-28T11:01:42.352Z"
   },
   {
    "duration": 4,
    "start_time": "2022-05-28T11:01:44.532Z"
   },
   {
    "duration": 127,
    "start_time": "2022-05-28T11:09:34.632Z"
   },
   {
    "duration": 4,
    "start_time": "2022-05-28T11:09:44.934Z"
   },
   {
    "duration": 1532,
    "start_time": "2022-05-28T11:09:47.219Z"
   },
   {
    "duration": 396,
    "start_time": "2022-05-28T11:09:50.074Z"
   },
   {
    "duration": 1644,
    "start_time": "2022-05-28T11:09:54.383Z"
   },
   {
    "duration": 6,
    "start_time": "2022-05-28T11:09:57.133Z"
   },
   {
    "duration": 1560,
    "start_time": "2022-05-28T11:10:01.637Z"
   },
   {
    "duration": 5,
    "start_time": "2022-05-28T11:10:04.533Z"
   },
   {
    "duration": 9,
    "start_time": "2022-05-28T21:01:16.321Z"
   },
   {
    "duration": 2376,
    "start_time": "2022-05-28T21:01:22.175Z"
   },
   {
    "duration": 873,
    "start_time": "2022-05-28T21:01:24.553Z"
   },
   {
    "duration": 20,
    "start_time": "2022-05-28T21:01:25.428Z"
   },
   {
    "duration": 51,
    "start_time": "2022-05-28T21:01:25.450Z"
   },
   {
    "duration": 15,
    "start_time": "2022-05-28T21:01:25.503Z"
   },
   {
    "duration": 56,
    "start_time": "2022-05-28T21:01:25.519Z"
   },
   {
    "duration": 14,
    "start_time": "2022-05-28T21:01:25.577Z"
   },
   {
    "duration": 35,
    "start_time": "2022-05-28T21:01:25.592Z"
   },
   {
    "duration": 177,
    "start_time": "2022-05-28T21:01:25.629Z"
   },
   {
    "duration": 18,
    "start_time": "2022-05-28T21:01:25.807Z"
   },
   {
    "duration": 47,
    "start_time": "2022-05-28T21:01:25.826Z"
   },
   {
    "duration": 30,
    "start_time": "2022-05-28T21:01:25.962Z"
   },
   {
    "duration": 77,
    "start_time": "2022-05-28T21:01:25.994Z"
   },
   {
    "duration": 101,
    "start_time": "2022-05-28T21:01:26.077Z"
   },
   {
    "duration": 79,
    "start_time": "2022-05-28T21:01:26.180Z"
   },
   {
    "duration": 99,
    "start_time": "2022-05-28T21:01:26.261Z"
   },
   {
    "duration": 20,
    "start_time": "2022-05-28T21:01:26.363Z"
   },
   {
    "duration": 19,
    "start_time": "2022-05-28T21:01:26.385Z"
   },
   {
    "duration": 4,
    "start_time": "2022-05-28T21:01:26.405Z"
   },
   {
    "duration": 6,
    "start_time": "2022-05-28T21:01:26.410Z"
   },
   {
    "duration": 6,
    "start_time": "2022-05-28T21:01:26.417Z"
   },
   {
    "duration": 1504,
    "start_time": "2022-05-28T21:01:26.425Z"
   },
   {
    "duration": 6,
    "start_time": "2022-05-28T21:01:27.931Z"
   },
   {
    "duration": 1384,
    "start_time": "2022-05-28T21:01:27.938Z"
   },
   {
    "duration": 5,
    "start_time": "2022-05-28T21:01:29.323Z"
   },
   {
    "duration": 1403,
    "start_time": "2022-05-28T21:01:29.329Z"
   },
   {
    "duration": 5,
    "start_time": "2022-05-28T21:01:30.734Z"
   },
   {
    "duration": 3,
    "start_time": "2022-05-28T21:01:37.913Z"
   },
   {
    "duration": 4,
    "start_time": "2022-05-28T21:01:38.721Z"
   },
   {
    "duration": 1385,
    "start_time": "2022-05-28T21:01:38.947Z"
   },
   {
    "duration": 5,
    "start_time": "2022-05-28T21:01:40.333Z"
   },
   {
    "duration": 1334,
    "start_time": "2022-05-28T21:01:40.340Z"
   },
   {
    "duration": 5,
    "start_time": "2022-05-28T21:01:41.676Z"
   },
   {
    "duration": 1419,
    "start_time": "2022-05-28T21:01:41.682Z"
   },
   {
    "duration": 5,
    "start_time": "2022-05-28T21:01:43.103Z"
   },
   {
    "duration": 3,
    "start_time": "2022-05-28T21:01:55.646Z"
   },
   {
    "duration": 4,
    "start_time": "2022-05-28T21:01:56.394Z"
   },
   {
    "duration": 1501,
    "start_time": "2022-05-28T21:01:56.584Z"
   },
   {
    "duration": 5,
    "start_time": "2022-05-28T21:01:58.087Z"
   },
   {
    "duration": 1414,
    "start_time": "2022-05-28T21:01:58.093Z"
   },
   {
    "duration": 5,
    "start_time": "2022-05-28T21:01:59.509Z"
   },
   {
    "duration": 1414,
    "start_time": "2022-05-28T21:01:59.515Z"
   },
   {
    "duration": 5,
    "start_time": "2022-05-28T21:02:00.931Z"
   },
   {
    "duration": 3,
    "start_time": "2022-05-28T21:03:44.775Z"
   },
   {
    "duration": 4,
    "start_time": "2022-05-28T21:03:45.618Z"
   },
   {
    "duration": 1403,
    "start_time": "2022-05-28T21:03:45.777Z"
   },
   {
    "duration": 6,
    "start_time": "2022-05-28T21:03:47.182Z"
   },
   {
    "duration": 1449,
    "start_time": "2022-05-28T21:03:47.190Z"
   },
   {
    "duration": 5,
    "start_time": "2022-05-28T21:03:48.641Z"
   },
   {
    "duration": 1390,
    "start_time": "2022-05-28T21:03:48.659Z"
   },
   {
    "duration": 7,
    "start_time": "2022-05-28T21:03:50.051Z"
   },
   {
    "duration": 1572,
    "start_time": "2022-05-29T07:05:04.937Z"
   },
   {
    "duration": 1766,
    "start_time": "2022-05-29T07:05:06.512Z"
   },
   {
    "duration": 21,
    "start_time": "2022-05-29T07:05:08.279Z"
   },
   {
    "duration": 45,
    "start_time": "2022-05-29T07:05:08.304Z"
   },
   {
    "duration": 25,
    "start_time": "2022-05-29T07:05:08.352Z"
   },
   {
    "duration": 38,
    "start_time": "2022-05-29T07:05:08.379Z"
   },
   {
    "duration": 13,
    "start_time": "2022-05-29T07:05:08.419Z"
   },
   {
    "duration": 58,
    "start_time": "2022-05-29T07:05:08.433Z"
   },
   {
    "duration": 145,
    "start_time": "2022-05-29T07:05:08.492Z"
   },
   {
    "duration": 16,
    "start_time": "2022-05-29T07:05:08.639Z"
   },
   {
    "duration": 38,
    "start_time": "2022-05-29T07:05:08.657Z"
   },
   {
    "duration": 97,
    "start_time": "2022-05-29T07:05:08.697Z"
   },
   {
    "duration": 122,
    "start_time": "2022-05-29T07:05:08.801Z"
   },
   {
    "duration": 162,
    "start_time": "2022-05-29T07:05:08.929Z"
   },
   {
    "duration": 86,
    "start_time": "2022-05-29T07:05:09.093Z"
   },
   {
    "duration": 95,
    "start_time": "2022-05-29T07:05:09.182Z"
   },
   {
    "duration": 27,
    "start_time": "2022-05-29T07:05:09.278Z"
   },
   {
    "duration": 23,
    "start_time": "2022-05-29T07:05:09.308Z"
   },
   {
    "duration": 4,
    "start_time": "2022-05-29T07:05:09.333Z"
   },
   {
    "duration": 6,
    "start_time": "2022-05-29T07:05:09.339Z"
   },
   {
    "duration": 7,
    "start_time": "2022-05-29T07:05:09.347Z"
   },
   {
    "duration": 1833,
    "start_time": "2022-05-29T07:05:09.355Z"
   },
   {
    "duration": 10,
    "start_time": "2022-05-29T07:05:11.190Z"
   },
   {
    "duration": 1444,
    "start_time": "2022-05-29T07:05:11.205Z"
   },
   {
    "duration": 6,
    "start_time": "2022-05-29T07:05:12.651Z"
   },
   {
    "duration": 1798,
    "start_time": "2022-05-29T07:05:12.659Z"
   },
   {
    "duration": 9,
    "start_time": "2022-05-29T07:05:16.869Z"
   },
   {
    "duration": 5,
    "start_time": "2022-05-29T07:06:07.549Z"
   },
   {
    "duration": 14,
    "start_time": "2022-05-29T07:06:21.481Z"
   },
   {
    "duration": 5,
    "start_time": "2022-05-29T07:06:29.007Z"
   },
   {
    "duration": 6,
    "start_time": "2022-05-29T07:08:07.505Z"
   },
   {
    "duration": 5,
    "start_time": "2022-05-29T07:08:14.946Z"
   },
   {
    "duration": 5,
    "start_time": "2022-05-29T07:08:22.142Z"
   },
   {
    "duration": 4,
    "start_time": "2022-05-29T07:08:30.963Z"
   },
   {
    "duration": 1620,
    "start_time": "2022-05-29T09:17:56.593Z"
   },
   {
    "duration": 772,
    "start_time": "2022-05-29T09:17:58.215Z"
   },
   {
    "duration": 16,
    "start_time": "2022-05-29T09:17:58.988Z"
   },
   {
    "duration": 41,
    "start_time": "2022-05-29T09:17:59.006Z"
   },
   {
    "duration": 20,
    "start_time": "2022-05-29T09:17:59.050Z"
   },
   {
    "duration": 56,
    "start_time": "2022-05-29T09:17:59.072Z"
   },
   {
    "duration": 14,
    "start_time": "2022-05-29T09:17:59.130Z"
   },
   {
    "duration": 34,
    "start_time": "2022-05-29T09:17:59.145Z"
   },
   {
    "duration": 157,
    "start_time": "2022-05-29T09:17:59.180Z"
   },
   {
    "duration": 17,
    "start_time": "2022-05-29T09:17:59.340Z"
   },
   {
    "duration": 76,
    "start_time": "2022-05-29T09:17:59.358Z"
   },
   {
    "duration": 104,
    "start_time": "2022-05-29T09:17:59.436Z"
   },
   {
    "duration": 96,
    "start_time": "2022-05-29T09:17:59.542Z"
   },
   {
    "duration": 16,
    "start_time": "2022-05-29T09:17:59.727Z"
   },
   {
    "duration": 89,
    "start_time": "2022-05-29T09:17:59.745Z"
   },
   {
    "duration": 98,
    "start_time": "2022-05-29T09:17:59.836Z"
   },
   {
    "duration": 24,
    "start_time": "2022-05-29T09:17:59.936Z"
   },
   {
    "duration": 27,
    "start_time": "2022-05-29T09:17:59.962Z"
   },
   {
    "duration": 4,
    "start_time": "2022-05-29T09:17:59.991Z"
   },
   {
    "duration": 6,
    "start_time": "2022-05-29T09:17:59.997Z"
   },
   {
    "duration": 22,
    "start_time": "2022-05-29T09:18:00.005Z"
   },
   {
    "duration": 1361,
    "start_time": "2022-05-29T09:18:00.029Z"
   },
   {
    "duration": 7,
    "start_time": "2022-05-29T09:18:01.392Z"
   },
   {
    "duration": 1319,
    "start_time": "2022-05-29T09:18:11.892Z"
   },
   {
    "duration": 5,
    "start_time": "2022-05-29T09:18:22.079Z"
   },
   {
    "duration": 1294,
    "start_time": "2022-05-29T09:18:39.610Z"
   },
   {
    "duration": 5,
    "start_time": "2022-05-29T09:18:41.907Z"
   },
   {
    "duration": 1327,
    "start_time": "2022-05-29T09:18:51.073Z"
   },
   {
    "duration": 6,
    "start_time": "2022-05-29T09:18:53.641Z"
   }
  ],
  "kernelspec": {
   "display_name": "Python 3 (ipykernel)",
   "language": "python",
   "name": "python3"
  },
  "language_info": {
   "codemirror_mode": {
    "name": "ipython",
    "version": 3
   },
   "file_extension": ".py",
   "mimetype": "text/x-python",
   "name": "python",
   "nbconvert_exporter": "python",
   "pygments_lexer": "ipython3",
   "version": "3.9.12"
  },
  "latex_envs": {
   "LaTeX_envs_menu_present": true,
   "autoclose": true,
   "autocomplete": true,
   "bibliofile": "biblio.bib",
   "cite_by": "apalike",
   "current_citInitial": 1,
   "eqLabelWithNumbers": true,
   "eqNumInitial": 1,
   "hotkeys": {
    "equation": "Ctrl-E",
    "itemize": "Ctrl-I"
   },
   "labels_anchors": false,
   "latex_user_defs": false,
   "report_style_numbering": false,
   "user_envs_cfg": false
  },
  "nbTranslate": {
   "displayLangs": [
    "ru",
    "en"
   ],
   "hotkey": "alt-t",
   "langInMainMenu": true,
   "sourceLang": "en",
   "targetLang": "ru",
   "useGoogleTranslate": true
  },
  "toc": {
   "base_numbering": 1,
   "nav_menu": {},
   "number_sections": true,
   "sideBar": true,
   "skip_h1_title": true,
   "title_cell": "Table of Contents",
   "title_sidebar": "Contents",
   "toc_cell": false,
   "toc_position": {
    "height": "calc(100% - 180px)",
    "left": "10px",
    "top": "150px",
    "width": "273.188px"
   },
   "toc_section_display": true,
   "toc_window_display": true
  }
 },
 "nbformat": 4,
 "nbformat_minor": 2
}
