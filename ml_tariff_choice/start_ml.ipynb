{
 "cells": [
  {
   "cell_type": "markdown",
   "metadata": {},
   "source": [
    "# Рекомендация тарифов"
   ]
  },
  {
   "cell_type": "markdown",
   "metadata": {},
   "source": [
    "В вашем распоряжении данные о поведении клиентов, которые уже перешли на эти тарифы (из проекта «Определение наиболее выгодого тарифа»). Нужно построить модель для задачи классификации, которая выберет подходящий тариф. Предобработка данных не понадобится — мы её уже сделали.\n",
    "\n",
    "Необходимо построить модель с максимально большим значением *accuracy*. Чтобы сдать проект успешно, нужно довести долю правильных ответов по крайней мере до 0.75. Проверить *accuracy* на тестовой выборке."
   ]
  },
  {
   "cell_type": "markdown",
   "metadata": {},
   "source": [
    "## Открывем и изучаем файл"
   ]
  },
  {
   "cell_type": "code",
   "execution_count": 1,
   "metadata": {},
   "outputs": [],
   "source": [
    "import pandas as pd\n",
    "\n",
    "import warnings\n",
    "warnings.filterwarnings('ignore')\n",
    "\n",
    "from sklearn.tree import DecisionTreeClassifier #дерево решений\n",
    "from sklearn.ensemble import RandomForestClassifier #случайный лес\n",
    "from sklearn.linear_model import LogisticRegression #логистическая регрессия\n",
    "\n",
    "\n",
    "from sklearn.metrics import accuracy_score #функция для подсчёта accuracy\n",
    "from sklearn.model_selection import train_test_split, GridSearchCV #разделение на выборки, подбор пвраметров для дерева решений\n"
   ]
  },
  {
   "cell_type": "code",
   "execution_count": 2,
   "metadata": {},
   "outputs": [],
   "source": [
    "try:\n",
    "    df = pd.read_csv('/datasets/users_behavior.csv')\n",
    "except:\n",
    "    df= pd.read_csv('users_behavior.csv')"
   ]
  },
  {
   "cell_type": "code",
   "execution_count": 3,
   "metadata": {
    "scrolled": true
   },
   "outputs": [
    {
     "data": {
      "text/html": [
       "<div>\n",
       "<style scoped>\n",
       "    .dataframe tbody tr th:only-of-type {\n",
       "        vertical-align: middle;\n",
       "    }\n",
       "\n",
       "    .dataframe tbody tr th {\n",
       "        vertical-align: top;\n",
       "    }\n",
       "\n",
       "    .dataframe thead th {\n",
       "        text-align: right;\n",
       "    }\n",
       "</style>\n",
       "<table border=\"1\" class=\"dataframe\">\n",
       "  <thead>\n",
       "    <tr style=\"text-align: right;\">\n",
       "      <th></th>\n",
       "      <th>calls</th>\n",
       "      <th>minutes</th>\n",
       "      <th>messages</th>\n",
       "      <th>mb_used</th>\n",
       "      <th>is_ultra</th>\n",
       "    </tr>\n",
       "  </thead>\n",
       "  <tbody>\n",
       "    <tr>\n",
       "      <th>0</th>\n",
       "      <td>40.0</td>\n",
       "      <td>311.90</td>\n",
       "      <td>83.0</td>\n",
       "      <td>19915.42</td>\n",
       "      <td>0</td>\n",
       "    </tr>\n",
       "    <tr>\n",
       "      <th>1</th>\n",
       "      <td>85.0</td>\n",
       "      <td>516.75</td>\n",
       "      <td>56.0</td>\n",
       "      <td>22696.96</td>\n",
       "      <td>0</td>\n",
       "    </tr>\n",
       "    <tr>\n",
       "      <th>2</th>\n",
       "      <td>77.0</td>\n",
       "      <td>467.66</td>\n",
       "      <td>86.0</td>\n",
       "      <td>21060.45</td>\n",
       "      <td>0</td>\n",
       "    </tr>\n",
       "    <tr>\n",
       "      <th>3</th>\n",
       "      <td>106.0</td>\n",
       "      <td>745.53</td>\n",
       "      <td>81.0</td>\n",
       "      <td>8437.39</td>\n",
       "      <td>1</td>\n",
       "    </tr>\n",
       "    <tr>\n",
       "      <th>4</th>\n",
       "      <td>66.0</td>\n",
       "      <td>418.74</td>\n",
       "      <td>1.0</td>\n",
       "      <td>14502.75</td>\n",
       "      <td>0</td>\n",
       "    </tr>\n",
       "    <tr>\n",
       "      <th>...</th>\n",
       "      <td>...</td>\n",
       "      <td>...</td>\n",
       "      <td>...</td>\n",
       "      <td>...</td>\n",
       "      <td>...</td>\n",
       "    </tr>\n",
       "    <tr>\n",
       "      <th>3209</th>\n",
       "      <td>122.0</td>\n",
       "      <td>910.98</td>\n",
       "      <td>20.0</td>\n",
       "      <td>35124.90</td>\n",
       "      <td>1</td>\n",
       "    </tr>\n",
       "    <tr>\n",
       "      <th>3210</th>\n",
       "      <td>25.0</td>\n",
       "      <td>190.36</td>\n",
       "      <td>0.0</td>\n",
       "      <td>3275.61</td>\n",
       "      <td>0</td>\n",
       "    </tr>\n",
       "    <tr>\n",
       "      <th>3211</th>\n",
       "      <td>97.0</td>\n",
       "      <td>634.44</td>\n",
       "      <td>70.0</td>\n",
       "      <td>13974.06</td>\n",
       "      <td>0</td>\n",
       "    </tr>\n",
       "    <tr>\n",
       "      <th>3212</th>\n",
       "      <td>64.0</td>\n",
       "      <td>462.32</td>\n",
       "      <td>90.0</td>\n",
       "      <td>31239.78</td>\n",
       "      <td>0</td>\n",
       "    </tr>\n",
       "    <tr>\n",
       "      <th>3213</th>\n",
       "      <td>80.0</td>\n",
       "      <td>566.09</td>\n",
       "      <td>6.0</td>\n",
       "      <td>29480.52</td>\n",
       "      <td>1</td>\n",
       "    </tr>\n",
       "  </tbody>\n",
       "</table>\n",
       "<p>3214 rows × 5 columns</p>\n",
       "</div>"
      ],
      "text/plain": [
       "      calls  minutes  messages   mb_used  is_ultra\n",
       "0      40.0   311.90      83.0  19915.42         0\n",
       "1      85.0   516.75      56.0  22696.96         0\n",
       "2      77.0   467.66      86.0  21060.45         0\n",
       "3     106.0   745.53      81.0   8437.39         1\n",
       "4      66.0   418.74       1.0  14502.75         0\n",
       "...     ...      ...       ...       ...       ...\n",
       "3209  122.0   910.98      20.0  35124.90         1\n",
       "3210   25.0   190.36       0.0   3275.61         0\n",
       "3211   97.0   634.44      70.0  13974.06         0\n",
       "3212   64.0   462.32      90.0  31239.78         0\n",
       "3213   80.0   566.09       6.0  29480.52         1\n",
       "\n",
       "[3214 rows x 5 columns]"
      ]
     },
     "execution_count": 3,
     "metadata": {},
     "output_type": "execute_result"
    }
   ],
   "source": [
    "df"
   ]
  },
  {
   "cell_type": "markdown",
   "metadata": {},
   "source": [
    "Датасет имеет 3214 объектов и 5 признаков\n",
    "\n",
    "Каждый объект в наборе данных — это информация о поведении одного пользователя за месяц. \n",
    "\n",
    "Признаки:\n",
    "\n",
    "* `сalls` — количество звонков\n",
    "* `minutes` — суммарная длительность звонков в минутах\n",
    "* `messages` — количество sms-сообщений\n",
    "* `mb_used` — израсходованный интернет-трафик в Мб\n",
    "* `is_ultra` — каким тарифом пользовался в течение месяца («Ультра» — 1, «Смарт» — 0)."
   ]
  },
  {
   "cell_type": "markdown",
   "metadata": {},
   "source": [
    "## Разбиваем данные на выборки"
   ]
  },
  {
   "cell_type": "code",
   "execution_count": 4,
   "metadata": {},
   "outputs": [
    {
     "data": {
      "text/plain": [
       "(1928,)"
      ]
     },
     "metadata": {},
     "output_type": "display_data"
    },
    {
     "data": {
      "text/plain": [
       "(643,)"
      ]
     },
     "metadata": {},
     "output_type": "display_data"
    },
    {
     "data": {
      "text/plain": [
       "(643,)"
      ]
     },
     "metadata": {},
     "output_type": "display_data"
    }
   ],
   "source": [
    "features = df.drop(['is_ultra'], axis=1)\n",
    "target = df['is_ultra']\n",
    "\n",
    "# так как мы не имеем отдельной тестовой выборки - разделяем эту на 3 в соотношении 60х20х20 %\n",
    "\n",
    "#обучающая\n",
    "\n",
    "features_train, features_x, target_train, target_x = train_test_split(\n",
    "    features, target, test_size=0.40, random_state=12345)\n",
    "\n",
    "# валидационная & тестовая \n",
    "\n",
    "features_test, features_valid, target_test, target_valid = train_test_split(\n",
    "    features_x, target_x, test_size=0.50, random_state=12345)\n",
    "\n",
    "display(target_train.shape) #обучающая\n",
    "display(target_test.shape) #тестовая\n",
    "display(target_valid.shape) #валидационная  "
   ]
  },
  {
   "cell_type": "markdown",
   "metadata": {},
   "source": [
    "Обучающий набор данных сохранён в переменных features_train (признаки) и target_train (целевой признак).\n"
   ]
  },
  {
   "cell_type": "markdown",
   "metadata": {},
   "source": [
    "## Исследуем модели"
   ]
  },
  {
   "cell_type": "markdown",
   "metadata": {},
   "source": [
    "### Дерево решений"
   ]
  },
  {
   "cell_type": "code",
   "execution_count": 5,
   "metadata": {},
   "outputs": [
    {
     "name": "stdout",
     "output_type": "stream",
     "text": [
      "accuracy лучшей модели: 0.7993779160186625\n",
      "max_depth лучшей модели: 7\n",
      "CPU times: user 229 ms, sys: 0 ns, total: 229 ms\n",
      "Wall time: 232 ms\n"
     ]
    }
   ],
   "source": [
    "%%time\n",
    "best_model = None\n",
    "best_result = 0\n",
    "for depth in range(1, 20):\n",
    "    model = DecisionTreeClassifier(random_state=12345, max_depth=depth)\n",
    "    model.fit(features_train, target_train) \n",
    "    predictions_valid = model.predict(features_valid) # предсказания модели\n",
    "    result = accuracy_score(target_valid, predictions_valid) # качество модели\n",
    "    if result > best_result:\n",
    "        best_model = model\n",
    "        best_result = result\n",
    "        best_depth = depth\n",
    "        \n",
    "print(\"accuracy лучшей модели:\", best_result)\n",
    "print(\"max_depth лучшей модели:\", best_depth)"
   ]
  },
  {
   "cell_type": "markdown",
   "metadata": {},
   "source": [
    "Проверили какая длинна дерева даёт лучший результат accuray"
   ]
  },
  {
   "cell_type": "code",
   "execution_count": 6,
   "metadata": {
    "scrolled": false
   },
   "outputs": [
    {
     "name": "stdout",
     "output_type": "stream",
     "text": [
      "Fitting 10 folds for each of 648 candidates, totalling 6480 fits\n"
     ]
    },
    {
     "data": {
      "text/plain": [
       "{'criterion': 'gini',\n",
       " 'max_depth': 7,\n",
       " 'min_samples_leaf': 1,\n",
       " 'min_samples_split': 3}"
      ]
     },
     "metadata": {},
     "output_type": "display_data"
    },
    {
     "data": {
      "text/plain": [
       "0.8101845854922279"
      ]
     },
     "metadata": {},
     "output_type": "display_data"
    },
    {
     "name": "stdout",
     "output_type": "stream",
     "text": [
      "CPU times: user 1min 8s, sys: 55 ms, total: 1min 8s\n",
      "Wall time: 1min 9s\n"
     ]
    }
   ],
   "source": [
    "%%time\n",
    "#Осторожно!Исполняется около минуты \n",
    "model_tree = DecisionTreeClassifier()\n",
    "model_tree.fit(features_train, target_train) \n",
    "parametry={\n",
    "    'criterion':['gini', 'entropy'],\n",
    "    'max_depth':range(1,10),\n",
    "    'min_samples_split':range(1,10),\n",
    "    'min_samples_leaf':range(1,5)\n",
    "}\n",
    "grid = GridSearchCV(model_tree,\n",
    "                   param_grid=parametry,\n",
    "                   cv=10,\n",
    "                   verbose=1,\n",
    "                   n_jobs=-1)\n",
    "grid.fit(features_train, target_train)\n",
    "display(grid.best_params_)\n",
    "display(grid.best_score_)"
   ]
  },
  {
   "cell_type": "markdown",
   "metadata": {},
   "source": [
    "С помощью функции GridSearchCV проверили какие гиперпараметры дадут наибольший accuray для всех значимых параметров"
   ]
  },
  {
   "cell_type": "code",
   "execution_count": 7,
   "metadata": {},
   "outputs": [],
   "source": [
    "predictions_valid_tree = model.predict(features_valid)\n"
   ]
  },
  {
   "cell_type": "markdown",
   "metadata": {},
   "source": [
    "### Cлучайный лес"
   ]
  },
  {
   "cell_type": "code",
   "execution_count": 8,
   "metadata": {
    "scrolled": true
   },
   "outputs": [
    {
     "name": "stdout",
     "output_type": "stream",
     "text": [
      "accuracy лучшей модели: 0.7433903576982893\n",
      "n_estimators лучшей модели: 1\n",
      "CPU times: user 28.3 s, sys: 87.9 ms, total: 28.3 s\n",
      "Wall time: 28.9 s\n"
     ]
    }
   ],
   "source": [
    "%%time\n",
    "best_model = None\n",
    "best_result = 0\n",
    "for est in range(1, 100):\n",
    "    model_forest = RandomForestClassifier(random_state=12345, n_estimators=est)\n",
    "    model_forest.fit(features_train, target_train) \n",
    "    predictions_valid_forest = model_forest.predict(features_valid) \n",
    "    result = model.score(features_valid, target_valid)\n",
    "    if result > best_result:\n",
    "        best_model = model_forest\n",
    "        best_result = result\n",
    "        best_est = est\n",
    "        \n",
    "print(\"accuracy лучшей модели:\", best_result)\n",
    "print(\"n_estimators лучшей модели:\", best_est)"
   ]
  },
  {
   "cell_type": "markdown",
   "metadata": {},
   "source": [
    "### Логистическая регрессия"
   ]
  },
  {
   "cell_type": "code",
   "execution_count": 9,
   "metadata": {
    "scrolled": false
   },
   "outputs": [
    {
     "name": "stdout",
     "output_type": "stream",
     "text": [
      "0.6842923794712286\n",
      "CPU times: user 42.5 ms, sys: 3.99 ms, total: 46.5 ms\n",
      "Wall time: 52.8 ms\n"
     ]
    }
   ],
   "source": [
    "%%time\n",
    "model_regr = LogisticRegression(random_state=12345, solver='lbfgs', max_iter=1000)\n",
    "model_regr.fit(features_train, target_train)\n",
    "predictions_valid = model_regr.predict(features_valid)\n",
    "accuracy = model_regr.score(features_valid, target_valid)\n",
    "print(accuracy)"
   ]
  },
  {
   "cell_type": "code",
   "execution_count": 10,
   "metadata": {},
   "outputs": [
    {
     "name": "stdout",
     "output_type": "stream",
     "text": [
      "0.6842923794712286\n",
      "CPU times: user 357 ms, sys: 3.95 ms, total: 361 ms\n",
      "Wall time: 375 ms\n"
     ]
    }
   ],
   "source": [
    "%%time\n",
    "model_regr = LogisticRegression(random_state=12345, penalty='l1', solver='saga', max_iter=1000)\n",
    "model_regr.fit(features_train, target_train)\n",
    "predictions_valid = model_regr.predict(features_valid)\n",
    "accuracy= model_regr.score(features_valid, target_valid)\n",
    "print(accuracy)"
   ]
  },
  {
   "cell_type": "code",
   "execution_count": 11,
   "metadata": {},
   "outputs": [
    {
     "name": "stdout",
     "output_type": "stream",
     "text": [
      "0.6842923794712286\n",
      "CPU times: user 52.6 ms, sys: 32 µs, total: 52.6 ms\n",
      "Wall time: 51.7 ms\n"
     ]
    }
   ],
   "source": [
    "%%time\n",
    "model_regr = LogisticRegression(random_state=12345)\n",
    "model_regr.fit(features_train, target_train)\n",
    "predictions_valid_regr = model_regr.predict(features_valid)\n",
    "accuracy= model_regr.score(features_valid, target_valid)\n",
    "print(accuracy)"
   ]
  },
  {
   "cell_type": "markdown",
   "metadata": {},
   "source": [
    "## Проверяем модель на тестовой выборке"
   ]
  },
  {
   "cell_type": "markdown",
   "metadata": {},
   "source": [
    "### Дерево решений"
   ]
  },
  {
   "cell_type": "code",
   "execution_count": 21,
   "metadata": {},
   "outputs": [
    {
     "name": "stdout",
     "output_type": "stream",
     "text": [
      "0.7822706065318819\n",
      "CPU times: user 14.1 ms, sys: 4.04 ms, total: 18.1 ms\n",
      "Wall time: 15.4 ms\n"
     ]
    }
   ],
   "source": [
    "%%time\n",
    "model_tree = DecisionTreeClassifier(random_state=12345, max_depth=7, min_samples_split=3)\n",
    "model_tree.fit(features_train, target_train) \n",
    "predictions = model_tree.predict(features_test)\n",
    "accuracy_tree = model_tree.score(features_test, target_test)\n",
    "print(accuracy_tree)"
   ]
  },
  {
   "cell_type": "markdown",
   "metadata": {},
   "source": [
    "### Cлучайный лес"
   ]
  },
  {
   "cell_type": "code",
   "execution_count": 22,
   "metadata": {
    "scrolled": true
   },
   "outputs": [
    {
     "name": "stdout",
     "output_type": "stream",
     "text": [
      "0.8055987558320373\n",
      "CPU times: user 209 ms, sys: 4 µs, total: 209 ms\n",
      "Wall time: 207 ms\n"
     ]
    }
   ],
   "source": [
    "%%time\n",
    "model_forest =  RandomForestClassifier(random_state=12345, n_estimators=48, max_depth=7, min_samples_split=3)\n",
    "model_forest.fit(features_train, target_train) \n",
    "predictions = model_forest.predict(features_test)\n",
    "accuracy_forest = model_forest.score(features_test, target_test)\n",
    "print(accuracy_forest)"
   ]
  },
  {
   "cell_type": "markdown",
   "metadata": {},
   "source": [
    "### Логистическая регрессия"
   ]
  },
  {
   "cell_type": "code",
   "execution_count": 14,
   "metadata": {
    "scrolled": true
   },
   "outputs": [
    {
     "name": "stdout",
     "output_type": "stream",
     "text": [
      "0.6936236391912908\n",
      "CPU times: user 49.1 ms, sys: 4.01 ms, total: 53.1 ms\n",
      "Wall time: 62.8 ms\n"
     ]
    }
   ],
   "source": [
    "%%time\n",
    "model_regr = LogisticRegression(random_state=12345)\n",
    "model_regr.fit(features_train, target_train)\n",
    "predictions = model_regr.predict(features_test)\n",
    "accuracy = model_regr.score(features_valid, target_test)\n",
    "print(accuracy)"
   ]
  },
  {
   "cell_type": "markdown",
   "metadata": {},
   "source": [
    "## (бонус) Проверяем модели на адекватность"
   ]
  },
  {
   "cell_type": "code",
   "execution_count": 15,
   "metadata": {
    "scrolled": true
   },
   "outputs": [
    {
     "name": "stdout",
     "output_type": "stream",
     "text": [
      "0.7060653188180405\n"
     ]
    }
   ],
   "source": [
    "target_pred_constant = pd.Series(0, range(0,643))\n",
    "print(accuracy_score(target_test, target_pred_constant))"
   ]
  },
  {
   "cell_type": "markdown",
   "metadata": {},
   "source": [
    "Если просто заполнять всю выборку нулевыми значениями, то accuracy уже 70%, так как тарифом Смарт пользуется намного больше людей"
   ]
  },
  {
   "cell_type": "code",
   "execution_count": 16,
   "metadata": {},
   "outputs": [
    {
     "data": {
      "text/plain": [
       "'tree'"
      ]
     },
     "metadata": {},
     "output_type": "display_data"
    },
    {
     "data": {
      "text/plain": [
       "array([[358,  82],\n",
       "       [ 83, 120]])"
      ]
     },
     "metadata": {},
     "output_type": "display_data"
    },
    {
     "data": {
      "text/plain": [
       "'forest'"
      ]
     },
     "metadata": {},
     "output_type": "display_data"
    },
    {
     "data": {
      "text/plain": [
       "array([[390,  50],\n",
       "       [ 87, 116]])"
      ]
     },
     "metadata": {},
     "output_type": "display_data"
    },
    {
     "data": {
      "text/plain": [
       "'regr'"
      ]
     },
     "metadata": {},
     "output_type": "display_data"
    },
    {
     "data": {
      "text/plain": [
       "array([[432,   8],\n",
       "       [195,   8]])"
      ]
     },
     "metadata": {},
     "output_type": "display_data"
    }
   ],
   "source": [
    "from sklearn.metrics import confusion_matrix\n",
    "\n",
    "display('tree',confusion_matrix(target_valid, predictions_valid_tree))\n",
    "display('forest',confusion_matrix(target_valid, predictions_valid_forest))\n",
    "display('regr',confusion_matrix(target_valid, predictions_valid_regr))\n"
   ]
  },
  {
   "cell_type": "markdown",
   "metadata": {},
   "source": [
    "Именно поэтому модель в случае с  1 модели угадывают приблизительно 50/50, а в случае с 0 ошибок уже меньше приблизительно 3:1\n",
    "\n",
    "Но это также плохой показатель"
   ]
  },
  {
   "cell_type": "code",
   "execution_count": 17,
   "metadata": {},
   "outputs": [
    {
     "name": "stdout",
     "output_type": "stream",
     "text": [
      "Точность tree 0.594059405940594\n",
      "Точность forest 0.6987951807228916\n",
      "Точность regr 0.5\n"
     ]
    }
   ],
   "source": [
    "from sklearn.metrics import precision_score \n",
    "\n",
    "print('Точность tree',precision_score(target_valid, predictions_valid_tree))\n",
    "print('Точность forest',precision_score(target_valid, predictions_valid_forest))\n",
    "print('Точность regr',precision_score(target_valid, predictions_valid_regr))\n"
   ]
  },
  {
   "cell_type": "code",
   "execution_count": 18,
   "metadata": {
    "scrolled": true
   },
   "outputs": [
    {
     "name": "stdout",
     "output_type": "stream",
     "text": [
      "f1_score tree 0.5925925925925926\n",
      "f1_score forest 0.6287262872628726\n",
      "f1_score regr 0.07305936073059362\n"
     ]
    }
   ],
   "source": [
    "from sklearn.metrics import f1_score\n",
    "\n",
    "print('f1_score tree',f1_score(target_valid, predictions_valid_tree))\n",
    "print('f1_score forest',f1_score(target_valid, predictions_valid_forest))\n",
    "print('f1_score regr',f1_score(target_valid, predictions_valid_regr))\n"
   ]
  },
  {
   "cell_type": "markdown",
   "metadata": {},
   "source": [
    "### Вывод"
   ]
  },
  {
   "cell_type": "markdown",
   "metadata": {},
   "source": [
    "Модели неадекватны, но как это исправить знаний ещё не имею"
   ]
  },
  {
   "cell_type": "markdown",
   "metadata": {},
   "source": [
    "## Вывод"
   ]
  },
  {
   "cell_type": "markdown",
   "metadata": {},
   "source": [
    "Модель с максимально большим значением accuracy на тестовой выборке оказалась у случайного леса - 0.8055987558320373\n",
    "\n",
    "Но также она выполняется дольше всех - 211 ms\n",
    "\n",
    "Наиболее неудачной в реализации оказалась модель логистической регрессии - она уступает в скорости дереву решений и имеет наименьший accuracy\n",
    "\n",
    "При выборе модели необходимо смотреть на время её выполнения и на accuracy, поэтому наиболее правильным будет выбрать в качестве эталонной модели: дерево решений - accuracy = 0.7822706065318819, но скорость гараздо выше чем у случайного леса = 21.9 ms, в 10 раз выше\n",
    "\n"
   ]
  },
  {
   "cell_type": "markdown",
   "metadata": {},
   "source": [
    "## Чек-лист готовности проекта"
   ]
  },
  {
   "cell_type": "markdown",
   "metadata": {},
   "source": [
    "Поставьте 'x' в выполненных пунктах. Далее нажмите Shift+Enter."
   ]
  },
  {
   "cell_type": "markdown",
   "metadata": {},
   "source": [
    "- [x] Jupyter Notebook открыт\n",
    "- [x] Весь код исполняется без ошибок\n",
    "- [x] Ячейки с кодом расположены в порядке исполнения\n",
    "- [x] Выполнено задание 1: данные загружены и изучены\n",
    "- [x] Выполнено задание 2: данные разбиты на три выборки\n",
    "- [x] Выполнено задание 3: проведено исследование моделей\n",
    "    - [x] Рассмотрено больше одной модели\n",
    "    - [x] Рассмотрено хотя бы 3 значения гипепараметров для какой-нибудь модели\n",
    "    - [x] Написаны выводы по результатам исследования\n",
    "- [x] Выполнено задание 3: Проведено тестирование\n",
    "- [x] Удалось достичь accuracy не меньше 0.75\n"
   ]
  }
 ],
 "metadata": {
  "ExecuteTimeLog": [
   {
    "duration": 75,
    "start_time": "2022-05-01T07:56:23.770Z"
   },
   {
    "duration": 541,
    "start_time": "2022-05-01T07:56:33.343Z"
   },
   {
    "duration": 21,
    "start_time": "2022-05-01T07:56:36.379Z"
   },
   {
    "duration": 16,
    "start_time": "2022-05-01T07:56:48.315Z"
   },
   {
    "duration": 30,
    "start_time": "2022-05-01T07:57:16.190Z"
   },
   {
    "duration": 42,
    "start_time": "2022-05-01T07:57:36.492Z"
   },
   {
    "duration": 5,
    "start_time": "2022-05-01T07:57:54.591Z"
   },
   {
    "duration": 6,
    "start_time": "2022-05-01T07:58:34.285Z"
   },
   {
    "duration": 11,
    "start_time": "2022-05-01T08:12:36.535Z"
   },
   {
    "duration": 1095,
    "start_time": "2022-05-01T08:13:11.220Z"
   },
   {
    "duration": 5,
    "start_time": "2022-05-01T08:41:14.465Z"
   },
   {
    "duration": 18,
    "start_time": "2022-05-01T09:17:12.701Z"
   },
   {
    "duration": 84,
    "start_time": "2022-05-01T09:24:44.769Z"
   },
   {
    "duration": 32,
    "start_time": "2022-05-01T09:24:57.997Z"
   },
   {
    "duration": 31,
    "start_time": "2022-05-01T09:25:39.919Z"
   },
   {
    "duration": 32,
    "start_time": "2022-05-01T09:26:29.140Z"
   },
   {
    "duration": 29,
    "start_time": "2022-05-01T09:28:13.437Z"
   },
   {
    "duration": 232,
    "start_time": "2022-05-01T09:52:44.585Z"
   },
   {
    "duration": 233,
    "start_time": "2022-05-01T09:53:40.502Z"
   },
   {
    "duration": 1633,
    "start_time": "2022-05-01T10:02:23.198Z"
   },
   {
    "duration": 1569,
    "start_time": "2022-05-01T10:02:47.652Z"
   },
   {
    "duration": 1238,
    "start_time": "2022-05-01T10:04:03.436Z"
   },
   {
    "duration": 37,
    "start_time": "2022-05-01T10:12:27.510Z"
   },
   {
    "duration": 228,
    "start_time": "2022-05-01T10:29:33.111Z"
   },
   {
    "duration": 225,
    "start_time": "2022-05-01T10:29:45.868Z"
   },
   {
    "duration": 28,
    "start_time": "2022-05-01T10:47:17.016Z"
   },
   {
    "duration": 225,
    "start_time": "2022-05-01T10:48:19.372Z"
   },
   {
    "duration": 18,
    "start_time": "2022-05-01T12:07:07.628Z"
   },
   {
    "duration": 60,
    "start_time": "2022-05-01T12:09:53.100Z"
   },
   {
    "duration": 35,
    "start_time": "2022-05-01T12:11:08.289Z"
   },
   {
    "duration": 26,
    "start_time": "2022-05-01T12:54:14.470Z"
   },
   {
    "duration": 60,
    "start_time": "2022-05-01T12:54:28.644Z"
   },
   {
    "duration": 36,
    "start_time": "2022-05-01T12:54:50.954Z"
   },
   {
    "duration": 236,
    "start_time": "2022-05-01T12:59:20.162Z"
   },
   {
    "duration": 1441,
    "start_time": "2022-05-01T12:59:23.876Z"
   },
   {
    "duration": 58,
    "start_time": "2022-05-01T12:59:30.517Z"
   },
   {
    "duration": 5,
    "start_time": "2022-05-01T13:14:10.557Z"
   },
   {
    "duration": 1639,
    "start_time": "2022-05-01T13:34:01.737Z"
   },
   {
    "duration": 17,
    "start_time": "2022-05-01T13:34:05.272Z"
   },
   {
    "duration": 32,
    "start_time": "2022-05-01T13:34:07.268Z"
   },
   {
    "duration": 27,
    "start_time": "2022-05-01T13:34:12.022Z"
   },
   {
    "duration": 165128,
    "start_time": "2022-05-01T13:34:16.706Z"
   },
   {
    "duration": 6,
    "start_time": "2022-05-01T13:37:01.838Z"
   },
   {
    "duration": 240,
    "start_time": "2022-05-01T13:38:18.864Z"
   },
   {
    "duration": 1600,
    "start_time": "2022-05-01T13:40:54.880Z"
   },
   {
    "duration": 20,
    "start_time": "2022-05-01T13:40:56.482Z"
   },
   {
    "duration": 36,
    "start_time": "2022-05-01T13:40:56.504Z"
   },
   {
    "duration": 22,
    "start_time": "2022-05-01T13:40:56.543Z"
   },
   {
    "duration": 247,
    "start_time": "2022-05-01T13:40:56.567Z"
   },
   {
    "duration": 8,
    "start_time": "2022-05-01T13:40:59.191Z"
   },
   {
    "duration": 8,
    "start_time": "2022-05-01T13:41:27.644Z"
   },
   {
    "duration": 62916,
    "start_time": "2022-05-01T13:41:53.312Z"
   },
   {
    "duration": 30407,
    "start_time": "2022-05-01T13:52:55.565Z"
   },
   {
    "duration": 1543,
    "start_time": "2022-05-01T14:11:45.003Z"
   },
   {
    "duration": 17,
    "start_time": "2022-05-01T14:11:46.549Z"
   },
   {
    "duration": 31,
    "start_time": "2022-05-01T14:11:46.568Z"
   },
   {
    "duration": 35,
    "start_time": "2022-05-01T14:11:46.603Z"
   },
   {
    "duration": 353,
    "start_time": "2022-05-01T14:11:46.641Z"
   },
   {
    "duration": 87684,
    "start_time": "2022-05-01T14:11:46.996Z"
   },
   {
    "duration": 29571,
    "start_time": "2022-05-01T14:13:14.683Z"
   },
   {
    "duration": 51,
    "start_time": "2022-05-01T14:13:55.389Z"
   },
   {
    "duration": 27,
    "start_time": "2022-05-01T14:14:03.166Z"
   },
   {
    "duration": 25,
    "start_time": "2022-05-01T14:15:24.644Z"
   },
   {
    "duration": 27,
    "start_time": "2022-05-01T14:15:46.288Z"
   },
   {
    "duration": 26,
    "start_time": "2022-05-01T14:15:55.446Z"
   },
   {
    "duration": 61,
    "start_time": "2022-05-01T14:16:17.763Z"
   },
   {
    "duration": 56,
    "start_time": "2022-05-01T14:17:18.110Z"
   },
   {
    "duration": 23,
    "start_time": "2022-05-01T14:18:10.147Z"
   },
   {
    "duration": 61,
    "start_time": "2022-05-01T14:18:37.702Z"
   },
   {
    "duration": 275,
    "start_time": "2022-05-01T14:19:23.805Z"
   },
   {
    "duration": 208,
    "start_time": "2022-05-01T14:20:14.737Z"
   },
   {
    "duration": 209,
    "start_time": "2022-05-01T14:20:43.617Z"
   },
   {
    "duration": 8,
    "start_time": "2022-05-01T14:25:28.792Z"
   },
   {
    "duration": 324,
    "start_time": "2022-05-01T14:25:46.853Z"
   },
   {
    "duration": 37,
    "start_time": "2022-05-01T14:26:57.859Z"
   },
   {
    "duration": 36,
    "start_time": "2022-05-01T14:27:26.356Z"
   },
   {
    "duration": 36,
    "start_time": "2022-05-01T14:27:49.182Z"
   },
   {
    "duration": 35,
    "start_time": "2022-05-01T14:27:57.117Z"
   },
   {
    "duration": 36,
    "start_time": "2022-05-01T14:28:21.635Z"
   },
   {
    "duration": 333,
    "start_time": "2022-05-01T14:28:36.691Z"
   },
   {
    "duration": 35,
    "start_time": "2022-05-01T14:28:47.816Z"
   },
   {
    "duration": 154,
    "start_time": "2022-05-01T14:32:54.686Z"
   },
   {
    "duration": 6,
    "start_time": "2022-05-01T14:34:31.917Z"
   },
   {
    "duration": 7,
    "start_time": "2022-05-01T14:35:05.221Z"
   },
   {
    "duration": 13,
    "start_time": "2022-05-01T14:37:41.682Z"
   },
   {
    "duration": 32765,
    "start_time": "2022-05-01T14:40:46.569Z"
   },
   {
    "duration": 36,
    "start_time": "2022-05-01T14:41:19.336Z"
   },
   {
    "duration": 7,
    "start_time": "2022-05-01T14:41:25.146Z"
   },
   {
    "duration": 7,
    "start_time": "2022-05-01T14:41:28.509Z"
   },
   {
    "duration": 74297,
    "start_time": "2022-05-01T14:43:22.412Z"
   },
   {
    "duration": 7,
    "start_time": "2022-05-01T14:45:56.589Z"
   },
   {
    "duration": 64983,
    "start_time": "2022-05-01T14:51:52.032Z"
   },
   {
    "duration": 7,
    "start_time": "2022-05-01T14:52:57.025Z"
   },
   {
    "duration": 28517,
    "start_time": "2022-05-01T14:52:57.035Z"
   },
   {
    "duration": 51,
    "start_time": "2022-05-01T14:53:52.161Z"
   },
   {
    "duration": 39,
    "start_time": "2022-05-01T14:53:52.347Z"
   },
   {
    "duration": 604,
    "start_time": "2022-05-01T14:54:27.078Z"
   },
   {
    "duration": 49,
    "start_time": "2022-05-01T14:55:03.147Z"
   },
   {
    "duration": 27,
    "start_time": "2022-05-01T14:56:04.852Z"
   },
   {
    "duration": 200,
    "start_time": "2022-05-01T14:56:43.613Z"
   },
   {
    "duration": 216,
    "start_time": "2022-05-01T14:57:01.417Z"
   },
   {
    "duration": 39,
    "start_time": "2022-05-01T14:58:01.206Z"
   },
   {
    "duration": 8,
    "start_time": "2022-05-01T14:58:53.297Z"
   },
   {
    "duration": 8,
    "start_time": "2022-05-01T14:59:07.382Z"
   },
   {
    "duration": 10,
    "start_time": "2022-05-01T14:59:26.348Z"
   },
   {
    "duration": 10,
    "start_time": "2022-05-01T15:02:02.656Z"
   },
   {
    "duration": 7,
    "start_time": "2022-05-01T15:02:45.586Z"
   },
   {
    "duration": 7,
    "start_time": "2022-05-01T15:06:14.082Z"
   },
   {
    "duration": 7,
    "start_time": "2022-05-01T15:06:16.150Z"
   },
   {
    "duration": 36,
    "start_time": "2022-05-01T15:07:43.856Z"
   },
   {
    "duration": 16,
    "start_time": "2022-05-01T15:07:48.492Z"
   },
   {
    "duration": 11,
    "start_time": "2022-05-01T15:09:11.657Z"
   },
   {
    "duration": 13,
    "start_time": "2022-05-01T15:11:03.101Z"
   },
   {
    "duration": 24,
    "start_time": "2022-05-01T15:11:42.890Z"
   },
   {
    "duration": 12,
    "start_time": "2022-05-01T15:14:36.521Z"
   },
   {
    "duration": 99,
    "start_time": "2022-05-01T15:17:11.124Z"
   },
   {
    "duration": 108,
    "start_time": "2022-05-01T15:17:15.485Z"
   },
   {
    "duration": 102,
    "start_time": "2022-05-01T15:17:15.672Z"
   },
   {
    "duration": 16,
    "start_time": "2022-05-01T15:17:38.321Z"
   },
   {
    "duration": 36,
    "start_time": "2022-05-01T15:37:19.148Z"
   },
   {
    "duration": 281,
    "start_time": "2022-05-01T15:50:43.706Z"
   },
   {
    "duration": 1920,
    "start_time": "2022-05-01T16:02:35.084Z"
   },
   {
    "duration": 20,
    "start_time": "2022-05-01T16:02:37.010Z"
   },
   {
    "duration": 34,
    "start_time": "2022-05-01T16:02:37.033Z"
   },
   {
    "duration": 22,
    "start_time": "2022-05-01T16:02:37.071Z"
   },
   {
    "duration": 268,
    "start_time": "2022-05-01T16:02:37.095Z"
   },
   {
    "duration": 69906,
    "start_time": "2022-05-01T16:02:37.365Z"
   },
   {
    "duration": 6,
    "start_time": "2022-05-01T16:03:47.273Z"
   },
   {
    "duration": 28904,
    "start_time": "2022-05-01T16:03:47.282Z"
   },
   {
    "duration": 58,
    "start_time": "2022-05-01T16:04:16.188Z"
   },
   {
    "duration": 380,
    "start_time": "2022-05-01T16:04:16.250Z"
   },
   {
    "duration": 58,
    "start_time": "2022-05-01T16:04:16.633Z"
   },
   {
    "duration": 50,
    "start_time": "2022-05-01T16:04:16.693Z"
   },
   {
    "duration": 319,
    "start_time": "2022-05-01T16:04:16.745Z"
   },
   {
    "duration": 72,
    "start_time": "2022-05-01T16:04:17.067Z"
   },
   {
    "duration": 7,
    "start_time": "2022-05-01T16:04:17.142Z"
   },
   {
    "duration": 23,
    "start_time": "2022-05-01T16:04:17.153Z"
   },
   {
    "duration": 60,
    "start_time": "2022-05-01T16:04:17.180Z"
   },
   {
    "duration": 14,
    "start_time": "2022-05-01T16:04:17.243Z"
   },
   {
    "duration": 27,
    "start_time": "2022-05-01T16:08:54.853Z"
   },
   {
    "duration": 30,
    "start_time": "2022-05-01T16:09:04.102Z"
   },
   {
    "duration": 21,
    "start_time": "2022-05-01T16:09:16.197Z"
   },
   {
    "duration": 212,
    "start_time": "2022-05-01T16:10:41.896Z"
   }
  ],
  "kernelspec": {
   "display_name": "Python 3 (ipykernel)",
   "language": "python",
   "name": "python3"
  },
  "language_info": {
   "codemirror_mode": {
    "name": "ipython",
    "version": 3
   },
   "file_extension": ".py",
   "mimetype": "text/x-python",
   "name": "python",
   "nbconvert_exporter": "python",
   "pygments_lexer": "ipython3",
   "version": "3.9.12"
  },
  "latex_envs": {
   "LaTeX_envs_menu_present": true,
   "autoclose": true,
   "autocomplete": true,
   "bibliofile": "biblio.bib",
   "cite_by": "apalike",
   "current_citInitial": 1,
   "eqLabelWithNumbers": true,
   "eqNumInitial": 1,
   "hotkeys": {
    "equation": "Ctrl-E",
    "itemize": "Ctrl-I"
   },
   "labels_anchors": false,
   "latex_user_defs": false,
   "report_style_numbering": false,
   "user_envs_cfg": false
  },
  "nbTranslate": {
   "displayLangs": [
    "ru",
    "en"
   ],
   "hotkey": "alt-t",
   "langInMainMenu": true,
   "sourceLang": "en",
   "targetLang": "ru",
   "useGoogleTranslate": true
  },
  "toc": {
   "base_numbering": 1,
   "nav_menu": {},
   "number_sections": true,
   "sideBar": true,
   "skip_h1_title": true,
   "title_cell": "Table of Contents",
   "title_sidebar": "Contents",
   "toc_cell": false,
   "toc_position": {},
   "toc_section_display": true,
   "toc_window_display": true
  }
 },
 "nbformat": 4,
 "nbformat_minor": 2
}
