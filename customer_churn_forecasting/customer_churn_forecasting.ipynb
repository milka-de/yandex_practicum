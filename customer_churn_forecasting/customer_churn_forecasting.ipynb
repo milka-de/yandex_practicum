{
 "cells": [
  {
   "cell_type": "markdown",
   "metadata": {
    "toc": true
   },
   "source": [
    "<h1>Содержание<span class=\"tocSkip\"></span></h1>\n",
    "<div class=\"toc\"><ul class=\"toc-item\"><li><span><a href=\"#Подготовка-данных\" data-toc-modified-id=\"Подготовка-данных-1\"><span class=\"toc-item-num\">1&nbsp;&nbsp;</span>Подготовка данных</a></span><ul class=\"toc-item\"><li><span><a href=\"#Вывод\" data-toc-modified-id=\"Вывод-1.1\"><span class=\"toc-item-num\">1.1&nbsp;&nbsp;</span>Вывод</a></span></li></ul></li><li><span><a href=\"#Исследование-задачи\" data-toc-modified-id=\"Исследование-задачи-2\"><span class=\"toc-item-num\">2&nbsp;&nbsp;</span>Исследование задачи</a></span><ul class=\"toc-item\"><li><span><a href=\"#Изучение-моделей-до-устранения-дисбаланса\" data-toc-modified-id=\"Изучение-моделей-до-устранения-дисбаланса-2.1\"><span class=\"toc-item-num\">2.1&nbsp;&nbsp;</span>Изучение моделей до устранения дисбаланса</a></span><ul class=\"toc-item\"><li><span><a href=\"#Логистическая-регрессия\" data-toc-modified-id=\"Логистическая-регрессия-2.1.1\"><span class=\"toc-item-num\">2.1.1&nbsp;&nbsp;</span>Логистическая регрессия</a></span></li><li><span><a href=\"#Дерево-решений\" data-toc-modified-id=\"Дерево-решений-2.1.2\"><span class=\"toc-item-num\">2.1.2&nbsp;&nbsp;</span>Дерево решений</a></span></li><li><span><a href=\"#Случайный-лес\" data-toc-modified-id=\"Случайный-лес-2.1.3\"><span class=\"toc-item-num\">2.1.3&nbsp;&nbsp;</span>Случайный лес</a></span></li></ul></li><li><span><a href=\"#Вывод\" data-toc-modified-id=\"Вывод-2.2\"><span class=\"toc-item-num\">2.2&nbsp;&nbsp;</span>Вывод</a></span></li></ul></li><li><span><a href=\"#Борьба-с-дисбалансом\" data-toc-modified-id=\"Борьба-с-дисбалансом-3\"><span class=\"toc-item-num\">3&nbsp;&nbsp;</span>Борьба с дисбалансом</a></span><ul class=\"toc-item\"><li><span><a href=\"#баланс-классов\" data-toc-modified-id=\"баланс-классов-3.1\"><span class=\"toc-item-num\">3.1&nbsp;&nbsp;</span>баланс классов</a></span><ul class=\"toc-item\"><li><span><a href=\"#Логистическая-регрессия\" data-toc-modified-id=\"Логистическая-регрессия-3.1.1\"><span class=\"toc-item-num\">3.1.1&nbsp;&nbsp;</span>Логистическая регрессия</a></span></li><li><span><a href=\"#Дерево-решений\" data-toc-modified-id=\"Дерево-решений-3.1.2\"><span class=\"toc-item-num\">3.1.2&nbsp;&nbsp;</span>Дерево решений</a></span></li><li><span><a href=\"#Случайный-лес\" data-toc-modified-id=\"Случайный-лес-3.1.3\"><span class=\"toc-item-num\">3.1.3&nbsp;&nbsp;</span>Случайный лес</a></span></li><li><span><a href=\"#Вывод-при-балансе-классов:\" data-toc-modified-id=\"Вывод-при-балансе-классов:-3.1.4\"><span class=\"toc-item-num\">3.1.4&nbsp;&nbsp;</span>Вывод при балансе классов:</a></span></li></ul></li><li><span><a href=\"#Увеличение-выборки(upsampling)\" data-toc-modified-id=\"Увеличение-выборки(upsampling)-3.2\"><span class=\"toc-item-num\">3.2&nbsp;&nbsp;</span>Увеличение выборки(upsampling)</a></span><ul class=\"toc-item\"><li><span><a href=\"#Логистическая-регрессия\" data-toc-modified-id=\"Логистическая-регрессия-3.2.1\"><span class=\"toc-item-num\">3.2.1&nbsp;&nbsp;</span>Логистическая регрессия</a></span></li><li><span><a href=\"#Дерево-решений\" data-toc-modified-id=\"Дерево-решений-3.2.2\"><span class=\"toc-item-num\">3.2.2&nbsp;&nbsp;</span>Дерево решений</a></span></li><li><span><a href=\"#Случайный-лес\" data-toc-modified-id=\"Случайный-лес-3.2.3\"><span class=\"toc-item-num\">3.2.3&nbsp;&nbsp;</span>Случайный лес</a></span></li><li><span><a href=\"#Вывод-при-увеличении-выборки:\" data-toc-modified-id=\"Вывод-при-увеличении-выборки:-3.2.4\"><span class=\"toc-item-num\">3.2.4&nbsp;&nbsp;</span>Вывод при увеличении выборки:</a></span></li></ul></li><li><span><a href=\"#Уменьшение-выборки(downsampled)\" data-toc-modified-id=\"Уменьшение-выборки(downsampled)-3.3\"><span class=\"toc-item-num\">3.3&nbsp;&nbsp;</span>Уменьшение выборки(downsampled)</a></span><ul class=\"toc-item\"><li><span><a href=\"#Логистическая-регрессия\" data-toc-modified-id=\"Логистическая-регрессия-3.3.1\"><span class=\"toc-item-num\">3.3.1&nbsp;&nbsp;</span>Логистическая регрессия</a></span></li><li><span><a href=\"#Дерево-решений\" data-toc-modified-id=\"Дерево-решений-3.3.2\"><span class=\"toc-item-num\">3.3.2&nbsp;&nbsp;</span>Дерево решений</a></span></li><li><span><a href=\"#Случайный-лес\" data-toc-modified-id=\"Случайный-лес-3.3.3\"><span class=\"toc-item-num\">3.3.3&nbsp;&nbsp;</span>Случайный лес</a></span></li><li><span><a href=\"#Вывод-при-уменьшении-выборки:\" data-toc-modified-id=\"Вывод-при-уменьшении-выборки:-3.3.4\"><span class=\"toc-item-num\">3.3.4&nbsp;&nbsp;</span>Вывод при уменьшении выборки:</a></span></li></ul></li><li><span><a href=\"#Вывод\" data-toc-modified-id=\"Вывод-3.4\"><span class=\"toc-item-num\">3.4&nbsp;&nbsp;</span>Вывод</a></span></li></ul></li><li><span><a href=\"#Тестирование-модели\" data-toc-modified-id=\"Тестирование-модели-4\"><span class=\"toc-item-num\">4&nbsp;&nbsp;</span>Тестирование модели</a></span><ul class=\"toc-item\"><li><span><a href=\"#Вывод\" data-toc-modified-id=\"Вывод-4.1\"><span class=\"toc-item-num\">4.1&nbsp;&nbsp;</span>Вывод</a></span></li></ul></li><li><span><a href=\"#Чек-лист-готовности-проекта\" data-toc-modified-id=\"Чек-лист-готовности-проекта-5\"><span class=\"toc-item-num\">5&nbsp;&nbsp;</span>Чек-лист готовности проекта</a></span></li></ul></div>"
   ]
  },
  {
   "cell_type": "markdown",
   "metadata": {},
   "source": [
    "# Отток клиентов"
   ]
  },
  {
   "cell_type": "markdown",
   "metadata": {},
   "source": [
    "Из «Бета-Банка» стали уходить клиенты. Каждый месяц. Немного, но заметно. Банковские маркетологи посчитали: сохранять текущих клиентов дешевле, чем привлекать новых.\n",
    "\n",
    "Нужно спрогнозировать, уйдёт клиент из банка в ближайшее время или нет. Нам предоставлены исторические данные о поведении клиентов и расторжении договоров с банком. \n",
    "\n",
    "Построим модель с предельно большим значением *F1*-меры. Чтобы сдать проект успешно, нужно довести метрику до 0.59. Проверим *F1*-меру на тестовой выборке самостоятельно.\n",
    "\n",
    "Дополнительно измеряем *AUC-ROC*, сравнивая её значение с *F1*-мерой.\n",
    "\n",
    "Источник данных: [https://www.kaggle.com/barelydedicated/bank-customer-churn-modeling](https://www.kaggle.com/barelydedicated/bank-customer-churn-modeling)"
   ]
  },
  {
   "cell_type": "markdown",
   "metadata": {},
   "source": [
    "## Подготовка данных"
   ]
  },
  {
   "cell_type": "code",
   "execution_count": 19,
   "metadata": {},
   "outputs": [],
   "source": [
    "import pandas as pd\n",
    "import matplotlib.pyplot as plt\n",
    "import numpy as np\n",
    "import plotly.express as px\n",
    "import seaborn as sns\n",
    "import re\n",
    "\n",
    "import warnings\n",
    "warnings.filterwarnings('ignore')\n",
    "\n",
    "from sklearn.linear_model import LogisticRegression\n",
    "from sklearn.tree import DecisionTreeClassifier\n",
    "from sklearn.ensemble import RandomForestClassifier\n",
    "from sklearn.utils import shuffle\n",
    "\n",
    "\n",
    "from sklearn.metrics import (precision_recall_curve,\n",
    "                             accuracy_score,\n",
    "                             mean_absolute_error,\n",
    "                             confusion_matrix,\n",
    "                             recall_score,\n",
    "                             precision_score,\n",
    "                             f1_score,\n",
    "                             roc_auc_score,\n",
    "                             mean_squared_error)\n",
    "from sklearn.model_selection import train_test_split, GridSearchCV\n",
    "from sklearn.preprocessing import OrdinalEncoder, StandardScaler\n"
   ]
  },
  {
   "cell_type": "code",
   "execution_count": 20,
   "metadata": {},
   "outputs": [
    {
     "data": {
      "text/html": [
       "<div>\n",
       "<style scoped>\n",
       "    .dataframe tbody tr th:only-of-type {\n",
       "        vertical-align: middle;\n",
       "    }\n",
       "\n",
       "    .dataframe tbody tr th {\n",
       "        vertical-align: top;\n",
       "    }\n",
       "\n",
       "    .dataframe thead th {\n",
       "        text-align: right;\n",
       "    }\n",
       "</style>\n",
       "<table border=\"1\" class=\"dataframe\">\n",
       "  <thead>\n",
       "    <tr style=\"text-align: right;\">\n",
       "      <th></th>\n",
       "      <th>RowNumber</th>\n",
       "      <th>CustomerId</th>\n",
       "      <th>Surname</th>\n",
       "      <th>CreditScore</th>\n",
       "      <th>Geography</th>\n",
       "      <th>Gender</th>\n",
       "      <th>Age</th>\n",
       "      <th>Tenure</th>\n",
       "      <th>Balance</th>\n",
       "      <th>NumOfProducts</th>\n",
       "      <th>HasCrCard</th>\n",
       "      <th>IsActiveMember</th>\n",
       "      <th>EstimatedSalary</th>\n",
       "      <th>Exited</th>\n",
       "    </tr>\n",
       "  </thead>\n",
       "  <tbody>\n",
       "    <tr>\n",
       "      <th>0</th>\n",
       "      <td>1</td>\n",
       "      <td>15634602</td>\n",
       "      <td>Hargrave</td>\n",
       "      <td>619</td>\n",
       "      <td>France</td>\n",
       "      <td>Female</td>\n",
       "      <td>42</td>\n",
       "      <td>2.0</td>\n",
       "      <td>0.00</td>\n",
       "      <td>1</td>\n",
       "      <td>1</td>\n",
       "      <td>1</td>\n",
       "      <td>101348.88</td>\n",
       "      <td>1</td>\n",
       "    </tr>\n",
       "    <tr>\n",
       "      <th>1</th>\n",
       "      <td>2</td>\n",
       "      <td>15647311</td>\n",
       "      <td>Hill</td>\n",
       "      <td>608</td>\n",
       "      <td>Spain</td>\n",
       "      <td>Female</td>\n",
       "      <td>41</td>\n",
       "      <td>1.0</td>\n",
       "      <td>83807.86</td>\n",
       "      <td>1</td>\n",
       "      <td>0</td>\n",
       "      <td>1</td>\n",
       "      <td>112542.58</td>\n",
       "      <td>0</td>\n",
       "    </tr>\n",
       "    <tr>\n",
       "      <th>2</th>\n",
       "      <td>3</td>\n",
       "      <td>15619304</td>\n",
       "      <td>Onio</td>\n",
       "      <td>502</td>\n",
       "      <td>France</td>\n",
       "      <td>Female</td>\n",
       "      <td>42</td>\n",
       "      <td>8.0</td>\n",
       "      <td>159660.80</td>\n",
       "      <td>3</td>\n",
       "      <td>1</td>\n",
       "      <td>0</td>\n",
       "      <td>113931.57</td>\n",
       "      <td>1</td>\n",
       "    </tr>\n",
       "    <tr>\n",
       "      <th>3</th>\n",
       "      <td>4</td>\n",
       "      <td>15701354</td>\n",
       "      <td>Boni</td>\n",
       "      <td>699</td>\n",
       "      <td>France</td>\n",
       "      <td>Female</td>\n",
       "      <td>39</td>\n",
       "      <td>1.0</td>\n",
       "      <td>0.00</td>\n",
       "      <td>2</td>\n",
       "      <td>0</td>\n",
       "      <td>0</td>\n",
       "      <td>93826.63</td>\n",
       "      <td>0</td>\n",
       "    </tr>\n",
       "    <tr>\n",
       "      <th>4</th>\n",
       "      <td>5</td>\n",
       "      <td>15737888</td>\n",
       "      <td>Mitchell</td>\n",
       "      <td>850</td>\n",
       "      <td>Spain</td>\n",
       "      <td>Female</td>\n",
       "      <td>43</td>\n",
       "      <td>2.0</td>\n",
       "      <td>125510.82</td>\n",
       "      <td>1</td>\n",
       "      <td>1</td>\n",
       "      <td>1</td>\n",
       "      <td>79084.10</td>\n",
       "      <td>0</td>\n",
       "    </tr>\n",
       "    <tr>\n",
       "      <th>...</th>\n",
       "      <td>...</td>\n",
       "      <td>...</td>\n",
       "      <td>...</td>\n",
       "      <td>...</td>\n",
       "      <td>...</td>\n",
       "      <td>...</td>\n",
       "      <td>...</td>\n",
       "      <td>...</td>\n",
       "      <td>...</td>\n",
       "      <td>...</td>\n",
       "      <td>...</td>\n",
       "      <td>...</td>\n",
       "      <td>...</td>\n",
       "      <td>...</td>\n",
       "    </tr>\n",
       "    <tr>\n",
       "      <th>9995</th>\n",
       "      <td>9996</td>\n",
       "      <td>15606229</td>\n",
       "      <td>Obijiaku</td>\n",
       "      <td>771</td>\n",
       "      <td>France</td>\n",
       "      <td>Male</td>\n",
       "      <td>39</td>\n",
       "      <td>5.0</td>\n",
       "      <td>0.00</td>\n",
       "      <td>2</td>\n",
       "      <td>1</td>\n",
       "      <td>0</td>\n",
       "      <td>96270.64</td>\n",
       "      <td>0</td>\n",
       "    </tr>\n",
       "    <tr>\n",
       "      <th>9996</th>\n",
       "      <td>9997</td>\n",
       "      <td>15569892</td>\n",
       "      <td>Johnstone</td>\n",
       "      <td>516</td>\n",
       "      <td>France</td>\n",
       "      <td>Male</td>\n",
       "      <td>35</td>\n",
       "      <td>10.0</td>\n",
       "      <td>57369.61</td>\n",
       "      <td>1</td>\n",
       "      <td>1</td>\n",
       "      <td>1</td>\n",
       "      <td>101699.77</td>\n",
       "      <td>0</td>\n",
       "    </tr>\n",
       "    <tr>\n",
       "      <th>9997</th>\n",
       "      <td>9998</td>\n",
       "      <td>15584532</td>\n",
       "      <td>Liu</td>\n",
       "      <td>709</td>\n",
       "      <td>France</td>\n",
       "      <td>Female</td>\n",
       "      <td>36</td>\n",
       "      <td>7.0</td>\n",
       "      <td>0.00</td>\n",
       "      <td>1</td>\n",
       "      <td>0</td>\n",
       "      <td>1</td>\n",
       "      <td>42085.58</td>\n",
       "      <td>1</td>\n",
       "    </tr>\n",
       "    <tr>\n",
       "      <th>9998</th>\n",
       "      <td>9999</td>\n",
       "      <td>15682355</td>\n",
       "      <td>Sabbatini</td>\n",
       "      <td>772</td>\n",
       "      <td>Germany</td>\n",
       "      <td>Male</td>\n",
       "      <td>42</td>\n",
       "      <td>3.0</td>\n",
       "      <td>75075.31</td>\n",
       "      <td>2</td>\n",
       "      <td>1</td>\n",
       "      <td>0</td>\n",
       "      <td>92888.52</td>\n",
       "      <td>1</td>\n",
       "    </tr>\n",
       "    <tr>\n",
       "      <th>9999</th>\n",
       "      <td>10000</td>\n",
       "      <td>15628319</td>\n",
       "      <td>Walker</td>\n",
       "      <td>792</td>\n",
       "      <td>France</td>\n",
       "      <td>Female</td>\n",
       "      <td>28</td>\n",
       "      <td>NaN</td>\n",
       "      <td>130142.79</td>\n",
       "      <td>1</td>\n",
       "      <td>1</td>\n",
       "      <td>0</td>\n",
       "      <td>38190.78</td>\n",
       "      <td>0</td>\n",
       "    </tr>\n",
       "  </tbody>\n",
       "</table>\n",
       "<p>10000 rows × 14 columns</p>\n",
       "</div>"
      ],
      "text/plain": [
       "      RowNumber  CustomerId    Surname  CreditScore Geography  Gender  Age  \\\n",
       "0             1    15634602   Hargrave          619    France  Female   42   \n",
       "1             2    15647311       Hill          608     Spain  Female   41   \n",
       "2             3    15619304       Onio          502    France  Female   42   \n",
       "3             4    15701354       Boni          699    France  Female   39   \n",
       "4             5    15737888   Mitchell          850     Spain  Female   43   \n",
       "...         ...         ...        ...          ...       ...     ...  ...   \n",
       "9995       9996    15606229   Obijiaku          771    France    Male   39   \n",
       "9996       9997    15569892  Johnstone          516    France    Male   35   \n",
       "9997       9998    15584532        Liu          709    France  Female   36   \n",
       "9998       9999    15682355  Sabbatini          772   Germany    Male   42   \n",
       "9999      10000    15628319     Walker          792    France  Female   28   \n",
       "\n",
       "      Tenure    Balance  NumOfProducts  HasCrCard  IsActiveMember  \\\n",
       "0        2.0       0.00              1          1               1   \n",
       "1        1.0   83807.86              1          0               1   \n",
       "2        8.0  159660.80              3          1               0   \n",
       "3        1.0       0.00              2          0               0   \n",
       "4        2.0  125510.82              1          1               1   \n",
       "...      ...        ...            ...        ...             ...   \n",
       "9995     5.0       0.00              2          1               0   \n",
       "9996    10.0   57369.61              1          1               1   \n",
       "9997     7.0       0.00              1          0               1   \n",
       "9998     3.0   75075.31              2          1               0   \n",
       "9999     NaN  130142.79              1          1               0   \n",
       "\n",
       "      EstimatedSalary  Exited  \n",
       "0           101348.88       1  \n",
       "1           112542.58       0  \n",
       "2           113931.57       1  \n",
       "3            93826.63       0  \n",
       "4            79084.10       0  \n",
       "...               ...     ...  \n",
       "9995         96270.64       0  \n",
       "9996        101699.77       0  \n",
       "9997         42085.58       1  \n",
       "9998         92888.52       1  \n",
       "9999         38190.78       0  \n",
       "\n",
       "[10000 rows x 14 columns]"
      ]
     },
     "execution_count": 20,
     "metadata": {},
     "output_type": "execute_result"
    }
   ],
   "source": [
    "try:\n",
    "    data = pd.read_csv('/datasets/Churn.csv')\n",
    "except:\n",
    "    data = pd.read_csv('Churn.csv')\n",
    "data"
   ]
  },
  {
   "cell_type": "code",
   "execution_count": 21,
   "metadata": {
    "scrolled": true
   },
   "outputs": [
    {
     "data": {
      "text/plain": [
       "(10000, 14)"
      ]
     },
     "metadata": {},
     "output_type": "display_data"
    },
    {
     "name": "stdout",
     "output_type": "stream",
     "text": [
      "<class 'pandas.core.frame.DataFrame'>\n",
      "RangeIndex: 10000 entries, 0 to 9999\n",
      "Data columns (total 14 columns):\n",
      " #   Column           Non-Null Count  Dtype  \n",
      "---  ------           --------------  -----  \n",
      " 0   RowNumber        10000 non-null  int64  \n",
      " 1   CustomerId       10000 non-null  int64  \n",
      " 2   Surname          10000 non-null  object \n",
      " 3   CreditScore      10000 non-null  int64  \n",
      " 4   Geography        10000 non-null  object \n",
      " 5   Gender           10000 non-null  object \n",
      " 6   Age              10000 non-null  int64  \n",
      " 7   Tenure           9091 non-null   float64\n",
      " 8   Balance          10000 non-null  float64\n",
      " 9   NumOfProducts    10000 non-null  int64  \n",
      " 10  HasCrCard        10000 non-null  int64  \n",
      " 11  IsActiveMember   10000 non-null  int64  \n",
      " 12  EstimatedSalary  10000 non-null  float64\n",
      " 13  Exited           10000 non-null  int64  \n",
      "dtypes: float64(3), int64(8), object(3)\n",
      "memory usage: 1.1+ MB\n"
     ]
    },
    {
     "data": {
      "text/plain": [
       "None"
      ]
     },
     "metadata": {},
     "output_type": "display_data"
    },
    {
     "data": {
      "text/html": [
       "<div>\n",
       "<style scoped>\n",
       "    .dataframe tbody tr th:only-of-type {\n",
       "        vertical-align: middle;\n",
       "    }\n",
       "\n",
       "    .dataframe tbody tr th {\n",
       "        vertical-align: top;\n",
       "    }\n",
       "\n",
       "    .dataframe thead th {\n",
       "        text-align: right;\n",
       "    }\n",
       "</style>\n",
       "<table border=\"1\" class=\"dataframe\">\n",
       "  <thead>\n",
       "    <tr style=\"text-align: right;\">\n",
       "      <th></th>\n",
       "      <th>RowNumber</th>\n",
       "      <th>CustomerId</th>\n",
       "      <th>CreditScore</th>\n",
       "      <th>Age</th>\n",
       "      <th>Tenure</th>\n",
       "      <th>Balance</th>\n",
       "      <th>NumOfProducts</th>\n",
       "      <th>HasCrCard</th>\n",
       "      <th>IsActiveMember</th>\n",
       "      <th>EstimatedSalary</th>\n",
       "      <th>Exited</th>\n",
       "    </tr>\n",
       "  </thead>\n",
       "  <tbody>\n",
       "    <tr>\n",
       "      <th>count</th>\n",
       "      <td>10000.00000</td>\n",
       "      <td>1.000000e+04</td>\n",
       "      <td>10000.000000</td>\n",
       "      <td>10000.000000</td>\n",
       "      <td>9091.000000</td>\n",
       "      <td>10000.000000</td>\n",
       "      <td>10000.000000</td>\n",
       "      <td>10000.00000</td>\n",
       "      <td>10000.000000</td>\n",
       "      <td>10000.000000</td>\n",
       "      <td>10000.000000</td>\n",
       "    </tr>\n",
       "    <tr>\n",
       "      <th>mean</th>\n",
       "      <td>5000.50000</td>\n",
       "      <td>1.569094e+07</td>\n",
       "      <td>650.528800</td>\n",
       "      <td>38.921800</td>\n",
       "      <td>4.997690</td>\n",
       "      <td>76485.889288</td>\n",
       "      <td>1.530200</td>\n",
       "      <td>0.70550</td>\n",
       "      <td>0.515100</td>\n",
       "      <td>100090.239881</td>\n",
       "      <td>0.203700</td>\n",
       "    </tr>\n",
       "    <tr>\n",
       "      <th>std</th>\n",
       "      <td>2886.89568</td>\n",
       "      <td>7.193619e+04</td>\n",
       "      <td>96.653299</td>\n",
       "      <td>10.487806</td>\n",
       "      <td>2.894723</td>\n",
       "      <td>62397.405202</td>\n",
       "      <td>0.581654</td>\n",
       "      <td>0.45584</td>\n",
       "      <td>0.499797</td>\n",
       "      <td>57510.492818</td>\n",
       "      <td>0.402769</td>\n",
       "    </tr>\n",
       "    <tr>\n",
       "      <th>min</th>\n",
       "      <td>1.00000</td>\n",
       "      <td>1.556570e+07</td>\n",
       "      <td>350.000000</td>\n",
       "      <td>18.000000</td>\n",
       "      <td>0.000000</td>\n",
       "      <td>0.000000</td>\n",
       "      <td>1.000000</td>\n",
       "      <td>0.00000</td>\n",
       "      <td>0.000000</td>\n",
       "      <td>11.580000</td>\n",
       "      <td>0.000000</td>\n",
       "    </tr>\n",
       "    <tr>\n",
       "      <th>25%</th>\n",
       "      <td>2500.75000</td>\n",
       "      <td>1.562853e+07</td>\n",
       "      <td>584.000000</td>\n",
       "      <td>32.000000</td>\n",
       "      <td>2.000000</td>\n",
       "      <td>0.000000</td>\n",
       "      <td>1.000000</td>\n",
       "      <td>0.00000</td>\n",
       "      <td>0.000000</td>\n",
       "      <td>51002.110000</td>\n",
       "      <td>0.000000</td>\n",
       "    </tr>\n",
       "    <tr>\n",
       "      <th>50%</th>\n",
       "      <td>5000.50000</td>\n",
       "      <td>1.569074e+07</td>\n",
       "      <td>652.000000</td>\n",
       "      <td>37.000000</td>\n",
       "      <td>5.000000</td>\n",
       "      <td>97198.540000</td>\n",
       "      <td>1.000000</td>\n",
       "      <td>1.00000</td>\n",
       "      <td>1.000000</td>\n",
       "      <td>100193.915000</td>\n",
       "      <td>0.000000</td>\n",
       "    </tr>\n",
       "    <tr>\n",
       "      <th>75%</th>\n",
       "      <td>7500.25000</td>\n",
       "      <td>1.575323e+07</td>\n",
       "      <td>718.000000</td>\n",
       "      <td>44.000000</td>\n",
       "      <td>7.000000</td>\n",
       "      <td>127644.240000</td>\n",
       "      <td>2.000000</td>\n",
       "      <td>1.00000</td>\n",
       "      <td>1.000000</td>\n",
       "      <td>149388.247500</td>\n",
       "      <td>0.000000</td>\n",
       "    </tr>\n",
       "    <tr>\n",
       "      <th>max</th>\n",
       "      <td>10000.00000</td>\n",
       "      <td>1.581569e+07</td>\n",
       "      <td>850.000000</td>\n",
       "      <td>92.000000</td>\n",
       "      <td>10.000000</td>\n",
       "      <td>250898.090000</td>\n",
       "      <td>4.000000</td>\n",
       "      <td>1.00000</td>\n",
       "      <td>1.000000</td>\n",
       "      <td>199992.480000</td>\n",
       "      <td>1.000000</td>\n",
       "    </tr>\n",
       "  </tbody>\n",
       "</table>\n",
       "</div>"
      ],
      "text/plain": [
       "         RowNumber    CustomerId   CreditScore           Age       Tenure  \\\n",
       "count  10000.00000  1.000000e+04  10000.000000  10000.000000  9091.000000   \n",
       "mean    5000.50000  1.569094e+07    650.528800     38.921800     4.997690   \n",
       "std     2886.89568  7.193619e+04     96.653299     10.487806     2.894723   \n",
       "min        1.00000  1.556570e+07    350.000000     18.000000     0.000000   \n",
       "25%     2500.75000  1.562853e+07    584.000000     32.000000     2.000000   \n",
       "50%     5000.50000  1.569074e+07    652.000000     37.000000     5.000000   \n",
       "75%     7500.25000  1.575323e+07    718.000000     44.000000     7.000000   \n",
       "max    10000.00000  1.581569e+07    850.000000     92.000000    10.000000   \n",
       "\n",
       "             Balance  NumOfProducts    HasCrCard  IsActiveMember  \\\n",
       "count   10000.000000   10000.000000  10000.00000    10000.000000   \n",
       "mean    76485.889288       1.530200      0.70550        0.515100   \n",
       "std     62397.405202       0.581654      0.45584        0.499797   \n",
       "min         0.000000       1.000000      0.00000        0.000000   \n",
       "25%         0.000000       1.000000      0.00000        0.000000   \n",
       "50%     97198.540000       1.000000      1.00000        1.000000   \n",
       "75%    127644.240000       2.000000      1.00000        1.000000   \n",
       "max    250898.090000       4.000000      1.00000        1.000000   \n",
       "\n",
       "       EstimatedSalary        Exited  \n",
       "count     10000.000000  10000.000000  \n",
       "mean     100090.239881      0.203700  \n",
       "std       57510.492818      0.402769  \n",
       "min          11.580000      0.000000  \n",
       "25%       51002.110000      0.000000  \n",
       "50%      100193.915000      0.000000  \n",
       "75%      149388.247500      0.000000  \n",
       "max      199992.480000      1.000000  "
      ]
     },
     "metadata": {},
     "output_type": "display_data"
    }
   ],
   "source": [
    "display(data.shape)\n",
    "display(data.info())\n",
    "display(data.describe())"
   ]
  },
  {
   "cell_type": "code",
   "execution_count": 22,
   "metadata": {},
   "outputs": [
    {
     "data": {
      "text/plain": [
       "0"
      ]
     },
     "execution_count": 22,
     "metadata": {},
     "output_type": "execute_result"
    }
   ],
   "source": [
    "data.duplicated().sum()"
   ]
  },
  {
   "cell_type": "markdown",
   "metadata": {},
   "source": [
    "Признаки:\n",
    "\n",
    "* `RowNumber` — индекс строки в данных\n",
    "* `CustomerId` — уникальный идентификатор клиента\n",
    "* `Surname` — фамилия\n",
    "* `CreditScore` — кредитный рейтинг\n",
    "* `Geography` — страна проживания\n",
    "* `Gender` — пол\n",
    "* `Age` — возраст\n",
    "* `Tenure` — сколько лет человек является клиентом банка\n",
    "* `Balance` — баланс на счёте\n",
    "* `NumOfProducts` — количество продуктов банка, используемых клиентом\n",
    "* `HasCrCard` — наличие кредитной карты\n",
    "* `IsActiveMember` — активность клиента\n",
    "* `EstimatedSalary` — предполагаемая зарплата\n",
    "\n",
    "Целевой признак:\n",
    "\n",
    "* `Exited` — факт ухода клиента"
   ]
  },
  {
   "cell_type": "code",
   "execution_count": 23,
   "metadata": {
    "scrolled": true
   },
   "outputs": [
    {
     "data": {
      "text/html": [
       "<div>\n",
       "<style scoped>\n",
       "    .dataframe tbody tr th:only-of-type {\n",
       "        vertical-align: middle;\n",
       "    }\n",
       "\n",
       "    .dataframe tbody tr th {\n",
       "        vertical-align: top;\n",
       "    }\n",
       "\n",
       "    .dataframe thead th {\n",
       "        text-align: right;\n",
       "    }\n",
       "</style>\n",
       "<table border=\"1\" class=\"dataframe\">\n",
       "  <thead>\n",
       "    <tr style=\"text-align: right;\">\n",
       "      <th></th>\n",
       "      <th>row_number</th>\n",
       "      <th>customer_id</th>\n",
       "      <th>surname</th>\n",
       "      <th>credit_score</th>\n",
       "      <th>geography</th>\n",
       "      <th>gender</th>\n",
       "      <th>age</th>\n",
       "      <th>tenure</th>\n",
       "      <th>balance</th>\n",
       "      <th>num_of_products</th>\n",
       "      <th>has_cr_card</th>\n",
       "      <th>is_active_member</th>\n",
       "      <th>estimated_salary</th>\n",
       "      <th>exited</th>\n",
       "    </tr>\n",
       "  </thead>\n",
       "  <tbody>\n",
       "    <tr>\n",
       "      <th>0</th>\n",
       "      <td>1</td>\n",
       "      <td>15634602</td>\n",
       "      <td>Hargrave</td>\n",
       "      <td>619</td>\n",
       "      <td>France</td>\n",
       "      <td>Female</td>\n",
       "      <td>42</td>\n",
       "      <td>2.0</td>\n",
       "      <td>0.00</td>\n",
       "      <td>1</td>\n",
       "      <td>1</td>\n",
       "      <td>1</td>\n",
       "      <td>101348.88</td>\n",
       "      <td>1</td>\n",
       "    </tr>\n",
       "    <tr>\n",
       "      <th>1</th>\n",
       "      <td>2</td>\n",
       "      <td>15647311</td>\n",
       "      <td>Hill</td>\n",
       "      <td>608</td>\n",
       "      <td>Spain</td>\n",
       "      <td>Female</td>\n",
       "      <td>41</td>\n",
       "      <td>1.0</td>\n",
       "      <td>83807.86</td>\n",
       "      <td>1</td>\n",
       "      <td>0</td>\n",
       "      <td>1</td>\n",
       "      <td>112542.58</td>\n",
       "      <td>0</td>\n",
       "    </tr>\n",
       "    <tr>\n",
       "      <th>2</th>\n",
       "      <td>3</td>\n",
       "      <td>15619304</td>\n",
       "      <td>Onio</td>\n",
       "      <td>502</td>\n",
       "      <td>France</td>\n",
       "      <td>Female</td>\n",
       "      <td>42</td>\n",
       "      <td>8.0</td>\n",
       "      <td>159660.80</td>\n",
       "      <td>3</td>\n",
       "      <td>1</td>\n",
       "      <td>0</td>\n",
       "      <td>113931.57</td>\n",
       "      <td>1</td>\n",
       "    </tr>\n",
       "    <tr>\n",
       "      <th>3</th>\n",
       "      <td>4</td>\n",
       "      <td>15701354</td>\n",
       "      <td>Boni</td>\n",
       "      <td>699</td>\n",
       "      <td>France</td>\n",
       "      <td>Female</td>\n",
       "      <td>39</td>\n",
       "      <td>1.0</td>\n",
       "      <td>0.00</td>\n",
       "      <td>2</td>\n",
       "      <td>0</td>\n",
       "      <td>0</td>\n",
       "      <td>93826.63</td>\n",
       "      <td>0</td>\n",
       "    </tr>\n",
       "    <tr>\n",
       "      <th>4</th>\n",
       "      <td>5</td>\n",
       "      <td>15737888</td>\n",
       "      <td>Mitchell</td>\n",
       "      <td>850</td>\n",
       "      <td>Spain</td>\n",
       "      <td>Female</td>\n",
       "      <td>43</td>\n",
       "      <td>2.0</td>\n",
       "      <td>125510.82</td>\n",
       "      <td>1</td>\n",
       "      <td>1</td>\n",
       "      <td>1</td>\n",
       "      <td>79084.10</td>\n",
       "      <td>0</td>\n",
       "    </tr>\n",
       "    <tr>\n",
       "      <th>...</th>\n",
       "      <td>...</td>\n",
       "      <td>...</td>\n",
       "      <td>...</td>\n",
       "      <td>...</td>\n",
       "      <td>...</td>\n",
       "      <td>...</td>\n",
       "      <td>...</td>\n",
       "      <td>...</td>\n",
       "      <td>...</td>\n",
       "      <td>...</td>\n",
       "      <td>...</td>\n",
       "      <td>...</td>\n",
       "      <td>...</td>\n",
       "      <td>...</td>\n",
       "    </tr>\n",
       "    <tr>\n",
       "      <th>9995</th>\n",
       "      <td>9996</td>\n",
       "      <td>15606229</td>\n",
       "      <td>Obijiaku</td>\n",
       "      <td>771</td>\n",
       "      <td>France</td>\n",
       "      <td>Male</td>\n",
       "      <td>39</td>\n",
       "      <td>5.0</td>\n",
       "      <td>0.00</td>\n",
       "      <td>2</td>\n",
       "      <td>1</td>\n",
       "      <td>0</td>\n",
       "      <td>96270.64</td>\n",
       "      <td>0</td>\n",
       "    </tr>\n",
       "    <tr>\n",
       "      <th>9996</th>\n",
       "      <td>9997</td>\n",
       "      <td>15569892</td>\n",
       "      <td>Johnstone</td>\n",
       "      <td>516</td>\n",
       "      <td>France</td>\n",
       "      <td>Male</td>\n",
       "      <td>35</td>\n",
       "      <td>10.0</td>\n",
       "      <td>57369.61</td>\n",
       "      <td>1</td>\n",
       "      <td>1</td>\n",
       "      <td>1</td>\n",
       "      <td>101699.77</td>\n",
       "      <td>0</td>\n",
       "    </tr>\n",
       "    <tr>\n",
       "      <th>9997</th>\n",
       "      <td>9998</td>\n",
       "      <td>15584532</td>\n",
       "      <td>Liu</td>\n",
       "      <td>709</td>\n",
       "      <td>France</td>\n",
       "      <td>Female</td>\n",
       "      <td>36</td>\n",
       "      <td>7.0</td>\n",
       "      <td>0.00</td>\n",
       "      <td>1</td>\n",
       "      <td>0</td>\n",
       "      <td>1</td>\n",
       "      <td>42085.58</td>\n",
       "      <td>1</td>\n",
       "    </tr>\n",
       "    <tr>\n",
       "      <th>9998</th>\n",
       "      <td>9999</td>\n",
       "      <td>15682355</td>\n",
       "      <td>Sabbatini</td>\n",
       "      <td>772</td>\n",
       "      <td>Germany</td>\n",
       "      <td>Male</td>\n",
       "      <td>42</td>\n",
       "      <td>3.0</td>\n",
       "      <td>75075.31</td>\n",
       "      <td>2</td>\n",
       "      <td>1</td>\n",
       "      <td>0</td>\n",
       "      <td>92888.52</td>\n",
       "      <td>1</td>\n",
       "    </tr>\n",
       "    <tr>\n",
       "      <th>9999</th>\n",
       "      <td>10000</td>\n",
       "      <td>15628319</td>\n",
       "      <td>Walker</td>\n",
       "      <td>792</td>\n",
       "      <td>France</td>\n",
       "      <td>Female</td>\n",
       "      <td>28</td>\n",
       "      <td>NaN</td>\n",
       "      <td>130142.79</td>\n",
       "      <td>1</td>\n",
       "      <td>1</td>\n",
       "      <td>0</td>\n",
       "      <td>38190.78</td>\n",
       "      <td>0</td>\n",
       "    </tr>\n",
       "  </tbody>\n",
       "</table>\n",
       "<p>10000 rows × 14 columns</p>\n",
       "</div>"
      ],
      "text/plain": [
       "      row_number  customer_id    surname  credit_score geography  gender  age  \\\n",
       "0              1     15634602   Hargrave           619    France  Female   42   \n",
       "1              2     15647311       Hill           608     Spain  Female   41   \n",
       "2              3     15619304       Onio           502    France  Female   42   \n",
       "3              4     15701354       Boni           699    France  Female   39   \n",
       "4              5     15737888   Mitchell           850     Spain  Female   43   \n",
       "...          ...          ...        ...           ...       ...     ...  ...   \n",
       "9995        9996     15606229   Obijiaku           771    France    Male   39   \n",
       "9996        9997     15569892  Johnstone           516    France    Male   35   \n",
       "9997        9998     15584532        Liu           709    France  Female   36   \n",
       "9998        9999     15682355  Sabbatini           772   Germany    Male   42   \n",
       "9999       10000     15628319     Walker           792    France  Female   28   \n",
       "\n",
       "      tenure    balance  num_of_products  has_cr_card  is_active_member  \\\n",
       "0        2.0       0.00                1            1                 1   \n",
       "1        1.0   83807.86                1            0                 1   \n",
       "2        8.0  159660.80                3            1                 0   \n",
       "3        1.0       0.00                2            0                 0   \n",
       "4        2.0  125510.82                1            1                 1   \n",
       "...      ...        ...              ...          ...               ...   \n",
       "9995     5.0       0.00                2            1                 0   \n",
       "9996    10.0   57369.61                1            1                 1   \n",
       "9997     7.0       0.00                1            0                 1   \n",
       "9998     3.0   75075.31                2            1                 0   \n",
       "9999     NaN  130142.79                1            1                 0   \n",
       "\n",
       "      estimated_salary  exited  \n",
       "0            101348.88       1  \n",
       "1            112542.58       0  \n",
       "2            113931.57       1  \n",
       "3             93826.63       0  \n",
       "4             79084.10       0  \n",
       "...                ...     ...  \n",
       "9995          96270.64       0  \n",
       "9996         101699.77       0  \n",
       "9997          42085.58       1  \n",
       "9998          92888.52       1  \n",
       "9999          38190.78       0  \n",
       "\n",
       "[10000 rows x 14 columns]"
      ]
     },
     "execution_count": 23,
     "metadata": {},
     "output_type": "execute_result"
    }
   ],
   "source": [
    "data.columns = [re.sub(r'(?<!^)(?=[A-Z])', '_', name).lower() for name in data.columns]\n",
    "data"
   ]
  },
  {
   "cell_type": "code",
   "execution_count": 24,
   "metadata": {
    "scrolled": true
   },
   "outputs": [
    {
     "name": "stdout",
     "output_type": "stream",
     "text": [
      "<class 'pandas.core.frame.DataFrame'>\n",
      "RangeIndex: 10000 entries, 0 to 9999\n",
      "Data columns (total 14 columns):\n",
      " #   Column            Non-Null Count  Dtype  \n",
      "---  ------            --------------  -----  \n",
      " 0   row_number        10000 non-null  int64  \n",
      " 1   customer_id       10000 non-null  int64  \n",
      " 2   surname           10000 non-null  object \n",
      " 3   credit_score      10000 non-null  int64  \n",
      " 4   geography         10000 non-null  object \n",
      " 5   gender            10000 non-null  object \n",
      " 6   age               10000 non-null  int64  \n",
      " 7   tenure            9091 non-null   Int64  \n",
      " 8   balance           10000 non-null  float64\n",
      " 9   num_of_products   10000 non-null  int64  \n",
      " 10  has_cr_card       10000 non-null  int64  \n",
      " 11  is_active_member  10000 non-null  int64  \n",
      " 12  estimated_salary  10000 non-null  float64\n",
      " 13  exited            10000 non-null  int64  \n",
      "dtypes: Int64(1), float64(2), int64(8), object(3)\n",
      "memory usage: 1.1+ MB\n"
     ]
    }
   ],
   "source": [
    "data['tenure']= data['tenure'].astype('Int64')\n",
    "data.info()"
   ]
  },
  {
   "cell_type": "code",
   "execution_count": 25,
   "metadata": {
    "scrolled": true
   },
   "outputs": [
    {
     "data": {
      "image/png": "[encoded data removed]",
      "text/plain": [
       "<Figure size 432x288 with 2 Axes>"
      ]
     },
     "metadata": {
      "needs_background": "light"
     },
     "output_type": "display_data"
    }
   ],
   "source": [
    "corr = data.corr()\n",
    "ax = sns.heatmap(\n",
    "    corr, \n",
    "    vmin=-1, vmax=1, center=0,\n",
    "    cmap=sns.diverging_palette(20, 220, n=200),\n",
    "    square=True\n",
    ")\n",
    "ax.set_xticklabels(\n",
    "    ax.get_xticklabels(),\n",
    "    rotation=45,\n",
    "    horizontalalignment='right'\n",
    ")\n",
    "plt.show()\n"
   ]
  },
  {
   "cell_type": "code",
   "execution_count": 26,
   "metadata": {
    "scrolled": true
   },
   "outputs": [
    {
     "data": {
      "text/plain": [
       "row_number          0\n",
       "customer_id         0\n",
       "surname             0\n",
       "credit_score        0\n",
       "geography           0\n",
       "gender              0\n",
       "age                 0\n",
       "tenure              0\n",
       "balance             0\n",
       "num_of_products     0\n",
       "has_cr_card         0\n",
       "is_active_member    0\n",
       "estimated_salary    0\n",
       "exited              0\n",
       "dtype: int64"
      ]
     },
     "execution_count": 26,
     "metadata": {},
     "output_type": "execute_result"
    }
   ],
   "source": [
    "data['tenure']= data['tenure'].fillna(data['tenure'].median())\n",
    "data.isna().sum()"
   ]
  },
  {
   "cell_type": "markdown",
   "metadata": {},
   "source": [
    "### Вывод"
   ]
  },
  {
   "cell_type": "markdown",
   "metadata": {},
   "source": [
    "При рассмотрении данных мы не нашли анамалий и дубликатов, пропуски есть только в стобце `Tenure` и они состовляют около 10%, к тому же этот столбец имеет очень маленькую корреляцию со всеми столбцами, поэтому заменить их медианой - приемлимое решение\n",
    "\n",
    "Также, заменили тип данных в столбце `Tenure` для того чтоб данные занимали меньше места\n",
    "\n",
    "Данные пдготовлены к изучению"
   ]
  },
  {
   "cell_type": "code",
   "execution_count": 27,
   "metadata": {},
   "outputs": [
    {
     "data": {
      "text/plain": [
       "row_number          0\n",
       "customer_id         0\n",
       "surname             0\n",
       "credit_score        0\n",
       "geography           0\n",
       "gender              0\n",
       "age                 0\n",
       "tenure              0\n",
       "balance             0\n",
       "num_of_products     0\n",
       "has_cr_card         0\n",
       "is_active_member    0\n",
       "estimated_salary    0\n",
       "exited              0\n",
       "dtype: int64"
      ]
     },
     "execution_count": 27,
     "metadata": {},
     "output_type": "execute_result"
    }
   ],
   "source": [
    "data.isna().sum()"
   ]
  },
  {
   "cell_type": "markdown",
   "metadata": {},
   "source": [
    "## Исследование задачи"
   ]
  },
  {
   "cell_type": "code",
   "execution_count": 28,
   "metadata": {},
   "outputs": [],
   "source": [
    "data = data.drop(['surname', 'row_number', 'customer_id'], axis=1)\n"
   ]
  },
  {
   "cell_type": "code",
   "execution_count": 11,
   "metadata": {
    "scrolled": false
   },
   "outputs": [
    {
     "data": {
      "text/html": [
       "<div>\n",
       "<style scoped>\n",
       "    .dataframe tbody tr th:only-of-type {\n",
       "        vertical-align: middle;\n",
       "    }\n",
       "\n",
       "    .dataframe tbody tr th {\n",
       "        vertical-align: top;\n",
       "    }\n",
       "\n",
       "    .dataframe thead th {\n",
       "        text-align: right;\n",
       "    }\n",
       "</style>\n",
       "<table border=\"1\" class=\"dataframe\">\n",
       "  <thead>\n",
       "    <tr style=\"text-align: right;\">\n",
       "      <th></th>\n",
       "      <th>credit_score</th>\n",
       "      <th>age</th>\n",
       "      <th>tenure</th>\n",
       "      <th>balance</th>\n",
       "      <th>estimated_salary</th>\n",
       "      <th>exited</th>\n",
       "      <th>geography_Germany</th>\n",
       "      <th>geography_Spain</th>\n",
       "      <th>has_cr_card_1</th>\n",
       "      <th>num_of_products_2</th>\n",
       "      <th>num_of_products_3</th>\n",
       "      <th>num_of_products_4</th>\n",
       "      <th>is_active_member_1</th>\n",
       "      <th>gender_Male</th>\n",
       "    </tr>\n",
       "  </thead>\n",
       "  <tbody>\n",
       "    <tr>\n",
       "      <th>0</th>\n",
       "      <td>619</td>\n",
       "      <td>42</td>\n",
       "      <td>2</td>\n",
       "      <td>0.00</td>\n",
       "      <td>101348.88</td>\n",
       "      <td>1</td>\n",
       "      <td>0</td>\n",
       "      <td>0</td>\n",
       "      <td>1</td>\n",
       "      <td>0</td>\n",
       "      <td>0</td>\n",
       "      <td>0</td>\n",
       "      <td>1</td>\n",
       "      <td>0</td>\n",
       "    </tr>\n",
       "    <tr>\n",
       "      <th>1</th>\n",
       "      <td>608</td>\n",
       "      <td>41</td>\n",
       "      <td>1</td>\n",
       "      <td>83807.86</td>\n",
       "      <td>112542.58</td>\n",
       "      <td>0</td>\n",
       "      <td>0</td>\n",
       "      <td>1</td>\n",
       "      <td>0</td>\n",
       "      <td>0</td>\n",
       "      <td>0</td>\n",
       "      <td>0</td>\n",
       "      <td>1</td>\n",
       "      <td>0</td>\n",
       "    </tr>\n",
       "    <tr>\n",
       "      <th>2</th>\n",
       "      <td>502</td>\n",
       "      <td>42</td>\n",
       "      <td>8</td>\n",
       "      <td>159660.80</td>\n",
       "      <td>113931.57</td>\n",
       "      <td>1</td>\n",
       "      <td>0</td>\n",
       "      <td>0</td>\n",
       "      <td>1</td>\n",
       "      <td>0</td>\n",
       "      <td>1</td>\n",
       "      <td>0</td>\n",
       "      <td>0</td>\n",
       "      <td>0</td>\n",
       "    </tr>\n",
       "    <tr>\n",
       "      <th>3</th>\n",
       "      <td>699</td>\n",
       "      <td>39</td>\n",
       "      <td>1</td>\n",
       "      <td>0.00</td>\n",
       "      <td>93826.63</td>\n",
       "      <td>0</td>\n",
       "      <td>0</td>\n",
       "      <td>0</td>\n",
       "      <td>0</td>\n",
       "      <td>1</td>\n",
       "      <td>0</td>\n",
       "      <td>0</td>\n",
       "      <td>0</td>\n",
       "      <td>0</td>\n",
       "    </tr>\n",
       "    <tr>\n",
       "      <th>4</th>\n",
       "      <td>850</td>\n",
       "      <td>43</td>\n",
       "      <td>2</td>\n",
       "      <td>125510.82</td>\n",
       "      <td>79084.10</td>\n",
       "      <td>0</td>\n",
       "      <td>0</td>\n",
       "      <td>1</td>\n",
       "      <td>1</td>\n",
       "      <td>0</td>\n",
       "      <td>0</td>\n",
       "      <td>0</td>\n",
       "      <td>1</td>\n",
       "      <td>0</td>\n",
       "    </tr>\n",
       "    <tr>\n",
       "      <th>...</th>\n",
       "      <td>...</td>\n",
       "      <td>...</td>\n",
       "      <td>...</td>\n",
       "      <td>...</td>\n",
       "      <td>...</td>\n",
       "      <td>...</td>\n",
       "      <td>...</td>\n",
       "      <td>...</td>\n",
       "      <td>...</td>\n",
       "      <td>...</td>\n",
       "      <td>...</td>\n",
       "      <td>...</td>\n",
       "      <td>...</td>\n",
       "      <td>...</td>\n",
       "    </tr>\n",
       "    <tr>\n",
       "      <th>9995</th>\n",
       "      <td>771</td>\n",
       "      <td>39</td>\n",
       "      <td>5</td>\n",
       "      <td>0.00</td>\n",
       "      <td>96270.64</td>\n",
       "      <td>0</td>\n",
       "      <td>0</td>\n",
       "      <td>0</td>\n",
       "      <td>1</td>\n",
       "      <td>1</td>\n",
       "      <td>0</td>\n",
       "      <td>0</td>\n",
       "      <td>0</td>\n",
       "      <td>1</td>\n",
       "    </tr>\n",
       "    <tr>\n",
       "      <th>9996</th>\n",
       "      <td>516</td>\n",
       "      <td>35</td>\n",
       "      <td>10</td>\n",
       "      <td>57369.61</td>\n",
       "      <td>101699.77</td>\n",
       "      <td>0</td>\n",
       "      <td>0</td>\n",
       "      <td>0</td>\n",
       "      <td>1</td>\n",
       "      <td>0</td>\n",
       "      <td>0</td>\n",
       "      <td>0</td>\n",
       "      <td>1</td>\n",
       "      <td>1</td>\n",
       "    </tr>\n",
       "    <tr>\n",
       "      <th>9997</th>\n",
       "      <td>709</td>\n",
       "      <td>36</td>\n",
       "      <td>7</td>\n",
       "      <td>0.00</td>\n",
       "      <td>42085.58</td>\n",
       "      <td>1</td>\n",
       "      <td>0</td>\n",
       "      <td>0</td>\n",
       "      <td>0</td>\n",
       "      <td>0</td>\n",
       "      <td>0</td>\n",
       "      <td>0</td>\n",
       "      <td>1</td>\n",
       "      <td>0</td>\n",
       "    </tr>\n",
       "    <tr>\n",
       "      <th>9998</th>\n",
       "      <td>772</td>\n",
       "      <td>42</td>\n",
       "      <td>3</td>\n",
       "      <td>75075.31</td>\n",
       "      <td>92888.52</td>\n",
       "      <td>1</td>\n",
       "      <td>1</td>\n",
       "      <td>0</td>\n",
       "      <td>1</td>\n",
       "      <td>1</td>\n",
       "      <td>0</td>\n",
       "      <td>0</td>\n",
       "      <td>0</td>\n",
       "      <td>1</td>\n",
       "    </tr>\n",
       "    <tr>\n",
       "      <th>9999</th>\n",
       "      <td>792</td>\n",
       "      <td>28</td>\n",
       "      <td>5</td>\n",
       "      <td>130142.79</td>\n",
       "      <td>38190.78</td>\n",
       "      <td>0</td>\n",
       "      <td>0</td>\n",
       "      <td>0</td>\n",
       "      <td>1</td>\n",
       "      <td>0</td>\n",
       "      <td>0</td>\n",
       "      <td>0</td>\n",
       "      <td>0</td>\n",
       "      <td>0</td>\n",
       "    </tr>\n",
       "  </tbody>\n",
       "</table>\n",
       "<p>10000 rows × 14 columns</p>\n",
       "</div>"
      ],
      "text/plain": [
       "      credit_score  age  tenure    balance  estimated_salary  exited  \\\n",
       "0              619   42       2       0.00         101348.88       1   \n",
       "1              608   41       1   83807.86         112542.58       0   \n",
       "2              502   42       8  159660.80         113931.57       1   \n",
       "3              699   39       1       0.00          93826.63       0   \n",
       "4              850   43       2  125510.82          79084.10       0   \n",
       "...            ...  ...     ...        ...               ...     ...   \n",
       "9995           771   39       5       0.00          96270.64       0   \n",
       "9996           516   35      10   57369.61         101699.77       0   \n",
       "9997           709   36       7       0.00          42085.58       1   \n",
       "9998           772   42       3   75075.31          92888.52       1   \n",
       "9999           792   28       5  130142.79          38190.78       0   \n",
       "\n",
       "      geography_Germany  geography_Spain  has_cr_card_1  num_of_products_2  \\\n",
       "0                     0                0              1                  0   \n",
       "1                     0                1              0                  0   \n",
       "2                     0                0              1                  0   \n",
       "3                     0                0              0                  1   \n",
       "4                     0                1              1                  0   \n",
       "...                 ...              ...            ...                ...   \n",
       "9995                  0                0              1                  1   \n",
       "9996                  0                0              1                  0   \n",
       "9997                  0                0              0                  0   \n",
       "9998                  1                0              1                  1   \n",
       "9999                  0                0              1                  0   \n",
       "\n",
       "      num_of_products_3  num_of_products_4  is_active_member_1  gender_Male  \n",
       "0                     0                  0                   1            0  \n",
       "1                     0                  0                   1            0  \n",
       "2                     1                  0                   0            0  \n",
       "3                     0                  0                   0            0  \n",
       "4                     0                  0                   1            0  \n",
       "...                 ...                ...                 ...          ...  \n",
       "9995                  0                  0                   0            1  \n",
       "9996                  0                  0                   1            1  \n",
       "9997                  0                  0                   1            0  \n",
       "9998                  0                  0                   0            1  \n",
       "9999                  0                  0                   0            0  \n",
       "\n",
       "[10000 rows x 14 columns]"
      ]
     },
     "execution_count": 11,
     "metadata": {},
     "output_type": "execute_result"
    }
   ],
   "source": [
    "# избегаем дами-ловушку\n",
    "data_ohe=pd.get_dummies(data, columns=['geography', 'has_cr_card', 'num_of_products', 'is_active_member', 'gender'], drop_first=True)\n",
    "data_ohe"
   ]
  },
  {
   "cell_type": "code",
   "execution_count": 12,
   "metadata": {},
   "outputs": [
    {
     "data": {
      "text/plain": [
       "(6000,)"
      ]
     },
     "metadata": {},
     "output_type": "display_data"
    },
    {
     "data": {
      "text/plain": [
       "1196"
      ]
     },
     "metadata": {},
     "output_type": "display_data"
    },
    {
     "data": {
      "text/plain": [
       "(2000,)"
      ]
     },
     "metadata": {},
     "output_type": "display_data"
    },
    {
     "data": {
      "text/plain": [
       "418"
      ]
     },
     "metadata": {},
     "output_type": "display_data"
    },
    {
     "data": {
      "text/plain": [
       "(2000,)"
      ]
     },
     "metadata": {},
     "output_type": "display_data"
    },
    {
     "data": {
      "text/plain": [
       "423"
      ]
     },
     "metadata": {},
     "output_type": "display_data"
    }
   ],
   "source": [
    "features = data_ohe.drop(['exited'], axis=1)\n",
    "target = data_ohe['exited']\n",
    "# так как мы не имеем отдельной тестовой выборки - разделяем эту на 3 в соотношении 60х20х20 %\n",
    "\n",
    "#обучающая\n",
    "features_train, features_x, target_train, target_x = train_test_split(\n",
    "    features, target, test_size=0.40, random_state=12345)\n",
    "\n",
    "# валидационная & тестовая \n",
    "features_test, features_valid, target_test, target_valid = train_test_split(\n",
    "    features_x, target_x, test_size=0.50, random_state=12345)\n",
    "\n",
    "display(target_train.shape) #обучающая\n",
    "display(target_train[target_train==1].sum()) #обучающая\n",
    "\n",
    "display(target_test.shape) #тестовая\n",
    "display(target_test[target_test==1].sum()) #тестовая\n",
    "\n",
    "display(target_valid.shape) #валидационная  \n",
    "display(target_valid[target_valid==1].sum()) #валидационная  "
   ]
  },
  {
   "cell_type": "code",
   "execution_count": 13,
   "metadata": {
    "scrolled": false
   },
   "outputs": [
    {
     "name": "stdout",
     "output_type": "stream",
     "text": [
      "0    0.7963\n",
      "1    0.2037\n",
      "Name: exited, dtype: float64\n"
     ]
    },
    {
     "data": {
      "text/plain": [
       "<AxesSubplot:>"
      ]
     },
     "execution_count": 13,
     "metadata": {},
     "output_type": "execute_result"
    },
    {
     "data": {
      "image/png": "[encoded data removed]",
      "text/plain": [
       "<Figure size 432x288 with 1 Axes>"
      ]
     },
     "metadata": {
      "needs_background": "light"
     },
     "output_type": "display_data"
    }
   ],
   "source": [
    "class_frequency = data['exited'].value_counts(normalize=True) #Проверка адекватности модели\n",
    "\n",
    "print(class_frequency)\n",
    "class_frequency.plot(kind='bar') \n"
   ]
  },
  {
   "cell_type": "markdown",
   "metadata": {},
   "source": [
    "### Изучение моделей до устранения дисбаланса"
   ]
  },
  {
   "cell_type": "markdown",
   "metadata": {},
   "source": [
    "#### Логистическая регрессия "
   ]
  },
  {
   "cell_type": "code",
   "execution_count": 14,
   "metadata": {
    "scrolled": true
   },
   "outputs": [
    {
     "data": {
      "image/png": "[encoded data removed]",
      "text/plain": [
       "<Figure size 432x432 with 1 Axes>"
      ]
     },
     "metadata": {
      "needs_background": "light"
     },
     "output_type": "display_data"
    },
    {
     "name": "stdout",
     "output_type": "stream",
     "text": [
      "f1: 0.13737373737373737\n",
      "auc_roc: 0.641937664806295\n"
     ]
    }
   ],
   "source": [
    "model = LogisticRegression(random_state=12345)\n",
    "model.fit(features_train, target_train)\n",
    "\n",
    "predictions_valid = model.predict(features_valid)\n",
    "accuracy= accuracy_score(target_valid, predictions_valid)\n",
    "\n",
    "probabilities_valid = model.predict_proba(features_valid)\n",
    "precision, recall, thresholds = precision_recall_curve(target_valid, probabilities_valid[:, 1])\n",
    "\n",
    "plt.figure(figsize=(6, 6))\n",
    "plt.step(recall, precision, where='post')\n",
    "plt.xlabel('Recall')\n",
    "plt.ylabel('Precision')\n",
    "plt.ylim([0.0, 1.05])\n",
    "plt.xlim([0.0, 1.0])\n",
    "plt.title('Кривая Precision-Recall')\n",
    "plt.show()\n",
    "\n",
    "print('f1:', f1_score(target_valid, predictions_valid))\n",
    "probabilities_one_valid = probabilities_valid[:, 1]\n",
    "auc_roc = roc_auc_score(target_valid, probabilities_one_valid)\n",
    "print('auc_roc:', auc_roc)"
   ]
  },
  {
   "cell_type": "markdown",
   "metadata": {},
   "source": [
    "#### Дерево решений"
   ]
  },
  {
   "cell_type": "code",
   "execution_count": 15,
   "metadata": {
    "scrolled": true
   },
   "outputs": [
    {
     "data": {
      "image/png": "[encoded data removed]",
      "text/plain": [
       "<Figure size 432x432 with 1 Axes>"
      ]
     },
     "metadata": {
      "needs_background": "light"
     },
     "output_type": "display_data"
    },
    {
     "name": "stdout",
     "output_type": "stream",
     "text": [
      "f1: 0.4825090470446321\n",
      "auc_roc: 0.6710927322578856\n"
     ]
    }
   ],
   "source": [
    "model = DecisionTreeClassifier(random_state=12345)\n",
    "model.fit(features_train, target_train) \n",
    "predictions_valid = model.predict(features_valid)\n",
    "\n",
    "probabilities_valid = model.predict_proba(features_valid)\n",
    "precision, recall, thresholds = precision_recall_curve(target_valid, probabilities_valid[:, 1])\n",
    "\n",
    "plt.figure(figsize=(6, 6))\n",
    "plt.step(recall, precision, where='post')\n",
    "plt.xlabel('Recall')\n",
    "plt.ylabel('Precision')\n",
    "plt.ylim([0.0, 1.05])\n",
    "plt.xlim([0.0, 1.0])\n",
    "plt.title('Кривая Precision-Recall')\n",
    "plt.show()\n",
    "\n",
    "print('f1:', f1_score(target_valid, predictions_valid))\n",
    "\n",
    "probabilities_one_valid = probabilities_valid[:, 1]\n",
    "auc_roc = roc_auc_score(target_valid, probabilities_one_valid)\n",
    "print('auc_roc:', auc_roc)"
   ]
  },
  {
   "cell_type": "markdown",
   "metadata": {},
   "source": [
    "#### Случайный лес"
   ]
  },
  {
   "cell_type": "code",
   "execution_count": 16,
   "metadata": {
    "scrolled": true
   },
   "outputs": [
    {
     "data": {
      "image/png": "[encoded data removed]",
      "text/plain": [
       "<Figure size 432x432 with 1 Axes>"
      ]
     },
     "metadata": {
      "needs_background": "light"
     },
     "output_type": "display_data"
    },
    {
     "name": "stdout",
     "output_type": "stream",
     "text": [
      "f1: 0.527736131934033\n",
      "auc_roc: 0.8488594167637328\n"
     ]
    }
   ],
   "source": [
    "model= RandomForestClassifier(random_state=12345)\n",
    "model.fit(features_train, target_train) \n",
    "predictions_valid = model.predict(features_valid) \n",
    "\n",
    "probabilities_valid = model.predict_proba(features_valid)\n",
    "precision, recall, thresholds = precision_recall_curve(target_valid, probabilities_valid[:, 1])\n",
    "\n",
    "plt.figure(figsize=(6, 6))\n",
    "plt.step(recall, precision, where='post')\n",
    "plt.xlabel('Recall')\n",
    "plt.ylabel('Precision')\n",
    "plt.ylim([0.0, 1.05])\n",
    "plt.xlim([0.0, 1.0])\n",
    "plt.title('Кривая Precision-Recall')\n",
    "plt.show()\n",
    "\n",
    "print('f1:', f1_score(target_valid, predictions_valid))\n",
    "\n",
    "probabilities_one_valid = probabilities_valid[:, 1]\n",
    "auc_roc = roc_auc_score(target_valid, probabilities_one_valid)\n",
    "print('auc_roc:', auc_roc)"
   ]
  },
  {
   "cell_type": "markdown",
   "metadata": {},
   "source": [
    "### Вывод"
   ]
  },
  {
   "cell_type": "markdown",
   "metadata": {},
   "source": [
    "* Мы избежали дами-ловушки методом - OHE\n",
    "* Удалили уникальные данные, так как это мешает обучению\n",
    "* Разделили на выборки\n",
    "* Проверили значение f1 меры и auc_roc до устранения дисбаланса"
   ]
  },
  {
   "cell_type": "markdown",
   "metadata": {},
   "source": [
    "## Борьба с дисбалансом"
   ]
  },
  {
   "cell_type": "code",
   "execution_count": 17,
   "metadata": {
    "scrolled": true
   },
   "outputs": [],
   "source": [
    "numeric=['estimated_salary', 'balance', 'age', 'credit_score', 'tenure']\n",
    "scaler = StandardScaler() # масштабирование признаков\n",
    "scaler.fit(features_train[numeric])\n",
    "features_train[numeric] = scaler.transform(features_train[numeric])\n",
    "features_valid[numeric] = scaler.transform(features_valid[numeric])\n",
    "pd.options.mode.chained_assignment = None"
   ]
  },
  {
   "cell_type": "markdown",
   "metadata": {},
   "source": [
    "### баланс классов"
   ]
  },
  {
   "cell_type": "markdown",
   "metadata": {},
   "source": [
    "#### Логистическая регрессия"
   ]
  },
  {
   "cell_type": "code",
   "execution_count": 18,
   "metadata": {
    "scrolled": true
   },
   "outputs": [
    {
     "data": {
      "image/png": "[encoded data removed]",
      "text/plain": [
       "<Figure size 432x432 with 1 Axes>"
      ]
     },
     "metadata": {
      "needs_background": "light"
     },
     "output_type": "display_data"
    },
    {
     "name": "stdout",
     "output_type": "stream",
     "text": [
      "f1: 0.5687903970452447\n",
      "auc_roc: 0.8228749263571642\n"
     ]
    }
   ],
   "source": [
    "model = LogisticRegression(random_state=12345, solver='liblinear',  class_weight='balanced')\n",
    "model.fit(features_train, target_train)\n",
    "\n",
    "predictions_valid = model.predict(features_valid)\n",
    "\n",
    "probabilities_valid = model.predict_proba(features_valid)\n",
    "precision, recall, thresholds = precision_recall_curve(target_valid, probabilities_valid[:, 1])\n",
    "\n",
    "plt.figure(figsize=(6, 6))\n",
    "plt.step(recall, precision, where='post')\n",
    "plt.xlabel('Recall')\n",
    "plt.ylabel('Precision')\n",
    "plt.ylim([0.0, 1.05])\n",
    "plt.xlim([0.0, 1.0])\n",
    "plt.title('Кривая Precision-Recall')\n",
    "plt.show()\n",
    "\n",
    "print('f1:', f1_score(target_valid, predictions_valid))\n",
    "\n",
    "probabilities_one_valid = probabilities_valid[:, 1]\n",
    "auc_roc = roc_auc_score(target_valid, probabilities_one_valid)\n",
    "print('auc_roc:', auc_roc)"
   ]
  },
  {
   "cell_type": "markdown",
   "metadata": {},
   "source": [
    "f1 - давольно небольшой\n",
    "\n",
    "auc-roc -может быть и лучше\n",
    "\n",
    "Скорее всего на других моделях результат будет лучше, если это не так, вернёмся к этой и дообучим её"
   ]
  },
  {
   "cell_type": "markdown",
   "metadata": {},
   "source": [
    "#### Дерево решений"
   ]
  },
  {
   "cell_type": "code",
   "execution_count": 19,
   "metadata": {
    "scrolled": false
   },
   "outputs": [
    {
     "name": "stdout",
     "output_type": "stream",
     "text": [
      "max_depth лучшей модели: 6\n",
      "CPU times: user 406 ms, sys: 1.74 ms, total: 408 ms\n",
      "Wall time: 414 ms\n"
     ]
    }
   ],
   "source": [
    "%%time\n",
    "best_model = None\n",
    "best_result = 0\n",
    "for depth in range(1, 20):\n",
    "    model = DecisionTreeClassifier(random_state=12345, class_weight='balanced', max_depth=depth,)\n",
    "    model.fit(features_train, target_train) \n",
    "    predictions_valid = model.predict(features_valid)\n",
    "    result = f1_score(target_valid, predictions_valid)\n",
    "    if result > best_result:\n",
    "        best_model = model\n",
    "        best_result = result\n",
    "        best_depth = depth\n",
    "        \n",
    "print(\"max_depth лучшей модели:\", best_depth)"
   ]
  },
  {
   "cell_type": "code",
   "execution_count": 20,
   "metadata": {},
   "outputs": [
    {
     "name": "stdout",
     "output_type": "stream",
     "text": [
      "f1: 0.587890625\n",
      "auc_roc: 0.8228749263571642\n"
     ]
    },
    {
     "data": {
      "image/png": "[encoded data removed]",
      "text/plain": [
       "<Figure size 432x432 with 1 Axes>"
      ]
     },
     "metadata": {
      "needs_background": "light"
     },
     "output_type": "display_data"
    }
   ],
   "source": [
    "model = DecisionTreeClassifier(random_state=12345, max_depth=6, class_weight='balanced')\n",
    "model.fit(features_train, target_train) \n",
    "predictions_valid = model.predict(features_valid)\n",
    "\n",
    "print('f1:', f1_score(target_valid, predictions_valid))\n",
    "\n",
    "probabilities_one_valid = probabilities_valid[:, 1]\n",
    "auc_roc = roc_auc_score(target_valid, probabilities_one_valid)\n",
    "print('auc_roc:', auc_roc)\n",
    "\n",
    "plt.figure(figsize=(6, 6))\n",
    "plt.step(recall, precision, where='post')\n",
    "plt.xlabel('Recall')\n",
    "plt.ylabel('Precision')\n",
    "plt.ylim([0.0, 1.05])\n",
    "plt.xlim([0.0, 1.0])\n",
    "plt.title('Кривая Precision-Recall')\n",
    "plt.show()"
   ]
  },
  {
   "cell_type": "code",
   "execution_count": 21,
   "metadata": {
    "scrolled": true
   },
   "outputs": [
    {
     "name": "stdout",
     "output_type": "stream",
     "text": [
      "Fitting 10 folds for each of 1368 candidates, totalling 13680 fits\n"
     ]
    },
    {
     "data": {
      "text/plain": [
       "{'criterion': 'gini',\n",
       " 'max_depth': 2,\n",
       " 'min_samples_leaf': 1,\n",
       " 'min_samples_split': 2}"
      ]
     },
     "metadata": {},
     "output_type": "display_data"
    },
    {
     "data": {
      "text/plain": [
       "0.8150000000000001"
      ]
     },
     "metadata": {},
     "output_type": "display_data"
    },
    {
     "name": "stdout",
     "output_type": "stream",
     "text": [
      "CPU times: user 4min 14s, sys: 877 ms, total: 4min 15s\n",
      "Wall time: 4min 20s\n"
     ]
    }
   ],
   "source": [
    "%%time\n",
    "model= DecisionTreeClassifier(random_state=12345, class_weight='balanced')\n",
    "model.fit(features_train, target_train) \n",
    "parametry={\n",
    "    'criterion':['gini', 'entropy'],\n",
    "    'max_depth':range(1,20),\n",
    "    'min_samples_split':range(1,10),\n",
    "    'min_samples_leaf':range(1,5)\n",
    "}\n",
    "grid = GridSearchCV(model,\n",
    "                   param_grid=parametry,\n",
    "                   cv=10,\n",
    "                   verbose=1,\n",
    "                   n_jobs=-1)\n",
    "grid.fit(features_train, target_train)\n",
    "display(grid.best_params_)\n",
    "display(grid.best_score_)"
   ]
  },
  {
   "cell_type": "code",
   "execution_count": 22,
   "metadata": {
    "scrolled": false
   },
   "outputs": [
    {
     "data": {
      "image/png": "[encoded data removed]",
      "text/plain": [
       "<Figure size 432x432 with 1 Axes>"
      ]
     },
     "metadata": {
      "needs_background": "light"
     },
     "output_type": "display_data"
    },
    {
     "name": "stdout",
     "output_type": "stream",
     "text": [
      "f1: 0.5167095115681235\n",
      "auc_roc: 0.778669736804628\n"
     ]
    }
   ],
   "source": [
    "model = DecisionTreeClassifier(random_state=12345,\n",
    "                               criterion='gini',\n",
    "                               max_depth=2,\n",
    "                               min_samples_leaf=1,\n",
    "                               min_samples_split=2,\n",
    "                               class_weight='balanced')\n",
    "model.fit(features_train, target_train) \n",
    "predictions_valid = model.predict(features_valid)\n",
    "\n",
    "probabilities_valid = model.predict_proba(features_valid)\n",
    "precision, recall, thresholds = precision_recall_curve(target_valid, probabilities_valid[:, 1])\n",
    "\n",
    "plt.figure(figsize=(6, 6))\n",
    "plt.step(recall, precision, where='post')\n",
    "plt.xlabel('Recall')\n",
    "plt.ylabel('Precision')\n",
    "plt.ylim([0.0, 1.05])\n",
    "plt.xlim([0.0, 1.0])\n",
    "plt.title('Кривая Precision-Recall')\n",
    "plt.show()\n",
    "\n",
    "print('f1:', f1_score(target_valid, predictions_valid))\n",
    "\n",
    "probabilities_one_valid = probabilities_valid[:, 1]\n",
    "auc_roc = roc_auc_score(target_valid, probabilities_one_valid)\n",
    "print('auc_roc:', auc_roc)"
   ]
  },
  {
   "cell_type": "markdown",
   "metadata": {},
   "source": [
    "#### Случайный лес"
   ]
  },
  {
   "cell_type": "code",
   "execution_count": 23,
   "metadata": {},
   "outputs": [
    {
     "name": "stdout",
     "output_type": "stream",
     "text": [
      "n_estimators лучшей модели: 73\n",
      "CPU times: user 31 s, sys: 188 ms, total: 31.2 s\n",
      "Wall time: 31.2 s\n"
     ]
    }
   ],
   "source": [
    "%%time\n",
    "best_model = None\n",
    "best_result = 0\n",
    "for est in range(1, 100, 1):\n",
    "    model= RandomForestClassifier(random_state=12345, n_estimators=est, class_weight='balanced')\n",
    "    model.fit(features_train, target_train) \n",
    "    predictions_valid = model.predict(features_valid) \n",
    "    result = model.score(features_valid, target_valid)\n",
    "    if result > best_result:\n",
    "        best_model = model\n",
    "        best_result = result\n",
    "        best_est = est\n",
    "        \n",
    "print(\"n_estimators лучшей модели:\", best_est)"
   ]
  },
  {
   "cell_type": "code",
   "execution_count": 24,
   "metadata": {
    "scrolled": false
   },
   "outputs": [
    {
     "data": {
      "image/png": "[encoded data removed]",
      "text/plain": [
       "<Figure size 432x432 with 1 Axes>"
      ]
     },
     "metadata": {
      "needs_background": "light"
     },
     "output_type": "display_data"
    },
    {
     "name": "stdout",
     "output_type": "stream",
     "text": [
      "f1: 0.6044273339749758\n",
      "auc_roc: 0.8549149940561049\n"
     ]
    }
   ],
   "source": [
    "model= RandomForestClassifier(random_state=12345, max_depth=6, n_estimators=47, class_weight='balanced')\n",
    "model.fit(features_train, target_train) \n",
    "predictions_valid = model.predict(features_valid) \n",
    "\n",
    "probabilities_valid = model.predict_proba(features_valid)\n",
    "precision, recall, thresholds = precision_recall_curve(target_valid, probabilities_valid[:, 1])\n",
    "\n",
    "plt.figure(figsize=(6, 6))\n",
    "plt.step(recall, precision, where='post')\n",
    "plt.xlabel('Recall')\n",
    "plt.ylabel('Precision')\n",
    "plt.ylim([0.0, 1.05])\n",
    "plt.xlim([0.0, 1.0])\n",
    "plt.title('Кривая Precision-Recall')\n",
    "plt.show()\n",
    "\n",
    "print('f1:', f1_score(target_valid, predictions_valid))\n",
    "\n",
    "probabilities_one_valid = probabilities_valid[:, 1]\n",
    "auc_roc = roc_auc_score(target_valid, probabilities_one_valid)\n",
    "print('auc_roc:', auc_roc)"
   ]
  },
  {
   "cell_type": "code",
   "execution_count": 25,
   "metadata": {},
   "outputs": [
    {
     "name": "stdout",
     "output_type": "stream",
     "text": [
      "[[1275  302]\n",
      " [ 109  314]]\n"
     ]
    }
   ],
   "source": [
    "print(confusion_matrix(target_valid, predictions_valid)) #матрица ошибок\n"
   ]
  },
  {
   "cell_type": "markdown",
   "metadata": {},
   "source": [
    "#### Вывод при балансе классов:\n"
   ]
  },
  {
   "cell_type": "markdown",
   "metadata": {},
   "source": [
    "Наиллучший резльтат показал Случайный лес:\n",
    "\n",
    "f1: 0.5978152929493545\n",
    "\n",
    "auc_roc: 0.8468199037283889"
   ]
  },
  {
   "cell_type": "markdown",
   "metadata": {},
   "source": [
    "### Увеличение выборки(upsampling)"
   ]
  },
  {
   "cell_type": "code",
   "execution_count": 26,
   "metadata": {
    "scrolled": true
   },
   "outputs": [
    {
     "data": {
      "text/plain": [
       "4"
      ]
     },
     "execution_count": 26,
     "metadata": {},
     "output_type": "execute_result"
    }
   ],
   "source": [
    "upsempl_target = len(target_train.loc[target_train==0])//len(target_train.loc[target_train==1])\n",
    "upsempl_target\n"
   ]
  },
  {
   "cell_type": "code",
   "execution_count": 27,
   "metadata": {},
   "outputs": [
    {
     "data": {
      "text/plain": [
       "(9588,)"
      ]
     },
     "metadata": {},
     "output_type": "display_data"
    },
    {
     "data": {
      "text/plain": [
       "(9588, 13)"
      ]
     },
     "metadata": {},
     "output_type": "display_data"
    }
   ],
   "source": [
    "def upsample(features, target, repeat):\n",
    "    features_zeros = features[target == 0]\n",
    "    features_ones = features[target == 1]\n",
    "    target_zeros = target[target == 0]\n",
    "    target_ones = target[target == 1]\n",
    "\n",
    "    features_upsampled = pd.concat([features_zeros] + [features_ones] * repeat)\n",
    "    target_upsampled = pd.concat([target_zeros] + [target_ones] * repeat)\n",
    "    \n",
    "    features_upsampled, target_upsampled = shuffle(\n",
    "        features_upsampled, target_upsampled, random_state=12345)\n",
    "    \n",
    "    return features_upsampled, target_upsampled\n",
    "\n",
    "features_upsampled, target_upsampled = upsample(features_train, target_train, 4)\n",
    "\n",
    "display(target_upsampled.shape)\n",
    "display(features_upsampled.shape)"
   ]
  },
  {
   "cell_type": "code",
   "execution_count": 28,
   "metadata": {},
   "outputs": [
    {
     "data": {
      "text/plain": [
       "0    4804\n",
       "1    4784\n",
       "Name: exited, dtype: int64"
      ]
     },
     "execution_count": 28,
     "metadata": {},
     "output_type": "execute_result"
    }
   ],
   "source": [
    "target_upsampled.value_counts()\n"
   ]
  },
  {
   "cell_type": "markdown",
   "metadata": {},
   "source": [
    "Уравняли классы с поомощью увеличения выборки "
   ]
  },
  {
   "cell_type": "markdown",
   "metadata": {},
   "source": [
    "#### Логистическая регрессия"
   ]
  },
  {
   "cell_type": "code",
   "execution_count": 29,
   "metadata": {},
   "outputs": [
    {
     "data": {
      "image/png": "[encoded data removed]",
      "text/plain": [
       "<Figure size 432x432 with 1 Axes>"
      ]
     },
     "metadata": {
      "needs_background": "light"
     },
     "output_type": "display_data"
    },
    {
     "name": "stdout",
     "output_type": "stream",
     "text": [
      "f1: 0.5703703703703704\n",
      "auc_roc: 0.8228809227203701\n"
     ]
    }
   ],
   "source": [
    "model = LogisticRegression(random_state=12345, solver='liblinear')\n",
    "model.fit(features_upsampled, target_upsampled)\n",
    "\n",
    "predictions_valid = model.predict(features_valid)\n",
    "\n",
    "probabilities_valid = model.predict_proba(features_valid)\n",
    "precision, recall, thresholds = precision_recall_curve(target_valid, probabilities_valid[:, 1])\n",
    "\n",
    "plt.figure(figsize=(6, 6))\n",
    "plt.step(recall, precision, where='post')\n",
    "plt.xlabel('Recall')\n",
    "plt.ylabel('Precision')\n",
    "plt.ylim([0.0, 1.05])\n",
    "plt.xlim([0.0, 1.0])\n",
    "plt.title('Кривая Precision-Recall')\n",
    "plt.show()\n",
    "\n",
    "print('f1:', f1_score(target_valid, predictions_valid))\n",
    "\n",
    "probabilities_one_valid = probabilities_valid[:, 1]\n",
    "auc_roc = roc_auc_score(target_valid, probabilities_one_valid)\n",
    "print('auc_roc:', auc_roc)"
   ]
  },
  {
   "cell_type": "markdown",
   "metadata": {},
   "source": [
    "#### Дерево решений"
   ]
  },
  {
   "cell_type": "code",
   "execution_count": 30,
   "metadata": {
    "scrolled": true
   },
   "outputs": [
    {
     "name": "stdout",
     "output_type": "stream",
     "text": [
      "max_depth лучшей модели: 6\n",
      "CPU times: user 535 ms, sys: 0 ns, total: 535 ms\n",
      "Wall time: 544 ms\n"
     ]
    }
   ],
   "source": [
    "%%time\n",
    "best_model = None\n",
    "best_result = 0\n",
    "for depth in range(1, 20):\n",
    "    model = DecisionTreeClassifier(random_state=12345, max_depth=depth)\n",
    "    model.fit(features_upsampled, target_upsampled)\n",
    "    predictions_valid = model.predict(features_valid)\n",
    "    result = f1_score(target_valid, predictions_valid)\n",
    "    if result > best_result:\n",
    "        best_model = model\n",
    "        best_result = result\n",
    "        best_depth = depth\n",
    "        \n",
    "print(\"max_depth лучшей модели:\", best_depth)"
   ]
  },
  {
   "cell_type": "code",
   "execution_count": 31,
   "metadata": {
    "scrolled": true
   },
   "outputs": [
    {
     "name": "stdout",
     "output_type": "stream",
     "text": [
      "f1: 0.5890410958904109\n",
      "auc_roc: 0.8228809227203701\n"
     ]
    },
    {
     "data": {
      "image/png": "[encoded data removed]",
      "text/plain": [
       "<Figure size 432x432 with 1 Axes>"
      ]
     },
     "metadata": {
      "needs_background": "light"
     },
     "output_type": "display_data"
    }
   ],
   "source": [
    "model = DecisionTreeClassifier(random_state=12345, max_depth=6)\n",
    "model.fit(features_upsampled, target_upsampled)\n",
    "predictions_valid = model.predict(features_valid)\n",
    "\n",
    "print('f1:', f1_score(target_valid, predictions_valid))\n",
    "\n",
    "probabilities_one_valid = probabilities_valid[:, 1]\n",
    "auc_roc = roc_auc_score(target_valid, probabilities_one_valid)\n",
    "print('auc_roc:', auc_roc)\n",
    "\n",
    "plt.figure(figsize=(6, 6))\n",
    "plt.step(recall, precision, where='post')\n",
    "plt.xlabel('Recall')\n",
    "plt.ylabel('Precision')\n",
    "plt.ylim([0.0, 1.05])\n",
    "plt.xlim([0.0, 1.0])\n",
    "plt.title('Кривая Precision-Recall')\n",
    "plt.show()"
   ]
  },
  {
   "cell_type": "markdown",
   "metadata": {},
   "source": [
    "#### Случайный лес"
   ]
  },
  {
   "cell_type": "code",
   "execution_count": 32,
   "metadata": {},
   "outputs": [
    {
     "name": "stdout",
     "output_type": "stream",
     "text": [
      "n_estimators лучшей модели: 78\n",
      "CPU times: user 42 s, sys: 280 ms, total: 42.3 s\n",
      "Wall time: 42.3 s\n"
     ]
    }
   ],
   "source": [
    "%%time\n",
    "best_model = None\n",
    "best_result = 0\n",
    "for est in range(1, 100, 1):\n",
    "    model= RandomForestClassifier(random_state=12345, n_estimators=est)\n",
    "    model.fit(features_upsampled, target_upsampled) \n",
    "    predictions_valid = model.predict(features_valid) \n",
    "    result = model.score(features_valid, target_valid)\n",
    "    if result > best_result:\n",
    "        best_model = model\n",
    "        best_result = result\n",
    "        best_est = est\n",
    "        \n",
    "print(\"n_estimators лучшей модели:\", best_est)"
   ]
  },
  {
   "cell_type": "code",
   "execution_count": 33,
   "metadata": {
    "scrolled": true
   },
   "outputs": [
    {
     "data": {
      "image/png": "[encoded data removed]",
      "text/plain": [
       "<Figure size 432x432 with 1 Axes>"
      ]
     },
     "metadata": {
      "needs_background": "light"
     },
     "output_type": "display_data"
    },
    {
     "name": "stdout",
     "output_type": "stream",
     "text": [
      "f1: 0.6076923076923078\n",
      "auc_roc: 0.8569395161834348\n"
     ]
    }
   ],
   "source": [
    "model= RandomForestClassifier(random_state=12345, max_depth=6, n_estimators=78)\n",
    "model.fit(features_upsampled, target_upsampled) \n",
    "predictions_valid = model.predict(features_valid) \n",
    "\n",
    "probabilities_valid = model.predict_proba(features_valid)\n",
    "precision, recall, thresholds = precision_recall_curve(target_valid, probabilities_valid[:, 1])\n",
    "\n",
    "plt.figure(figsize=(6, 6))\n",
    "plt.step(recall, precision, where='post')\n",
    "plt.xlabel('Recall')\n",
    "plt.ylabel('Precision')\n",
    "plt.ylim([0.0, 1.05])\n",
    "plt.xlim([0.0, 1.0])\n",
    "plt.title('Кривая Precision-Recall')\n",
    "plt.show()\n",
    "\n",
    "print('f1:', f1_score(target_valid, predictions_valid))\n",
    "\n",
    "probabilities_one_valid = probabilities_valid[:, 1]\n",
    "auc_roc = roc_auc_score(target_valid, probabilities_one_valid)\n",
    "print('auc_roc:', auc_roc)"
   ]
  },
  {
   "cell_type": "code",
   "execution_count": 34,
   "metadata": {
    "scrolled": false
   },
   "outputs": [
    {
     "name": "stdout",
     "output_type": "stream",
     "text": [
      "[[1276  301]\n",
      " [ 107  316]]\n"
     ]
    }
   ],
   "source": [
    "print(confusion_matrix(target_valid, predictions_valid)) #матрица ошибок\n"
   ]
  },
  {
   "cell_type": "markdown",
   "metadata": {},
   "source": [
    "#### Вывод при увеличении выборки:\n"
   ]
  },
  {
   "cell_type": "markdown",
   "metadata": {},
   "source": [
    "Наиллучший резльтат показал Случайный лес:\n",
    "\n",
    "f1: 0.6076923076923078\n",
    "\n",
    "auc_roc: 0.8569395161834348\n",
    "\n",
    "\n",
    "в сравнении с лучшим балансом классов:\n",
    "\n",
    "f1: 0.5978152929493545\n",
    "\n",
    "auc_roc: 0.8468199037283889"
   ]
  },
  {
   "cell_type": "markdown",
   "metadata": {},
   "source": [
    "### Уменьшение выборки(downsampled)"
   ]
  },
  {
   "cell_type": "markdown",
   "metadata": {},
   "source": [
    "На этапе увеличения выборки, мы определили во сколько раз 0 встречается чаще 1, и увеличили выборку, теперь делаем всё то же самое, но с усеньшением выборки до ответов 0"
   ]
  },
  {
   "cell_type": "code",
   "execution_count": 35,
   "metadata": {},
   "outputs": [
    {
     "data": {
      "text/plain": [
       "(2397,)"
      ]
     },
     "metadata": {},
     "output_type": "display_data"
    },
    {
     "data": {
      "text/plain": [
       "(2397, 13)"
      ]
     },
     "metadata": {},
     "output_type": "display_data"
    }
   ],
   "source": [
    "def downsample(features, target, fraction):\n",
    "    features_zeros = features[target == 0]\n",
    "    features_ones = features[target == 1]\n",
    "    target_zeros = target[target == 0]\n",
    "    target_ones = target[target == 1]\n",
    "\n",
    "    features_downsampled = pd.concat(\n",
    "        [features_zeros.sample(frac=fraction, random_state=12345)] + [features_ones])\n",
    "    target_downsampled = pd.concat(\n",
    "        [target_zeros.sample(frac=fraction, random_state=12345)] + [target_ones])\n",
    "    \n",
    "    features_downsampled, target_downsampled = shuffle(\n",
    "        features_downsampled, target_downsampled, random_state=12345)\n",
    "    \n",
    "    return features_downsampled, target_downsampled\n",
    "\n",
    "features_downsampled, target_downsampled = downsample(features_train, target_train, 0.25)\n",
    "\n",
    "display(target_downsampled.shape)\n",
    "display(features_downsampled.shape)\n"
   ]
  },
  {
   "cell_type": "code",
   "execution_count": 36,
   "metadata": {},
   "outputs": [
    {
     "data": {
      "text/plain": [
       "0    1201\n",
       "1    1196\n",
       "Name: exited, dtype: int64"
      ]
     },
     "execution_count": 36,
     "metadata": {},
     "output_type": "execute_result"
    }
   ],
   "source": [
    "target_downsampled.value_counts()\n"
   ]
  },
  {
   "cell_type": "markdown",
   "metadata": {},
   "source": [
    "#### Логистическая регрессия"
   ]
  },
  {
   "cell_type": "code",
   "execution_count": 37,
   "metadata": {},
   "outputs": [
    {
     "data": {
      "image/png": "[encoded data removed]",
      "text/plain": [
       "<Figure size 432x432 with 1 Axes>"
      ]
     },
     "metadata": {
      "needs_background": "light"
     },
     "output_type": "display_data"
    },
    {
     "name": "stdout",
     "output_type": "stream",
     "text": [
      "f1: 0.5617566331198536\n",
      "auc_roc: 0.8219679764223\n"
     ]
    }
   ],
   "source": [
    "model = LogisticRegression(random_state=12345, solver='liblinear')\n",
    "model.fit(features_downsampled, target_downsampled)\n",
    "\n",
    "predictions_valid = model.predict(features_valid)\n",
    "\n",
    "probabilities_valid = model.predict_proba(features_valid)\n",
    "precision, recall, thresholds = precision_recall_curve(target_valid, probabilities_valid[:, 1])\n",
    "\n",
    "plt.figure(figsize=(6, 6))\n",
    "plt.step(recall, precision, where='post')\n",
    "plt.xlabel('Recall')\n",
    "plt.ylabel('Precision')\n",
    "plt.ylim([0.0, 1.05])\n",
    "plt.xlim([0.0, 1.0])\n",
    "plt.title('Кривая Precision-Recall')\n",
    "plt.show()\n",
    "\n",
    "print('f1:', f1_score(target_valid, predictions_valid))\n",
    "\n",
    "probabilities_one_valid = probabilities_valid[:, 1]\n",
    "auc_roc = roc_auc_score(target_valid, probabilities_one_valid)\n",
    "print('auc_roc:', auc_roc)"
   ]
  },
  {
   "cell_type": "markdown",
   "metadata": {},
   "source": [
    "#### Дерево решений"
   ]
  },
  {
   "cell_type": "code",
   "execution_count": 38,
   "metadata": {},
   "outputs": [
    {
     "name": "stdout",
     "output_type": "stream",
     "text": [
      "max_depth лучшей модели: 4\n",
      "CPU times: user 190 ms, sys: 0 ns, total: 190 ms\n",
      "Wall time: 195 ms\n"
     ]
    }
   ],
   "source": [
    "%%time\n",
    "best_model = None\n",
    "best_result = 0\n",
    "for depth in range(1, 20):\n",
    "    model = DecisionTreeClassifier(random_state=12345, max_depth=depth)\n",
    "    model.fit(features_downsampled, target_downsampled)\n",
    "    predictions_valid = model.predict(features_valid)\n",
    "    result = f1_score(target_valid, predictions_valid)\n",
    "    if result > best_result:\n",
    "        best_model = model\n",
    "        best_result = result\n",
    "        best_depth = depth\n",
    "        \n",
    "print(\"max_depth лучшей модели:\", best_depth)"
   ]
  },
  {
   "cell_type": "code",
   "execution_count": 39,
   "metadata": {},
   "outputs": [
    {
     "name": "stdout",
     "output_type": "stream",
     "text": [
      "f1: 0.584158415841584\n",
      "auc_roc: 0.8219679764223\n"
     ]
    },
    {
     "data": {
      "image/png": "[encoded data removed]",
      "text/plain": [
       "<Figure size 432x432 with 1 Axes>"
      ]
     },
     "metadata": {
      "needs_background": "light"
     },
     "output_type": "display_data"
    }
   ],
   "source": [
    "model = DecisionTreeClassifier(random_state=12345, max_depth=4)\n",
    "model.fit(features_downsampled, target_downsampled)\n",
    "predictions_valid = model.predict(features_valid)\n",
    "\n",
    "print('f1:', f1_score(target_valid, predictions_valid))\n",
    "\n",
    "probabilities_one_valid = probabilities_valid[:, 1]\n",
    "auc_roc = roc_auc_score(target_valid, probabilities_one_valid)\n",
    "print('auc_roc:', auc_roc)\n",
    "\n",
    "plt.figure(figsize=(6, 6))\n",
    "plt.step(recall, precision, where='post')\n",
    "plt.xlabel('Recall')\n",
    "plt.ylabel('Precision')\n",
    "plt.ylim([0.0, 1.05])\n",
    "plt.xlim([0.0, 1.0])\n",
    "plt.title('Кривая Precision-Recall')\n",
    "plt.show()"
   ]
  },
  {
   "cell_type": "markdown",
   "metadata": {},
   "source": [
    "#### Случайный лес"
   ]
  },
  {
   "cell_type": "code",
   "execution_count": 40,
   "metadata": {},
   "outputs": [
    {
     "name": "stdout",
     "output_type": "stream",
     "text": [
      "n_estimators лучшей модели: 6\n",
      "CPU times: user 17.5 s, sys: 124 ms, total: 17.7 s\n",
      "Wall time: 17.7 s\n"
     ]
    }
   ],
   "source": [
    "%%time\n",
    "best_model = None\n",
    "best_result = 0\n",
    "for est in range(1, 100, 1):\n",
    "    model= RandomForestClassifier(random_state=12345, n_estimators=est)\n",
    "    model.fit(features_downsampled, target_downsampled) \n",
    "    predictions_valid = model.predict(features_valid) \n",
    "    result = model.score(features_valid, target_valid)\n",
    "    if result > best_result:\n",
    "        best_model = model\n",
    "        best_result = result\n",
    "        best_est = est\n",
    "        \n",
    "print(\"n_estimators лучшей модели:\", best_est)"
   ]
  },
  {
   "cell_type": "code",
   "execution_count": 41,
   "metadata": {},
   "outputs": [
    {
     "data": {
      "image/png": "[encoded data removed]",
      "text/plain": [
       "<Figure size 432x432 with 1 Axes>"
      ]
     },
     "metadata": {
      "needs_background": "light"
     },
     "output_type": "display_data"
    },
    {
     "name": "stdout",
     "output_type": "stream",
     "text": [
      "f1: 0.5729442970822282\n",
      "auc_roc: 0.8413452241215704\n"
     ]
    }
   ],
   "source": [
    "model= RandomForestClassifier(random_state=12345, max_depth=6, n_estimators=6)\n",
    "model.fit(features_downsampled, target_downsampled) \n",
    "predictions_valid = model.predict(features_valid) \n",
    "\n",
    "probabilities_valid = model.predict_proba(features_valid)\n",
    "precision, recall, thresholds = precision_recall_curve(target_valid, probabilities_valid[:, 1])\n",
    "\n",
    "plt.figure(figsize=(6, 6))\n",
    "plt.step(recall, precision, where='post')\n",
    "plt.xlabel('Recall')\n",
    "plt.ylabel('Precision')\n",
    "plt.ylim([0.0, 1.05])\n",
    "plt.xlim([0.0, 1.0])\n",
    "plt.title('Кривая Precision-Recall')\n",
    "plt.show()\n",
    "\n",
    "print('f1:', f1_score(target_valid, predictions_valid))\n",
    "\n",
    "probabilities_one_valid = probabilities_valid[:, 1]\n",
    "auc_roc = roc_auc_score(target_valid, probabilities_one_valid)\n",
    "print('auc_roc:', auc_roc)"
   ]
  },
  {
   "cell_type": "code",
   "execution_count": 42,
   "metadata": {
    "scrolled": false
   },
   "outputs": [
    {
     "name": "stdout",
     "output_type": "stream",
     "text": [
      "[[1193  384]\n",
      " [  99  324]]\n"
     ]
    }
   ],
   "source": [
    "print(confusion_matrix(target_valid, predictions_valid)) #матрица ошибок\n"
   ]
  },
  {
   "cell_type": "markdown",
   "metadata": {},
   "source": [
    "#### Вывод при уменьшении выборки:"
   ]
  },
  {
   "cell_type": "markdown",
   "metadata": {},
   "source": [
    "Наиллучший резльтат показал Случайный лес:\n",
    "\n",
    "f1: 0.5729442970822282\n",
    "\n",
    "auc_roc: 0.8413452241215704\n",
    "\n",
    "в сравнении с лучшим увеличением выборки:\n",
    "\n",
    "f1: 0.6076923076923078\n",
    "\n",
    "auc_roc: 0.8569395161834348\n",
    "\n",
    "\n",
    "и при балансе классов:\n",
    "\n",
    "f1: 0.5978152929493545\n",
    "\n",
    "auc_roc: 0.8468199037283889"
   ]
  },
  {
   "cell_type": "markdown",
   "metadata": {},
   "source": [
    "###  Вывод"
   ]
  },
  {
   "cell_type": "markdown",
   "metadata": {},
   "source": [
    "Лучшей моделью является - случайный лес с увеличением выбоки, поэтому подбираем гиперпарамметры по ней и обучаем тестовую выборуку"
   ]
  },
  {
   "cell_type": "code",
   "execution_count": 43,
   "metadata": {
    "scrolled": true
   },
   "outputs": [
    {
     "name": "stdout",
     "output_type": "stream",
     "text": [
      "0.5647279549718575\n",
      "0.5739130434782609\n",
      "0.587464920486436\n",
      "0.587464920486436\n",
      "0.6033834586466166\n",
      "0.6076923076923078\n",
      "0.6180758017492711\n",
      "0.6180344478216818\n",
      "0.6174089068825911\n",
      "0.6086956521739131\n",
      "0.6233766233766234\n",
      "0.608695652173913\n",
      "0.6137689614935822\n",
      "0.5987878787878788\n",
      "0.6029776674937966\n"
     ]
    }
   ],
   "source": [
    "for depth in range(1, 16, 1):\n",
    "    model = RandomForestClassifier(random_state=12345, n_estimators=78, max_depth=depth)\n",
    "    model.fit(features_upsampled, target_upsampled)\n",
    "    predictions_valid = model.predict(features_valid)\n",
    "    print(f1_score(target_valid, predictions_valid))"
   ]
  },
  {
   "cell_type": "code",
   "execution_count": 44,
   "metadata": {
    "scrolled": true
   },
   "outputs": [
    {
     "name": "stdout",
     "output_type": "stream",
     "text": [
      "0.6233766233766234\n",
      "0.6191489361702128\n",
      "0.6155484558040468\n",
      "0.6150583244962884\n",
      "0.6145940390544707\n",
      "0.6184074457083764\n",
      "0.6160164271047228\n",
      "0.6139630390143738\n",
      "0.6119096509240247\n",
      "0.607361963190184\n",
      "0.6135216952573159\n",
      "0.6045081967213115\n",
      "0.6217303822937625\n",
      "0.6113886113886114\n",
      "0.6095617529880477\n"
     ]
    }
   ],
   "source": [
    "for depth in range(1, 16, 1):\n",
    "    model = RandomForestClassifier(random_state=12345, n_estimators=78, max_depth=11, min_samples_leaf=depth)\n",
    "    model.fit(features_upsampled, target_upsampled)\n",
    "    predictions_valid = model.predict(features_valid)\n",
    "    print(f1_score(target_valid, predictions_valid))"
   ]
  },
  {
   "cell_type": "code",
   "execution_count": 45,
   "metadata": {
    "scrolled": false
   },
   "outputs": [
    {
     "name": "stdout",
     "output_type": "stream",
     "text": [
      "0.6067172264355363\n",
      "0.6063249727371864\n",
      "0.6233766233766234\n",
      "0.6043956043956045\n",
      "0.6121546961325967\n",
      "0.6061946902654867\n",
      "0.5978021978021979\n",
      "0.5969498910675382\n",
      "0.6037321624588365\n",
      "0.6004415011037528\n"
     ]
    }
   ],
   "source": [
    "for depth in range(1, 11, 1):\n",
    "    model = RandomForestClassifier(random_state=12345,\n",
    "                                   n_estimators=78,\n",
    "                                   max_depth=11,\n",
    "                                   min_samples_leaf=1,\n",
    "                                   max_features=depth)\n",
    "    model.fit(features_upsampled, target_upsampled)\n",
    "    predictions_valid = model.predict(features_valid)\n",
    "    print(f1_score(target_valid, predictions_valid))"
   ]
  },
  {
   "cell_type": "code",
   "execution_count": 46,
   "metadata": {
    "scrolled": true
   },
   "outputs": [
    {
     "data": {
      "image/png": "[encoded data removed]",
      "text/plain": [
       "<Figure size 432x432 with 1 Axes>"
      ]
     },
     "metadata": {
      "needs_background": "light"
     },
     "output_type": "display_data"
    },
    {
     "name": "stdout",
     "output_type": "stream",
     "text": [
      "f1: 0.6233766233766234\n",
      "auc_roc: 0.8593433082835261\n"
     ]
    }
   ],
   "source": [
    "model = RandomForestClassifier(random_state=12345,\n",
    "                               n_estimators=78,\n",
    "                               max_depth=11,\n",
    "                               min_samples_leaf=1,\n",
    "                               max_features=3)\n",
    "model.fit(features_upsampled, target_upsampled)\n",
    "predictions_valid = model.predict(features_valid)\n",
    "\n",
    "precision, recall, thresholds = precision_recall_curve(target_valid, probabilities_valid[:, 1])\n",
    "plt.figure(figsize=(6, 6))\n",
    "plt.step(recall, precision, where='post')\n",
    "plt.xlabel('Recall')\n",
    "plt.ylabel('Precision')\n",
    "plt.ylim([0.0, 1.05])\n",
    "plt.xlim([0.0, 1.0])\n",
    "plt.title('Кривая Precision-Recall')\n",
    "plt.show()\n",
    "\n",
    "print('f1:', f1_score(target_valid, predictions_valid))\n",
    "\n",
    "probabilities_valid = model.predict_proba(features_valid)\n",
    "probabilities_one_valid = probabilities_valid[:, 1]\n",
    "auc_roc = roc_auc_score(target_valid, probabilities_one_valid)\n",
    "print('auc_roc:', auc_roc)"
   ]
  },
  {
   "cell_type": "markdown",
   "metadata": {},
   "source": [
    "Мы добились хорошего результата f1\n",
    "\n",
    "Можно приступать к тесту"
   ]
  },
  {
   "cell_type": "markdown",
   "metadata": {},
   "source": [
    "## Тестирование модели"
   ]
  },
  {
   "cell_type": "code",
   "execution_count": 47,
   "metadata": {
    "scrolled": true
   },
   "outputs": [
    {
     "data": {
      "text/html": [
       "<div>\n",
       "<style scoped>\n",
       "    .dataframe tbody tr th:only-of-type {\n",
       "        vertical-align: middle;\n",
       "    }\n",
       "\n",
       "    .dataframe tbody tr th {\n",
       "        vertical-align: top;\n",
       "    }\n",
       "\n",
       "    .dataframe thead th {\n",
       "        text-align: right;\n",
       "    }\n",
       "</style>\n",
       "<table border=\"1\" class=\"dataframe\">\n",
       "  <thead>\n",
       "    <tr style=\"text-align: right;\">\n",
       "      <th></th>\n",
       "      <th>credit_score</th>\n",
       "      <th>age</th>\n",
       "      <th>tenure</th>\n",
       "      <th>balance</th>\n",
       "      <th>estimated_salary</th>\n",
       "      <th>geography_Germany</th>\n",
       "      <th>geography_Spain</th>\n",
       "      <th>has_cr_card_1</th>\n",
       "      <th>num_of_products_2</th>\n",
       "      <th>num_of_products_3</th>\n",
       "      <th>num_of_products_4</th>\n",
       "      <th>is_active_member_1</th>\n",
       "      <th>gender_Male</th>\n",
       "    </tr>\n",
       "  </thead>\n",
       "  <tbody>\n",
       "    <tr>\n",
       "      <th>454</th>\n",
       "      <td>758</td>\n",
       "      <td>39</td>\n",
       "      <td>6</td>\n",
       "      <td>127357.76</td>\n",
       "      <td>56577.00</td>\n",
       "      <td>0</td>\n",
       "      <td>0</td>\n",
       "      <td>0</td>\n",
       "      <td>0</td>\n",
       "      <td>0</td>\n",
       "      <td>0</td>\n",
       "      <td>1</td>\n",
       "      <td>0</td>\n",
       "    </tr>\n",
       "    <tr>\n",
       "      <th>8307</th>\n",
       "      <td>618</td>\n",
       "      <td>30</td>\n",
       "      <td>3</td>\n",
       "      <td>133844.22</td>\n",
       "      <td>31406.93</td>\n",
       "      <td>0</td>\n",
       "      <td>0</td>\n",
       "      <td>1</td>\n",
       "      <td>0</td>\n",
       "      <td>0</td>\n",
       "      <td>0</td>\n",
       "      <td>1</td>\n",
       "      <td>1</td>\n",
       "    </tr>\n",
       "    <tr>\n",
       "      <th>4811</th>\n",
       "      <td>575</td>\n",
       "      <td>26</td>\n",
       "      <td>7</td>\n",
       "      <td>0.00</td>\n",
       "      <td>112507.63</td>\n",
       "      <td>0</td>\n",
       "      <td>1</td>\n",
       "      <td>1</td>\n",
       "      <td>1</td>\n",
       "      <td>0</td>\n",
       "      <td>0</td>\n",
       "      <td>0</td>\n",
       "      <td>0</td>\n",
       "    </tr>\n",
       "    <tr>\n",
       "      <th>1132</th>\n",
       "      <td>628</td>\n",
       "      <td>37</td>\n",
       "      <td>5</td>\n",
       "      <td>0.00</td>\n",
       "      <td>171707.93</td>\n",
       "      <td>0</td>\n",
       "      <td>0</td>\n",
       "      <td>1</td>\n",
       "      <td>1</td>\n",
       "      <td>0</td>\n",
       "      <td>0</td>\n",
       "      <td>1</td>\n",
       "      <td>1</td>\n",
       "    </tr>\n",
       "    <tr>\n",
       "      <th>9640</th>\n",
       "      <td>750</td>\n",
       "      <td>35</td>\n",
       "      <td>3</td>\n",
       "      <td>0.00</td>\n",
       "      <td>191520.50</td>\n",
       "      <td>0</td>\n",
       "      <td>0</td>\n",
       "      <td>1</td>\n",
       "      <td>0</td>\n",
       "      <td>0</td>\n",
       "      <td>0</td>\n",
       "      <td>0</td>\n",
       "      <td>0</td>\n",
       "    </tr>\n",
       "    <tr>\n",
       "      <th>...</th>\n",
       "      <td>...</td>\n",
       "      <td>...</td>\n",
       "      <td>...</td>\n",
       "      <td>...</td>\n",
       "      <td>...</td>\n",
       "      <td>...</td>\n",
       "      <td>...</td>\n",
       "      <td>...</td>\n",
       "      <td>...</td>\n",
       "      <td>...</td>\n",
       "      <td>...</td>\n",
       "      <td>...</td>\n",
       "      <td>...</td>\n",
       "    </tr>\n",
       "    <tr>\n",
       "      <th>4478</th>\n",
       "      <td>549</td>\n",
       "      <td>31</td>\n",
       "      <td>4</td>\n",
       "      <td>0.00</td>\n",
       "      <td>25684.85</td>\n",
       "      <td>0</td>\n",
       "      <td>0</td>\n",
       "      <td>0</td>\n",
       "      <td>1</td>\n",
       "      <td>0</td>\n",
       "      <td>0</td>\n",
       "      <td>1</td>\n",
       "      <td>1</td>\n",
       "    </tr>\n",
       "    <tr>\n",
       "      <th>4094</th>\n",
       "      <td>513</td>\n",
       "      <td>29</td>\n",
       "      <td>10</td>\n",
       "      <td>0.00</td>\n",
       "      <td>25514.77</td>\n",
       "      <td>0</td>\n",
       "      <td>0</td>\n",
       "      <td>0</td>\n",
       "      <td>1</td>\n",
       "      <td>0</td>\n",
       "      <td>0</td>\n",
       "      <td>1</td>\n",
       "      <td>1</td>\n",
       "    </tr>\n",
       "    <tr>\n",
       "      <th>3492</th>\n",
       "      <td>655</td>\n",
       "      <td>45</td>\n",
       "      <td>5</td>\n",
       "      <td>57327.04</td>\n",
       "      <td>47349.00</td>\n",
       "      <td>0</td>\n",
       "      <td>0</td>\n",
       "      <td>0</td>\n",
       "      <td>0</td>\n",
       "      <td>0</td>\n",
       "      <td>0</td>\n",
       "      <td>1</td>\n",
       "      <td>0</td>\n",
       "    </tr>\n",
       "    <tr>\n",
       "      <th>2177</th>\n",
       "      <td>667</td>\n",
       "      <td>24</td>\n",
       "      <td>4</td>\n",
       "      <td>0.00</td>\n",
       "      <td>34335.55</td>\n",
       "      <td>0</td>\n",
       "      <td>0</td>\n",
       "      <td>0</td>\n",
       "      <td>1</td>\n",
       "      <td>0</td>\n",
       "      <td>0</td>\n",
       "      <td>1</td>\n",
       "      <td>0</td>\n",
       "    </tr>\n",
       "    <tr>\n",
       "      <th>4578</th>\n",
       "      <td>691</td>\n",
       "      <td>38</td>\n",
       "      <td>1</td>\n",
       "      <td>0.00</td>\n",
       "      <td>44653.50</td>\n",
       "      <td>0</td>\n",
       "      <td>0</td>\n",
       "      <td>0</td>\n",
       "      <td>1</td>\n",
       "      <td>0</td>\n",
       "      <td>0</td>\n",
       "      <td>0</td>\n",
       "      <td>1</td>\n",
       "    </tr>\n",
       "  </tbody>\n",
       "</table>\n",
       "<p>8000 rows × 13 columns</p>\n",
       "</div>"
      ],
      "text/plain": [
       "      credit_score  age  tenure    balance  estimated_salary  \\\n",
       "454            758   39       6  127357.76          56577.00   \n",
       "8307           618   30       3  133844.22          31406.93   \n",
       "4811           575   26       7       0.00         112507.63   \n",
       "1132           628   37       5       0.00         171707.93   \n",
       "9640           750   35       3       0.00         191520.50   \n",
       "...            ...  ...     ...        ...               ...   \n",
       "4478           549   31       4       0.00          25684.85   \n",
       "4094           513   29      10       0.00          25514.77   \n",
       "3492           655   45       5   57327.04          47349.00   \n",
       "2177           667   24       4       0.00          34335.55   \n",
       "4578           691   38       1       0.00          44653.50   \n",
       "\n",
       "      geography_Germany  geography_Spain  has_cr_card_1  num_of_products_2  \\\n",
       "454                   0                0              0                  0   \n",
       "8307                  0                0              1                  0   \n",
       "4811                  0                1              1                  1   \n",
       "1132                  0                0              1                  1   \n",
       "9640                  0                0              1                  0   \n",
       "...                 ...              ...            ...                ...   \n",
       "4478                  0                0              0                  1   \n",
       "4094                  0                0              0                  1   \n",
       "3492                  0                0              0                  0   \n",
       "2177                  0                0              0                  1   \n",
       "4578                  0                0              0                  1   \n",
       "\n",
       "      num_of_products_3  num_of_products_4  is_active_member_1  gender_Male  \n",
       "454                   0                  0                   1            0  \n",
       "8307                  0                  0                   1            1  \n",
       "4811                  0                  0                   0            0  \n",
       "1132                  0                  0                   1            1  \n",
       "9640                  0                  0                   0            0  \n",
       "...                 ...                ...                 ...          ...  \n",
       "4478                  0                  0                   1            1  \n",
       "4094                  0                  0                   1            1  \n",
       "3492                  0                  0                   1            0  \n",
       "2177                  0                  0                   1            0  \n",
       "4578                  0                  0                   0            1  \n",
       "\n",
       "[8000 rows x 13 columns]"
      ]
     },
     "metadata": {},
     "output_type": "display_data"
    },
    {
     "data": {
      "text/html": [
       "<div>\n",
       "<style scoped>\n",
       "    .dataframe tbody tr th:only-of-type {\n",
       "        vertical-align: middle;\n",
       "    }\n",
       "\n",
       "    .dataframe tbody tr th {\n",
       "        vertical-align: top;\n",
       "    }\n",
       "\n",
       "    .dataframe thead th {\n",
       "        text-align: right;\n",
       "    }\n",
       "</style>\n",
       "<table border=\"1\" class=\"dataframe\">\n",
       "  <thead>\n",
       "    <tr style=\"text-align: right;\">\n",
       "      <th></th>\n",
       "      <th>credit_score</th>\n",
       "      <th>age</th>\n",
       "      <th>tenure</th>\n",
       "      <th>balance</th>\n",
       "      <th>estimated_salary</th>\n",
       "      <th>geography_Germany</th>\n",
       "      <th>geography_Spain</th>\n",
       "      <th>has_cr_card_1</th>\n",
       "      <th>num_of_products_2</th>\n",
       "      <th>num_of_products_3</th>\n",
       "      <th>num_of_products_4</th>\n",
       "      <th>is_active_member_1</th>\n",
       "      <th>gender_Male</th>\n",
       "    </tr>\n",
       "  </thead>\n",
       "  <tbody>\n",
       "    <tr>\n",
       "      <th>7867</th>\n",
       "      <td>640</td>\n",
       "      <td>46</td>\n",
       "      <td>3</td>\n",
       "      <td>0.00</td>\n",
       "      <td>156260.08</td>\n",
       "      <td>0</td>\n",
       "      <td>1</td>\n",
       "      <td>1</td>\n",
       "      <td>0</td>\n",
       "      <td>0</td>\n",
       "      <td>0</td>\n",
       "      <td>1</td>\n",
       "      <td>0</td>\n",
       "    </tr>\n",
       "    <tr>\n",
       "      <th>1402</th>\n",
       "      <td>757</td>\n",
       "      <td>29</td>\n",
       "      <td>8</td>\n",
       "      <td>130306.49</td>\n",
       "      <td>77469.38</td>\n",
       "      <td>0</td>\n",
       "      <td>0</td>\n",
       "      <td>1</td>\n",
       "      <td>0</td>\n",
       "      <td>0</td>\n",
       "      <td>0</td>\n",
       "      <td>0</td>\n",
       "      <td>1</td>\n",
       "    </tr>\n",
       "    <tr>\n",
       "      <th>8606</th>\n",
       "      <td>807</td>\n",
       "      <td>42</td>\n",
       "      <td>5</td>\n",
       "      <td>0.00</td>\n",
       "      <td>74900.90</td>\n",
       "      <td>0</td>\n",
       "      <td>1</td>\n",
       "      <td>1</td>\n",
       "      <td>1</td>\n",
       "      <td>0</td>\n",
       "      <td>0</td>\n",
       "      <td>1</td>\n",
       "      <td>1</td>\n",
       "    </tr>\n",
       "    <tr>\n",
       "      <th>8885</th>\n",
       "      <td>668</td>\n",
       "      <td>45</td>\n",
       "      <td>4</td>\n",
       "      <td>102486.21</td>\n",
       "      <td>158379.25</td>\n",
       "      <td>0</td>\n",
       "      <td>1</td>\n",
       "      <td>1</td>\n",
       "      <td>1</td>\n",
       "      <td>0</td>\n",
       "      <td>0</td>\n",
       "      <td>1</td>\n",
       "      <td>1</td>\n",
       "    </tr>\n",
       "    <tr>\n",
       "      <th>6494</th>\n",
       "      <td>699</td>\n",
       "      <td>28</td>\n",
       "      <td>7</td>\n",
       "      <td>0.00</td>\n",
       "      <td>22684.78</td>\n",
       "      <td>0</td>\n",
       "      <td>0</td>\n",
       "      <td>1</td>\n",
       "      <td>1</td>\n",
       "      <td>0</td>\n",
       "      <td>0</td>\n",
       "      <td>1</td>\n",
       "      <td>1</td>\n",
       "    </tr>\n",
       "    <tr>\n",
       "      <th>...</th>\n",
       "      <td>...</td>\n",
       "      <td>...</td>\n",
       "      <td>...</td>\n",
       "      <td>...</td>\n",
       "      <td>...</td>\n",
       "      <td>...</td>\n",
       "      <td>...</td>\n",
       "      <td>...</td>\n",
       "      <td>...</td>\n",
       "      <td>...</td>\n",
       "      <td>...</td>\n",
       "      <td>...</td>\n",
       "      <td>...</td>\n",
       "    </tr>\n",
       "    <tr>\n",
       "      <th>2563</th>\n",
       "      <td>843</td>\n",
       "      <td>27</td>\n",
       "      <td>5</td>\n",
       "      <td>0.00</td>\n",
       "      <td>67494.23</td>\n",
       "      <td>0</td>\n",
       "      <td>0</td>\n",
       "      <td>1</td>\n",
       "      <td>1</td>\n",
       "      <td>0</td>\n",
       "      <td>0</td>\n",
       "      <td>1</td>\n",
       "      <td>0</td>\n",
       "    </tr>\n",
       "    <tr>\n",
       "      <th>1167</th>\n",
       "      <td>548</td>\n",
       "      <td>35</td>\n",
       "      <td>10</td>\n",
       "      <td>0.00</td>\n",
       "      <td>31299.71</td>\n",
       "      <td>0</td>\n",
       "      <td>0</td>\n",
       "      <td>1</td>\n",
       "      <td>0</td>\n",
       "      <td>0</td>\n",
       "      <td>0</td>\n",
       "      <td>1</td>\n",
       "      <td>0</td>\n",
       "    </tr>\n",
       "    <tr>\n",
       "      <th>1009</th>\n",
       "      <td>650</td>\n",
       "      <td>71</td>\n",
       "      <td>0</td>\n",
       "      <td>0.00</td>\n",
       "      <td>175380.77</td>\n",
       "      <td>0</td>\n",
       "      <td>1</td>\n",
       "      <td>1</td>\n",
       "      <td>0</td>\n",
       "      <td>0</td>\n",
       "      <td>0</td>\n",
       "      <td>1</td>\n",
       "      <td>1</td>\n",
       "    </tr>\n",
       "    <tr>\n",
       "      <th>1002</th>\n",
       "      <td>725</td>\n",
       "      <td>39</td>\n",
       "      <td>1</td>\n",
       "      <td>50880.98</td>\n",
       "      <td>184023.54</td>\n",
       "      <td>1</td>\n",
       "      <td>0</td>\n",
       "      <td>1</td>\n",
       "      <td>1</td>\n",
       "      <td>0</td>\n",
       "      <td>0</td>\n",
       "      <td>1</td>\n",
       "      <td>1</td>\n",
       "    </tr>\n",
       "    <tr>\n",
       "      <th>694</th>\n",
       "      <td>796</td>\n",
       "      <td>45</td>\n",
       "      <td>2</td>\n",
       "      <td>109730.22</td>\n",
       "      <td>123882.73</td>\n",
       "      <td>0</td>\n",
       "      <td>0</td>\n",
       "      <td>1</td>\n",
       "      <td>0</td>\n",
       "      <td>0</td>\n",
       "      <td>0</td>\n",
       "      <td>1</td>\n",
       "      <td>0</td>\n",
       "    </tr>\n",
       "  </tbody>\n",
       "</table>\n",
       "<p>2000 rows × 13 columns</p>\n",
       "</div>"
      ],
      "text/plain": [
       "      credit_score  age  tenure    balance  estimated_salary  \\\n",
       "7867           640   46       3       0.00         156260.08   \n",
       "1402           757   29       8  130306.49          77469.38   \n",
       "8606           807   42       5       0.00          74900.90   \n",
       "8885           668   45       4  102486.21         158379.25   \n",
       "6494           699   28       7       0.00          22684.78   \n",
       "...            ...  ...     ...        ...               ...   \n",
       "2563           843   27       5       0.00          67494.23   \n",
       "1167           548   35      10       0.00          31299.71   \n",
       "1009           650   71       0       0.00         175380.77   \n",
       "1002           725   39       1   50880.98         184023.54   \n",
       "694            796   45       2  109730.22         123882.73   \n",
       "\n",
       "      geography_Germany  geography_Spain  has_cr_card_1  num_of_products_2  \\\n",
       "7867                  0                1              1                  0   \n",
       "1402                  0                0              1                  0   \n",
       "8606                  0                1              1                  1   \n",
       "8885                  0                1              1                  1   \n",
       "6494                  0                0              1                  1   \n",
       "...                 ...              ...            ...                ...   \n",
       "2563                  0                0              1                  1   \n",
       "1167                  0                0              1                  0   \n",
       "1009                  0                1              1                  0   \n",
       "1002                  1                0              1                  1   \n",
       "694                   0                0              1                  0   \n",
       "\n",
       "      num_of_products_3  num_of_products_4  is_active_member_1  gender_Male  \n",
       "7867                  0                  0                   1            0  \n",
       "1402                  0                  0                   0            1  \n",
       "8606                  0                  0                   1            1  \n",
       "8885                  0                  0                   1            1  \n",
       "6494                  0                  0                   1            1  \n",
       "...                 ...                ...                 ...          ...  \n",
       "2563                  0                  0                   1            0  \n",
       "1167                  0                  0                   1            0  \n",
       "1009                  0                  0                   1            1  \n",
       "1002                  0                  0                   1            1  \n",
       "694                   0                  0                   1            0  \n",
       "\n",
       "[2000 rows x 13 columns]"
      ]
     },
     "metadata": {},
     "output_type": "display_data"
    }
   ],
   "source": [
    "data_ohe=pd.get_dummies(data, columns=['geography', 'has_cr_card', 'num_of_products', 'is_active_member', 'gender'], drop_first=True)\n",
    "features = data_ohe.drop(['exited'], axis=1)\n",
    "target = data_ohe['exited']\n",
    "\n",
    "#обучающая\n",
    "features_train, features_test, target_train, target_test = train_test_split(\n",
    "    features, target, test_size=0.20, random_state=12345)\n",
    "\n",
    "display(features_train) #обучающая\n",
    "display(features_test) #тестовая\n",
    "\n",
    "numeric=['estimated_salary', 'balance', 'age', 'credit_score', 'tenure']\n",
    "\n",
    "scaler = StandardScaler() # масштабирование признаков\n",
    "scaler.fit(features_train[numeric])\n",
    "features_train[numeric] = scaler.transform(features_train[numeric])\n",
    "features_test[numeric] = scaler.transform(features_test[numeric])\n",
    "pd.options.mode.chained_assignment = None\n"
   ]
  },
  {
   "cell_type": "markdown",
   "metadata": {},
   "source": [
    "Убираем валидационную выборку и за счёт неё увеличиваем обучающую"
   ]
  },
  {
   "cell_type": "code",
   "execution_count": 48,
   "metadata": {
    "scrolled": true
   },
   "outputs": [
    {
     "data": {
      "text/plain": [
       "1    6440\n",
       "0    6390\n",
       "Name: exited, dtype: int64"
      ]
     },
     "execution_count": 48,
     "metadata": {},
     "output_type": "execute_result"
    }
   ],
   "source": [
    "features_upsampled, target_upsampled = upsample(features_train, target_train, 4)\n",
    "target_upsampled.value_counts()\n"
   ]
  },
  {
   "cell_type": "code",
   "execution_count": 49,
   "metadata": {},
   "outputs": [
    {
     "data": {
      "image/png": "[encoded data removed]",
      "text/plain": [
       "<Figure size 432x432 with 1 Axes>"
      ]
     },
     "metadata": {
      "needs_background": "light"
     },
     "output_type": "display_data"
    },
    {
     "name": "stdout",
     "output_type": "stream",
     "text": [
      "f1: 0.6436285097192225\n",
      "auc_roc: 0.8655472694220833\n"
     ]
    }
   ],
   "source": [
    "model = RandomForestClassifier(random_state=12345,\n",
    "                               n_estimators=78,\n",
    "                               max_depth=11,\n",
    "                               min_samples_leaf=1,\n",
    "                               max_features=3)\n",
    "model.fit(features_upsampled, target_upsampled)\n",
    "predictions_test = model.predict(features_test)\n",
    "\n",
    "probabilities_test= model.predict_proba(features_test)\n",
    "precision, recall, thresholds = precision_recall_curve(target_test, probabilities_test[:, 1])\n",
    "plt.figure(figsize=(6, 6))\n",
    "plt.step(recall, precision, where='post')\n",
    "plt.xlabel('Recall')\n",
    "plt.ylabel('Precision')\n",
    "plt.ylim([0.0, 1.05])\n",
    "plt.xlim([0.0, 1.0])\n",
    "plt.title('Кривая Precision-Recall')\n",
    "plt.show()\n",
    "\n",
    "print('f1:', f1_score(target_test, predictions_test))\n",
    "\n",
    "probabilities_test = model.predict_proba(features_test)\n",
    "probabilities_one_test = probabilities_test[:, 1]\n",
    "auc_roc = roc_auc_score(target_test, probabilities_one_test)\n",
    "print('auc_roc:', auc_roc)"
   ]
  },
  {
   "cell_type": "code",
   "execution_count": 50,
   "metadata": {
    "scrolled": true
   },
   "outputs": [
    {
     "name": "stdout",
     "output_type": "stream",
     "text": [
      "[[1372  201]\n",
      " [ 129  298]]\n"
     ]
    }
   ],
   "source": [
    "print(confusion_matrix(target_test, predictions_test))\n"
   ]
  },
  {
   "cell_type": "code",
   "execution_count": 56,
   "metadata": {
    "scrolled": true
   },
   "outputs": [
    {
     "data": {
      "image/png": "[encoded data removed]",
      "text/plain": [
       "<Figure size 432x432 with 1 Axes>"
      ]
     },
     "metadata": {
      "needs_background": "light"
     },
     "output_type": "display_data"
    },
    {
     "name": "stdout",
     "output_type": "stream",
     "text": [
      "f1: 0.639412997903564\n",
      "auc_roc: 0.8683001052598669\n"
     ]
    }
   ],
   "source": [
    "model = RandomForestClassifier(random_state=12345,\n",
    "                               n_estimators=47,\n",
    "                               max_depth=9,\n",
    "                               class_weight='balanced',\n",
    "                               min_samples_leaf=5,\n",
    "                               max_features=9)\n",
    "model.fit(features_train, target_train)\n",
    "predictions_test = model.predict(features_test)\n",
    "\n",
    "probabilities_test= model.predict_proba(features_test)\n",
    "precision, recall, thresholds = precision_recall_curve(target_test, probabilities_test[:, 1])\n",
    "plt.figure(figsize=(6, 6))\n",
    "plt.step(recall, precision, where='post')\n",
    "plt.xlabel('Recall')\n",
    "plt.ylabel('Precision')\n",
    "plt.ylim([0.0, 1.05])\n",
    "plt.xlim([0.0, 1.0])\n",
    "plt.title('Кривая Precision-Recall')\n",
    "plt.show()\n",
    "\n",
    "print('f1:', f1_score(target_test, predictions_test))\n",
    "\n",
    "probabilities_test = model.predict_proba(features_test)\n",
    "probabilities_one_test = probabilities_test[:, 1]\n",
    "auc_roc = roc_auc_score(target_test, probabilities_one_test)\n",
    "print('auc_roc:', auc_roc)"
   ]
  },
  {
   "cell_type": "code",
   "execution_count": 57,
   "metadata": {
    "scrolled": true
   },
   "outputs": [
    {
     "name": "stdout",
     "output_type": "stream",
     "text": [
      "[[1351  222]\n",
      " [ 122  305]]\n"
     ]
    }
   ],
   "source": [
    "print(confusion_matrix(target_test, predictions_test))\n"
   ]
  },
  {
   "cell_type": "markdown",
   "metadata": {},
   "source": [
    "### Вывод"
   ]
  },
  {
   "cell_type": "markdown",
   "metadata": {},
   "source": [
    "Тестовая выборка также показала хороший результат f1 меры и auc-roc\n"
   ]
  },
  {
   "cell_type": "markdown",
   "metadata": {},
   "source": [
    "В данном анализе нам удалось достичь результата f1 меры в 0.6436285097192225 на тестовой выборке\n",
    "\n",
    "Этого мы достигли с использованием модели случайного леса, при устранении дисбаланса за счёт увеличения выборки и подбора гиперпарамметров с помощью цикла\n",
    "\n",
    "Худшим же результатом стало использование логистической регрессии без устранения дисбаланса:\n",
    "\n",
    "* f1: 0.13737373737373737\n",
    "* auc_roc: 0.641937664806295\n",
    "\n",
    "Связь  F1 и AUC-ROC есть - при устранении дисбаланса чем больше F1, тем больше AUC-ROC\n",
    "\n",
    "Но также auc_roc остаётся давольно высоким если не устранять дисбаланс, когда как f1 снижается почти на 10%\n",
    "\n",
    "Случайный лес на валидационной выборке при устранении дисбаланса за счёт увеличения выборки:\n",
    "\n",
    "* f1: 0.6076923076923078\n",
    "* auc_roc: 0.8569395161834348\n",
    "\n",
    "Случайный лес на валидационной выборке без устранения дисбаланса:\n",
    "\n",
    "* f1: 0.527736131934033\n",
    "* auc_roc: 0.8488594167637328"
   ]
  },
  {
   "cell_type": "markdown",
   "metadata": {},
   "source": [
    "## Чек-лист готовности проекта"
   ]
  },
  {
   "cell_type": "markdown",
   "metadata": {},
   "source": [
    "Поставьте 'x' в выполненных пунктах. Далее нажмите Shift+Enter."
   ]
  },
  {
   "cell_type": "markdown",
   "metadata": {},
   "source": [
    "- [x]  Jupyter Notebook открыт\n",
    "- [x]  Весь код выполняется без ошибок\n",
    "- [x]  Ячейки с кодом расположены в порядке исполнения\n",
    "- [x]  Выполнен шаг 1: данные подготовлены\n",
    "- [x]  Выполнен шаг 2: задача исследована\n",
    "    - [x]  Исследован баланс классов\n",
    "    - [x]  Изучены модели без учёта дисбаланса\n",
    "    - [x]  Написаны выводы по результатам исследования\n",
    "- [x]  Выполнен шаг 3: учтён дисбаланс\n",
    "    - [x]  Применено несколько способов борьбы с дисбалансом\n",
    "    - [x]  Написаны выводы по результатам исследования\n",
    "- [x]  Выполнен шаг 4: проведено тестирование\n",
    "- [x]  Удалось достичь *F1*-меры не менее 0.59\n",
    "- [x]  Исследована метрика *AUC-ROC*"
   ]
  }
 ],
 "metadata": {
  "ExecuteTimeLog": [
   {
    "duration": 10,
    "start_time": "2022-05-14T10:22:28.178Z"
   },
   {
    "duration": 4,
    "start_time": "2022-05-14T10:25:52.359Z"
   },
   {
    "duration": 59,
    "start_time": "2022-05-14T10:26:03.188Z"
   },
   {
    "duration": 46,
    "start_time": "2022-05-14T10:26:18.585Z"
   },
   {
    "duration": 53,
    "start_time": "2022-05-14T10:26:28.651Z"
   },
   {
    "duration": 666,
    "start_time": "2022-05-14T10:46:25.285Z"
   },
   {
    "duration": 14,
    "start_time": "2022-05-14T10:47:59.240Z"
   },
   {
    "duration": 37,
    "start_time": "2022-05-14T10:58:48.412Z"
   },
   {
    "duration": 12,
    "start_time": "2022-05-14T10:59:10.196Z"
   },
   {
    "duration": 11,
    "start_time": "2022-05-14T10:59:21.253Z"
   },
   {
    "duration": 4,
    "start_time": "2022-05-14T10:59:46.058Z"
   },
   {
    "duration": 4,
    "start_time": "2022-05-14T11:00:11.950Z"
   },
   {
    "duration": 4,
    "start_time": "2022-05-14T11:00:33.876Z"
   },
   {
    "duration": 12,
    "start_time": "2022-05-14T11:05:17.363Z"
   },
   {
    "duration": 3,
    "start_time": "2022-05-14T11:11:37.582Z"
   },
   {
    "duration": 5,
    "start_time": "2022-05-14T11:11:40.221Z"
   },
   {
    "duration": 3,
    "start_time": "2022-05-14T11:11:59.705Z"
   },
   {
    "duration": 5,
    "start_time": "2022-05-14T11:12:26.508Z"
   },
   {
    "duration": 13,
    "start_time": "2022-05-14T11:13:09.518Z"
   },
   {
    "duration": 6,
    "start_time": "2022-05-14T11:15:24.729Z"
   },
   {
    "duration": 74,
    "start_time": "2022-05-14T18:53:30.101Z"
   },
   {
    "duration": 2617,
    "start_time": "2022-05-14T18:53:38.328Z"
   },
   {
    "duration": 76,
    "start_time": "2022-05-14T18:53:44.351Z"
   },
   {
    "duration": 81,
    "start_time": "2022-05-14T18:53:47.374Z"
   },
   {
    "duration": 18,
    "start_time": "2022-05-14T18:53:51.049Z"
   },
   {
    "duration": 142,
    "start_time": "2022-05-14T18:53:54.156Z"
   },
   {
    "duration": 18,
    "start_time": "2022-05-14T18:54:01.888Z"
   },
   {
    "duration": 8,
    "start_time": "2022-05-14T18:55:35.542Z"
   },
   {
    "duration": 9,
    "start_time": "2022-05-14T18:56:26.779Z"
   },
   {
    "duration": 6,
    "start_time": "2022-05-14T18:56:38.123Z"
   },
   {
    "duration": 10,
    "start_time": "2022-05-14T19:02:24.386Z"
   },
   {
    "duration": 8,
    "start_time": "2022-05-14T19:03:31.243Z"
   },
   {
    "duration": 7,
    "start_time": "2022-05-14T19:04:52.654Z"
   },
   {
    "duration": 7,
    "start_time": "2022-05-14T19:07:32.985Z"
   },
   {
    "duration": 5,
    "start_time": "2022-05-14T19:07:55.396Z"
   },
   {
    "duration": 6,
    "start_time": "2022-05-14T19:08:16.145Z"
   },
   {
    "duration": 15,
    "start_time": "2022-05-14T19:09:49.024Z"
   },
   {
    "duration": 123,
    "start_time": "2022-05-14T19:10:24.197Z"
   },
   {
    "duration": 16,
    "start_time": "2022-05-14T19:11:31.503Z"
   },
   {
    "duration": 115,
    "start_time": "2022-05-14T19:13:06.010Z"
   },
   {
    "duration": 14,
    "start_time": "2022-05-14T19:13:18.557Z"
   },
   {
    "duration": 17,
    "start_time": "2022-05-14T19:14:03.275Z"
   },
   {
    "duration": 13,
    "start_time": "2022-05-14T19:14:46.708Z"
   },
   {
    "duration": 12,
    "start_time": "2022-05-14T19:15:23.450Z"
   },
   {
    "duration": 15,
    "start_time": "2022-05-14T19:15:56.607Z"
   },
   {
    "duration": 18,
    "start_time": "2022-05-14T19:16:38.909Z"
   },
   {
    "duration": 129,
    "start_time": "2022-05-14T19:18:38.305Z"
   },
   {
    "duration": 102,
    "start_time": "2022-05-14T19:20:19.642Z"
   },
   {
    "duration": 503,
    "start_time": "2022-05-14T19:20:37.798Z"
   },
   {
    "duration": 7,
    "start_time": "2022-05-14T19:22:31.864Z"
   },
   {
    "duration": 8,
    "start_time": "2022-05-14T19:23:45.663Z"
   },
   {
    "duration": 4,
    "start_time": "2022-05-14T19:23:59.612Z"
   },
   {
    "duration": 41,
    "start_time": "2022-05-14T19:24:11.665Z"
   },
   {
    "duration": 7,
    "start_time": "2022-05-14T19:24:36.731Z"
   },
   {
    "duration": 8,
    "start_time": "2022-05-14T19:24:55.072Z"
   },
   {
    "duration": 12,
    "start_time": "2022-05-14T19:26:10.693Z"
   },
   {
    "duration": 6,
    "start_time": "2022-05-14T19:26:46.412Z"
   },
   {
    "duration": 7,
    "start_time": "2022-05-14T19:27:08.059Z"
   },
   {
    "duration": 102,
    "start_time": "2022-05-14T19:27:17.880Z"
   },
   {
    "duration": 7,
    "start_time": "2022-05-14T19:27:24.588Z"
   },
   {
    "duration": 6,
    "start_time": "2022-05-14T19:30:03.110Z"
   },
   {
    "duration": 7,
    "start_time": "2022-05-14T19:30:33.996Z"
   },
   {
    "duration": 14,
    "start_time": "2022-05-14T19:31:28.785Z"
   },
   {
    "duration": 7,
    "start_time": "2022-05-14T19:32:01.743Z"
   },
   {
    "duration": 17,
    "start_time": "2022-05-14T19:43:12.461Z"
   },
   {
    "duration": 15,
    "start_time": "2022-05-14T19:44:29.644Z"
   },
   {
    "duration": 17,
    "start_time": "2022-05-14T19:49:01.063Z"
   },
   {
    "duration": 12,
    "start_time": "2022-05-14T19:51:56.005Z"
   },
   {
    "duration": 13,
    "start_time": "2022-05-14T19:52:47.087Z"
   },
   {
    "duration": 9,
    "start_time": "2022-05-14T19:57:26.029Z"
   },
   {
    "duration": 7,
    "start_time": "2022-05-14T19:58:08.814Z"
   },
   {
    "duration": 8,
    "start_time": "2022-05-14T19:58:25.349Z"
   },
   {
    "duration": 6,
    "start_time": "2022-05-14T19:58:33.877Z"
   },
   {
    "duration": 12,
    "start_time": "2022-05-14T20:00:35.511Z"
   },
   {
    "duration": 6,
    "start_time": "2022-05-14T20:00:43.978Z"
   },
   {
    "duration": 6,
    "start_time": "2022-05-14T20:06:14.533Z"
   },
   {
    "duration": 6,
    "start_time": "2022-05-14T20:06:41.969Z"
   },
   {
    "duration": 5,
    "start_time": "2022-05-14T20:07:23.433Z"
   },
   {
    "duration": 6,
    "start_time": "2022-05-14T20:07:40.497Z"
   },
   {
    "duration": 6,
    "start_time": "2022-05-14T20:08:35.956Z"
   },
   {
    "duration": 7,
    "start_time": "2022-05-14T20:10:52.695Z"
   },
   {
    "duration": 8,
    "start_time": "2022-05-14T20:11:31.503Z"
   },
   {
    "duration": 8,
    "start_time": "2022-05-14T20:12:32.500Z"
   },
   {
    "duration": 7,
    "start_time": "2022-05-14T20:12:44.869Z"
   },
   {
    "duration": 9,
    "start_time": "2022-05-14T20:28:39.078Z"
   },
   {
    "duration": 7,
    "start_time": "2022-05-14T20:29:19.895Z"
   },
   {
    "duration": 7,
    "start_time": "2022-05-14T20:29:40.513Z"
   },
   {
    "duration": 6,
    "start_time": "2022-05-14T20:32:56.774Z"
   },
   {
    "duration": 6,
    "start_time": "2022-05-14T20:33:00.214Z"
   },
   {
    "duration": 17,
    "start_time": "2022-05-14T20:33:32.703Z"
   },
   {
    "duration": 21,
    "start_time": "2022-05-14T20:59:58.112Z"
   },
   {
    "duration": 126,
    "start_time": "2022-05-14T21:06:36.309Z"
   },
   {
    "duration": 30,
    "start_time": "2022-05-14T21:37:02.693Z"
   },
   {
    "duration": 345,
    "start_time": "2022-05-14T21:40:27.384Z"
   },
   {
    "duration": 22,
    "start_time": "2022-05-14T21:40:30.917Z"
   },
   {
    "duration": 24,
    "start_time": "2022-05-14T21:40:35.478Z"
   },
   {
    "duration": 2327,
    "start_time": "2022-05-14T21:42:49.351Z"
   },
   {
    "duration": 67,
    "start_time": "2022-05-14T21:42:51.682Z"
   },
   {
    "duration": 100,
    "start_time": "2022-05-14T21:42:51.751Z"
   },
   {
    "duration": 31,
    "start_time": "2022-05-14T21:42:51.854Z"
   },
   {
    "duration": 8,
    "start_time": "2022-05-14T21:42:51.887Z"
   },
   {
    "duration": 28,
    "start_time": "2022-05-14T21:42:51.897Z"
   },
   {
    "duration": 24,
    "start_time": "2022-05-14T21:43:01.031Z"
   },
   {
    "duration": 207,
    "start_time": "2022-05-14T21:43:05.155Z"
   },
   {
    "duration": 25,
    "start_time": "2022-05-14T21:46:09.086Z"
   },
   {
    "duration": 25,
    "start_time": "2022-05-14T21:51:26.329Z"
   },
   {
    "duration": 1932,
    "start_time": "2022-05-15T15:59:18.703Z"
   },
   {
    "duration": 63,
    "start_time": "2022-05-15T15:59:20.637Z"
   },
   {
    "duration": 53,
    "start_time": "2022-05-15T15:59:20.702Z"
   },
   {
    "duration": 14,
    "start_time": "2022-05-15T15:59:20.757Z"
   },
   {
    "duration": 113,
    "start_time": "2022-05-15T15:59:27.108Z"
   },
   {
    "duration": 17,
    "start_time": "2022-05-15T16:00:24.199Z"
   },
   {
    "duration": 4,
    "start_time": "2022-05-15T16:02:48.910Z"
   },
   {
    "duration": 4,
    "start_time": "2022-05-15T16:02:50.220Z"
   },
   {
    "duration": 4,
    "start_time": "2022-05-15T16:02:57.138Z"
   },
   {
    "duration": 21,
    "start_time": "2022-05-15T16:04:19.546Z"
   },
   {
    "duration": 14,
    "start_time": "2022-05-15T16:04:37.252Z"
   },
   {
    "duration": 9,
    "start_time": "2022-05-15T16:04:47.204Z"
   },
   {
    "duration": 9,
    "start_time": "2022-05-15T16:07:44.924Z"
   },
   {
    "duration": 605,
    "start_time": "2022-05-15T16:10:55.288Z"
   },
   {
    "duration": 446,
    "start_time": "2022-05-15T16:11:25.777Z"
   },
   {
    "duration": 309,
    "start_time": "2022-05-15T16:16:05.626Z"
   },
   {
    "duration": 311,
    "start_time": "2022-05-15T16:16:20.422Z"
   },
   {
    "duration": 474,
    "start_time": "2022-05-15T16:18:25.163Z"
   },
   {
    "duration": 483,
    "start_time": "2022-05-15T16:22:48.755Z"
   },
   {
    "duration": 437,
    "start_time": "2022-05-15T16:23:20.386Z"
   },
   {
    "duration": 417,
    "start_time": "2022-05-15T16:29:50.878Z"
   },
   {
    "duration": 377,
    "start_time": "2022-05-15T16:32:20.245Z"
   },
   {
    "duration": 507,
    "start_time": "2022-05-15T16:44:10.088Z"
   },
   {
    "duration": 414,
    "start_time": "2022-05-15T16:50:09.775Z"
   },
   {
    "duration": 17,
    "start_time": "2022-05-15T16:52:48.263Z"
   },
   {
    "duration": 214,
    "start_time": "2022-05-15T17:01:39.203Z"
   },
   {
    "duration": 14,
    "start_time": "2022-05-15T17:03:16.247Z"
   },
   {
    "duration": 18,
    "start_time": "2022-05-15T17:18:48.873Z"
   },
   {
    "duration": 30,
    "start_time": "2022-05-15T17:19:16.463Z"
   },
   {
    "duration": 253,
    "start_time": "2022-05-15T17:21:21.818Z"
   },
   {
    "duration": 188,
    "start_time": "2022-05-15T17:21:43.163Z"
   },
   {
    "duration": 206,
    "start_time": "2022-05-15T17:22:00.629Z"
   },
   {
    "duration": 212,
    "start_time": "2022-05-15T17:22:09.192Z"
   },
   {
    "duration": 217,
    "start_time": "2022-05-15T17:30:42.410Z"
   },
   {
    "duration": 21,
    "start_time": "2022-05-15T17:35:43.698Z"
   },
   {
    "duration": 23,
    "start_time": "2022-05-15T17:36:04.695Z"
   },
   {
    "duration": 14,
    "start_time": "2022-05-15T17:36:26.493Z"
   },
   {
    "duration": 23,
    "start_time": "2022-05-15T17:36:31.270Z"
   },
   {
    "duration": 19,
    "start_time": "2022-05-15T17:37:14.020Z"
   },
   {
    "duration": 14,
    "start_time": "2022-05-15T17:38:21.566Z"
   },
   {
    "duration": 12,
    "start_time": "2022-05-15T17:38:40.084Z"
   },
   {
    "duration": 15,
    "start_time": "2022-05-15T17:38:53.427Z"
   },
   {
    "duration": 14,
    "start_time": "2022-05-15T17:39:28.498Z"
   },
   {
    "duration": 16,
    "start_time": "2022-05-15T17:39:39.866Z"
   },
   {
    "duration": 22,
    "start_time": "2022-05-15T17:40:02.336Z"
   },
   {
    "duration": 239,
    "start_time": "2022-05-15T17:40:29.568Z"
   },
   {
    "duration": 219,
    "start_time": "2022-05-15T17:41:13.000Z"
   },
   {
    "duration": 218,
    "start_time": "2022-05-15T17:42:27.481Z"
   },
   {
    "duration": 22,
    "start_time": "2022-05-15T17:45:11.763Z"
   },
   {
    "duration": 10,
    "start_time": "2022-05-15T17:54:32.909Z"
   },
   {
    "duration": 4,
    "start_time": "2022-05-15T17:55:07.782Z"
   },
   {
    "duration": 10,
    "start_time": "2022-05-15T17:55:20.739Z"
   },
   {
    "duration": 19,
    "start_time": "2022-05-15T18:52:51.151Z"
   },
   {
    "duration": 19,
    "start_time": "2022-05-15T19:12:52.009Z"
   },
   {
    "duration": 13,
    "start_time": "2022-05-15T19:13:12.732Z"
   },
   {
    "duration": 20,
    "start_time": "2022-05-15T19:13:21.819Z"
   },
   {
    "duration": 26,
    "start_time": "2022-05-15T19:14:57.774Z"
   },
   {
    "duration": 26,
    "start_time": "2022-05-15T19:17:54.119Z"
   },
   {
    "duration": 22,
    "start_time": "2022-05-15T19:18:02.405Z"
   },
   {
    "duration": 27,
    "start_time": "2022-05-15T19:18:33.494Z"
   },
   {
    "duration": 25,
    "start_time": "2022-05-15T19:19:12.239Z"
   },
   {
    "duration": 13,
    "start_time": "2022-05-15T19:19:31.803Z"
   },
   {
    "duration": 34,
    "start_time": "2022-05-15T19:19:42.701Z"
   },
   {
    "duration": 24,
    "start_time": "2022-05-15T19:21:18.406Z"
   },
   {
    "duration": 30,
    "start_time": "2022-05-15T19:21:23.783Z"
   },
   {
    "duration": 25,
    "start_time": "2022-05-15T19:35:54.926Z"
   },
   {
    "duration": 10,
    "start_time": "2022-05-15T19:36:17.996Z"
   },
   {
    "duration": 12,
    "start_time": "2022-05-15T19:36:47.465Z"
   },
   {
    "duration": 41,
    "start_time": "2022-05-15T19:36:50.947Z"
   },
   {
    "duration": 11,
    "start_time": "2022-05-15T19:37:07.511Z"
   },
   {
    "duration": 8,
    "start_time": "2022-05-15T19:37:18.511Z"
   },
   {
    "duration": 11,
    "start_time": "2022-05-15T19:37:38.458Z"
   },
   {
    "duration": 11,
    "start_time": "2022-05-15T19:37:46.074Z"
   },
   {
    "duration": 10,
    "start_time": "2022-05-15T19:38:15.652Z"
   },
   {
    "duration": 9,
    "start_time": "2022-05-15T19:38:48.083Z"
   },
   {
    "duration": 31,
    "start_time": "2022-05-15T19:39:34.480Z"
   },
   {
    "duration": 14,
    "start_time": "2022-05-15T19:39:37.584Z"
   },
   {
    "duration": 19,
    "start_time": "2022-05-15T19:39:40.682Z"
   },
   {
    "duration": 25,
    "start_time": "2022-05-15T19:48:42.182Z"
   },
   {
    "duration": 13,
    "start_time": "2022-05-15T19:48:51.534Z"
   },
   {
    "duration": 28,
    "start_time": "2022-05-15T19:52:28.359Z"
   },
   {
    "duration": 25,
    "start_time": "2022-05-15T19:53:17.060Z"
   },
   {
    "duration": 21,
    "start_time": "2022-05-15T19:53:23.788Z"
   },
   {
    "duration": 20,
    "start_time": "2022-05-15T19:53:25.794Z"
   },
   {
    "duration": 11,
    "start_time": "2022-05-15T19:58:33.867Z"
   },
   {
    "duration": 4,
    "start_time": "2022-05-15T19:59:40.908Z"
   },
   {
    "duration": 83,
    "start_time": "2022-05-15T19:59:50.441Z"
   },
   {
    "duration": 3,
    "start_time": "2022-05-15T20:00:51.900Z"
   },
   {
    "duration": 262,
    "start_time": "2022-05-15T20:00:59.660Z"
   },
   {
    "duration": 456,
    "start_time": "2022-05-15T20:06:35.969Z"
   },
   {
    "duration": 209,
    "start_time": "2022-05-15T20:07:09.368Z"
   },
   {
    "duration": 305,
    "start_time": "2022-05-15T20:11:43.060Z"
   },
   {
    "duration": 397,
    "start_time": "2022-05-15T20:12:28.394Z"
   },
   {
    "duration": 422,
    "start_time": "2022-05-15T20:13:03.325Z"
   },
   {
    "duration": 262,
    "start_time": "2022-05-15T20:20:49.469Z"
   },
   {
    "duration": 307,
    "start_time": "2022-05-15T20:24:31.330Z"
   },
   {
    "duration": 4,
    "start_time": "2022-05-15T20:27:54.925Z"
   },
   {
    "duration": 424,
    "start_time": "2022-05-15T20:28:03.409Z"
   },
   {
    "duration": 4,
    "start_time": "2022-05-15T20:28:24.193Z"
   },
   {
    "duration": 125,
    "start_time": "2022-05-15T20:30:34.574Z"
   },
   {
    "duration": 330,
    "start_time": "2022-05-15T20:31:41.312Z"
   },
   {
    "duration": 334,
    "start_time": "2022-05-15T20:32:13.409Z"
   },
   {
    "duration": 121,
    "start_time": "2022-05-15T20:32:41.872Z"
   },
   {
    "duration": 4,
    "start_time": "2022-05-15T20:39:33.712Z"
   },
   {
    "duration": 5,
    "start_time": "2022-05-15T20:39:49.341Z"
   },
   {
    "duration": 391,
    "start_time": "2022-05-15T20:40:03.004Z"
   },
   {
    "duration": 38699,
    "start_time": "2022-05-15T20:40:23.660Z"
   },
   {
    "duration": 340,
    "start_time": "2022-05-15T20:43:30.833Z"
   },
   {
    "duration": 44140,
    "start_time": "2022-05-15T20:44:58.996Z"
   },
   {
    "duration": 205,
    "start_time": "2022-05-15T20:52:10.109Z"
   },
   {
    "duration": 311459,
    "start_time": "2022-05-15T20:52:28.885Z"
   },
   {
    "duration": 6,
    "start_time": "2022-05-15T20:57:40.346Z"
   },
   {
    "duration": 153,
    "start_time": "2022-05-15T20:59:29.864Z"
   },
   {
    "duration": 165,
    "start_time": "2022-05-15T21:01:35.585Z"
   },
   {
    "duration": 316192,
    "start_time": "2022-05-15T21:08:17.154Z"
   },
   {
    "duration": 16,
    "start_time": "2022-05-15T21:14:54.032Z"
   },
   {
    "duration": 3966,
    "start_time": "2022-05-15T21:15:19.361Z"
   },
   {
    "duration": 269,
    "start_time": "2022-05-15T21:17:09.353Z"
   },
   {
    "duration": 124,
    "start_time": "2022-05-15T21:17:19.981Z"
   },
   {
    "duration": 15,
    "start_time": "2022-05-15T21:29:28.729Z"
   },
   {
    "duration": 10,
    "start_time": "2022-05-15T21:29:39.131Z"
   },
   {
    "duration": 50,
    "start_time": "2022-05-15T21:31:59.852Z"
   },
   {
    "duration": 57,
    "start_time": "2022-05-15T21:32:20.381Z"
   },
   {
    "duration": 9,
    "start_time": "2022-05-15T21:33:31.284Z"
   },
   {
    "duration": 5,
    "start_time": "2022-05-15T21:33:49.978Z"
   },
   {
    "duration": 3729,
    "start_time": "2022-05-15T21:41:37.022Z"
   },
   {
    "duration": 40,
    "start_time": "2022-05-15T21:43:15.467Z"
   },
   {
    "duration": 62,
    "start_time": "2022-05-15T21:44:21.050Z"
   },
   {
    "duration": 38,
    "start_time": "2022-05-15T21:45:06.333Z"
   },
   {
    "duration": 11,
    "start_time": "2022-05-15T21:45:32.217Z"
   },
   {
    "duration": 11,
    "start_time": "2022-05-15T21:45:46.705Z"
   },
   {
    "duration": 11,
    "start_time": "2022-05-15T21:45:47.736Z"
   },
   {
    "duration": 10,
    "start_time": "2022-05-15T21:46:00.082Z"
   },
   {
    "duration": 37,
    "start_time": "2022-05-15T21:46:08.106Z"
   },
   {
    "duration": 2252,
    "start_time": "2022-05-15T21:47:15.566Z"
   },
   {
    "duration": 38,
    "start_time": "2022-05-15T21:48:08.156Z"
   },
   {
    "duration": 10,
    "start_time": "2022-05-15T21:49:05.422Z"
   },
   {
    "duration": 4620,
    "start_time": "2022-05-15T21:50:21.421Z"
   },
   {
    "duration": 3696,
    "start_time": "2022-05-15T21:51:42.583Z"
   },
   {
    "duration": 37,
    "start_time": "2022-05-15T21:53:02.953Z"
   },
   {
    "duration": 4314,
    "start_time": "2022-05-15T21:53:35.748Z"
   },
   {
    "duration": 19135,
    "start_time": "2022-05-15T21:53:48.817Z"
   },
   {
    "duration": 23544,
    "start_time": "2022-05-15T21:54:32.765Z"
   },
   {
    "duration": 25733,
    "start_time": "2022-05-15T21:55:19.693Z"
   },
   {
    "duration": 0,
    "start_time": "2022-05-15T21:58:25.724Z"
   },
   {
    "duration": 80388,
    "start_time": "2022-05-15T21:58:27.468Z"
   },
   {
    "duration": 81659,
    "start_time": "2022-05-15T22:01:56.971Z"
   },
   {
    "duration": 550,
    "start_time": "2022-05-15T22:04:06.224Z"
   },
   {
    "duration": 79759,
    "start_time": "2022-05-15T22:08:19.126Z"
   },
   {
    "duration": 509,
    "start_time": "2022-05-15T22:10:36.545Z"
   },
   {
    "duration": 6,
    "start_time": "2022-05-15T22:10:47.009Z"
   },
   {
    "duration": 4,
    "start_time": "2022-05-15T22:12:46.620Z"
   },
   {
    "duration": 7,
    "start_time": "2022-05-15T22:26:54.363Z"
   },
   {
    "duration": 9,
    "start_time": "2022-05-15T22:28:39.758Z"
   },
   {
    "duration": 17,
    "start_time": "2022-05-15T22:28:51.670Z"
   },
   {
    "duration": 1675,
    "start_time": "2022-05-15T22:29:46.659Z"
   },
   {
    "duration": 50,
    "start_time": "2022-05-15T22:29:48.336Z"
   },
   {
    "duration": 48,
    "start_time": "2022-05-15T22:29:48.388Z"
   },
   {
    "duration": 12,
    "start_time": "2022-05-15T22:29:48.438Z"
   },
   {
    "duration": 22,
    "start_time": "2022-05-15T22:29:48.451Z"
   },
   {
    "duration": 14,
    "start_time": "2022-05-15T22:29:48.475Z"
   },
   {
    "duration": 445,
    "start_time": "2022-05-15T22:29:48.490Z"
   },
   {
    "duration": 10,
    "start_time": "2022-05-15T22:29:48.936Z"
   },
   {
    "duration": 28,
    "start_time": "2022-05-15T22:29:48.948Z"
   },
   {
    "duration": 15,
    "start_time": "2022-05-15T22:29:48.979Z"
   },
   {
    "duration": 27,
    "start_time": "2022-05-15T22:29:49.022Z"
   },
   {
    "duration": 123,
    "start_time": "2022-05-15T22:29:49.050Z"
   },
   {
    "duration": 402,
    "start_time": "2022-05-15T22:29:49.175Z"
   },
   {
    "duration": 424,
    "start_time": "2022-05-15T22:29:49.579Z"
   },
   {
    "duration": 326550,
    "start_time": "2022-05-15T22:29:50.005Z"
   },
   {
    "duration": 186,
    "start_time": "2022-05-15T22:35:16.557Z"
   },
   {
    "duration": 36554,
    "start_time": "2022-05-15T22:35:16.745Z"
   },
   {
    "duration": 330,
    "start_time": "2022-05-15T22:35:53.301Z"
   },
   {
    "duration": 4499,
    "start_time": "2022-05-15T22:35:53.633Z"
   },
   {
    "duration": 3820,
    "start_time": "2022-05-15T22:35:58.134Z"
   },
   {
    "duration": 3911,
    "start_time": "2022-05-15T22:36:01.956Z"
   },
   {
    "duration": 591,
    "start_time": "2022-05-15T22:36:05.869Z"
   },
   {
    "duration": 6,
    "start_time": "2022-05-15T22:36:06.462Z"
   },
   {
    "duration": 656,
    "start_time": "2022-05-15T22:37:14.728Z"
   },
   {
    "duration": 610,
    "start_time": "2022-05-15T22:37:41.202Z"
   },
   {
    "duration": 7,
    "start_time": "2022-05-15T22:37:49.951Z"
   },
   {
    "duration": 696,
    "start_time": "2022-05-15T22:37:59.261Z"
   },
   {
    "duration": 21,
    "start_time": "2022-05-15T22:51:03.883Z"
   },
   {
    "duration": 713,
    "start_time": "2022-05-15T22:51:06.693Z"
   },
   {
    "duration": 650,
    "start_time": "2022-05-15T22:51:32.581Z"
   },
   {
    "duration": 25,
    "start_time": "2022-05-15T23:07:15.907Z"
   },
   {
    "duration": 45,
    "start_time": "2022-05-15T23:13:06.893Z"
   },
   {
    "duration": 19,
    "start_time": "2022-05-15T23:13:42.595Z"
   },
   {
    "duration": 682,
    "start_time": "2022-05-15T23:15:00.699Z"
   },
   {
    "duration": 43,
    "start_time": "2022-05-15T23:15:30.414Z"
   },
   {
    "duration": 66,
    "start_time": "2022-05-15T23:16:17.231Z"
   },
   {
    "duration": 719,
    "start_time": "2022-05-15T23:17:22.864Z"
   },
   {
    "duration": 682,
    "start_time": "2022-05-15T23:21:26.953Z"
   },
   {
    "duration": 962,
    "start_time": "2022-05-15T23:21:38.419Z"
   },
   {
    "duration": 676,
    "start_time": "2022-05-15T23:21:46.706Z"
   },
   {
    "duration": 741,
    "start_time": "2022-05-15T23:23:01.966Z"
   },
   {
    "duration": 712,
    "start_time": "2022-05-15T23:23:16.345Z"
   },
   {
    "duration": 716,
    "start_time": "2022-05-15T23:23:17.941Z"
   },
   {
    "duration": 692,
    "start_time": "2022-05-15T23:23:19.459Z"
   },
   {
    "duration": 702,
    "start_time": "2022-05-15T23:23:20.875Z"
   },
   {
    "duration": 711,
    "start_time": "2022-05-15T23:23:22.355Z"
   },
   {
    "duration": 719,
    "start_time": "2022-05-15T23:23:23.748Z"
   },
   {
    "duration": 680,
    "start_time": "2022-05-15T23:23:25.121Z"
   },
   {
    "duration": 677,
    "start_time": "2022-05-15T23:29:35.036Z"
   },
   {
    "duration": 647,
    "start_time": "2022-05-15T23:29:51.444Z"
   },
   {
    "duration": 674,
    "start_time": "2022-05-15T23:29:56.278Z"
   },
   {
    "duration": 669,
    "start_time": "2022-05-15T23:29:58.014Z"
   },
   {
    "duration": 676,
    "start_time": "2022-05-15T23:29:59.426Z"
   },
   {
    "duration": 316,
    "start_time": "2022-05-15T23:30:11.308Z"
   },
   {
    "duration": 322,
    "start_time": "2022-05-15T23:30:16.494Z"
   },
   {
    "duration": 319,
    "start_time": "2022-05-15T23:30:17.528Z"
   },
   {
    "duration": 333,
    "start_time": "2022-05-15T23:30:18.190Z"
   },
   {
    "duration": 313,
    "start_time": "2022-05-15T23:30:19.294Z"
   },
   {
    "duration": 320,
    "start_time": "2022-05-15T23:30:20.248Z"
   },
   {
    "duration": 312,
    "start_time": "2022-05-15T23:30:21.214Z"
   },
   {
    "duration": 304,
    "start_time": "2022-05-15T23:30:22.250Z"
   },
   {
    "duration": 323,
    "start_time": "2022-05-15T23:30:23.224Z"
   },
   {
    "duration": 321,
    "start_time": "2022-05-15T23:30:24.196Z"
   },
   {
    "duration": 303,
    "start_time": "2022-05-15T23:30:25.169Z"
   },
   {
    "duration": 316,
    "start_time": "2022-05-15T23:30:26.134Z"
   },
   {
    "duration": 305,
    "start_time": "2022-05-15T23:30:27.196Z"
   },
   {
    "duration": 315,
    "start_time": "2022-05-15T23:30:28.162Z"
   },
   {
    "duration": 307,
    "start_time": "2022-05-15T23:30:29.244Z"
   },
   {
    "duration": 323,
    "start_time": "2022-05-15T23:30:30.280Z"
   },
   {
    "duration": 311,
    "start_time": "2022-05-15T23:30:31.337Z"
   },
   {
    "duration": 310,
    "start_time": "2022-05-15T23:30:36.623Z"
   },
   {
    "duration": 302,
    "start_time": "2022-05-15T23:30:37.923Z"
   },
   {
    "duration": 297,
    "start_time": "2022-05-15T23:30:57.673Z"
   },
   {
    "duration": 310,
    "start_time": "2022-05-15T23:30:58.997Z"
   },
   {
    "duration": 313,
    "start_time": "2022-05-15T23:31:00.297Z"
   },
   {
    "duration": 317,
    "start_time": "2022-05-15T23:31:03.825Z"
   },
   {
    "duration": 319,
    "start_time": "2022-05-15T23:31:11.175Z"
   },
   {
    "duration": 332,
    "start_time": "2022-05-15T23:31:13.922Z"
   },
   {
    "duration": 327,
    "start_time": "2022-05-15T23:31:20.520Z"
   },
   {
    "duration": 316,
    "start_time": "2022-05-15T23:31:30.060Z"
   },
   {
    "duration": 284,
    "start_time": "2022-05-15T23:31:31.746Z"
   },
   {
    "duration": 314,
    "start_time": "2022-05-15T23:31:38.359Z"
   },
   {
    "duration": 208,
    "start_time": "2022-05-15T23:32:10.497Z"
   },
   {
    "duration": 688,
    "start_time": "2022-05-15T23:32:58.868Z"
   },
   {
    "duration": 321,
    "start_time": "2022-05-15T23:33:16.904Z"
   },
   {
    "duration": 316,
    "start_time": "2022-05-15T23:34:20.158Z"
   },
   {
    "duration": 311,
    "start_time": "2022-05-15T23:34:39.372Z"
   },
   {
    "duration": 302,
    "start_time": "2022-05-16T00:24:26.962Z"
   },
   {
    "duration": 4422,
    "start_time": "2022-05-17T16:17:17.618Z"
   },
   {
    "duration": 95,
    "start_time": "2022-05-17T16:17:22.044Z"
   },
   {
    "duration": 120,
    "start_time": "2022-05-17T16:17:22.141Z"
   },
   {
    "duration": 35,
    "start_time": "2022-05-17T16:17:22.263Z"
   },
   {
    "duration": 35,
    "start_time": "2022-05-17T16:17:22.302Z"
   },
   {
    "duration": 51,
    "start_time": "2022-05-17T16:17:22.340Z"
   },
   {
    "duration": 654,
    "start_time": "2022-05-17T16:17:22.393Z"
   },
   {
    "duration": 12,
    "start_time": "2022-05-17T16:17:23.049Z"
   },
   {
    "duration": 12,
    "start_time": "2022-05-17T16:17:36.706Z"
   },
   {
    "duration": 1497,
    "start_time": "2022-05-18T19:52:11.309Z"
   },
   {
    "duration": 82,
    "start_time": "2022-05-18T19:52:12.808Z"
   },
   {
    "duration": 57,
    "start_time": "2022-05-18T19:52:12.893Z"
   },
   {
    "duration": 11,
    "start_time": "2022-05-18T19:52:12.952Z"
   },
   {
    "duration": 21,
    "start_time": "2022-05-18T19:52:12.966Z"
   },
   {
    "duration": 13,
    "start_time": "2022-05-18T19:52:12.988Z"
   },
   {
    "duration": 470,
    "start_time": "2022-05-18T19:52:13.003Z"
   },
   {
    "duration": 12,
    "start_time": "2022-05-18T19:52:13.475Z"
   },
   {
    "duration": 26,
    "start_time": "2022-05-18T19:52:13.489Z"
   },
   {
    "duration": 116,
    "start_time": "2022-05-18T19:52:24.161Z"
   },
   {
    "duration": 22,
    "start_time": "2022-05-18T19:52:45.328Z"
   },
   {
    "duration": 1350,
    "start_time": "2022-05-18T19:54:45.361Z"
   },
   {
    "duration": 48,
    "start_time": "2022-05-18T19:54:46.713Z"
   },
   {
    "duration": 76,
    "start_time": "2022-05-18T19:54:46.763Z"
   },
   {
    "duration": 15,
    "start_time": "2022-05-18T19:54:46.842Z"
   },
   {
    "duration": 21,
    "start_time": "2022-05-18T19:54:46.858Z"
   },
   {
    "duration": 16,
    "start_time": "2022-05-18T19:54:46.881Z"
   },
   {
    "duration": 440,
    "start_time": "2022-05-18T19:54:46.899Z"
   },
   {
    "duration": 10,
    "start_time": "2022-05-18T19:54:47.341Z"
   },
   {
    "duration": 8,
    "start_time": "2022-05-18T19:54:47.352Z"
   },
   {
    "duration": 29,
    "start_time": "2022-05-18T19:54:51.255Z"
   },
   {
    "duration": 24,
    "start_time": "2022-05-18T19:55:30.807Z"
   },
   {
    "duration": 131,
    "start_time": "2022-05-18T20:05:43.079Z"
   },
   {
    "duration": 25,
    "start_time": "2022-05-18T20:06:15.590Z"
   },
   {
    "duration": 429,
    "start_time": "2022-05-18T20:06:39.559Z"
   },
   {
    "duration": 17,
    "start_time": "2022-05-18T20:07:57.555Z"
   },
   {
    "duration": 21,
    "start_time": "2022-05-18T20:08:08.879Z"
   },
   {
    "duration": 123,
    "start_time": "2022-05-18T20:20:53.186Z"
   },
   {
    "duration": 1305,
    "start_time": "2022-05-18T20:25:42.254Z"
   },
   {
    "duration": 163,
    "start_time": "2022-05-18T20:32:51.068Z"
   },
   {
    "duration": 1006,
    "start_time": "2022-05-18T20:34:57.092Z"
   },
   {
    "duration": 55,
    "start_time": "2022-05-20T19:48:22.568Z"
   },
   {
    "duration": 7,
    "start_time": "2022-05-20T19:48:24.502Z"
   },
   {
    "duration": 1558,
    "start_time": "2022-05-20T19:48:34.705Z"
   },
   {
    "duration": 111,
    "start_time": "2022-05-20T19:48:36.265Z"
   },
   {
    "duration": 68,
    "start_time": "2022-05-20T19:48:36.379Z"
   },
   {
    "duration": 13,
    "start_time": "2022-05-20T19:48:36.449Z"
   },
   {
    "duration": 33,
    "start_time": "2022-05-20T19:48:36.465Z"
   },
   {
    "duration": 27,
    "start_time": "2022-05-20T19:48:36.500Z"
   },
   {
    "duration": 464,
    "start_time": "2022-05-20T19:48:36.529Z"
   },
   {
    "duration": 9,
    "start_time": "2022-05-20T19:48:36.995Z"
   },
   {
    "duration": 21,
    "start_time": "2022-05-20T19:48:37.006Z"
   },
   {
    "duration": 4,
    "start_time": "2022-05-20T19:48:37.030Z"
   },
   {
    "duration": 39,
    "start_time": "2022-05-20T19:48:37.035Z"
   },
   {
    "duration": 20,
    "start_time": "2022-05-20T19:48:37.077Z"
   },
   {
    "duration": 142,
    "start_time": "2022-05-20T19:48:37.098Z"
   },
   {
    "duration": 5,
    "start_time": "2022-05-20T19:48:40.671Z"
   },
   {
    "duration": 6,
    "start_time": "2022-05-20T19:48:50.229Z"
   },
   {
    "duration": 928,
    "start_time": "2022-05-20T19:56:46.210Z"
   },
   {
    "duration": 143,
    "start_time": "2022-05-20T19:56:49.485Z"
   },
   {
    "duration": 753,
    "start_time": "2022-05-20T19:56:54.029Z"
   },
   {
    "duration": 119,
    "start_time": "2022-05-20T19:57:15.722Z"
   },
   {
    "duration": 31,
    "start_time": "2022-05-20T19:59:13.115Z"
   },
   {
    "duration": 363,
    "start_time": "2022-05-20T19:59:22.979Z"
   },
   {
    "duration": 6,
    "start_time": "2022-05-20T20:00:00.694Z"
   },
   {
    "duration": 340,
    "start_time": "2022-05-20T20:07:52.868Z"
   },
   {
    "duration": 15,
    "start_time": "2022-05-20T20:11:09.279Z"
   },
   {
    "duration": 5,
    "start_time": "2022-05-20T20:15:29.505Z"
   },
   {
    "duration": 6,
    "start_time": "2022-05-20T20:15:37.484Z"
   },
   {
    "duration": 7,
    "start_time": "2022-05-20T20:16:03.838Z"
   },
   {
    "duration": 10,
    "start_time": "2022-05-20T20:16:39.556Z"
   },
   {
    "duration": 385,
    "start_time": "2022-05-20T20:21:51.679Z"
   },
   {
    "duration": 280828,
    "start_time": "2022-05-20T20:21:56.115Z"
   },
   {
    "duration": 28,
    "start_time": "2022-05-20T20:26:36.977Z"
   },
   {
    "duration": 540,
    "start_time": "2022-05-20T20:26:37.027Z"
   },
   {
    "duration": 21,
    "start_time": "2022-05-20T20:26:56.289Z"
   },
   {
    "duration": 6,
    "start_time": "2022-05-20T20:27:14.167Z"
   },
   {
    "duration": 565,
    "start_time": "2022-05-20T20:27:26.378Z"
   },
   {
    "duration": 552,
    "start_time": "2022-05-20T20:27:27.046Z"
   },
   {
    "duration": 602,
    "start_time": "2022-05-20T20:27:50.978Z"
   },
   {
    "duration": 21,
    "start_time": "2022-05-20T20:28:04.114Z"
   },
   {
    "duration": 25,
    "start_time": "2022-05-20T20:28:11.497Z"
   },
   {
    "duration": 21,
    "start_time": "2022-05-20T20:28:21.055Z"
   },
   {
    "duration": 404,
    "start_time": "2022-05-20T20:28:57.405Z"
   },
   {
    "duration": 24,
    "start_time": "2022-05-20T20:29:04.398Z"
   },
   {
    "duration": 183,
    "start_time": "2022-05-20T20:34:27.492Z"
   },
   {
    "duration": 128,
    "start_time": "2022-05-20T20:35:28.876Z"
   },
   {
    "duration": 28,
    "start_time": "2022-05-20T20:52:19.639Z"
   },
   {
    "duration": 19,
    "start_time": "2022-05-20T20:54:22.491Z"
   },
   {
    "duration": 5,
    "start_time": "2022-05-20T20:55:45.674Z"
   },
   {
    "duration": 22,
    "start_time": "2022-05-20T20:55:50.684Z"
   },
   {
    "duration": 26,
    "start_time": "2022-05-20T21:04:27.982Z"
   },
   {
    "duration": 47,
    "start_time": "2022-05-20T21:05:15.103Z"
   },
   {
    "duration": 13,
    "start_time": "2022-05-20T21:21:49.115Z"
   },
   {
    "duration": 6,
    "start_time": "2022-05-20T21:24:53.633Z"
   },
   {
    "duration": 415,
    "start_time": "2022-05-20T21:27:09.334Z"
   },
   {
    "duration": 413,
    "start_time": "2022-05-20T21:29:42.017Z"
   },
   {
    "duration": 511,
    "start_time": "2022-05-20T21:31:58.347Z"
   },
   {
    "duration": 521,
    "start_time": "2022-05-20T21:32:32.323Z"
   },
   {
    "duration": 150,
    "start_time": "2022-05-20T21:33:04.366Z"
   },
   {
    "duration": 47333,
    "start_time": "2022-05-20T21:35:04.733Z"
   },
   {
    "duration": 530,
    "start_time": "2022-05-20T21:36:33.156Z"
   },
   {
    "duration": 7,
    "start_time": "2022-05-20T21:44:33.817Z"
   },
   {
    "duration": 5,
    "start_time": "2022-05-20T21:59:35.202Z"
   },
   {
    "duration": 17,
    "start_time": "2022-05-20T22:05:27.333Z"
   },
   {
    "duration": 15,
    "start_time": "2022-05-20T22:06:23.822Z"
   },
   {
    "duration": 5,
    "start_time": "2022-05-20T22:06:33.616Z"
   },
   {
    "duration": 393,
    "start_time": "2022-05-20T22:07:00.564Z"
   },
   {
    "duration": 57,
    "start_time": "2022-05-20T22:07:26.949Z"
   },
   {
    "duration": 229,
    "start_time": "2022-05-20T22:07:37.349Z"
   },
   {
    "duration": 13,
    "start_time": "2022-05-20T22:08:07.220Z"
   },
   {
    "duration": 151,
    "start_time": "2022-05-20T22:08:25.167Z"
   },
   {
    "duration": 20733,
    "start_time": "2022-05-20T22:09:44.669Z"
   },
   {
    "duration": 145,
    "start_time": "2022-05-20T22:10:32.467Z"
   },
   {
    "duration": 6,
    "start_time": "2022-05-20T22:10:36.951Z"
   },
   {
    "duration": 4040,
    "start_time": "2022-05-20T22:16:35.196Z"
   },
   {
    "duration": 4123,
    "start_time": "2022-05-20T22:17:02.141Z"
   },
   {
    "duration": 6872,
    "start_time": "2022-05-20T22:17:55.800Z"
   },
   {
    "duration": 7757,
    "start_time": "2022-05-20T22:18:46.152Z"
   },
   {
    "duration": 8054,
    "start_time": "2022-05-20T22:19:42.761Z"
   },
   {
    "duration": 672,
    "start_time": "2022-05-20T22:20:37.393Z"
   },
   {
    "duration": 18,
    "start_time": "2022-05-20T22:22:24.094Z"
   },
   {
    "duration": 59,
    "start_time": "2022-05-20T22:24:01.423Z"
   },
   {
    "duration": 6,
    "start_time": "2022-05-20T22:24:49.826Z"
   },
   {
    "duration": 10,
    "start_time": "2022-05-20T22:25:17.560Z"
   },
   {
    "duration": 12,
    "start_time": "2022-05-20T22:25:52.104Z"
   },
   {
    "duration": 11,
    "start_time": "2022-05-20T22:26:08.258Z"
   },
   {
    "duration": 62,
    "start_time": "2022-05-20T22:27:48.713Z"
   },
   {
    "duration": 14,
    "start_time": "2022-05-20T22:27:52.827Z"
   },
   {
    "duration": 710,
    "start_time": "2022-05-20T22:31:44.840Z"
   },
   {
    "duration": 854,
    "start_time": "2022-05-20T22:32:52.436Z"
   },
   {
    "duration": 5,
    "start_time": "2022-05-20T22:33:30.777Z"
   },
   {
    "duration": 1279,
    "start_time": "2022-05-20T22:34:48.832Z"
   },
   {
    "duration": 48,
    "start_time": "2022-05-20T22:34:50.113Z"
   },
   {
    "duration": 48,
    "start_time": "2022-05-20T22:34:50.163Z"
   },
   {
    "duration": 22,
    "start_time": "2022-05-20T22:34:50.213Z"
   },
   {
    "duration": 40,
    "start_time": "2022-05-20T22:34:50.236Z"
   },
   {
    "duration": 49,
    "start_time": "2022-05-20T22:34:50.277Z"
   },
   {
    "duration": 384,
    "start_time": "2022-05-20T22:34:50.328Z"
   },
   {
    "duration": 18,
    "start_time": "2022-05-20T22:34:50.714Z"
   },
   {
    "duration": 7,
    "start_time": "2022-05-20T22:34:50.733Z"
   },
   {
    "duration": 20,
    "start_time": "2022-05-20T22:34:50.741Z"
   },
   {
    "duration": 50,
    "start_time": "2022-05-20T22:34:50.762Z"
   },
   {
    "duration": 33,
    "start_time": "2022-05-20T22:34:50.813Z"
   },
   {
    "duration": 113,
    "start_time": "2022-05-20T22:34:50.847Z"
   },
   {
    "duration": 943,
    "start_time": "2022-05-20T22:34:50.962Z"
   },
   {
    "duration": 153,
    "start_time": "2022-05-20T22:34:51.906Z"
   },
   {
    "duration": 773,
    "start_time": "2022-05-20T22:34:52.060Z"
   },
   {
    "duration": 22,
    "start_time": "2022-05-20T22:34:52.835Z"
   },
   {
    "duration": 341,
    "start_time": "2022-05-20T22:34:52.859Z"
   },
   {
    "duration": 418,
    "start_time": "2022-05-20T22:34:53.202Z"
   },
   {
    "duration": 133,
    "start_time": "2022-05-20T22:34:53.627Z"
   },
   {
    "duration": 260103,
    "start_time": "2022-05-20T22:34:53.762Z"
   },
   {
    "duration": 134,
    "start_time": "2022-05-20T22:39:13.867Z"
   },
   {
    "duration": 31185,
    "start_time": "2022-05-20T22:39:14.003Z"
   },
   {
    "duration": 322,
    "start_time": "2022-05-20T22:39:45.190Z"
   },
   {
    "duration": 16,
    "start_time": "2022-05-20T22:39:45.513Z"
   },
   {
    "duration": 7,
    "start_time": "2022-05-20T22:39:45.531Z"
   },
   {
    "duration": 12,
    "start_time": "2022-05-20T22:39:45.540Z"
   },
   {
    "duration": 5,
    "start_time": "2022-05-20T22:39:45.554Z"
   },
   {
    "duration": 372,
    "start_time": "2022-05-20T22:39:45.561Z"
   },
   {
    "duration": 548,
    "start_time": "2022-05-20T22:39:45.935Z"
   },
   {
    "duration": 244,
    "start_time": "2022-05-20T22:39:46.485Z"
   },
   {
    "duration": 42317,
    "start_time": "2022-05-20T22:39:46.731Z"
   },
   {
    "duration": 505,
    "start_time": "2022-05-20T22:40:29.049Z"
   },
   {
    "duration": 5,
    "start_time": "2022-05-20T22:40:29.555Z"
   },
   {
    "duration": 12,
    "start_time": "2022-05-20T22:40:29.562Z"
   },
   {
    "duration": 5,
    "start_time": "2022-05-20T22:40:29.575Z"
   },
   {
    "duration": 347,
    "start_time": "2022-05-20T22:40:29.582Z"
   },
   {
    "duration": 199,
    "start_time": "2022-05-20T22:40:29.931Z"
   },
   {
    "duration": 125,
    "start_time": "2022-05-20T22:40:30.132Z"
   },
   {
    "duration": 17688,
    "start_time": "2022-05-20T22:40:30.259Z"
   },
   {
    "duration": 142,
    "start_time": "2022-05-20T22:40:47.950Z"
   },
   {
    "duration": 5,
    "start_time": "2022-05-20T22:40:48.093Z"
   },
   {
    "duration": 6681,
    "start_time": "2022-05-20T22:40:48.100Z"
   },
   {
    "duration": 7635,
    "start_time": "2022-05-20T22:40:54.783Z"
   },
   {
    "duration": 7829,
    "start_time": "2022-05-20T22:41:02.420Z"
   },
   {
    "duration": 683,
    "start_time": "2022-05-20T22:41:10.251Z"
   },
   {
    "duration": 56,
    "start_time": "2022-05-20T22:41:10.936Z"
   },
   {
    "duration": 34,
    "start_time": "2022-05-20T22:41:10.994Z"
   },
   {
    "duration": 880,
    "start_time": "2022-05-20T22:41:11.029Z"
   },
   {
    "duration": 5,
    "start_time": "2022-05-20T22:41:11.911Z"
   },
   {
    "duration": 89,
    "start_time": "2022-05-21T05:07:20.957Z"
   },
   {
    "duration": 2061,
    "start_time": "2022-05-21T05:07:39.086Z"
   },
   {
    "duration": 99,
    "start_time": "2022-05-21T05:07:41.150Z"
   },
   {
    "duration": 80,
    "start_time": "2022-05-21T05:07:41.251Z"
   },
   {
    "duration": 15,
    "start_time": "2022-05-21T05:07:41.334Z"
   },
   {
    "duration": 42,
    "start_time": "2022-05-21T05:07:41.351Z"
   },
   {
    "duration": 22,
    "start_time": "2022-05-21T05:07:41.396Z"
   },
   {
    "duration": 6,
    "start_time": "2022-05-21T05:48:45.029Z"
   },
   {
    "duration": 61,
    "start_time": "2022-05-21T05:48:45.046Z"
   },
   {
    "duration": 64,
    "start_time": "2022-05-21T05:48:45.110Z"
   },
   {
    "duration": 12,
    "start_time": "2022-05-21T05:48:45.176Z"
   },
   {
    "duration": 26,
    "start_time": "2022-05-21T05:48:45.190Z"
   },
   {
    "duration": 20,
    "start_time": "2022-05-21T05:48:45.218Z"
   },
   {
    "duration": 870,
    "start_time": "2022-05-21T05:48:45.241Z"
   },
   {
    "duration": 13,
    "start_time": "2022-05-21T05:48:46.113Z"
   },
   {
    "duration": 11,
    "start_time": "2022-05-21T05:48:46.127Z"
   },
   {
    "duration": 14,
    "start_time": "2022-05-21T05:48:46.140Z"
   },
   {
    "duration": 90,
    "start_time": "2022-05-21T05:48:51.905Z"
   },
   {
    "duration": 5,
    "start_time": "2022-05-21T05:48:57.317Z"
   },
   {
    "duration": 52,
    "start_time": "2022-05-21T05:48:57.323Z"
   },
   {
    "duration": 66,
    "start_time": "2022-05-21T05:48:57.377Z"
   },
   {
    "duration": 28,
    "start_time": "2022-05-21T05:48:57.445Z"
   },
   {
    "duration": 34,
    "start_time": "2022-05-21T05:48:57.475Z"
   },
   {
    "duration": 15,
    "start_time": "2022-05-21T05:48:57.511Z"
   },
   {
    "duration": 452,
    "start_time": "2022-05-21T05:48:57.528Z"
   },
   {
    "duration": 10,
    "start_time": "2022-05-21T05:48:57.981Z"
   },
   {
    "duration": 8,
    "start_time": "2022-05-21T05:48:57.995Z"
   },
   {
    "duration": 15,
    "start_time": "2022-05-21T05:48:58.004Z"
   },
   {
    "duration": 76,
    "start_time": "2022-05-21T05:49:45.243Z"
   },
   {
    "duration": 70,
    "start_time": "2022-05-21T05:50:52.343Z"
   },
   {
    "duration": 255,
    "start_time": "2022-05-21T05:51:42.600Z"
   },
   {
    "duration": 886,
    "start_time": "2022-05-21T05:51:53.903Z"
   },
   {
    "duration": 893,
    "start_time": "2022-05-21T05:52:12.268Z"
   },
   {
    "duration": 1212,
    "start_time": "2022-05-21T05:52:56.501Z"
   },
   {
    "duration": 902,
    "start_time": "2022-05-21T05:54:23.213Z"
   },
   {
    "duration": 890,
    "start_time": "2022-05-21T05:54:40.027Z"
   },
   {
    "duration": 893,
    "start_time": "2022-05-21T05:54:47.645Z"
   },
   {
    "duration": 924,
    "start_time": "2022-05-21T05:54:55.645Z"
   },
   {
    "duration": 949,
    "start_time": "2022-05-21T05:55:06.569Z"
   },
   {
    "duration": 948,
    "start_time": "2022-05-21T05:55:30.965Z"
   },
   {
    "duration": 941,
    "start_time": "2022-05-21T05:56:59.318Z"
   },
   {
    "duration": 906,
    "start_time": "2022-05-21T05:57:07.262Z"
   },
   {
    "duration": 894,
    "start_time": "2022-05-21T05:57:19.225Z"
   },
   {
    "duration": 904,
    "start_time": "2022-05-21T05:57:26.554Z"
   },
   {
    "duration": 922,
    "start_time": "2022-05-21T05:58:11.870Z"
   },
   {
    "duration": 961,
    "start_time": "2022-05-21T05:58:20.324Z"
   },
   {
    "duration": 952,
    "start_time": "2022-05-21T05:59:19.531Z"
   },
   {
    "duration": 997,
    "start_time": "2022-05-21T05:59:26.376Z"
   },
   {
    "duration": 963,
    "start_time": "2022-05-21T05:59:36.486Z"
   },
   {
    "duration": 908,
    "start_time": "2022-05-21T05:59:41.217Z"
   },
   {
    "duration": 902,
    "start_time": "2022-05-21T05:59:47.421Z"
   },
   {
    "duration": 958,
    "start_time": "2022-05-21T05:59:52.157Z"
   },
   {
    "duration": 1040,
    "start_time": "2022-05-21T05:59:58.462Z"
   },
   {
    "duration": 929,
    "start_time": "2022-05-21T06:00:06.565Z"
   },
   {
    "duration": 916,
    "start_time": "2022-05-21T06:00:14.149Z"
   },
   {
    "duration": 40,
    "start_time": "2022-05-21T06:02:39.955Z"
   },
   {
    "duration": 24,
    "start_time": "2022-05-21T06:05:57.798Z"
   },
   {
    "duration": 49,
    "start_time": "2022-05-21T06:09:40.287Z"
   },
   {
    "duration": 44,
    "start_time": "2022-05-21T06:09:45.648Z"
   },
   {
    "duration": 5,
    "start_time": "2022-05-21T06:09:57.179Z"
   },
   {
    "duration": 35,
    "start_time": "2022-05-21T06:11:47.655Z"
   }
  ],
  "kernelspec": {
   "display_name": "Python 3 (ipykernel)",
   "language": "python",
   "name": "python3"
  },
  "language_info": {
   "codemirror_mode": {
    "name": "ipython",
    "version": 3
   },
   "file_extension": ".py",
   "mimetype": "text/x-python",
   "name": "python",
   "nbconvert_exporter": "python",
   "pygments_lexer": "ipython3",
   "version": "3.9.12"
  },
  "latex_envs": {
   "LaTeX_envs_menu_present": true,
   "autoclose": true,
   "autocomplete": true,
   "bibliofile": "biblio.bib",
   "cite_by": "apalike",
   "current_citInitial": 1,
   "eqLabelWithNumbers": true,
   "eqNumInitial": 1,
   "hotkeys": {
    "equation": "Ctrl-E",
    "itemize": "Ctrl-I"
   },
   "labels_anchors": false,
   "latex_user_defs": false,
   "report_style_numbering": false,
   "user_envs_cfg": false
  },
  "nbTranslate": {
   "displayLangs": [
    "ru",
    "en"
   ],
   "hotkey": "alt-t",
   "langInMainMenu": true,
   "sourceLang": "en",
   "targetLang": "ru",
   "useGoogleTranslate": true
  },
  "toc": {
   "base_numbering": 1,
   "nav_menu": {
    "height": "286px",
    "width": "205px"
   },
   "number_sections": true,
   "sideBar": true,
   "skip_h1_title": true,
   "title_cell": "Содержание",
   "title_sidebar": "Contents",
   "toc_cell": true,
   "toc_position": {
    "height": "251px",
    "left": "35px",
    "top": "111.125px",
    "width": "165px"
   },
   "toc_section_display": true,
   "toc_window_display": true
  }
 },
 "nbformat": 4,
 "nbformat_minor": 2
}
