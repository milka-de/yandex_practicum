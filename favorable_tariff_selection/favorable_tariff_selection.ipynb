{
 "cells": [
  {
   "cell_type": "markdown",
   "metadata": {},
   "source": [
    "# Исследование тарифов компании «Мегалайн»"
   ]
  },
  {
   "cell_type": "markdown",
   "metadata": {
    "toc": true
   },
   "source": [
    "<h1>Содержание<span class=\"tocSkip\"></span></h1>\n",
    "<div class=\"toc\"><ul class=\"toc-item\"><li><span><a href=\"#Изучение-данных-из-файлов\" data-toc-modified-id=\"Изучение-данных-из-файлов-1\"><span class=\"toc-item-num\">1&nbsp;&nbsp;</span>Изучение данных из файлов</a></span><ul class=\"toc-item\"><li><span><a href=\"#Вывод\" data-toc-modified-id=\"Вывод-1.1\"><span class=\"toc-item-num\">1.1&nbsp;&nbsp;</span>Вывод</a></span></li></ul></li><li><span><a href=\"#Предобработка-данных\" data-toc-modified-id=\"Предобработка-данных-2\"><span class=\"toc-item-num\">2&nbsp;&nbsp;</span>Предобработка данных</a></span><ul class=\"toc-item\"><li><span><a href=\"#Пропуски\" data-toc-modified-id=\"Пропуски-2.1\"><span class=\"toc-item-num\">2.1&nbsp;&nbsp;</span>Пропуски</a></span></li><li><span><a href=\"#Изменение-типов-данных\" data-toc-modified-id=\"Изменение-типов-данных-2.2\"><span class=\"toc-item-num\">2.2&nbsp;&nbsp;</span>Изменение типов данных</a></span></li><li><span><a href=\"#Дубликаты\" data-toc-modified-id=\"Дубликаты-2.3\"><span class=\"toc-item-num\">2.3&nbsp;&nbsp;</span>Дубликаты</a></span></li><li><span><a href=\"#Вывод\" data-toc-modified-id=\"Вывод-2.4\"><span class=\"toc-item-num\">2.4&nbsp;&nbsp;</span>Вывод</a></span></li></ul></li><li><span><a href=\"#Расчёты-и-добавление-результатов-в-таблицу\" data-toc-modified-id=\"Расчёты-и-добавление-результатов-в-таблицу-3\"><span class=\"toc-item-num\">3&nbsp;&nbsp;</span>Расчёты и добавление результатов в таблицу</a></span><ul class=\"toc-item\"><li><span><a href=\"#Вывод\" data-toc-modified-id=\"Вывод-3.1\"><span class=\"toc-item-num\">3.1&nbsp;&nbsp;</span>Вывод</a></span></li></ul></li><li><span><a href=\"#Исследовательский-анализ-данных\" data-toc-modified-id=\"Исследовательский-анализ-данных-4\"><span class=\"toc-item-num\">4&nbsp;&nbsp;</span>Исследовательский анализ данных</a></span><ul class=\"toc-item\"><li><span><a href=\"#Анализ--поведения-клиентов-оператора,-исходя-из-выборки\" data-toc-modified-id=\"Анализ--поведения-клиентов-оператора,-исходя-из-выборки-4.1\"><span class=\"toc-item-num\">4.1&nbsp;&nbsp;</span>Анализ  поведения клиентов оператора, исходя из выборки</a></span><ul class=\"toc-item\"><li><span><a href=\"#Сравнение-медианной-стоимости-тарифов-по-месяцам\" data-toc-modified-id=\"Сравнение-медианной-стоимости-тарифов-по-месяцам-4.1.1\"><span class=\"toc-item-num\">4.1.1&nbsp;&nbsp;</span>Сравнение медианной стоимости тарифов по месяцам</a></span></li><li><span><a href=\"#Анализ-поведения-клиентов-тарифов\" data-toc-modified-id=\"Анализ-поведения-клиентов-тарифов-4.1.2\"><span class=\"toc-item-num\">4.1.2&nbsp;&nbsp;</span>Анализ поведения клиентов тарифов</a></span></li></ul></li><li><span><a href=\"#Проверка-гипотез\" data-toc-modified-id=\"Проверка-гипотез-4.2\"><span class=\"toc-item-num\">4.2&nbsp;&nbsp;</span>Проверка гипотез</a></span><ul class=\"toc-item\"><li><span><a href=\"#Средняя-выручка-пользователей-тарифов-«Ультра»-и-«Смарт»-различаются\" data-toc-modified-id=\"Средняя-выручка-пользователей-тарифов-«Ультра»-и-«Смарт»-различаются-4.2.1\"><span class=\"toc-item-num\">4.2.1&nbsp;&nbsp;</span>Средняя выручка пользователей тарифов «Ультра» и «Смарт» различаются</a></span></li><li><span><a href=\"#Средняя-выручка-пользователей-из-Москвы-отличается-от-выручки-пользователей-из-других-регионов\" data-toc-modified-id=\"Средняя-выручка-пользователей-из-Москвы-отличается-от-выручки-пользователей-из-других-регионов-4.2.2\"><span class=\"toc-item-num\">4.2.2&nbsp;&nbsp;</span>Средняя выручка пользователей из Москвы отличается от выручки пользователей из других регионов</a></span></li></ul></li><li><span><a href=\"#Вывод\" data-toc-modified-id=\"Вывод-4.3\"><span class=\"toc-item-num\">4.3&nbsp;&nbsp;</span>Вывод</a></span></li></ul></li><li><span><a href=\"#Общий-вывод\" data-toc-modified-id=\"Общий-вывод-5\"><span class=\"toc-item-num\">5&nbsp;&nbsp;</span>Общий вывод</a></span></li></ul></div>"
   ]
  },
  {
   "cell_type": "markdown",
   "metadata": {},
   "source": [
    "## Изучение данных из файлов"
   ]
  },
  {
   "cell_type": "code",
   "execution_count": 1,
   "metadata": {},
   "outputs": [
    {
     "data": {
      "text/html": [
       "<div>\n",
       "<style scoped>\n",
       "    .dataframe tbody tr th:only-of-type {\n",
       "        vertical-align: middle;\n",
       "    }\n",
       "\n",
       "    .dataframe tbody tr th {\n",
       "        vertical-align: top;\n",
       "    }\n",
       "\n",
       "    .dataframe thead th {\n",
       "        text-align: right;\n",
       "    }\n",
       "</style>\n",
       "<table border=\"1\" class=\"dataframe\">\n",
       "  <thead>\n",
       "    <tr style=\"text-align: right;\">\n",
       "      <th></th>\n",
       "      <th>id</th>\n",
       "      <th>call_date</th>\n",
       "      <th>duration</th>\n",
       "      <th>user_id</th>\n",
       "    </tr>\n",
       "  </thead>\n",
       "  <tbody>\n",
       "    <tr>\n",
       "      <th>0</th>\n",
       "      <td>1000_0</td>\n",
       "      <td>2018-07-25</td>\n",
       "      <td>0.00</td>\n",
       "      <td>1000</td>\n",
       "    </tr>\n",
       "    <tr>\n",
       "      <th>1</th>\n",
       "      <td>1000_1</td>\n",
       "      <td>2018-08-17</td>\n",
       "      <td>0.00</td>\n",
       "      <td>1000</td>\n",
       "    </tr>\n",
       "    <tr>\n",
       "      <th>2</th>\n",
       "      <td>1000_2</td>\n",
       "      <td>2018-06-11</td>\n",
       "      <td>2.85</td>\n",
       "      <td>1000</td>\n",
       "    </tr>\n",
       "    <tr>\n",
       "      <th>3</th>\n",
       "      <td>1000_3</td>\n",
       "      <td>2018-09-21</td>\n",
       "      <td>13.80</td>\n",
       "      <td>1000</td>\n",
       "    </tr>\n",
       "    <tr>\n",
       "      <th>4</th>\n",
       "      <td>1000_4</td>\n",
       "      <td>2018-12-15</td>\n",
       "      <td>5.18</td>\n",
       "      <td>1000</td>\n",
       "    </tr>\n",
       "    <tr>\n",
       "      <th>5</th>\n",
       "      <td>1000_5</td>\n",
       "      <td>2018-11-02</td>\n",
       "      <td>0.00</td>\n",
       "      <td>1000</td>\n",
       "    </tr>\n",
       "    <tr>\n",
       "      <th>6</th>\n",
       "      <td>1000_6</td>\n",
       "      <td>2018-10-18</td>\n",
       "      <td>0.00</td>\n",
       "      <td>1000</td>\n",
       "    </tr>\n",
       "    <tr>\n",
       "      <th>7</th>\n",
       "      <td>1000_7</td>\n",
       "      <td>2018-08-22</td>\n",
       "      <td>18.31</td>\n",
       "      <td>1000</td>\n",
       "    </tr>\n",
       "    <tr>\n",
       "      <th>8</th>\n",
       "      <td>1000_8</td>\n",
       "      <td>2018-09-15</td>\n",
       "      <td>18.44</td>\n",
       "      <td>1000</td>\n",
       "    </tr>\n",
       "    <tr>\n",
       "      <th>9</th>\n",
       "      <td>1000_9</td>\n",
       "      <td>2018-08-15</td>\n",
       "      <td>0.00</td>\n",
       "      <td>1000</td>\n",
       "    </tr>\n",
       "    <tr>\n",
       "      <th>10</th>\n",
       "      <td>1000_10</td>\n",
       "      <td>2018-08-22</td>\n",
       "      <td>5.03</td>\n",
       "      <td>1000</td>\n",
       "    </tr>\n",
       "    <tr>\n",
       "      <th>11</th>\n",
       "      <td>1000_11</td>\n",
       "      <td>2018-05-28</td>\n",
       "      <td>18.82</td>\n",
       "      <td>1000</td>\n",
       "    </tr>\n",
       "    <tr>\n",
       "      <th>12</th>\n",
       "      <td>1000_12</td>\n",
       "      <td>2018-07-05</td>\n",
       "      <td>2.02</td>\n",
       "      <td>1000</td>\n",
       "    </tr>\n",
       "    <tr>\n",
       "      <th>13</th>\n",
       "      <td>1000_13</td>\n",
       "      <td>2018-09-29</td>\n",
       "      <td>7.15</td>\n",
       "      <td>1000</td>\n",
       "    </tr>\n",
       "    <tr>\n",
       "      <th>14</th>\n",
       "      <td>1000_14</td>\n",
       "      <td>2018-12-11</td>\n",
       "      <td>9.13</td>\n",
       "      <td>1000</td>\n",
       "    </tr>\n",
       "  </tbody>\n",
       "</table>\n",
       "</div>"
      ],
      "text/plain": [
       "         id   call_date  duration  user_id\n",
       "0    1000_0  2018-07-25      0.00     1000\n",
       "1    1000_1  2018-08-17      0.00     1000\n",
       "2    1000_2  2018-06-11      2.85     1000\n",
       "3    1000_3  2018-09-21     13.80     1000\n",
       "4    1000_4  2018-12-15      5.18     1000\n",
       "5    1000_5  2018-11-02      0.00     1000\n",
       "6    1000_6  2018-10-18      0.00     1000\n",
       "7    1000_7  2018-08-22     18.31     1000\n",
       "8    1000_8  2018-09-15     18.44     1000\n",
       "9    1000_9  2018-08-15      0.00     1000\n",
       "10  1000_10  2018-08-22      5.03     1000\n",
       "11  1000_11  2018-05-28     18.82     1000\n",
       "12  1000_12  2018-07-05      2.02     1000\n",
       "13  1000_13  2018-09-29      7.15     1000\n",
       "14  1000_14  2018-12-11      9.13     1000"
      ]
     },
     "metadata": {},
     "output_type": "display_data"
    },
    {
     "name": "stdout",
     "output_type": "stream",
     "text": [
      "<class 'pandas.core.frame.DataFrame'>\n",
      "RangeIndex: 202607 entries, 0 to 202606\n",
      "Data columns (total 4 columns):\n",
      " #   Column     Non-Null Count   Dtype  \n",
      "---  ------     --------------   -----  \n",
      " 0   id         202607 non-null  object \n",
      " 1   call_date  202607 non-null  object \n",
      " 2   duration   202607 non-null  float64\n",
      " 3   user_id    202607 non-null  int64  \n",
      "dtypes: float64(1), int64(1), object(2)\n",
      "memory usage: 6.2+ MB\n",
      "количество дубликатов: 0\n"
     ]
    },
    {
     "data": {
      "text/html": [
       "<div>\n",
       "<style scoped>\n",
       "    .dataframe tbody tr th:only-of-type {\n",
       "        vertical-align: middle;\n",
       "    }\n",
       "\n",
       "    .dataframe tbody tr th {\n",
       "        vertical-align: top;\n",
       "    }\n",
       "\n",
       "    .dataframe thead th {\n",
       "        text-align: right;\n",
       "    }\n",
       "</style>\n",
       "<table border=\"1\" class=\"dataframe\">\n",
       "  <thead>\n",
       "    <tr style=\"text-align: right;\">\n",
       "      <th></th>\n",
       "      <th>duration</th>\n",
       "      <th>user_id</th>\n",
       "    </tr>\n",
       "  </thead>\n",
       "  <tbody>\n",
       "    <tr>\n",
       "      <th>count</th>\n",
       "      <td>202607.000000</td>\n",
       "      <td>202607.000000</td>\n",
       "    </tr>\n",
       "    <tr>\n",
       "      <th>mean</th>\n",
       "      <td>6.755887</td>\n",
       "      <td>1253.940619</td>\n",
       "    </tr>\n",
       "    <tr>\n",
       "      <th>std</th>\n",
       "      <td>5.843365</td>\n",
       "      <td>144.722751</td>\n",
       "    </tr>\n",
       "    <tr>\n",
       "      <th>min</th>\n",
       "      <td>0.000000</td>\n",
       "      <td>1000.000000</td>\n",
       "    </tr>\n",
       "    <tr>\n",
       "      <th>25%</th>\n",
       "      <td>1.300000</td>\n",
       "      <td>1126.000000</td>\n",
       "    </tr>\n",
       "    <tr>\n",
       "      <th>50%</th>\n",
       "      <td>6.000000</td>\n",
       "      <td>1260.000000</td>\n",
       "    </tr>\n",
       "    <tr>\n",
       "      <th>75%</th>\n",
       "      <td>10.700000</td>\n",
       "      <td>1379.000000</td>\n",
       "    </tr>\n",
       "    <tr>\n",
       "      <th>max</th>\n",
       "      <td>38.000000</td>\n",
       "      <td>1499.000000</td>\n",
       "    </tr>\n",
       "  </tbody>\n",
       "</table>\n",
       "</div>"
      ],
      "text/plain": [
       "            duration        user_id\n",
       "count  202607.000000  202607.000000\n",
       "mean        6.755887    1253.940619\n",
       "std         5.843365     144.722751\n",
       "min         0.000000    1000.000000\n",
       "25%         1.300000    1126.000000\n",
       "50%         6.000000    1260.000000\n",
       "75%        10.700000    1379.000000\n",
       "max        38.000000    1499.000000"
      ]
     },
     "metadata": {},
     "output_type": "display_data"
    }
   ],
   "source": [
    "import pandas as pd\n",
    "import matplotlib.pyplot as plt\n",
    "import numpy as np\n",
    "import seaborn as sns\n",
    "from scipy import stats as st\n",
    "\n",
    "try:\n",
    "    df_calls =  pd.read_csv('calls.csv')\n",
    "except:\n",
    "    df_calls =  pd.read_csv('/datasets/calls.csv')\n",
    "display(df_calls.head(15))\n",
    "df_calls.info()\n",
    "print('количество дубликатов:', df_calls.duplicated().sum())\n",
    "display(df_calls.describe())"
   ]
  },
  {
   "cell_type": "code",
   "execution_count": 2,
   "metadata": {},
   "outputs": [
    {
     "data": {
      "text/html": [
       "<div>\n",
       "<style scoped>\n",
       "    .dataframe tbody tr th:only-of-type {\n",
       "        vertical-align: middle;\n",
       "    }\n",
       "\n",
       "    .dataframe tbody tr th {\n",
       "        vertical-align: top;\n",
       "    }\n",
       "\n",
       "    .dataframe thead th {\n",
       "        text-align: right;\n",
       "    }\n",
       "</style>\n",
       "<table border=\"1\" class=\"dataframe\">\n",
       "  <thead>\n",
       "    <tr style=\"text-align: right;\">\n",
       "      <th></th>\n",
       "      <th>id</th>\n",
       "      <th>mb_used</th>\n",
       "      <th>session_date</th>\n",
       "      <th>user_id</th>\n",
       "    </tr>\n",
       "  </thead>\n",
       "  <tbody>\n",
       "    <tr>\n",
       "      <th>0</th>\n",
       "      <td>1000_0</td>\n",
       "      <td>112.95</td>\n",
       "      <td>2018-11-25</td>\n",
       "      <td>1000</td>\n",
       "    </tr>\n",
       "    <tr>\n",
       "      <th>1</th>\n",
       "      <td>1000_1</td>\n",
       "      <td>1052.81</td>\n",
       "      <td>2018-09-07</td>\n",
       "      <td>1000</td>\n",
       "    </tr>\n",
       "    <tr>\n",
       "      <th>2</th>\n",
       "      <td>1000_2</td>\n",
       "      <td>1197.26</td>\n",
       "      <td>2018-06-25</td>\n",
       "      <td>1000</td>\n",
       "    </tr>\n",
       "    <tr>\n",
       "      <th>3</th>\n",
       "      <td>1000_3</td>\n",
       "      <td>550.27</td>\n",
       "      <td>2018-08-22</td>\n",
       "      <td>1000</td>\n",
       "    </tr>\n",
       "    <tr>\n",
       "      <th>4</th>\n",
       "      <td>1000_4</td>\n",
       "      <td>302.56</td>\n",
       "      <td>2018-09-24</td>\n",
       "      <td>1000</td>\n",
       "    </tr>\n",
       "    <tr>\n",
       "      <th>5</th>\n",
       "      <td>1000_5</td>\n",
       "      <td>399.97</td>\n",
       "      <td>2018-10-02</td>\n",
       "      <td>1000</td>\n",
       "    </tr>\n",
       "    <tr>\n",
       "      <th>6</th>\n",
       "      <td>1000_6</td>\n",
       "      <td>540.08</td>\n",
       "      <td>2018-09-07</td>\n",
       "      <td>1000</td>\n",
       "    </tr>\n",
       "    <tr>\n",
       "      <th>7</th>\n",
       "      <td>1000_7</td>\n",
       "      <td>415.70</td>\n",
       "      <td>2018-07-11</td>\n",
       "      <td>1000</td>\n",
       "    </tr>\n",
       "    <tr>\n",
       "      <th>8</th>\n",
       "      <td>1000_8</td>\n",
       "      <td>505.40</td>\n",
       "      <td>2018-10-08</td>\n",
       "      <td>1000</td>\n",
       "    </tr>\n",
       "    <tr>\n",
       "      <th>9</th>\n",
       "      <td>1000_9</td>\n",
       "      <td>345.54</td>\n",
       "      <td>2018-09-03</td>\n",
       "      <td>1000</td>\n",
       "    </tr>\n",
       "    <tr>\n",
       "      <th>10</th>\n",
       "      <td>1000_10</td>\n",
       "      <td>385.14</td>\n",
       "      <td>2018-09-27</td>\n",
       "      <td>1000</td>\n",
       "    </tr>\n",
       "    <tr>\n",
       "      <th>11</th>\n",
       "      <td>1000_11</td>\n",
       "      <td>0.00</td>\n",
       "      <td>2018-08-28</td>\n",
       "      <td>1000</td>\n",
       "    </tr>\n",
       "    <tr>\n",
       "      <th>12</th>\n",
       "      <td>1000_12</td>\n",
       "      <td>375.87</td>\n",
       "      <td>2018-06-20</td>\n",
       "      <td>1000</td>\n",
       "    </tr>\n",
       "    <tr>\n",
       "      <th>13</th>\n",
       "      <td>1000_13</td>\n",
       "      <td>393.83</td>\n",
       "      <td>2018-08-09</td>\n",
       "      <td>1000</td>\n",
       "    </tr>\n",
       "    <tr>\n",
       "      <th>14</th>\n",
       "      <td>1000_14</td>\n",
       "      <td>180.64</td>\n",
       "      <td>2018-08-11</td>\n",
       "      <td>1000</td>\n",
       "    </tr>\n",
       "  </tbody>\n",
       "</table>\n",
       "</div>"
      ],
      "text/plain": [
       "         id  mb_used session_date  user_id\n",
       "0    1000_0   112.95   2018-11-25     1000\n",
       "1    1000_1  1052.81   2018-09-07     1000\n",
       "2    1000_2  1197.26   2018-06-25     1000\n",
       "3    1000_3   550.27   2018-08-22     1000\n",
       "4    1000_4   302.56   2018-09-24     1000\n",
       "5    1000_5   399.97   2018-10-02     1000\n",
       "6    1000_6   540.08   2018-09-07     1000\n",
       "7    1000_7   415.70   2018-07-11     1000\n",
       "8    1000_8   505.40   2018-10-08     1000\n",
       "9    1000_9   345.54   2018-09-03     1000\n",
       "10  1000_10   385.14   2018-09-27     1000\n",
       "11  1000_11     0.00   2018-08-28     1000\n",
       "12  1000_12   375.87   2018-06-20     1000\n",
       "13  1000_13   393.83   2018-08-09     1000\n",
       "14  1000_14   180.64   2018-08-11     1000"
      ]
     },
     "metadata": {},
     "output_type": "display_data"
    },
    {
     "name": "stdout",
     "output_type": "stream",
     "text": [
      "<class 'pandas.core.frame.DataFrame'>\n",
      "RangeIndex: 149396 entries, 0 to 149395\n",
      "Data columns (total 4 columns):\n",
      " #   Column        Non-Null Count   Dtype  \n",
      "---  ------        --------------   -----  \n",
      " 0   id            149396 non-null  object \n",
      " 1   mb_used       149396 non-null  float64\n",
      " 2   session_date  149396 non-null  object \n",
      " 3   user_id       149396 non-null  int64  \n",
      "dtypes: float64(1), int64(1), object(2)\n",
      "memory usage: 4.6+ MB\n",
      "количество дубликатов: 0\n"
     ]
    },
    {
     "data": {
      "text/html": [
       "<div>\n",
       "<style scoped>\n",
       "    .dataframe tbody tr th:only-of-type {\n",
       "        vertical-align: middle;\n",
       "    }\n",
       "\n",
       "    .dataframe tbody tr th {\n",
       "        vertical-align: top;\n",
       "    }\n",
       "\n",
       "    .dataframe thead th {\n",
       "        text-align: right;\n",
       "    }\n",
       "</style>\n",
       "<table border=\"1\" class=\"dataframe\">\n",
       "  <thead>\n",
       "    <tr style=\"text-align: right;\">\n",
       "      <th></th>\n",
       "      <th>mb_used</th>\n",
       "      <th>user_id</th>\n",
       "    </tr>\n",
       "  </thead>\n",
       "  <tbody>\n",
       "    <tr>\n",
       "      <th>count</th>\n",
       "      <td>149396.000000</td>\n",
       "      <td>149396.000000</td>\n",
       "    </tr>\n",
       "    <tr>\n",
       "      <th>mean</th>\n",
       "      <td>370.192426</td>\n",
       "      <td>1252.099842</td>\n",
       "    </tr>\n",
       "    <tr>\n",
       "      <th>std</th>\n",
       "      <td>278.300951</td>\n",
       "      <td>144.050823</td>\n",
       "    </tr>\n",
       "    <tr>\n",
       "      <th>min</th>\n",
       "      <td>0.000000</td>\n",
       "      <td>1000.000000</td>\n",
       "    </tr>\n",
       "    <tr>\n",
       "      <th>25%</th>\n",
       "      <td>138.187500</td>\n",
       "      <td>1130.000000</td>\n",
       "    </tr>\n",
       "    <tr>\n",
       "      <th>50%</th>\n",
       "      <td>348.015000</td>\n",
       "      <td>1251.000000</td>\n",
       "    </tr>\n",
       "    <tr>\n",
       "      <th>75%</th>\n",
       "      <td>559.552500</td>\n",
       "      <td>1380.000000</td>\n",
       "    </tr>\n",
       "    <tr>\n",
       "      <th>max</th>\n",
       "      <td>1724.830000</td>\n",
       "      <td>1499.000000</td>\n",
       "    </tr>\n",
       "  </tbody>\n",
       "</table>\n",
       "</div>"
      ],
      "text/plain": [
       "             mb_used        user_id\n",
       "count  149396.000000  149396.000000\n",
       "mean      370.192426    1252.099842\n",
       "std       278.300951     144.050823\n",
       "min         0.000000    1000.000000\n",
       "25%       138.187500    1130.000000\n",
       "50%       348.015000    1251.000000\n",
       "75%       559.552500    1380.000000\n",
       "max      1724.830000    1499.000000"
      ]
     },
     "metadata": {},
     "output_type": "display_data"
    }
   ],
   "source": [
    "try:\n",
    "    df_internet =  pd.read_csv('internet.csv')\n",
    "except:\n",
    "    df_internet =  pd.read_csv('/datasets/internet.csv')\n",
    "df_internet = df_internet.drop(columns=['Unnamed: 0'])\n",
    "display(df_internet.head(15))\n",
    "df_internet.info()\n",
    "print('количество дубликатов:', df_internet.duplicated().sum())\n",
    "display(df_internet.describe())"
   ]
  },
  {
   "cell_type": "code",
   "execution_count": 3,
   "metadata": {},
   "outputs": [
    {
     "data": {
      "text/html": [
       "<div>\n",
       "<style scoped>\n",
       "    .dataframe tbody tr th:only-of-type {\n",
       "        vertical-align: middle;\n",
       "    }\n",
       "\n",
       "    .dataframe tbody tr th {\n",
       "        vertical-align: top;\n",
       "    }\n",
       "\n",
       "    .dataframe thead th {\n",
       "        text-align: right;\n",
       "    }\n",
       "</style>\n",
       "<table border=\"1\" class=\"dataframe\">\n",
       "  <thead>\n",
       "    <tr style=\"text-align: right;\">\n",
       "      <th></th>\n",
       "      <th>id</th>\n",
       "      <th>message_date</th>\n",
       "      <th>user_id</th>\n",
       "    </tr>\n",
       "  </thead>\n",
       "  <tbody>\n",
       "    <tr>\n",
       "      <th>0</th>\n",
       "      <td>1000_0</td>\n",
       "      <td>2018-06-27</td>\n",
       "      <td>1000</td>\n",
       "    </tr>\n",
       "    <tr>\n",
       "      <th>1</th>\n",
       "      <td>1000_1</td>\n",
       "      <td>2018-10-08</td>\n",
       "      <td>1000</td>\n",
       "    </tr>\n",
       "    <tr>\n",
       "      <th>2</th>\n",
       "      <td>1000_2</td>\n",
       "      <td>2018-08-04</td>\n",
       "      <td>1000</td>\n",
       "    </tr>\n",
       "    <tr>\n",
       "      <th>3</th>\n",
       "      <td>1000_3</td>\n",
       "      <td>2018-06-16</td>\n",
       "      <td>1000</td>\n",
       "    </tr>\n",
       "    <tr>\n",
       "      <th>4</th>\n",
       "      <td>1000_4</td>\n",
       "      <td>2018-12-05</td>\n",
       "      <td>1000</td>\n",
       "    </tr>\n",
       "    <tr>\n",
       "      <th>5</th>\n",
       "      <td>1000_5</td>\n",
       "      <td>2018-06-20</td>\n",
       "      <td>1000</td>\n",
       "    </tr>\n",
       "    <tr>\n",
       "      <th>6</th>\n",
       "      <td>1000_6</td>\n",
       "      <td>2018-11-19</td>\n",
       "      <td>1000</td>\n",
       "    </tr>\n",
       "    <tr>\n",
       "      <th>7</th>\n",
       "      <td>1000_7</td>\n",
       "      <td>2018-10-29</td>\n",
       "      <td>1000</td>\n",
       "    </tr>\n",
       "    <tr>\n",
       "      <th>8</th>\n",
       "      <td>1000_8</td>\n",
       "      <td>2018-06-25</td>\n",
       "      <td>1000</td>\n",
       "    </tr>\n",
       "    <tr>\n",
       "      <th>9</th>\n",
       "      <td>1000_9</td>\n",
       "      <td>2018-12-18</td>\n",
       "      <td>1000</td>\n",
       "    </tr>\n",
       "    <tr>\n",
       "      <th>10</th>\n",
       "      <td>1000_10</td>\n",
       "      <td>2018-05-30</td>\n",
       "      <td>1000</td>\n",
       "    </tr>\n",
       "    <tr>\n",
       "      <th>11</th>\n",
       "      <td>1000_11</td>\n",
       "      <td>2018-07-06</td>\n",
       "      <td>1000</td>\n",
       "    </tr>\n",
       "    <tr>\n",
       "      <th>12</th>\n",
       "      <td>1000_12</td>\n",
       "      <td>2018-08-20</td>\n",
       "      <td>1000</td>\n",
       "    </tr>\n",
       "    <tr>\n",
       "      <th>13</th>\n",
       "      <td>1000_13</td>\n",
       "      <td>2018-10-30</td>\n",
       "      <td>1000</td>\n",
       "    </tr>\n",
       "    <tr>\n",
       "      <th>14</th>\n",
       "      <td>1000_14</td>\n",
       "      <td>2018-09-14</td>\n",
       "      <td>1000</td>\n",
       "    </tr>\n",
       "  </tbody>\n",
       "</table>\n",
       "</div>"
      ],
      "text/plain": [
       "         id message_date  user_id\n",
       "0    1000_0   2018-06-27     1000\n",
       "1    1000_1   2018-10-08     1000\n",
       "2    1000_2   2018-08-04     1000\n",
       "3    1000_3   2018-06-16     1000\n",
       "4    1000_4   2018-12-05     1000\n",
       "5    1000_5   2018-06-20     1000\n",
       "6    1000_6   2018-11-19     1000\n",
       "7    1000_7   2018-10-29     1000\n",
       "8    1000_8   2018-06-25     1000\n",
       "9    1000_9   2018-12-18     1000\n",
       "10  1000_10   2018-05-30     1000\n",
       "11  1000_11   2018-07-06     1000\n",
       "12  1000_12   2018-08-20     1000\n",
       "13  1000_13   2018-10-30     1000\n",
       "14  1000_14   2018-09-14     1000"
      ]
     },
     "metadata": {},
     "output_type": "display_data"
    },
    {
     "name": "stdout",
     "output_type": "stream",
     "text": [
      "<class 'pandas.core.frame.DataFrame'>\n",
      "RangeIndex: 123036 entries, 0 to 123035\n",
      "Data columns (total 3 columns):\n",
      " #   Column        Non-Null Count   Dtype \n",
      "---  ------        --------------   ----- \n",
      " 0   id            123036 non-null  object\n",
      " 1   message_date  123036 non-null  object\n",
      " 2   user_id       123036 non-null  int64 \n",
      "dtypes: int64(1), object(2)\n",
      "memory usage: 2.8+ MB\n",
      "количество дубликатов: 0\n"
     ]
    }
   ],
   "source": [
    "try:\n",
    "    df_messages =  pd.read_csv('messages.csv')\n",
    "except:\n",
    "    df_messages =  pd.read_csv('/datasets/messages.csv')\n",
    "display(df_messages.head(15))\n",
    "df_messages.info()\n",
    "print('количество дубликатов:', df_messages.duplicated().sum())"
   ]
  },
  {
   "cell_type": "code",
   "execution_count": 4,
   "metadata": {},
   "outputs": [
    {
     "data": {
      "text/html": [
       "<div>\n",
       "<style scoped>\n",
       "    .dataframe tbody tr th:only-of-type {\n",
       "        vertical-align: middle;\n",
       "    }\n",
       "\n",
       "    .dataframe tbody tr th {\n",
       "        vertical-align: top;\n",
       "    }\n",
       "\n",
       "    .dataframe thead th {\n",
       "        text-align: right;\n",
       "    }\n",
       "</style>\n",
       "<table border=\"1\" class=\"dataframe\">\n",
       "  <thead>\n",
       "    <tr style=\"text-align: right;\">\n",
       "      <th></th>\n",
       "      <th>messages_included</th>\n",
       "      <th>mb_per_month_included</th>\n",
       "      <th>minutes_included</th>\n",
       "      <th>rub_monthly_fee</th>\n",
       "      <th>rub_per_gb</th>\n",
       "      <th>rub_per_message</th>\n",
       "      <th>rub_per_minute</th>\n",
       "      <th>tariff_name</th>\n",
       "    </tr>\n",
       "  </thead>\n",
       "  <tbody>\n",
       "    <tr>\n",
       "      <th>0</th>\n",
       "      <td>50</td>\n",
       "      <td>15360</td>\n",
       "      <td>500</td>\n",
       "      <td>550</td>\n",
       "      <td>200</td>\n",
       "      <td>3</td>\n",
       "      <td>3</td>\n",
       "      <td>smart</td>\n",
       "    </tr>\n",
       "    <tr>\n",
       "      <th>1</th>\n",
       "      <td>1000</td>\n",
       "      <td>30720</td>\n",
       "      <td>3000</td>\n",
       "      <td>1950</td>\n",
       "      <td>150</td>\n",
       "      <td>1</td>\n",
       "      <td>1</td>\n",
       "      <td>ultra</td>\n",
       "    </tr>\n",
       "  </tbody>\n",
       "</table>\n",
       "</div>"
      ],
      "text/plain": [
       "   messages_included  mb_per_month_included  minutes_included  \\\n",
       "0                 50                  15360               500   \n",
       "1               1000                  30720              3000   \n",
       "\n",
       "   rub_monthly_fee  rub_per_gb  rub_per_message  rub_per_minute tariff_name  \n",
       "0              550         200                3               3       smart  \n",
       "1             1950         150                1               1       ultra  "
      ]
     },
     "metadata": {},
     "output_type": "display_data"
    },
    {
     "name": "stdout",
     "output_type": "stream",
     "text": [
      "<class 'pandas.core.frame.DataFrame'>\n",
      "RangeIndex: 2 entries, 0 to 1\n",
      "Data columns (total 8 columns):\n",
      " #   Column                 Non-Null Count  Dtype \n",
      "---  ------                 --------------  ----- \n",
      " 0   messages_included      2 non-null      int64 \n",
      " 1   mb_per_month_included  2 non-null      int64 \n",
      " 2   minutes_included       2 non-null      int64 \n",
      " 3   rub_monthly_fee        2 non-null      int64 \n",
      " 4   rub_per_gb             2 non-null      int64 \n",
      " 5   rub_per_message        2 non-null      int64 \n",
      " 6   rub_per_minute         2 non-null      int64 \n",
      " 7   tariff_name            2 non-null      object\n",
      "dtypes: int64(7), object(1)\n",
      "memory usage: 256.0+ bytes\n",
      "количество дубликатов: 0\n"
     ]
    }
   ],
   "source": [
    "try:\n",
    "    df_tariffs =  pd.read_csv('tariffs.csv')\n",
    "except:\n",
    "    df_tariffs =  pd.read_csv('/datasets/tariffs.csv')\n",
    "display(df_tariffs.head(15))\n",
    "df_tariffs.info()\n",
    "print('количество дубликатов:', df_tariffs.duplicated().sum())"
   ]
  },
  {
   "cell_type": "code",
   "execution_count": 5,
   "metadata": {},
   "outputs": [
    {
     "data": {
      "text/html": [
       "<div>\n",
       "<style scoped>\n",
       "    .dataframe tbody tr th:only-of-type {\n",
       "        vertical-align: middle;\n",
       "    }\n",
       "\n",
       "    .dataframe tbody tr th {\n",
       "        vertical-align: top;\n",
       "    }\n",
       "\n",
       "    .dataframe thead th {\n",
       "        text-align: right;\n",
       "    }\n",
       "</style>\n",
       "<table border=\"1\" class=\"dataframe\">\n",
       "  <thead>\n",
       "    <tr style=\"text-align: right;\">\n",
       "      <th></th>\n",
       "      <th>user_id</th>\n",
       "      <th>age</th>\n",
       "      <th>churn_date</th>\n",
       "      <th>city</th>\n",
       "      <th>first_name</th>\n",
       "      <th>last_name</th>\n",
       "      <th>reg_date</th>\n",
       "      <th>tariff</th>\n",
       "    </tr>\n",
       "  </thead>\n",
       "  <tbody>\n",
       "    <tr>\n",
       "      <th>0</th>\n",
       "      <td>1000</td>\n",
       "      <td>52</td>\n",
       "      <td>NaN</td>\n",
       "      <td>Краснодар</td>\n",
       "      <td>Рафаил</td>\n",
       "      <td>Верещагин</td>\n",
       "      <td>2018-05-25</td>\n",
       "      <td>ultra</td>\n",
       "    </tr>\n",
       "    <tr>\n",
       "      <th>1</th>\n",
       "      <td>1001</td>\n",
       "      <td>41</td>\n",
       "      <td>NaN</td>\n",
       "      <td>Москва</td>\n",
       "      <td>Иван</td>\n",
       "      <td>Ежов</td>\n",
       "      <td>2018-11-01</td>\n",
       "      <td>smart</td>\n",
       "    </tr>\n",
       "    <tr>\n",
       "      <th>2</th>\n",
       "      <td>1002</td>\n",
       "      <td>59</td>\n",
       "      <td>NaN</td>\n",
       "      <td>Стерлитамак</td>\n",
       "      <td>Евгений</td>\n",
       "      <td>Абрамович</td>\n",
       "      <td>2018-06-17</td>\n",
       "      <td>smart</td>\n",
       "    </tr>\n",
       "    <tr>\n",
       "      <th>3</th>\n",
       "      <td>1003</td>\n",
       "      <td>23</td>\n",
       "      <td>NaN</td>\n",
       "      <td>Москва</td>\n",
       "      <td>Белла</td>\n",
       "      <td>Белякова</td>\n",
       "      <td>2018-08-17</td>\n",
       "      <td>ultra</td>\n",
       "    </tr>\n",
       "    <tr>\n",
       "      <th>4</th>\n",
       "      <td>1004</td>\n",
       "      <td>68</td>\n",
       "      <td>NaN</td>\n",
       "      <td>Новокузнецк</td>\n",
       "      <td>Татьяна</td>\n",
       "      <td>Авдеенко</td>\n",
       "      <td>2018-05-14</td>\n",
       "      <td>ultra</td>\n",
       "    </tr>\n",
       "    <tr>\n",
       "      <th>5</th>\n",
       "      <td>1005</td>\n",
       "      <td>67</td>\n",
       "      <td>NaN</td>\n",
       "      <td>Набережные Челны</td>\n",
       "      <td>Афанасий</td>\n",
       "      <td>Горлов</td>\n",
       "      <td>2018-01-25</td>\n",
       "      <td>smart</td>\n",
       "    </tr>\n",
       "    <tr>\n",
       "      <th>6</th>\n",
       "      <td>1006</td>\n",
       "      <td>21</td>\n",
       "      <td>NaN</td>\n",
       "      <td>Ульяновск</td>\n",
       "      <td>Леонид</td>\n",
       "      <td>Ермолаев</td>\n",
       "      <td>2018-02-26</td>\n",
       "      <td>smart</td>\n",
       "    </tr>\n",
       "    <tr>\n",
       "      <th>7</th>\n",
       "      <td>1007</td>\n",
       "      <td>65</td>\n",
       "      <td>NaN</td>\n",
       "      <td>Москва</td>\n",
       "      <td>Юна</td>\n",
       "      <td>Березина</td>\n",
       "      <td>2018-04-19</td>\n",
       "      <td>smart</td>\n",
       "    </tr>\n",
       "    <tr>\n",
       "      <th>8</th>\n",
       "      <td>1008</td>\n",
       "      <td>63</td>\n",
       "      <td>NaN</td>\n",
       "      <td>Челябинск</td>\n",
       "      <td>Рустэм</td>\n",
       "      <td>Пономарёв</td>\n",
       "      <td>2018-12-19</td>\n",
       "      <td>smart</td>\n",
       "    </tr>\n",
       "    <tr>\n",
       "      <th>9</th>\n",
       "      <td>1009</td>\n",
       "      <td>24</td>\n",
       "      <td>NaN</td>\n",
       "      <td>Пермь</td>\n",
       "      <td>Василиса</td>\n",
       "      <td>Блинова</td>\n",
       "      <td>2018-03-22</td>\n",
       "      <td>smart</td>\n",
       "    </tr>\n",
       "    <tr>\n",
       "      <th>10</th>\n",
       "      <td>1010</td>\n",
       "      <td>26</td>\n",
       "      <td>NaN</td>\n",
       "      <td>Тюмень</td>\n",
       "      <td>Эдуард</td>\n",
       "      <td>Кононов</td>\n",
       "      <td>2018-08-05</td>\n",
       "      <td>smart</td>\n",
       "    </tr>\n",
       "    <tr>\n",
       "      <th>11</th>\n",
       "      <td>1011</td>\n",
       "      <td>44</td>\n",
       "      <td>NaN</td>\n",
       "      <td>Самара</td>\n",
       "      <td>Веселина</td>\n",
       "      <td>Алёшко</td>\n",
       "      <td>2018-03-19</td>\n",
       "      <td>smart</td>\n",
       "    </tr>\n",
       "    <tr>\n",
       "      <th>12</th>\n",
       "      <td>1012</td>\n",
       "      <td>38</td>\n",
       "      <td>NaN</td>\n",
       "      <td>Санкт-Петербург</td>\n",
       "      <td>Варлам</td>\n",
       "      <td>Соловьев</td>\n",
       "      <td>2018-03-28</td>\n",
       "      <td>smart</td>\n",
       "    </tr>\n",
       "    <tr>\n",
       "      <th>13</th>\n",
       "      <td>1013</td>\n",
       "      <td>36</td>\n",
       "      <td>NaN</td>\n",
       "      <td>Иваново</td>\n",
       "      <td>Борис</td>\n",
       "      <td>Андреенко</td>\n",
       "      <td>2018-11-14</td>\n",
       "      <td>ultra</td>\n",
       "    </tr>\n",
       "    <tr>\n",
       "      <th>14</th>\n",
       "      <td>1014</td>\n",
       "      <td>64</td>\n",
       "      <td>NaN</td>\n",
       "      <td>Чебоксары</td>\n",
       "      <td>Яков</td>\n",
       "      <td>Акинфьев</td>\n",
       "      <td>2018-05-15</td>\n",
       "      <td>smart</td>\n",
       "    </tr>\n",
       "  </tbody>\n",
       "</table>\n",
       "</div>"
      ],
      "text/plain": [
       "    user_id  age churn_date              city first_name  last_name  \\\n",
       "0      1000   52        NaN         Краснодар     Рафаил  Верещагин   \n",
       "1      1001   41        NaN            Москва       Иван       Ежов   \n",
       "2      1002   59        NaN       Стерлитамак    Евгений  Абрамович   \n",
       "3      1003   23        NaN            Москва      Белла   Белякова   \n",
       "4      1004   68        NaN       Новокузнецк    Татьяна   Авдеенко   \n",
       "5      1005   67        NaN  Набережные Челны   Афанасий     Горлов   \n",
       "6      1006   21        NaN         Ульяновск     Леонид   Ермолаев   \n",
       "7      1007   65        NaN            Москва        Юна   Березина   \n",
       "8      1008   63        NaN         Челябинск     Рустэм  Пономарёв   \n",
       "9      1009   24        NaN             Пермь   Василиса    Блинова   \n",
       "10     1010   26        NaN            Тюмень     Эдуард    Кононов   \n",
       "11     1011   44        NaN            Самара   Веселина     Алёшко   \n",
       "12     1012   38        NaN   Санкт-Петербург     Варлам   Соловьев   \n",
       "13     1013   36        NaN           Иваново      Борис  Андреенко   \n",
       "14     1014   64        NaN         Чебоксары       Яков   Акинфьев   \n",
       "\n",
       "      reg_date tariff  \n",
       "0   2018-05-25  ultra  \n",
       "1   2018-11-01  smart  \n",
       "2   2018-06-17  smart  \n",
       "3   2018-08-17  ultra  \n",
       "4   2018-05-14  ultra  \n",
       "5   2018-01-25  smart  \n",
       "6   2018-02-26  smart  \n",
       "7   2018-04-19  smart  \n",
       "8   2018-12-19  smart  \n",
       "9   2018-03-22  smart  \n",
       "10  2018-08-05  smart  \n",
       "11  2018-03-19  smart  \n",
       "12  2018-03-28  smart  \n",
       "13  2018-11-14  ultra  \n",
       "14  2018-05-15  smart  "
      ]
     },
     "metadata": {},
     "output_type": "display_data"
    },
    {
     "name": "stdout",
     "output_type": "stream",
     "text": [
      "<class 'pandas.core.frame.DataFrame'>\n",
      "RangeIndex: 500 entries, 0 to 499\n",
      "Data columns (total 8 columns):\n",
      " #   Column      Non-Null Count  Dtype \n",
      "---  ------      --------------  ----- \n",
      " 0   user_id     500 non-null    int64 \n",
      " 1   age         500 non-null    int64 \n",
      " 2   churn_date  38 non-null     object\n",
      " 3   city        500 non-null    object\n",
      " 4   first_name  500 non-null    object\n",
      " 5   last_name   500 non-null    object\n",
      " 6   reg_date    500 non-null    object\n",
      " 7   tariff      500 non-null    object\n",
      "dtypes: int64(2), object(6)\n",
      "memory usage: 31.4+ KB\n",
      "количество дубликатов: 0\n"
     ]
    }
   ],
   "source": [
    "try:\n",
    "    df_users =  pd.read_csv('users.csv')\n",
    "except:\n",
    "    df_users =  pd.read_csv('/datasets/users.csv')\n",
    "display(df_users.head(15))\n",
    "df_users.info()\n",
    "print('количество дубликатов:', df_users.duplicated().sum())\n"
   ]
  },
  {
   "cell_type": "markdown",
   "metadata": {},
   "source": [
    "                                               Итак, в данных 5 таблиц:\n",
    "\n",
    "<div style=\"border:solid blue 2px; padding: 10px\">\n",
    "    \n",
    "Таблица `users` (информация о пользователях):\n",
    "\n",
    "* `user_id` — уникальный идентификатор пользователя\n",
    "* `first_name` — имя пользователя\n",
    "* `last_name` — фамилия пользователя\n",
    "* `age` — возраст пользователя (годы)\n",
    "* `reg_date` — дата подключения тарифа (день, месяц, год)\n",
    "* `churn_date` — дата прекращения пользования тарифом (если значение пропущено, то тариф ещё действовал на момент выгрузки данных)\n",
    "* `city` — город проживания пользователя\n",
    "* `tariff` — название тарифного плана \n",
    "</div>\n",
    "\n",
    "\n",
    "<div style=\"border:solid blue 2px; padding: 10px\">\n",
    "    \n",
    "Таблица `calls` (информация о звонках):\n",
    "\n",
    "* `id` — уникальный номер звонка\n",
    "* `call_date` — дата звонка\n",
    "* `duration` — длительность звонка в минутах\n",
    "* `user_id` — идентификатор пользователя, сделавшего звонок\n",
    "</div>\n",
    " \n",
    " \n",
    "<div style=\"border:solid blue 2px; padding: 10px\">\n",
    "    \n",
    "Таблица `messages` (информация о сообщениях):\n",
    "\n",
    "* `id` — уникальный номер сообщения\n",
    "* `message_date` — дата сообщения\n",
    "* `user_id` — идентификатор пользователя, отправившего сообщение\n",
    " </div>\n",
    "   \n",
    "   \n",
    "<div style=\"border:solid blue 2px; padding: 10px\">\n",
    "    \n",
    "Таблица `internet` (информация об интернет-сессиях):\n",
    "\n",
    "* `id` — уникальный номер сессии\n",
    "* `mb_used` — объём потраченного за сессию интернет-трафика (в мегабайтах)\n",
    "* `session_date` — дата интернет-сессии\n",
    "* `user_id` — идентификатор пользователя\n",
    "</div>\n",
    " \n",
    " \n",
    "<div style=\"border:solid blue 2px; padding: 10px\">\n",
    "    \n",
    "Таблица `tariffs` (информация о тарифах):\n",
    "\n",
    "* `tariff_name` — название тарифа\n",
    "* `rub_monthly_fee` — ежемесячная абонентская плата в рублях\n",
    "* `minutes_included` — количество минут разговора в месяц, включённых в абонентскую плату\n",
    "* `messages_included` — количество сообщений в месяц, включённых в абонентскую плату\n",
    "* `mb_per_month_included` — объём интернет-трафика, включённого в абонентскую плату (в мегабайтах)\n",
    "* `rub_per_minute` — стоимость минуты разговора сверх тарифного пакета (например, если в тарифе 100 минут разговора в месяц, то со 101 минуты будет взиматься плата)\n",
    "* `rub_per_message` — стоимость отправки сообщения сверх тарифного пакета\n",
    "* `rub_per_gb` — стоимость дополнительного гигабайта интернет-трафика сверх тарифного пакета (1 гигабайт = 1024 мегабайта)\n",
    "</div>"
   ]
  },
  {
   "cell_type": "markdown",
   "metadata": {},
   "source": [
    "### Вывод"
   ]
  },
  {
   "cell_type": "markdown",
   "metadata": {},
   "source": [
    "Каждая таблица содержит определённые данные о конкретном параметре - пользователи, звонки, сообщения, интернет-сессии и тарифы.\n",
    "\n",
    "4 таблицы связаны по столбцу `user_id`, пятая по названию тарифного плана\n",
    "\n",
    "Предварительно можно утверждать, что, данных достаточно для проверки гипотез. Не встречаются пропуски в данных, явные и неявные дубликаты отсутствуют, есть типы данных, которые нужно измменить.\n",
    "Чтобы двигаться дальше, нужно устранить проблемы в данных."
   ]
  },
  {
   "cell_type": "markdown",
   "metadata": {},
   "source": [
    "## Предобработка данных"
   ]
  },
  {
   "cell_type": "markdown",
   "metadata": {},
   "source": [
    "### Пропуски"
   ]
  },
  {
   "cell_type": "code",
   "execution_count": 6,
   "metadata": {
    "scrolled": false
   },
   "outputs": [
    {
     "data": {
      "text/plain": [
       "user_id         0\n",
       "age             0\n",
       "churn_date    462\n",
       "city            0\n",
       "first_name      0\n",
       "last_name       0\n",
       "reg_date        0\n",
       "tariff          0\n",
       "dtype: int64"
      ]
     },
     "execution_count": 6,
     "metadata": {},
     "output_type": "execute_result"
    }
   ],
   "source": [
    "df_users.isna().sum()"
   ]
  },
  {
   "cell_type": "markdown",
   "metadata": {},
   "source": [
    "Пропуски имеет только таблица `df_users` и только в столбце `churn_date`, это не ошибка ведь от заказчика поступала информация, что \"если значение пропущено, то тариф ещё действовал на момент выгрузки данных\", поэтому заисключением этого пропуски отсутствуют"
   ]
  },
  {
   "cell_type": "markdown",
   "metadata": {},
   "source": [
    "### Изменение типов данных"
   ]
  },
  {
   "cell_type": "code",
   "execution_count": 7,
   "metadata": {
    "scrolled": false
   },
   "outputs": [
    {
     "name": "stdout",
     "output_type": "stream",
     "text": [
      "<class 'pandas.core.frame.DataFrame'>\n",
      "RangeIndex: 202607 entries, 0 to 202606\n",
      "Data columns (total 4 columns):\n",
      " #   Column     Non-Null Count   Dtype         \n",
      "---  ------     --------------   -----         \n",
      " 0   id         202607 non-null  object        \n",
      " 1   call_date  202607 non-null  datetime64[ns]\n",
      " 2   duration   202607 non-null  float64       \n",
      " 3   user_id    202607 non-null  int64         \n",
      "dtypes: datetime64[ns](1), float64(1), int64(1), object(1)\n",
      "memory usage: 6.2+ MB\n",
      "<class 'pandas.core.frame.DataFrame'>\n",
      "RangeIndex: 149396 entries, 0 to 149395\n",
      "Data columns (total 4 columns):\n",
      " #   Column        Non-Null Count   Dtype         \n",
      "---  ------        --------------   -----         \n",
      " 0   id            149396 non-null  object        \n",
      " 1   mb_used       149396 non-null  float64       \n",
      " 2   session_date  149396 non-null  datetime64[ns]\n",
      " 3   user_id       149396 non-null  int64         \n",
      "dtypes: datetime64[ns](1), float64(1), int64(1), object(1)\n",
      "memory usage: 4.6+ MB\n",
      "<class 'pandas.core.frame.DataFrame'>\n",
      "RangeIndex: 123036 entries, 0 to 123035\n",
      "Data columns (total 3 columns):\n",
      " #   Column        Non-Null Count   Dtype         \n",
      "---  ------        --------------   -----         \n",
      " 0   id            123036 non-null  object        \n",
      " 1   message_date  123036 non-null  datetime64[ns]\n",
      " 2   user_id       123036 non-null  int64         \n",
      "dtypes: datetime64[ns](1), int64(1), object(1)\n",
      "memory usage: 2.8+ MB\n",
      "<class 'pandas.core.frame.DataFrame'>\n",
      "RangeIndex: 500 entries, 0 to 499\n",
      "Data columns (total 8 columns):\n",
      " #   Column      Non-Null Count  Dtype         \n",
      "---  ------      --------------  -----         \n",
      " 0   user_id     500 non-null    int64         \n",
      " 1   age         500 non-null    int64         \n",
      " 2   churn_date  38 non-null     object        \n",
      " 3   city        500 non-null    object        \n",
      " 4   first_name  500 non-null    object        \n",
      " 5   last_name   500 non-null    object        \n",
      " 6   reg_date    500 non-null    datetime64[ns]\n",
      " 7   tariff      500 non-null    object        \n",
      "dtypes: datetime64[ns](1), int64(2), object(5)\n",
      "memory usage: 31.4+ KB\n"
     ]
    }
   ],
   "source": [
    "df_calls['call_date'] = pd.to_datetime(df_calls['call_date'], format='%Y-%m-%d') #2018-07-25\n",
    "df_calls.info()\n",
    "df_internet['session_date'] = pd.to_datetime(df_internet['session_date'], format='%Y-%m-%d') \n",
    "df_internet.info()\n",
    "df_messages['message_date'] = pd.to_datetime(df_messages['message_date'], format='%Y-%m-%d') \n",
    "df_messages.info()\n",
    "df_users['reg_date'] = pd.to_datetime(df_users['reg_date'], format='%Y-%m-%d') \n",
    "df_users.info()"
   ]
  },
  {
   "cell_type": "markdown",
   "metadata": {},
   "source": [
    "дату и время привели к правильному типу данных - `datetime64`"
   ]
  },
  {
   "cell_type": "markdown",
   "metadata": {},
   "source": [
    "### Дубликаты"
   ]
  },
  {
   "cell_type": "code",
   "execution_count": 8,
   "metadata": {
    "scrolled": false
   },
   "outputs": [
    {
     "data": {
      "text/plain": [
       "['Архангельск',\n",
       " 'Астрахань',\n",
       " 'Балашиха',\n",
       " 'Барнаул',\n",
       " 'Белгород',\n",
       " 'Брянск',\n",
       " 'Владивосток',\n",
       " 'Владикавказ',\n",
       " 'Владимир',\n",
       " 'Волгоград',\n",
       " 'Волжский',\n",
       " 'Вологда',\n",
       " 'Воронеж',\n",
       " 'Грозный',\n",
       " 'Екатеринбург',\n",
       " 'Иваново',\n",
       " 'Ижевск',\n",
       " 'Иркутск',\n",
       " 'Казань',\n",
       " 'Калининград',\n",
       " 'Калуга',\n",
       " 'Кемерово',\n",
       " 'Киров',\n",
       " 'Кострома',\n",
       " 'Краснодар',\n",
       " 'Красноярск',\n",
       " 'Курган',\n",
       " 'Курск',\n",
       " 'Липецк',\n",
       " 'Магнитогорск',\n",
       " 'Махачкала',\n",
       " 'Москва',\n",
       " 'Мурманск',\n",
       " 'Набережные Челны',\n",
       " 'Нижневартовск',\n",
       " 'Нижний Новгород',\n",
       " 'Нижний Тагил',\n",
       " 'Новокузнецк',\n",
       " 'Новороссийск',\n",
       " 'Новосибирск',\n",
       " 'Омск',\n",
       " 'Оренбург',\n",
       " 'Орёл',\n",
       " 'Пенза',\n",
       " 'Пермь',\n",
       " 'Петрозаводск',\n",
       " 'Подольск',\n",
       " 'Ростов-на-Дону',\n",
       " 'Рязань',\n",
       " 'Самара',\n",
       " 'Санкт-Петербург',\n",
       " 'Саранск',\n",
       " 'Саратов',\n",
       " 'Севастополь',\n",
       " 'Смоленск',\n",
       " 'Сочи',\n",
       " 'Ставрополь',\n",
       " 'Стерлитамак',\n",
       " 'Сургут',\n",
       " 'Тамбов',\n",
       " 'Тверь',\n",
       " 'Тольятти',\n",
       " 'Томск',\n",
       " 'Тула',\n",
       " 'Тюмень',\n",
       " 'Улан-Удэ',\n",
       " 'Ульяновск',\n",
       " 'Уфа',\n",
       " 'Хабаровск',\n",
       " 'Химки',\n",
       " 'Чебоксары',\n",
       " 'Челябинск',\n",
       " 'Череповец',\n",
       " 'Чита',\n",
       " 'Якутск',\n",
       " 'Ярославль']"
      ]
     },
     "execution_count": 8,
     "metadata": {},
     "output_type": "execute_result"
    }
   ],
   "source": [
    "sorted(df_users['city'].unique())"
   ]
  },
  {
   "cell_type": "markdown",
   "metadata": {},
   "source": [
    "На этапе изучения данных мы проверили наличае явных дубликатов, а точнее их отсутствие, но переменная `city` может иметь неправильное написание. Будь у нас под рукой паспортные данные юзеров, написание имени и фамилии также проверили бы, ничего на пользоватеей оставлять нельзя, за каждым неверным написанием могут скрываться неявные дубликаты \n",
    "\n",
    "Но нам повезло и все города написаны исправно и с верным регистром, так что можем прожолжить анализ с чистой совестью, зная, что всё чтобы выявить неявные дубликаты мы сделали и их не обнаружилось"
   ]
  },
  {
   "cell_type": "markdown",
   "metadata": {},
   "source": [
    "### Вывод"
   ]
  },
  {
   "cell_type": "markdown",
   "metadata": {},
   "source": [
    "В данном этапе мы провели предобработку данных и теперь данные подготовлены к изучению\n",
    "\n",
    "В данных присутствуют пропуски, которые мы решили проигнорировать, а также неподходящие типы данных, которые мы изменили,  дубликаты отсутствовали"
   ]
  },
  {
   "cell_type": "markdown",
   "metadata": {},
   "source": [
    "## Расчёты и добавление результатов в таблицу"
   ]
  },
  {
   "cell_type": "code",
   "execution_count": 9,
   "metadata": {},
   "outputs": [],
   "source": [
    "df_calls['duration']= np.ceil(df_calls['duration']) "
   ]
  },
  {
   "cell_type": "code",
   "execution_count": 11,
   "metadata": {},
   "outputs": [
    {
     "data": {
      "text/html": [
       "<div>\n",
       "<style scoped>\n",
       "    .dataframe tbody tr th:only-of-type {\n",
       "        vertical-align: middle;\n",
       "    }\n",
       "\n",
       "    .dataframe tbody tr th {\n",
       "        vertical-align: top;\n",
       "    }\n",
       "\n",
       "    .dataframe thead th {\n",
       "        text-align: right;\n",
       "    }\n",
       "</style>\n",
       "<table border=\"1\" class=\"dataframe\">\n",
       "  <thead>\n",
       "    <tr style=\"text-align: right;\">\n",
       "      <th></th>\n",
       "      <th>user_id</th>\n",
       "      <th>month</th>\n",
       "      <th>sum_minets</th>\n",
       "      <th>count_calls</th>\n",
       "    </tr>\n",
       "  </thead>\n",
       "  <tbody>\n",
       "    <tr>\n",
       "      <th>0</th>\n",
       "      <td>1000</td>\n",
       "      <td>5</td>\n",
       "      <td>159.0</td>\n",
       "      <td>22</td>\n",
       "    </tr>\n",
       "    <tr>\n",
       "      <th>1</th>\n",
       "      <td>1000</td>\n",
       "      <td>6</td>\n",
       "      <td>172.0</td>\n",
       "      <td>43</td>\n",
       "    </tr>\n",
       "    <tr>\n",
       "      <th>2</th>\n",
       "      <td>1000</td>\n",
       "      <td>7</td>\n",
       "      <td>340.0</td>\n",
       "      <td>47</td>\n",
       "    </tr>\n",
       "    <tr>\n",
       "      <th>3</th>\n",
       "      <td>1000</td>\n",
       "      <td>8</td>\n",
       "      <td>408.0</td>\n",
       "      <td>52</td>\n",
       "    </tr>\n",
       "    <tr>\n",
       "      <th>4</th>\n",
       "      <td>1000</td>\n",
       "      <td>9</td>\n",
       "      <td>466.0</td>\n",
       "      <td>58</td>\n",
       "    </tr>\n",
       "    <tr>\n",
       "      <th>...</th>\n",
       "      <td>...</td>\n",
       "      <td>...</td>\n",
       "      <td>...</td>\n",
       "      <td>...</td>\n",
       "    </tr>\n",
       "    <tr>\n",
       "      <th>3169</th>\n",
       "      <td>1498</td>\n",
       "      <td>10</td>\n",
       "      <td>247.0</td>\n",
       "      <td>41</td>\n",
       "    </tr>\n",
       "    <tr>\n",
       "      <th>3170</th>\n",
       "      <td>1499</td>\n",
       "      <td>9</td>\n",
       "      <td>70.0</td>\n",
       "      <td>9</td>\n",
       "    </tr>\n",
       "    <tr>\n",
       "      <th>3171</th>\n",
       "      <td>1499</td>\n",
       "      <td>10</td>\n",
       "      <td>449.0</td>\n",
       "      <td>68</td>\n",
       "    </tr>\n",
       "    <tr>\n",
       "      <th>3172</th>\n",
       "      <td>1499</td>\n",
       "      <td>11</td>\n",
       "      <td>612.0</td>\n",
       "      <td>74</td>\n",
       "    </tr>\n",
       "    <tr>\n",
       "      <th>3173</th>\n",
       "      <td>1499</td>\n",
       "      <td>12</td>\n",
       "      <td>492.0</td>\n",
       "      <td>69</td>\n",
       "    </tr>\n",
       "  </tbody>\n",
       "</table>\n",
       "<p>3174 rows × 4 columns</p>\n",
       "</div>"
      ],
      "text/plain": [
       "      user_id  month  sum_minets  count_calls\n",
       "0        1000      5       159.0           22\n",
       "1        1000      6       172.0           43\n",
       "2        1000      7       340.0           47\n",
       "3        1000      8       408.0           52\n",
       "4        1000      9       466.0           58\n",
       "...       ...    ...         ...          ...\n",
       "3169     1498     10       247.0           41\n",
       "3170     1499      9        70.0            9\n",
       "3171     1499     10       449.0           68\n",
       "3172     1499     11       612.0           74\n",
       "3173     1499     12       492.0           69\n",
       "\n",
       "[3174 rows x 4 columns]"
      ]
     },
     "metadata": {},
     "output_type": "display_data"
    }
   ],
   "source": [
    "df_calls['month'] = pd.DatetimeIndex(df_calls['call_date']).month\n",
    "calls_pivot = df_calls.pivot_table(index=['user_id', 'month'], values='duration', aggfunc=['sum', 'count']).reset_index()\n",
    "calls_pivot.columns=['user_id', 'month','sum_minets', 'count_calls']\n",
    "display(calls_pivot)\n"
   ]
  },
  {
   "cell_type": "markdown",
   "metadata": {},
   "source": [
    "Создали сводную таблицу с количеством сделанных звонков и израсходованных минут разговора для каждого пользователя по месяцам"
   ]
  },
  {
   "cell_type": "code",
   "execution_count": 12,
   "metadata": {},
   "outputs": [
    {
     "data": {
      "text/html": [
       "<div>\n",
       "<style scoped>\n",
       "    .dataframe tbody tr th:only-of-type {\n",
       "        vertical-align: middle;\n",
       "    }\n",
       "\n",
       "    .dataframe tbody tr th {\n",
       "        vertical-align: top;\n",
       "    }\n",
       "\n",
       "    .dataframe thead th {\n",
       "        text-align: right;\n",
       "    }\n",
       "</style>\n",
       "<table border=\"1\" class=\"dataframe\">\n",
       "  <thead>\n",
       "    <tr style=\"text-align: right;\">\n",
       "      <th></th>\n",
       "      <th>user_id</th>\n",
       "      <th>month</th>\n",
       "      <th>count_messages</th>\n",
       "    </tr>\n",
       "  </thead>\n",
       "  <tbody>\n",
       "    <tr>\n",
       "      <th>0</th>\n",
       "      <td>1000</td>\n",
       "      <td>5</td>\n",
       "      <td>22</td>\n",
       "    </tr>\n",
       "    <tr>\n",
       "      <th>1</th>\n",
       "      <td>1000</td>\n",
       "      <td>6</td>\n",
       "      <td>60</td>\n",
       "    </tr>\n",
       "    <tr>\n",
       "      <th>2</th>\n",
       "      <td>1000</td>\n",
       "      <td>7</td>\n",
       "      <td>75</td>\n",
       "    </tr>\n",
       "    <tr>\n",
       "      <th>3</th>\n",
       "      <td>1000</td>\n",
       "      <td>8</td>\n",
       "      <td>81</td>\n",
       "    </tr>\n",
       "    <tr>\n",
       "      <th>4</th>\n",
       "      <td>1000</td>\n",
       "      <td>9</td>\n",
       "      <td>57</td>\n",
       "    </tr>\n",
       "    <tr>\n",
       "      <th>...</th>\n",
       "      <td>...</td>\n",
       "      <td>...</td>\n",
       "      <td>...</td>\n",
       "    </tr>\n",
       "    <tr>\n",
       "      <th>2712</th>\n",
       "      <td>1498</td>\n",
       "      <td>10</td>\n",
       "      <td>42</td>\n",
       "    </tr>\n",
       "    <tr>\n",
       "      <th>2713</th>\n",
       "      <td>1499</td>\n",
       "      <td>9</td>\n",
       "      <td>11</td>\n",
       "    </tr>\n",
       "    <tr>\n",
       "      <th>2714</th>\n",
       "      <td>1499</td>\n",
       "      <td>10</td>\n",
       "      <td>48</td>\n",
       "    </tr>\n",
       "    <tr>\n",
       "      <th>2715</th>\n",
       "      <td>1499</td>\n",
       "      <td>11</td>\n",
       "      <td>59</td>\n",
       "    </tr>\n",
       "    <tr>\n",
       "      <th>2716</th>\n",
       "      <td>1499</td>\n",
       "      <td>12</td>\n",
       "      <td>66</td>\n",
       "    </tr>\n",
       "  </tbody>\n",
       "</table>\n",
       "<p>2717 rows × 3 columns</p>\n",
       "</div>"
      ],
      "text/plain": [
       "      user_id  month  count_messages\n",
       "0        1000      5              22\n",
       "1        1000      6              60\n",
       "2        1000      7              75\n",
       "3        1000      8              81\n",
       "4        1000      9              57\n",
       "...       ...    ...             ...\n",
       "2712     1498     10              42\n",
       "2713     1499      9              11\n",
       "2714     1499     10              48\n",
       "2715     1499     11              59\n",
       "2716     1499     12              66\n",
       "\n",
       "[2717 rows x 3 columns]"
      ]
     },
     "metadata": {},
     "output_type": "display_data"
    }
   ],
   "source": [
    "df_messages['month'] = pd.DatetimeIndex(df_messages['message_date']).month\n",
    "messages_pivot = df_messages.pivot_table(index=['user_id', 'month'], values='id', aggfunc='count').reset_index()\n",
    "messages_pivot.columns=['user_id', 'month', 'count_messages']\n",
    "display(messages_pivot)\n"
   ]
  },
  {
   "cell_type": "markdown",
   "metadata": {},
   "source": [
    "Создали сводную таблицу с количеством отправленных сообщений для каждого пользователя по месяцам"
   ]
  },
  {
   "cell_type": "code",
   "execution_count": 13,
   "metadata": {},
   "outputs": [
    {
     "data": {
      "text/html": [
       "<div>\n",
       "<style scoped>\n",
       "    .dataframe tbody tr th:only-of-type {\n",
       "        vertical-align: middle;\n",
       "    }\n",
       "\n",
       "    .dataframe tbody tr th {\n",
       "        vertical-align: top;\n",
       "    }\n",
       "\n",
       "    .dataframe thead th {\n",
       "        text-align: right;\n",
       "    }\n",
       "</style>\n",
       "<table border=\"1\" class=\"dataframe\">\n",
       "  <thead>\n",
       "    <tr style=\"text-align: right;\">\n",
       "      <th></th>\n",
       "      <th>user_id</th>\n",
       "      <th>month</th>\n",
       "      <th>sum_megabajts</th>\n",
       "    </tr>\n",
       "  </thead>\n",
       "  <tbody>\n",
       "    <tr>\n",
       "      <th>0</th>\n",
       "      <td>1000</td>\n",
       "      <td>5</td>\n",
       "      <td>2253.49</td>\n",
       "    </tr>\n",
       "    <tr>\n",
       "      <th>1</th>\n",
       "      <td>1000</td>\n",
       "      <td>6</td>\n",
       "      <td>23233.77</td>\n",
       "    </tr>\n",
       "    <tr>\n",
       "      <th>2</th>\n",
       "      <td>1000</td>\n",
       "      <td>7</td>\n",
       "      <td>14003.64</td>\n",
       "    </tr>\n",
       "    <tr>\n",
       "      <th>3</th>\n",
       "      <td>1000</td>\n",
       "      <td>8</td>\n",
       "      <td>14055.93</td>\n",
       "    </tr>\n",
       "    <tr>\n",
       "      <th>4</th>\n",
       "      <td>1000</td>\n",
       "      <td>9</td>\n",
       "      <td>14568.91</td>\n",
       "    </tr>\n",
       "    <tr>\n",
       "      <th>...</th>\n",
       "      <td>...</td>\n",
       "      <td>...</td>\n",
       "      <td>...</td>\n",
       "    </tr>\n",
       "    <tr>\n",
       "      <th>3198</th>\n",
       "      <td>1498</td>\n",
       "      <td>10</td>\n",
       "      <td>20579.36</td>\n",
       "    </tr>\n",
       "    <tr>\n",
       "      <th>3199</th>\n",
       "      <td>1499</td>\n",
       "      <td>9</td>\n",
       "      <td>1845.75</td>\n",
       "    </tr>\n",
       "    <tr>\n",
       "      <th>3200</th>\n",
       "      <td>1499</td>\n",
       "      <td>10</td>\n",
       "      <td>17788.51</td>\n",
       "    </tr>\n",
       "    <tr>\n",
       "      <th>3201</th>\n",
       "      <td>1499</td>\n",
       "      <td>11</td>\n",
       "      <td>17963.31</td>\n",
       "    </tr>\n",
       "    <tr>\n",
       "      <th>3202</th>\n",
       "      <td>1499</td>\n",
       "      <td>12</td>\n",
       "      <td>13055.58</td>\n",
       "    </tr>\n",
       "  </tbody>\n",
       "</table>\n",
       "<p>3203 rows × 3 columns</p>\n",
       "</div>"
      ],
      "text/plain": [
       "      user_id  month  sum_megabajts\n",
       "0        1000      5        2253.49\n",
       "1        1000      6       23233.77\n",
       "2        1000      7       14003.64\n",
       "3        1000      8       14055.93\n",
       "4        1000      9       14568.91\n",
       "...       ...    ...            ...\n",
       "3198     1498     10       20579.36\n",
       "3199     1499      9        1845.75\n",
       "3200     1499     10       17788.51\n",
       "3201     1499     11       17963.31\n",
       "3202     1499     12       13055.58\n",
       "\n",
       "[3203 rows x 3 columns]"
      ]
     },
     "metadata": {},
     "output_type": "display_data"
    }
   ],
   "source": [
    "df_internet['month'] = pd.DatetimeIndex(df_internet['session_date']).month\n",
    "internet_pivot = df_internet.pivot_table(index=['user_id', 'month'], values='mb_used', aggfunc='sum').reset_index()\n",
    "internet_pivot.columns=['user_id', 'month', 'sum_megabajts']\n",
    "display(internet_pivot)"
   ]
  },
  {
   "cell_type": "markdown",
   "metadata": {},
   "source": [
    "Создали сводную таблицу с  объемом израсходованного интернет-трафика для каждого пользователя по месяцам"
   ]
  },
  {
   "cell_type": "code",
   "execution_count": 14,
   "metadata": {
    "scrolled": true
   },
   "outputs": [],
   "source": [
    "merge_tible=(calls_pivot.merge(messages_pivot, on=['user_id', 'month'], how='outer')\n",
    "             .merge(internet_pivot, on=['user_id', 'month'], how='outer')\n",
    "             .merge(df_users, on='user_id', how='outer'))\n",
    "filter1 = merge_tible['tariff'] != 'ultra'\n",
    "merge_tible['income'] = (\n",
    "    merge_tible['tariff'] .where(filter1 == False, 550)\n",
    "    .where(filter1, 1950)\n",
    ")\n"
   ]
  },
  {
   "cell_type": "code",
   "execution_count": 15,
   "metadata": {},
   "outputs": [
    {
     "name": "stdout",
     "output_type": "stream",
     "text": [
      "<class 'pandas.core.frame.DataFrame'>\n",
      "Int64Index: 3216 entries, 0 to 3215\n",
      "Data columns (total 14 columns):\n",
      " #   Column          Non-Null Count  Dtype         \n",
      "---  ------          --------------  -----         \n",
      " 0   user_id         3216 non-null   int64         \n",
      " 1   month           3214 non-null   float64       \n",
      " 2   sum_minets      3216 non-null   float64       \n",
      " 3   count_calls     3216 non-null   float64       \n",
      " 4   count_messages  3216 non-null   float64       \n",
      " 5   sum_megabajts   3216 non-null   float64       \n",
      " 6   age             3216 non-null   int64         \n",
      " 7   churn_date      189 non-null    object        \n",
      " 8   city            3216 non-null   object        \n",
      " 9   first_name      3216 non-null   object        \n",
      " 10  last_name       3216 non-null   object        \n",
      " 11  reg_date        3216 non-null   datetime64[ns]\n",
      " 12  tariff          3216 non-null   object        \n",
      " 13  income          3216 non-null   object        \n",
      "dtypes: datetime64[ns](1), float64(5), int64(2), object(6)\n",
      "memory usage: 376.9+ KB\n"
     ]
    },
    {
     "data": {
      "text/html": [
       "<div>\n",
       "<style scoped>\n",
       "    .dataframe tbody tr th:only-of-type {\n",
       "        vertical-align: middle;\n",
       "    }\n",
       "\n",
       "    .dataframe tbody tr th {\n",
       "        vertical-align: top;\n",
       "    }\n",
       "\n",
       "    .dataframe thead th {\n",
       "        text-align: right;\n",
       "    }\n",
       "</style>\n",
       "<table border=\"1\" class=\"dataframe\">\n",
       "  <thead>\n",
       "    <tr style=\"text-align: right;\">\n",
       "      <th></th>\n",
       "      <th>user_id</th>\n",
       "      <th>month</th>\n",
       "      <th>sum_minets</th>\n",
       "      <th>count_calls</th>\n",
       "      <th>count_messages</th>\n",
       "      <th>sum_megabajts</th>\n",
       "      <th>age</th>\n",
       "      <th>churn_date</th>\n",
       "      <th>city</th>\n",
       "      <th>first_name</th>\n",
       "      <th>last_name</th>\n",
       "      <th>reg_date</th>\n",
       "      <th>tariff</th>\n",
       "      <th>income</th>\n",
       "    </tr>\n",
       "  </thead>\n",
       "  <tbody>\n",
       "    <tr>\n",
       "      <th>3214</th>\n",
       "      <td>1128</td>\n",
       "      <td>NaN</td>\n",
       "      <td>0.0</td>\n",
       "      <td>0.0</td>\n",
       "      <td>0.0</td>\n",
       "      <td>0.0</td>\n",
       "      <td>51</td>\n",
       "      <td>2018-12-23</td>\n",
       "      <td>Волжский</td>\n",
       "      <td>Ксения</td>\n",
       "      <td>Агаева</td>\n",
       "      <td>2018-12-15</td>\n",
       "      <td>ultra</td>\n",
       "      <td>1950</td>\n",
       "    </tr>\n",
       "    <tr>\n",
       "      <th>3215</th>\n",
       "      <td>1371</td>\n",
       "      <td>NaN</td>\n",
       "      <td>0.0</td>\n",
       "      <td>0.0</td>\n",
       "      <td>0.0</td>\n",
       "      <td>0.0</td>\n",
       "      <td>50</td>\n",
       "      <td>2018-12-30</td>\n",
       "      <td>Омск</td>\n",
       "      <td>Ириней</td>\n",
       "      <td>Трофимов</td>\n",
       "      <td>2018-12-25</td>\n",
       "      <td>smart</td>\n",
       "      <td>550</td>\n",
       "    </tr>\n",
       "  </tbody>\n",
       "</table>\n",
       "</div>"
      ],
      "text/plain": [
       "      user_id  month  sum_minets  count_calls  count_messages  sum_megabajts  \\\n",
       "3214     1128    NaN         0.0          0.0             0.0            0.0   \n",
       "3215     1371    NaN         0.0          0.0             0.0            0.0   \n",
       "\n",
       "      age  churn_date      city first_name last_name   reg_date tariff income  \n",
       "3214   51  2018-12-23  Волжский     Ксения    Агаева 2018-12-15  ultra   1950  \n",
       "3215   50  2018-12-30      Омск     Ириней  Трофимов 2018-12-25  smart    550  "
      ]
     },
     "metadata": {},
     "output_type": "display_data"
    },
    {
     "name": "stdout",
     "output_type": "stream",
     "text": [
      "Проверим всю информацию по этим юзерам:\n"
     ]
    },
    {
     "data": {
      "text/html": [
       "<div>\n",
       "<style scoped>\n",
       "    .dataframe tbody tr th:only-of-type {\n",
       "        vertical-align: middle;\n",
       "    }\n",
       "\n",
       "    .dataframe tbody tr th {\n",
       "        vertical-align: top;\n",
       "    }\n",
       "\n",
       "    .dataframe thead th {\n",
       "        text-align: right;\n",
       "    }\n",
       "</style>\n",
       "<table border=\"1\" class=\"dataframe\">\n",
       "  <thead>\n",
       "    <tr style=\"text-align: right;\">\n",
       "      <th></th>\n",
       "      <th>user_id</th>\n",
       "      <th>month</th>\n",
       "      <th>sum_minets</th>\n",
       "      <th>count_calls</th>\n",
       "      <th>count_messages</th>\n",
       "      <th>sum_megabajts</th>\n",
       "      <th>age</th>\n",
       "      <th>churn_date</th>\n",
       "      <th>city</th>\n",
       "      <th>first_name</th>\n",
       "      <th>last_name</th>\n",
       "      <th>reg_date</th>\n",
       "      <th>tariff</th>\n",
       "      <th>income</th>\n",
       "    </tr>\n",
       "  </thead>\n",
       "  <tbody>\n",
       "    <tr>\n",
       "      <th>3214</th>\n",
       "      <td>1128</td>\n",
       "      <td>NaN</td>\n",
       "      <td>0.0</td>\n",
       "      <td>0.0</td>\n",
       "      <td>0.0</td>\n",
       "      <td>0.0</td>\n",
       "      <td>51</td>\n",
       "      <td>2018-12-23</td>\n",
       "      <td>Волжский</td>\n",
       "      <td>Ксения</td>\n",
       "      <td>Агаева</td>\n",
       "      <td>2018-12-15</td>\n",
       "      <td>ultra</td>\n",
       "      <td>1950</td>\n",
       "    </tr>\n",
       "    <tr>\n",
       "      <th>3215</th>\n",
       "      <td>1371</td>\n",
       "      <td>NaN</td>\n",
       "      <td>0.0</td>\n",
       "      <td>0.0</td>\n",
       "      <td>0.0</td>\n",
       "      <td>0.0</td>\n",
       "      <td>50</td>\n",
       "      <td>2018-12-30</td>\n",
       "      <td>Омск</td>\n",
       "      <td>Ириней</td>\n",
       "      <td>Трофимов</td>\n",
       "      <td>2018-12-25</td>\n",
       "      <td>smart</td>\n",
       "      <td>550</td>\n",
       "    </tr>\n",
       "  </tbody>\n",
       "</table>\n",
       "</div>"
      ],
      "text/plain": [
       "      user_id  month  sum_minets  count_calls  count_messages  sum_megabajts  \\\n",
       "3214     1128    NaN         0.0          0.0             0.0            0.0   \n",
       "3215     1371    NaN         0.0          0.0             0.0            0.0   \n",
       "\n",
       "      age  churn_date      city first_name last_name   reg_date tariff income  \n",
       "3214   51  2018-12-23  Волжский     Ксения    Агаева 2018-12-15  ultra   1950  \n",
       "3215   50  2018-12-30      Омск     Ириней  Трофимов 2018-12-25  smart    550  "
      ]
     },
     "execution_count": 15,
     "metadata": {},
     "output_type": "execute_result"
    }
   ],
   "source": [
    "merge_tible['sum_minets'] = merge_tible['sum_minets'].fillna(0)\n",
    "merge_tible['count_calls'] = merge_tible['count_calls'].fillna(0)\n",
    "merge_tible['count_messages'] = merge_tible['count_messages'].fillna(0)\n",
    "merge_tible['sum_megabajts'] = merge_tible['sum_megabajts'].fillna(0)\n",
    "merge_tible.info()\n",
    "display(merge_tible.query('month.isna()'))\n",
    "print('Проверим всю информацию по этим юзерам:')\n",
    "merge_tible.query('user_id == 1371 | user_id == 1128')"
   ]
  },
  {
   "cell_type": "markdown",
   "metadata": {},
   "source": [
    "Объеденили все сводные таблицы и таблицу `df_users` в одну методом `merge`\n",
    "\n",
    "Проработали пропуски получившиеся из-за сведения таблиц:\n",
    "\n",
    "Колонки `sum_minets`, `count_calls`, `count_messages`, `sum_megabajts` - заменили на нули, так как если их нет, значит человек использовал 0 минут, звонков, смс или мб интернета в конкретном месяце\n",
    "\n",
    "значения в столбцах `month` и `churn_date` не трогали, так как в месце их всего два и, если проверить этих людей, мы увидим, что они просто не использовали тариф вообще, поэтому и появились НаНы в столбце `month`. Эти строки можно либо удалить, либо проигнорировать. А НаНы в дате окончания мы пояснили почему не трогаем на этапе предобработки данных"
   ]
  },
  {
   "cell_type": "code",
   "execution_count": 16,
   "metadata": {},
   "outputs": [
    {
     "data": {
      "text/html": [
       "<div>\n",
       "<style scoped>\n",
       "    .dataframe tbody tr th:only-of-type {\n",
       "        vertical-align: middle;\n",
       "    }\n",
       "\n",
       "    .dataframe tbody tr th {\n",
       "        vertical-align: top;\n",
       "    }\n",
       "\n",
       "    .dataframe thead th {\n",
       "        text-align: right;\n",
       "    }\n",
       "</style>\n",
       "<table border=\"1\" class=\"dataframe\">\n",
       "  <thead>\n",
       "    <tr style=\"text-align: right;\">\n",
       "      <th></th>\n",
       "      <th>user_id</th>\n",
       "      <th>month</th>\n",
       "      <th>sum_minets</th>\n",
       "      <th>count_calls</th>\n",
       "      <th>count_messages</th>\n",
       "      <th>sum_megabajts</th>\n",
       "      <th>age</th>\n",
       "      <th>churn_date</th>\n",
       "      <th>city</th>\n",
       "      <th>first_name</th>\n",
       "      <th>last_name</th>\n",
       "      <th>reg_date</th>\n",
       "      <th>tariff</th>\n",
       "      <th>income</th>\n",
       "      <th>sum_gb</th>\n",
       "    </tr>\n",
       "  </thead>\n",
       "  <tbody>\n",
       "    <tr>\n",
       "      <th>0</th>\n",
       "      <td>1000</td>\n",
       "      <td>5.0</td>\n",
       "      <td>159.0</td>\n",
       "      <td>22.0</td>\n",
       "      <td>22.0</td>\n",
       "      <td>2253.49</td>\n",
       "      <td>52</td>\n",
       "      <td>NaN</td>\n",
       "      <td>Краснодар</td>\n",
       "      <td>Рафаил</td>\n",
       "      <td>Верещагин</td>\n",
       "      <td>2018-05-25</td>\n",
       "      <td>ultra</td>\n",
       "      <td>1950</td>\n",
       "      <td>3.0</td>\n",
       "    </tr>\n",
       "    <tr>\n",
       "      <th>1</th>\n",
       "      <td>1000</td>\n",
       "      <td>6.0</td>\n",
       "      <td>172.0</td>\n",
       "      <td>43.0</td>\n",
       "      <td>60.0</td>\n",
       "      <td>23233.77</td>\n",
       "      <td>52</td>\n",
       "      <td>NaN</td>\n",
       "      <td>Краснодар</td>\n",
       "      <td>Рафаил</td>\n",
       "      <td>Верещагин</td>\n",
       "      <td>2018-05-25</td>\n",
       "      <td>ultra</td>\n",
       "      <td>1950</td>\n",
       "      <td>23.0</td>\n",
       "    </tr>\n",
       "    <tr>\n",
       "      <th>2</th>\n",
       "      <td>1000</td>\n",
       "      <td>7.0</td>\n",
       "      <td>340.0</td>\n",
       "      <td>47.0</td>\n",
       "      <td>75.0</td>\n",
       "      <td>14003.64</td>\n",
       "      <td>52</td>\n",
       "      <td>NaN</td>\n",
       "      <td>Краснодар</td>\n",
       "      <td>Рафаил</td>\n",
       "      <td>Верещагин</td>\n",
       "      <td>2018-05-25</td>\n",
       "      <td>ultra</td>\n",
       "      <td>1950</td>\n",
       "      <td>14.0</td>\n",
       "    </tr>\n",
       "    <tr>\n",
       "      <th>3</th>\n",
       "      <td>1000</td>\n",
       "      <td>8.0</td>\n",
       "      <td>408.0</td>\n",
       "      <td>52.0</td>\n",
       "      <td>81.0</td>\n",
       "      <td>14055.93</td>\n",
       "      <td>52</td>\n",
       "      <td>NaN</td>\n",
       "      <td>Краснодар</td>\n",
       "      <td>Рафаил</td>\n",
       "      <td>Верещагин</td>\n",
       "      <td>2018-05-25</td>\n",
       "      <td>ultra</td>\n",
       "      <td>1950</td>\n",
       "      <td>14.0</td>\n",
       "    </tr>\n",
       "    <tr>\n",
       "      <th>4</th>\n",
       "      <td>1000</td>\n",
       "      <td>9.0</td>\n",
       "      <td>466.0</td>\n",
       "      <td>58.0</td>\n",
       "      <td>57.0</td>\n",
       "      <td>14568.91</td>\n",
       "      <td>52</td>\n",
       "      <td>NaN</td>\n",
       "      <td>Краснодар</td>\n",
       "      <td>Рафаил</td>\n",
       "      <td>Верещагин</td>\n",
       "      <td>2018-05-25</td>\n",
       "      <td>ultra</td>\n",
       "      <td>1950</td>\n",
       "      <td>15.0</td>\n",
       "    </tr>\n",
       "    <tr>\n",
       "      <th>...</th>\n",
       "      <td>...</td>\n",
       "      <td>...</td>\n",
       "      <td>...</td>\n",
       "      <td>...</td>\n",
       "      <td>...</td>\n",
       "      <td>...</td>\n",
       "      <td>...</td>\n",
       "      <td>...</td>\n",
       "      <td>...</td>\n",
       "      <td>...</td>\n",
       "      <td>...</td>\n",
       "      <td>...</td>\n",
       "      <td>...</td>\n",
       "      <td>...</td>\n",
       "      <td>...</td>\n",
       "    </tr>\n",
       "    <tr>\n",
       "      <th>3211</th>\n",
       "      <td>1489</td>\n",
       "      <td>10.0</td>\n",
       "      <td>0.0</td>\n",
       "      <td>0.0</td>\n",
       "      <td>21.0</td>\n",
       "      <td>19559.44</td>\n",
       "      <td>35</td>\n",
       "      <td>NaN</td>\n",
       "      <td>Санкт-Петербург</td>\n",
       "      <td>Павел</td>\n",
       "      <td>Гончаров</td>\n",
       "      <td>2018-08-15</td>\n",
       "      <td>smart</td>\n",
       "      <td>1550</td>\n",
       "      <td>20.0</td>\n",
       "    </tr>\n",
       "    <tr>\n",
       "      <th>3212</th>\n",
       "      <td>1489</td>\n",
       "      <td>11.0</td>\n",
       "      <td>0.0</td>\n",
       "      <td>0.0</td>\n",
       "      <td>20.0</td>\n",
       "      <td>17491.56</td>\n",
       "      <td>35</td>\n",
       "      <td>NaN</td>\n",
       "      <td>Санкт-Петербург</td>\n",
       "      <td>Павел</td>\n",
       "      <td>Гончаров</td>\n",
       "      <td>2018-08-15</td>\n",
       "      <td>smart</td>\n",
       "      <td>1150</td>\n",
       "      <td>18.0</td>\n",
       "    </tr>\n",
       "    <tr>\n",
       "      <th>3213</th>\n",
       "      <td>1489</td>\n",
       "      <td>12.0</td>\n",
       "      <td>0.0</td>\n",
       "      <td>0.0</td>\n",
       "      <td>35.0</td>\n",
       "      <td>17322.51</td>\n",
       "      <td>35</td>\n",
       "      <td>NaN</td>\n",
       "      <td>Санкт-Петербург</td>\n",
       "      <td>Павел</td>\n",
       "      <td>Гончаров</td>\n",
       "      <td>2018-08-15</td>\n",
       "      <td>smart</td>\n",
       "      <td>950</td>\n",
       "      <td>17.0</td>\n",
       "    </tr>\n",
       "    <tr>\n",
       "      <th>3214</th>\n",
       "      <td>1128</td>\n",
       "      <td>NaN</td>\n",
       "      <td>0.0</td>\n",
       "      <td>0.0</td>\n",
       "      <td>0.0</td>\n",
       "      <td>0.00</td>\n",
       "      <td>51</td>\n",
       "      <td>2018-12-23</td>\n",
       "      <td>Волжский</td>\n",
       "      <td>Ксения</td>\n",
       "      <td>Агаева</td>\n",
       "      <td>2018-12-15</td>\n",
       "      <td>ultra</td>\n",
       "      <td>1950</td>\n",
       "      <td>0.0</td>\n",
       "    </tr>\n",
       "    <tr>\n",
       "      <th>3215</th>\n",
       "      <td>1371</td>\n",
       "      <td>NaN</td>\n",
       "      <td>0.0</td>\n",
       "      <td>0.0</td>\n",
       "      <td>0.0</td>\n",
       "      <td>0.00</td>\n",
       "      <td>50</td>\n",
       "      <td>2018-12-30</td>\n",
       "      <td>Омск</td>\n",
       "      <td>Ириней</td>\n",
       "      <td>Трофимов</td>\n",
       "      <td>2018-12-25</td>\n",
       "      <td>smart</td>\n",
       "      <td>550</td>\n",
       "      <td>0.0</td>\n",
       "    </tr>\n",
       "  </tbody>\n",
       "</table>\n",
       "<p>3216 rows × 15 columns</p>\n",
       "</div>"
      ],
      "text/plain": [
       "      user_id  month  sum_minets  count_calls  count_messages  sum_megabajts  \\\n",
       "0        1000    5.0       159.0         22.0            22.0        2253.49   \n",
       "1        1000    6.0       172.0         43.0            60.0       23233.77   \n",
       "2        1000    7.0       340.0         47.0            75.0       14003.64   \n",
       "3        1000    8.0       408.0         52.0            81.0       14055.93   \n",
       "4        1000    9.0       466.0         58.0            57.0       14568.91   \n",
       "...       ...    ...         ...          ...             ...            ...   \n",
       "3211     1489   10.0         0.0          0.0            21.0       19559.44   \n",
       "3212     1489   11.0         0.0          0.0            20.0       17491.56   \n",
       "3213     1489   12.0         0.0          0.0            35.0       17322.51   \n",
       "3214     1128    NaN         0.0          0.0             0.0           0.00   \n",
       "3215     1371    NaN         0.0          0.0             0.0           0.00   \n",
       "\n",
       "      age  churn_date             city first_name  last_name   reg_date  \\\n",
       "0      52         NaN        Краснодар     Рафаил  Верещагин 2018-05-25   \n",
       "1      52         NaN        Краснодар     Рафаил  Верещагин 2018-05-25   \n",
       "2      52         NaN        Краснодар     Рафаил  Верещагин 2018-05-25   \n",
       "3      52         NaN        Краснодар     Рафаил  Верещагин 2018-05-25   \n",
       "4      52         NaN        Краснодар     Рафаил  Верещагин 2018-05-25   \n",
       "...   ...         ...              ...        ...        ...        ...   \n",
       "3211   35         NaN  Санкт-Петербург      Павел   Гончаров 2018-08-15   \n",
       "3212   35         NaN  Санкт-Петербург      Павел   Гончаров 2018-08-15   \n",
       "3213   35         NaN  Санкт-Петербург      Павел   Гончаров 2018-08-15   \n",
       "3214   51  2018-12-23         Волжский     Ксения     Агаева 2018-12-15   \n",
       "3215   50  2018-12-30             Омск     Ириней   Трофимов 2018-12-25   \n",
       "\n",
       "     tariff  income  sum_gb  \n",
       "0     ultra    1950     3.0  \n",
       "1     ultra    1950    23.0  \n",
       "2     ultra    1950    14.0  \n",
       "3     ultra    1950    14.0  \n",
       "4     ultra    1950    15.0  \n",
       "...     ...     ...     ...  \n",
       "3211  smart    1550    20.0  \n",
       "3212  smart    1150    18.0  \n",
       "3213  smart     950    17.0  \n",
       "3214  ultra    1950     0.0  \n",
       "3215  smart     550     0.0  \n",
       "\n",
       "[3216 rows x 15 columns]"
      ]
     },
     "execution_count": 16,
     "metadata": {},
     "output_type": "execute_result"
    }
   ],
   "source": [
    "merge_tible['sum_gb']=(merge_tible['sum_megabajts']/1024) # переводим мб в гб\n",
    "merge_tible['sum_gb']= np.ceil(merge_tible['sum_gb']) \n",
    "for value in range(len(merge_tible)):\n",
    "    if merge_tible.loc[value, 'tariff']== 'smart':\n",
    "        # условие увеличения цены для пользователя тарифа смарт истратившего больше минут разговора, чем положено по тарифу\n",
    "        if  merge_tible.loc[value, 'sum_minets'] > 500: \n",
    "             merge_tible.loc[value, 'income'] =  merge_tible.loc[value, 'income'] + ( merge_tible.loc[value, 'sum_minets'] -500)*3\n",
    "        if  merge_tible.loc[value, 'count_messages'] > 50: # для отправившего больше смс, чем положено по тарифу\n",
    "             merge_tible.loc[value, 'income'] =  merge_tible.loc[value, 'income'] + ( merge_tible.loc[value, 'count_messages'] -50)*3    \n",
    "        if  merge_tible.loc[value, 'sum_gb'] > 15: # для истратившего больше гб \n",
    "             merge_tible.loc[value, 'income'] =  merge_tible.loc[value, 'income'] + ( merge_tible.loc[value, 'sum_gb'] -15)*200    \n",
    "    else:\n",
    "        # для пользователя тарифа ультра истратившего больше минут разговора, чем положено по тарифу\n",
    "        if  merge_tible.loc[value, 'sum_minets'] > 3000: \n",
    "             merge_tible.loc[value, 'income'] =  merge_tible.loc[value, 'income'] + ( merge_tible.loc[value, 'sum_minets'] -3000)\n",
    "        if  merge_tible.loc[value, 'count_messages'] > 1000: # для отправившего больше смс, чем положено по тарифу\n",
    "             merge_tible.loc[value, 'income'] =  merge_tible.loc[value, 'income'] + ( merge_tible.loc[value, 'count_messages'] -1000)    \n",
    "        if  merge_tible.loc[value, 'sum_gb'] > 30: # для истратившего больше гб \n",
    "             merge_tible.loc[value, 'income'] =  merge_tible.loc[value, 'income'] + ( merge_tible.loc[value, 'sum_gb'] -30)*150\n",
    "merge_tible['income'] = merge_tible['income'].astype('int')\n",
    "merge_tible"
   ]
  },
  {
   "cell_type": "markdown",
   "metadata": {},
   "source": [
    "Добавили столбцы - с выручкой с каждого пользователя по тарифному плану и с использованным интернетом в гб\n",
    "\n",
    "Добавили условия при которых клиент доплачивает по тарифу и тем самым нашли истиную помесячную выручку с каждого пользователя"
   ]
  },
  {
   "cell_type": "markdown",
   "metadata": {},
   "source": [
    "### Вывод"
   ]
  },
  {
   "cell_type": "code",
   "execution_count": 17,
   "metadata": {},
   "outputs": [
    {
     "data": {
      "text/html": [
       "<div>\n",
       "<style scoped>\n",
       "    .dataframe tbody tr th:only-of-type {\n",
       "        vertical-align: middle;\n",
       "    }\n",
       "\n",
       "    .dataframe tbody tr th {\n",
       "        vertical-align: top;\n",
       "    }\n",
       "\n",
       "    .dataframe thead th {\n",
       "        text-align: right;\n",
       "    }\n",
       "</style>\n",
       "<table border=\"1\" class=\"dataframe\">\n",
       "  <thead>\n",
       "    <tr style=\"text-align: right;\">\n",
       "      <th></th>\n",
       "      <th>user_id</th>\n",
       "      <th>month</th>\n",
       "      <th>sum_minets</th>\n",
       "      <th>count_calls</th>\n",
       "      <th>count_messages</th>\n",
       "      <th>sum_megabajts</th>\n",
       "      <th>age</th>\n",
       "      <th>churn_date</th>\n",
       "      <th>city</th>\n",
       "      <th>first_name</th>\n",
       "      <th>last_name</th>\n",
       "      <th>reg_date</th>\n",
       "      <th>tariff</th>\n",
       "      <th>income</th>\n",
       "      <th>sum_gb</th>\n",
       "    </tr>\n",
       "  </thead>\n",
       "  <tbody>\n",
       "    <tr>\n",
       "      <th>0</th>\n",
       "      <td>1000</td>\n",
       "      <td>5.0</td>\n",
       "      <td>159.0</td>\n",
       "      <td>22.0</td>\n",
       "      <td>22.0</td>\n",
       "      <td>2253.49</td>\n",
       "      <td>52</td>\n",
       "      <td>NaN</td>\n",
       "      <td>Краснодар</td>\n",
       "      <td>Рафаил</td>\n",
       "      <td>Верещагин</td>\n",
       "      <td>2018-05-25</td>\n",
       "      <td>ultra</td>\n",
       "      <td>1950</td>\n",
       "      <td>3.0</td>\n",
       "    </tr>\n",
       "    <tr>\n",
       "      <th>1</th>\n",
       "      <td>1000</td>\n",
       "      <td>6.0</td>\n",
       "      <td>172.0</td>\n",
       "      <td>43.0</td>\n",
       "      <td>60.0</td>\n",
       "      <td>23233.77</td>\n",
       "      <td>52</td>\n",
       "      <td>NaN</td>\n",
       "      <td>Краснодар</td>\n",
       "      <td>Рафаил</td>\n",
       "      <td>Верещагин</td>\n",
       "      <td>2018-05-25</td>\n",
       "      <td>ultra</td>\n",
       "      <td>1950</td>\n",
       "      <td>23.0</td>\n",
       "    </tr>\n",
       "    <tr>\n",
       "      <th>2</th>\n",
       "      <td>1000</td>\n",
       "      <td>7.0</td>\n",
       "      <td>340.0</td>\n",
       "      <td>47.0</td>\n",
       "      <td>75.0</td>\n",
       "      <td>14003.64</td>\n",
       "      <td>52</td>\n",
       "      <td>NaN</td>\n",
       "      <td>Краснодар</td>\n",
       "      <td>Рафаил</td>\n",
       "      <td>Верещагин</td>\n",
       "      <td>2018-05-25</td>\n",
       "      <td>ultra</td>\n",
       "      <td>1950</td>\n",
       "      <td>14.0</td>\n",
       "    </tr>\n",
       "    <tr>\n",
       "      <th>3</th>\n",
       "      <td>1000</td>\n",
       "      <td>8.0</td>\n",
       "      <td>408.0</td>\n",
       "      <td>52.0</td>\n",
       "      <td>81.0</td>\n",
       "      <td>14055.93</td>\n",
       "      <td>52</td>\n",
       "      <td>NaN</td>\n",
       "      <td>Краснодар</td>\n",
       "      <td>Рафаил</td>\n",
       "      <td>Верещагин</td>\n",
       "      <td>2018-05-25</td>\n",
       "      <td>ultra</td>\n",
       "      <td>1950</td>\n",
       "      <td>14.0</td>\n",
       "    </tr>\n",
       "    <tr>\n",
       "      <th>4</th>\n",
       "      <td>1000</td>\n",
       "      <td>9.0</td>\n",
       "      <td>466.0</td>\n",
       "      <td>58.0</td>\n",
       "      <td>57.0</td>\n",
       "      <td>14568.91</td>\n",
       "      <td>52</td>\n",
       "      <td>NaN</td>\n",
       "      <td>Краснодар</td>\n",
       "      <td>Рафаил</td>\n",
       "      <td>Верещагин</td>\n",
       "      <td>2018-05-25</td>\n",
       "      <td>ultra</td>\n",
       "      <td>1950</td>\n",
       "      <td>15.0</td>\n",
       "    </tr>\n",
       "    <tr>\n",
       "      <th>...</th>\n",
       "      <td>...</td>\n",
       "      <td>...</td>\n",
       "      <td>...</td>\n",
       "      <td>...</td>\n",
       "      <td>...</td>\n",
       "      <td>...</td>\n",
       "      <td>...</td>\n",
       "      <td>...</td>\n",
       "      <td>...</td>\n",
       "      <td>...</td>\n",
       "      <td>...</td>\n",
       "      <td>...</td>\n",
       "      <td>...</td>\n",
       "      <td>...</td>\n",
       "      <td>...</td>\n",
       "    </tr>\n",
       "    <tr>\n",
       "      <th>3211</th>\n",
       "      <td>1489</td>\n",
       "      <td>10.0</td>\n",
       "      <td>0.0</td>\n",
       "      <td>0.0</td>\n",
       "      <td>21.0</td>\n",
       "      <td>19559.44</td>\n",
       "      <td>35</td>\n",
       "      <td>NaN</td>\n",
       "      <td>Санкт-Петербург</td>\n",
       "      <td>Павел</td>\n",
       "      <td>Гончаров</td>\n",
       "      <td>2018-08-15</td>\n",
       "      <td>smart</td>\n",
       "      <td>1550</td>\n",
       "      <td>20.0</td>\n",
       "    </tr>\n",
       "    <tr>\n",
       "      <th>3212</th>\n",
       "      <td>1489</td>\n",
       "      <td>11.0</td>\n",
       "      <td>0.0</td>\n",
       "      <td>0.0</td>\n",
       "      <td>20.0</td>\n",
       "      <td>17491.56</td>\n",
       "      <td>35</td>\n",
       "      <td>NaN</td>\n",
       "      <td>Санкт-Петербург</td>\n",
       "      <td>Павел</td>\n",
       "      <td>Гончаров</td>\n",
       "      <td>2018-08-15</td>\n",
       "      <td>smart</td>\n",
       "      <td>1150</td>\n",
       "      <td>18.0</td>\n",
       "    </tr>\n",
       "    <tr>\n",
       "      <th>3213</th>\n",
       "      <td>1489</td>\n",
       "      <td>12.0</td>\n",
       "      <td>0.0</td>\n",
       "      <td>0.0</td>\n",
       "      <td>35.0</td>\n",
       "      <td>17322.51</td>\n",
       "      <td>35</td>\n",
       "      <td>NaN</td>\n",
       "      <td>Санкт-Петербург</td>\n",
       "      <td>Павел</td>\n",
       "      <td>Гончаров</td>\n",
       "      <td>2018-08-15</td>\n",
       "      <td>smart</td>\n",
       "      <td>950</td>\n",
       "      <td>17.0</td>\n",
       "    </tr>\n",
       "    <tr>\n",
       "      <th>3214</th>\n",
       "      <td>1128</td>\n",
       "      <td>NaN</td>\n",
       "      <td>0.0</td>\n",
       "      <td>0.0</td>\n",
       "      <td>0.0</td>\n",
       "      <td>0.00</td>\n",
       "      <td>51</td>\n",
       "      <td>2018-12-23</td>\n",
       "      <td>Волжский</td>\n",
       "      <td>Ксения</td>\n",
       "      <td>Агаева</td>\n",
       "      <td>2018-12-15</td>\n",
       "      <td>ultra</td>\n",
       "      <td>1950</td>\n",
       "      <td>0.0</td>\n",
       "    </tr>\n",
       "    <tr>\n",
       "      <th>3215</th>\n",
       "      <td>1371</td>\n",
       "      <td>NaN</td>\n",
       "      <td>0.0</td>\n",
       "      <td>0.0</td>\n",
       "      <td>0.0</td>\n",
       "      <td>0.00</td>\n",
       "      <td>50</td>\n",
       "      <td>2018-12-30</td>\n",
       "      <td>Омск</td>\n",
       "      <td>Ириней</td>\n",
       "      <td>Трофимов</td>\n",
       "      <td>2018-12-25</td>\n",
       "      <td>smart</td>\n",
       "      <td>550</td>\n",
       "      <td>0.0</td>\n",
       "    </tr>\n",
       "  </tbody>\n",
       "</table>\n",
       "<p>3216 rows × 15 columns</p>\n",
       "</div>"
      ],
      "text/plain": [
       "      user_id  month  sum_minets  count_calls  count_messages  sum_megabajts  \\\n",
       "0        1000    5.0       159.0         22.0            22.0        2253.49   \n",
       "1        1000    6.0       172.0         43.0            60.0       23233.77   \n",
       "2        1000    7.0       340.0         47.0            75.0       14003.64   \n",
       "3        1000    8.0       408.0         52.0            81.0       14055.93   \n",
       "4        1000    9.0       466.0         58.0            57.0       14568.91   \n",
       "...       ...    ...         ...          ...             ...            ...   \n",
       "3211     1489   10.0         0.0          0.0            21.0       19559.44   \n",
       "3212     1489   11.0         0.0          0.0            20.0       17491.56   \n",
       "3213     1489   12.0         0.0          0.0            35.0       17322.51   \n",
       "3214     1128    NaN         0.0          0.0             0.0           0.00   \n",
       "3215     1371    NaN         0.0          0.0             0.0           0.00   \n",
       "\n",
       "      age  churn_date             city first_name  last_name   reg_date  \\\n",
       "0      52         NaN        Краснодар     Рафаил  Верещагин 2018-05-25   \n",
       "1      52         NaN        Краснодар     Рафаил  Верещагин 2018-05-25   \n",
       "2      52         NaN        Краснодар     Рафаил  Верещагин 2018-05-25   \n",
       "3      52         NaN        Краснодар     Рафаил  Верещагин 2018-05-25   \n",
       "4      52         NaN        Краснодар     Рафаил  Верещагин 2018-05-25   \n",
       "...   ...         ...              ...        ...        ...        ...   \n",
       "3211   35         NaN  Санкт-Петербург      Павел   Гончаров 2018-08-15   \n",
       "3212   35         NaN  Санкт-Петербург      Павел   Гончаров 2018-08-15   \n",
       "3213   35         NaN  Санкт-Петербург      Павел   Гончаров 2018-08-15   \n",
       "3214   51  2018-12-23         Волжский     Ксения     Агаева 2018-12-15   \n",
       "3215   50  2018-12-30             Омск     Ириней   Трофимов 2018-12-25   \n",
       "\n",
       "     tariff  income  sum_gb  \n",
       "0     ultra    1950     3.0  \n",
       "1     ultra    1950    23.0  \n",
       "2     ultra    1950    14.0  \n",
       "3     ultra    1950    14.0  \n",
       "4     ultra    1950    15.0  \n",
       "...     ...     ...     ...  \n",
       "3211  smart    1550    20.0  \n",
       "3212  smart    1150    18.0  \n",
       "3213  smart     950    17.0  \n",
       "3214  ultra    1950     0.0  \n",
       "3215  smart     550     0.0  \n",
       "\n",
       "[3216 rows x 15 columns]"
      ]
     },
     "metadata": {},
     "output_type": "display_data"
    }
   ],
   "source": [
    "display(merge_tible)\n"
   ]
  },
  {
   "cell_type": "markdown",
   "metadata": {},
   "source": [
    "Создали несколько сводных таблиц и общий датафрэйм, вычеслили выручку для каждого пользователя для дальнейшего исследовательского анализа"
   ]
  },
  {
   "cell_type": "markdown",
   "metadata": {},
   "source": [
    "## Исследовательский анализ данных"
   ]
  },
  {
   "cell_type": "markdown",
   "metadata": {},
   "source": [
    "### Анализ  поведения клиентов оператора, исходя из выборки"
   ]
  },
  {
   "cell_type": "code",
   "execution_count": 18,
   "metadata": {
    "scrolled": true
   },
   "outputs": [
    {
     "data": {
      "text/plain": [
       "2230"
      ]
     },
     "metadata": {},
     "output_type": "display_data"
    },
    {
     "data": {
      "text/plain": [
       "986"
      ]
     },
     "metadata": {},
     "output_type": "display_data"
    }
   ],
   "source": [
    "smart = merge_tible.query('tariff == \"smart\"')\n",
    "ultra = merge_tible.query('tariff == \"ultra\"')\n",
    "display(smart['user_id'].count())\n",
    "display(ultra['user_id'].count())"
   ]
  },
  {
   "cell_type": "markdown",
   "metadata": {},
   "source": [
    "Создали переменные хронящие все данные по каждому из тарифов отдельно и уже можно сделать первый вывод, что тарифом смарт пользуется больше людей"
   ]
  },
  {
   "cell_type": "markdown",
   "metadata": {},
   "source": [
    "#### Сравнение медианной стоимости тарифов по месяцам"
   ]
  },
  {
   "cell_type": "code",
   "execution_count": 19,
   "metadata": {},
   "outputs": [
    {
     "data": {
      "text/plain": [
       "month\n",
       "1.0      550.0\n",
       "2.0      550.0\n",
       "3.0      886.0\n",
       "4.0      620.5\n",
       "5.0      986.0\n",
       "6.0      950.0\n",
       "7.0      981.0\n",
       "8.0     1079.0\n",
       "9.0      958.5\n",
       "10.0    1150.0\n",
       "11.0    1150.0\n",
       "12.0    1277.0\n",
       "Name: income, dtype: float64"
      ]
     },
     "metadata": {},
     "output_type": "display_data"
    },
    {
     "data": {
      "text/plain": [
       "month\n",
       "1.0     1950\n",
       "2.0     1950\n",
       "3.0     1950\n",
       "4.0     1950\n",
       "5.0     1950\n",
       "6.0     1950\n",
       "7.0     1950\n",
       "8.0     1950\n",
       "9.0     1950\n",
       "10.0    1950\n",
       "11.0    1950\n",
       "12.0    1950\n",
       "Name: income, dtype: int64"
      ]
     },
     "metadata": {},
     "output_type": "display_data"
    }
   ],
   "source": [
    "smart_median_month= smart.groupby('month')['income'].median()\n",
    "display(smart_median_month)\n",
    "ultra_median_month= ultra.groupby('month')['income'].median()\n",
    "display(ultra_median_month)"
   ]
  },
  {
   "cell_type": "markdown",
   "metadata": {},
   "source": [
    "Посмотрев на медианую стоимость по каждому месяцу уже можно сделать три интересных наблюдения \n",
    "\n",
    "1. С тарифом смарт люди в среднем чаще выходят за границы тарифа\n",
    "2. В основном с каждым месяцом медианная стоимость тарифа смарт увеличивается и концу года она в два раза больше\n",
    "3. С тарифом ультра люди почти не выходят за границы тарифа\n",
    "\n",
    "Чтобы посмотреть выходят ли люди вообще за границы тарифа построим график распределения значений и посчитаем общее уол-во таких людей "
   ]
  },
  {
   "cell_type": "code",
   "execution_count": 20,
   "metadata": {
    "scrolled": false
   },
   "outputs": [
    {
     "data": {
      "text/plain": [
       "134"
      ]
     },
     "metadata": {},
     "output_type": "display_data"
    },
    {
     "data": {
      "image/png": "[encoded data removed]",
      "text/plain": [
       "<Figure size 288x288 with 1 Axes>"
      ]
     },
     "metadata": {
      "needs_background": "light"
     },
     "output_type": "display_data"
    },
    {
     "data": {
      "text/plain": [
       "(0.0, 13.0)"
      ]
     },
     "execution_count": 20,
     "metadata": {},
     "output_type": "execute_result"
    },
    {
     "data": {
      "image/png": "[encoded data removed]",
      "text/plain": [
       "<Figure size 288x288 with 1 Axes>"
      ]
     },
     "metadata": {
      "needs_background": "light"
     },
     "output_type": "display_data"
    }
   ],
   "source": [
    "display(ultra[ultra['income']>1950]['user_id'].count())\n",
    "ultra['income'].hist(bins = 50, figsize=(4, 4))\n",
    "plt.show()\n",
    "ultra['income'].hist(bins = 50, figsize=(4, 4))\n",
    "plt.ylim(0,13)"
   ]
  },
  {
   "cell_type": "markdown",
   "metadata": {},
   "source": [
    "Интересно, что <b> юзеры выходили за границы тарифа </b> всего 134 раза\n",
    "\n",
    "Установив лимит по У для кол-ва человек мы смогли рассмотреть график поближе "
   ]
  },
  {
   "cell_type": "markdown",
   "metadata": {},
   "source": [
    "#### Анализ поведения клиентов тарифов"
   ]
  },
  {
   "cell_type": "code",
   "execution_count": 21,
   "metadata": {},
   "outputs": [],
   "source": [
    "import warnings\n",
    "warnings.filterwarnings('ignore')"
   ]
  },
  {
   "cell_type": "code",
   "execution_count": 22,
   "metadata": {
    "scrolled": true
   },
   "outputs": [
    {
     "data": {
      "image/png": "[encoded data removed]",
      "text/plain": [
       "<Figure size 432x288 with 1 Axes>"
      ]
     },
     "metadata": {
      "needs_background": "light"
     },
     "output_type": "display_data"
    },
    {
     "name": "stdout",
     "output_type": "stream",
     "text": [
      "дисперсия минут разговора тарифа Смарт: 36281.39383644458\n",
      "дисперсия минут разговора тарифа Ультра: 101052.49354928387\n",
      "стандартное отклонение минут разговора тарифа Смарт: 190.4767540579285\n",
      "стандартное отклонение минут разговора тарифа Ультра: 317.8875485911392\n",
      "среднее количество минут разговора тарифа Смарт: 417.747533632287\n",
      "среднее количество минут разговора тарифа Ультра: 526.0892494929006\n"
     ]
    }
   ],
   "source": [
    "sns.distplot(smart.sum_minets, label='smart')\n",
    "sns.distplot(ultra.sum_minets, label='ultra')\n",
    "plt.axvline(x=smart.sum_minets.mean(),\n",
    "            color='red', alpha=0.3, label='smart_mean')\n",
    "plt.axvline(x=ultra.sum_minets.mean(),\n",
    "            color='green', alpha=0.3, label='ultra_mean')\n",
    "plt.axvline(x=ultra.sum_minets.mean(),\n",
    "            color='green', alpha=0.3, label='ultra_mean')\n",
    "plt.axvline(x=500,\n",
    "            color='purple', alpha=0.3, label='smart_free_border')\n",
    "plt.axvline(x=3000,\n",
    "            color='black', alpha=0.3, label='ultra_free_border')\n",
    "plt.legend(loc='upper right')\n",
    "plt.xlim(0,1800)\n",
    "plt.show()\n",
    "variance_smart_call = np.var(smart.sum_minets, ddof=1)\n",
    "print('дисперсия минут разговора тарифа Смарт:', variance_smart_call) \n",
    "variance_ultra_call = np.var(ultra.sum_minets, ddof=1)\n",
    "print('дисперсия минут разговора тарифа Ультра:', variance_ultra_call) \n",
    "\n",
    "st_deviation_smart_call = np.sqrt(variance_smart_call)\n",
    "print('стандартное отклонение минут разговора тарифа Смарт:', st_deviation_smart_call) \n",
    "st_deviation_ultra_call = np.sqrt(variance_ultra_call)\n",
    "print('стандартное отклонение минут разговора тарифа Ультра:', st_deviation_ultra_call) \n",
    "\n",
    "print('среднее количество минут разговора тарифа Смарт:', smart['sum_minets'].mean()) \n",
    "print('среднее количество минут разговора тарифа Ультра:', ultra['sum_minets'].mean()) \n"
   ]
  },
  {
   "cell_type": "markdown",
   "metadata": {},
   "source": [
    "Оба графика имеют нормальное колоколообразное распределение\n",
    "\n",
    "График тарифа Смарт выше, что мы будем наблюдать и на следующих графиках, так как мы уже определили, что этим тарифом банально пользуется больше людей\n",
    "\n",
    "Графики имеют смещения: Смарт - небольшое смещение влево, Ультра - вправо, это означает, что среднее будет находиться левее(для Смарт) и правее(для Ультра) отностельно наибольшего кол-ва людей, что мы и наблюдаем, посмотрев на линии средних значений на графике\n",
    "\n",
    "Пики обоих графиков находятся приблизительно на одинаковых значениях - около 480 мин\n",
    "\n",
    "График тарифа Ультра более пологий, что означает, что значения распределены более равномерно по всему графику\n",
    "\n",
    "В среднем пользователи тарифа Ультра имеют больше минут разговора\n",
    "\n",
    "Дисперсия разная, соответственно и стандартное отклонение тоже"
   ]
  },
  {
   "cell_type": "code",
   "execution_count": 23,
   "metadata": {
    "scrolled": true
   },
   "outputs": [
    {
     "data": {
      "image/png": "[encoded data removed]",
      "text/plain": [
       "<Figure size 432x288 with 1 Axes>"
      ]
     },
     "metadata": {
      "needs_background": "light"
     },
     "output_type": "display_data"
    },
    {
     "name": "stdout",
     "output_type": "stream",
     "text": [
      "дисперсия количества смс тарифа Смарт: 796.9552557301129\n",
      "дисперсия количества смс тарифа Ультра: 2285.4174246558414\n",
      "стандартное отклонение количества смс тарифа Смарт: 28.230395954185852\n",
      "стандартное отклонение количества смс тарифа Ультра: 47.80603962530092\n",
      "среднее количество смс тарифа Смарт: 33.36905829596412\n",
      "среднее количество смс тарифа Ультра: 49.31338742393509\n"
     ]
    }
   ],
   "source": [
    "sns.distplot(smart.count_messages, label='smart')\n",
    "sns.distplot(ultra.count_messages, label='ultra')\n",
    "plt.axvline(x=smart.count_messages.mean(),\n",
    "            color='red', alpha=0.3, label='smart_mean')\n",
    "plt.axvline(x=ultra.count_messages.mean(),\n",
    "            color='green', alpha=0.5, label='ultra_mean')\n",
    "plt.axvline(x=50,\n",
    "            color='purple', alpha=0.5, label='smart_free_border')\n",
    "plt.axvline(x=1000,\n",
    "            color='black', alpha=0.3, label='ultra_free_border')\n",
    "plt.legend(loc='upper right')\n",
    "plt.xlim(0,300)\n",
    "plt.show()\n",
    "variance_smart_sms = np.var(smart.count_messages, ddof=1)\n",
    "print('дисперсия количества смс тарифа Смарт:', variance_smart_sms) \n",
    "variance_ultra_sms = np.var(ultra.count_messages, ddof=1)\n",
    "print('дисперсия количества смс тарифа Ультра:', variance_ultra_sms) \n",
    "\n",
    "st_deviation_smart_sms = np.sqrt(variance_smart_sms)\n",
    "print('стандартное отклонение количества смс тарифа Смарт:', st_deviation_smart_sms) \n",
    "st_deviation_ultra_sms = np.sqrt(variance_ultra_sms)\n",
    "print('стандартное отклонение количества смс тарифа Ультра:', st_deviation_ultra_sms) \n",
    "\n",
    "\n",
    "print('среднее количество смс тарифа Смарт:', smart['count_messages'].mean()) \n",
    "print('среднее количество смс тарифа Ультра:', ultra['count_messages'].mean()) \n"
   ]
  },
  {
   "cell_type": "markdown",
   "metadata": {},
   "source": [
    "Оба графика имеют значительную скошенность вправо среднее находится правее отностельно наибольшего кол-ва людей\n",
    "\n",
    "Пики обоих графиков находятся на одинаковых значениях - около 20 смс\n",
    "\n",
    "В среднем пользователи тарифа Ультра отправляют больше смс\n",
    "\n",
    "График тарифа Ультра более пологий\n",
    "\n",
    "Дисперсия и стандартное отклонение разные"
   ]
  },
  {
   "cell_type": "code",
   "execution_count": 24,
   "metadata": {
    "scrolled": true
   },
   "outputs": [
    {
     "data": {
      "image/png": "[encoded data removed]",
      "text/plain": [
       "<Figure size 432x288 with 1 Axes>"
      ]
     },
     "metadata": {
      "needs_background": "light"
     },
     "output_type": "display_data"
    },
    {
     "name": "stdout",
     "output_type": "stream",
     "text": [
      "дисперсия количества мегабайт интернета тарифа Смарт: 34564843.48129716\n",
      "дисперсия количества мегабайт интернета тарифа Ультра: 102032129.46482122\n",
      "стандартное отклонение количества смс тарифа Смарт: 5879.187314697258\n",
      "стандартное отклонение количества смс тарифа Ультра: 10101.095458653048\n",
      "среднее количество мегабайт интернета тарифа Смарт: 16201.118654708522\n",
      "среднее количество мегабайт интернета тарифа Ультра: 19449.059969574035\n"
     ]
    }
   ],
   "source": [
    "sns.distplot(smart.sum_megabajts, label='smart')\n",
    "sns.distplot(ultra.sum_megabajts, label='ultra')\n",
    "plt.axvline(x=smart.sum_megabajts.mean(),\n",
    "            color='red', alpha=0.3, label='smart_mean')\n",
    "plt.axvline(x=ultra.sum_megabajts.mean(),\n",
    "            color='green', alpha=0.3, label='ultra_mean')\n",
    "\n",
    "plt.legend(loc='upper right')\n",
    "plt.xlim(0,60_000)\n",
    "plt.show()\n",
    "variance_smart_internet = np.var(smart.sum_megabajts, ddof=1)\n",
    "print('дисперсия количества мегабайт интернета тарифа Смарт:', variance_smart_internet) \n",
    "variance_ultra_internet = np.var(ultra.sum_megabajts, ddof=1)\n",
    "print('дисперсия количества мегабайт интернета тарифа Ультра:', variance_ultra_internet) \n",
    "\n",
    "st_deviation_smart_internet = np.sqrt(variance_smart_internet)\n",
    "print('стандартное отклонение количества смс тарифа Смарт:', st_deviation_smart_internet) \n",
    "st_deviation_ultra_internet = np.sqrt(variance_ultra_internet)\n",
    "print('стандартное отклонение количества смс тарифа Ультра:', st_deviation_ultra_internet) \n",
    "\n",
    "print('среднее количество мегабайт интернета тарифа Смарт:', smart['sum_megabajts'].mean()) \n",
    "print('среднее количество мегабайт интернета тарифа Ультра:', ultra['sum_megabajts'].mean()) \n"
   ]
  },
  {
   "cell_type": "markdown",
   "metadata": {},
   "source": [
    "Оба графика имеют незначительную скошенность: Ультра - вправо, среднее находится чуть правее отностельно наибольшего кол-ва людей, Смарт - влево\n",
    "\n",
    "Пик графика Ултра правее пика графика Смарт\n",
    "\n",
    "В среднем пользователи тарифа Ультра используют больше интернета\n",
    "\n",
    "График тарифа Ультра более пологий\n",
    "\n",
    "Дисперсия и стандартное отклонение разные"
   ]
  },
  {
   "cell_type": "code",
   "execution_count": 25,
   "metadata": {},
   "outputs": [
    {
     "data": {
      "image/png": "[encoded data removed]",
      "text/plain": [
       "<Figure size 432x288 with 1 Axes>"
      ]
     },
     "metadata": {
      "needs_background": "light"
     },
     "output_type": "display_data"
    },
    {
     "data": {
      "image/png": "[encoded data removed]",
      "text/plain": [
       "<Figure size 432x288 with 1 Axes>"
      ]
     },
     "metadata": {
      "needs_background": "light"
     },
     "output_type": "display_data"
    },
    {
     "data": {
      "image/png": "[encoded data removed]",
      "text/plain": [
       "<Figure size 432x288 with 1 Axes>"
      ]
     },
     "metadata": {
      "needs_background": "light"
     },
     "output_type": "display_data"
    }
   ],
   "source": [
    "sns.distplot(smart.sum_megabajts, label='smart')\n",
    "sns.distplot(ultra.sum_megabajts, label='ultra')\n",
    "plt.axvline(x=15_360,\n",
    "            color='purple', alpha=0.3, label='smart_free_border')\n",
    "plt.axvline(x=30_720,\n",
    "            color='black', alpha=0.3, label='ultra_free_border')\n",
    "plt.legend(loc='upper right')\n",
    "plt.xlim(0,60_000) \n",
    "plt.show()\n",
    "sns.distplot(smart.sum_megabajts, label='smart')\n",
    "sns.distplot(ultra.sum_megabajts, label='ultra')\n",
    "plt.axvline(x=smart.sum_megabajts.mean(),\n",
    "            color='red', alpha=0.3, label='smart_mean')\n",
    "plt.axvline(x=ultra.sum_megabajts.mean(),\n",
    "            color='green', alpha=0.3, label='ultra_mean')\n",
    "plt.legend(loc='upper right')\n",
    "plt.xlim(0,30_720) # максимум бесплатного интернета в ультре - 30 гб\n",
    "plt.show()\n",
    "sns.distplot(smart.sum_megabajts, label='smart')\n",
    "sns.distplot(ultra.sum_megabajts, label='ultra')\n",
    "plt.axvline(x=smart.sum_megabajts.mean(),\n",
    "            color='red', alpha=0.3, label='smart_mean')\n",
    "plt.axvline(x=ultra.sum_megabajts.mean(),\n",
    "            color='green', alpha=0.3, label='ultra_mean')\n",
    "plt.legend(loc='upper right')\n",
    "plt.xlim(0,15_360) # в смарте\n",
    "plt.show()"
   ]
  },
  {
   "cell_type": "markdown",
   "metadata": {},
   "source": [
    "По графикам мы можем заметить, что около половины всех пользователей выходят за границы тарифа Смарт, а также, что пользователи тарифа Ультра выходят за границы только из-за кол-ва использованых гб интернета, смс и звонки никто переплюнул"
   ]
  },
  {
   "cell_type": "markdown",
   "metadata": {},
   "source": [
    "### Проверка гипотез"
   ]
  },
  {
   "cell_type": "markdown",
   "metadata": {},
   "source": [
    "Нулевая гипотеза №1:Средняя выручка пользователей тарифов «Ультра» и «Смарт» одинаковы\n",
    "\n",
    "Альтернативная гипотеза №1:Средняя выручка пользователей тарифов «Ультра» и «Смарт» различаются \n",
    "\n",
    "Нулевая гипотеза №2:Средняя выручка пользователей из Москвы такая же как выручка пользователей из других регионов \n",
    "\n",
    "Альтернативная гипотеза №2:Средняя выручка пользователей из Москвы отличается от выручки пользователей из других регионов\n",
    "\n",
    "Гипотезы мв будем проверять 3мя способами:\n",
    "\n",
    "1. Сравнение чисел средних значений\n",
    "2. Сравнение средних значений визуально на графике\n",
    "3. Использование т-теста для нахождения вероятности равенства двух выборок `st.ttest_ind`\n",
    "\n",
    "Пороговое значение alpha = 5% - это наиболее распространённое значение и если работодательне попросит  пересчёта, то следует использовать именно его"
   ]
  },
  {
   "cell_type": "markdown",
   "metadata": {},
   "source": [
    "#### Средняя выручка пользователей тарифов «Ультра» и «Смарт» различаются"
   ]
  },
  {
   "cell_type": "code",
   "execution_count": 26,
   "metadata": {},
   "outputs": [
    {
     "name": "stdout",
     "output_type": "stream",
     "text": [
      "дисперсия выручки тарифа Смарт: 669730.763894807\n",
      "дисперсия выручки тарифа Ультра: 141387.7148093615\n"
     ]
    }
   ],
   "source": [
    "variance_smart_income = np.var(smart.income, ddof=1)\n",
    "print('дисперсия выручки тарифа Смарт:', variance_smart_income) \n",
    "variance_ultra_income = np.var(ultra.income, ddof=1)\n",
    "print('дисперсия выручки тарифа Ультра:', variance_ultra_income) \n"
   ]
  },
  {
   "cell_type": "markdown",
   "metadata": {},
   "source": [
    "Выборки у нас большие, что хорошо для теста, но это ллишь выборки, а не генеральная совокупность, а также размер выборки и дисперсия разные, поэтому значение парамметра `equal_var` = `False`"
   ]
  },
  {
   "cell_type": "code",
   "execution_count": 27,
   "metadata": {
    "scrolled": true
   },
   "outputs": [
    {
     "name": "stdout",
     "output_type": "stream",
     "text": [
      "Средняя выручка по тарифу Смарт: 1289.6417040358745\n",
      "Средняя выручка по тарифу Ультра: 2070.030425963489\n"
     ]
    },
    {
     "data": {
      "image/png": "[encoded data removed]",
      "text/plain": [
       "<Figure size 432x288 with 1 Axes>"
      ]
     },
     "metadata": {
      "needs_background": "light"
     },
     "output_type": "display_data"
    },
    {
     "name": "stdout",
     "output_type": "stream",
     "text": [
      "p-значение:  1.927011394420941e-250\n",
      "Отвергаем нулевую гипотезу\n"
     ]
    }
   ],
   "source": [
    "print('Средняя выручка по тарифу Смарт:',smart['income'].mean())\n",
    "print('Средняя выручка по тарифу Ультра:',ultra['income'].mean())\n",
    "sns.histplot(smart.income, label='smart', alpha=0.3)\n",
    "sns.histplot(ultra.income, label='ultra', color='magenta', alpha=0.3)\n",
    "plt.axvline(x=smart.income.mean(),\n",
    "            color='red', alpha=0.6, label='smart_mean')\n",
    "plt.axvline(x=ultra.income.mean(),\n",
    "            color='green', alpha=0.6, label='ultra_mean')\n",
    "plt.legend(loc='upper right')\n",
    "plt.xlim(0,6543)\n",
    "plt.show()\n",
    "alpha = .05\n",
    "results = st.ttest_ind(\n",
    "    smart['income'], \n",
    "    ultra['income'],\n",
    "    equal_var = False)\n",
    "\n",
    "print('p-значение: ', results.pvalue)\n",
    "if  results.pvalue < alpha:\n",
    "    print(\"Отвергаем нулевую гипотезу\")\n",
    "else:\n",
    "    print(\"Не получилось отвергнуть нулевую гипотезу\") "
   ]
  },
  {
   "cell_type": "markdown",
   "metadata": {},
   "source": [
    "Среднее значение для выручки пользователей тарифа «Ультра» больше выручки пользователей тарифа «Смарт»\n",
    "\n",
    "Т-тест подтверждает, что наши данные опровергают нулевую гипотезу"
   ]
  },
  {
   "cell_type": "markdown",
   "metadata": {},
   "source": [
    "#### Средняя выручка пользователей из Москвы отличается от выручки пользователей из других регионов"
   ]
  },
  {
   "cell_type": "code",
   "execution_count": 28,
   "metadata": {
    "scrolled": true
   },
   "outputs": [
    {
     "name": "stdout",
     "output_type": "stream",
     "text": [
      "Средняя выручка по тарифу Смарт в Москве: 1239.3575129533679\n",
      "Средняя выручка по тарифу Смарт в других ренионах: 1300.1675704989154\n"
     ]
    },
    {
     "data": {
      "image/png": "[encoded data removed]",
      "text/plain": [
       "<Figure size 432x288 with 1 Axes>"
      ]
     },
     "metadata": {
      "needs_background": "light"
     },
     "output_type": "display_data"
    }
   ],
   "source": [
    "smart_moscow= smart.query('city == \"Москва\"')\n",
    "smart_anower= smart.query('city != \"Москва\"')\n",
    "ultra_moscow= ultra.query('city == \"Москва\"')\n",
    "ultra_anower= ultra.query('city != \"Москва\"')\n",
    "print('Средняя выручка по тарифу Смарт в Москве:',smart_moscow['income'].mean())\n",
    "print('Средняя выручка по тарифу Смарт в других ренионах:',smart_anower['income'].mean())\n",
    "sns.histplot(smart_moscow.income, label='moscow', alpha=0.3)\n",
    "sns.histplot(smart_anower.income, label='anower', color='magenta', alpha=0.3)\n",
    "plt.axvline(x=smart_moscow.income.mean(),\n",
    "            color='red', alpha=0.6, label='moscow_mean')\n",
    "plt.axvline(x=smart_anower.income.mean(),\n",
    "            color='green', alpha=0.6, label='anower_mean')\n",
    "plt.legend(loc='upper right')\n",
    "plt.xlim(549,6543)\n",
    "plt.title('Smart')\n",
    "plt.show()\n"
   ]
  },
  {
   "cell_type": "code",
   "execution_count": 29,
   "metadata": {},
   "outputs": [
    {
     "name": "stdout",
     "output_type": "stream",
     "text": [
      "p-значение:  0.15741281346674899\n",
      "Не получилось отвергнуть нулевую гипотезу, проверив тариф Смарт\n"
     ]
    }
   ],
   "source": [
    "results = st.ttest_ind(\n",
    "    smart_moscow['income'], \n",
    "    smart_anower['income'],\n",
    "    equal_var = False)\n",
    "\n",
    "print('p-значение: ', results.pvalue)\n",
    "\n",
    "if results.pvalue < alpha:\n",
    "    print(\"Отвергаем нулевую гипотезу\")\n",
    "else:\n",
    "    print(\"Не получилось отвергнуть нулевую гипотезу, проверив тариф Смарт\") "
   ]
  },
  {
   "cell_type": "code",
   "execution_count": 30,
   "metadata": {},
   "outputs": [
    {
     "name": "stdout",
     "output_type": "stream",
     "text": [
      "Средняя выручка по тарифу Ультра в Москве: 2074.0\n",
      "Средняя выручка по тарифу Ультра в других регионах: 2068.856767411301\n"
     ]
    },
    {
     "data": {
      "image/png": "[encoded data removed]",
      "text/plain": [
       "<Figure size 432x288 with 1 Axes>"
      ]
     },
     "metadata": {
      "needs_background": "light"
     },
     "output_type": "display_data"
    }
   ],
   "source": [
    "print('Средняя выручка по тарифу Ультра в Москве:',ultra_moscow['income'].mean())\n",
    "print('Средняя выручка по тарифу Ультра в других регионах:',ultra_anower['income'].mean())\n",
    "sns.histplot(ultra_moscow.income, label='moscow', alpha=0.3)\n",
    "sns.histplot(ultra_anower.income, label='anower', color='magenta', alpha=0.3)\n",
    "plt.axvline(x=ultra_moscow.income.mean(),\n",
    "            color='red', alpha=1, label='moscow_mean')\n",
    "plt.axvline(x=ultra_anower.income.mean(),\n",
    "            color='green', alpha=1, label='anower_mean')\n",
    "plt.legend(loc='upper right')\n",
    "plt.xlim(1949,5000)\n",
    "plt.title('Ultra')\n",
    "plt.show()"
   ]
  },
  {
   "cell_type": "code",
   "execution_count": 31,
   "metadata": {},
   "outputs": [
    {
     "name": "stdout",
     "output_type": "stream",
     "text": [
      "p-значение:  0.8499417228125278\n",
      "Не получилось отвергнуть нулевую гипотезу, проверив тариф Ультра\n"
     ]
    }
   ],
   "source": [
    "results = st.ttest_ind(\n",
    "    ultra_moscow['income'], \n",
    "    ultra_anower['income'],\n",
    "    equal_var = False)\n",
    "\n",
    "print('p-значение: ', results.pvalue)\n",
    "\n",
    "if results.pvalue < alpha:\n",
    "    print(\"Отвергаем нулевую гипотезу\")\n",
    "else:\n",
    "    print(\"Не получилось отвергнуть нулевую гипотезу, проверив тариф Ультра\") \n"
   ]
  },
  {
   "cell_type": "markdown",
   "metadata": {},
   "source": [
    "Т-тест для каждого из тарифов не дал опровергнуть нулевую гипотезу\n",
    "\n",
    "На графике и по значением средних видно, что для обоих тарифов среднее значение по Москве и регионах отличается на очень незначительное число, причём для тарифа Смарт по Москве в меньшую сторону, а для тарифа Ультра в большую, что значит что для обоих тарифов разница будет ещё меньше или её не будет вовсе\n",
    "\n",
    "Повторим наши тесты для общей выборки"
   ]
  },
  {
   "cell_type": "code",
   "execution_count": 32,
   "metadata": {
    "scrolled": true
   },
   "outputs": [
    {
     "name": "stdout",
     "output_type": "stream",
     "text": [
      "Средняя выручка в Москве: 1546.7135842880523\n",
      "Средняя выручка в других регионах: 1524.7251439539348\n",
      "p-значение:  0.5216952110000279\n",
      "Не получилось отвергнуть нулевую гипотезу\n"
     ]
    },
    {
     "data": {
      "image/png": "[encoded data removed]",
      "text/plain": [
       "<Figure size 432x288 with 1 Axes>"
      ]
     },
     "metadata": {
      "needs_background": "light"
     },
     "output_type": "display_data"
    }
   ],
   "source": [
    "\n",
    "moscow= merge_tible.query('city == \"Москва\"')\n",
    "anower= merge_tible.query('city != \"Москва\"')\n",
    "\n",
    "print('Средняя выручка в Москве:',moscow['income'].mean())\n",
    "print('Средняя выручка в других регионах:',anower['income'].mean())\n",
    "\n",
    "results = st.ttest_ind(\n",
    "    moscow['income'], \n",
    "    anower['income'],\n",
    "    equal_var = False)\n",
    "\n",
    "print('p-значение: ', results.pvalue)\n",
    "\n",
    "if results.pvalue < alpha:\n",
    "    print(\"Отвергаем нулевую гипотезу\")\n",
    "else:\n",
    "    print(\"Не получилось отвергнуть нулевую гипотезу\") \n",
    "sns.histplot(moscow.income, label='moscow', alpha=0.3)\n",
    "sns.histplot(anower.income, label='anower', color='magenta', alpha=0.3)\n",
    "plt.axvline(x=moscow.income.mean(),\n",
    "            color='red', alpha=1, label='moscow_mean')\n",
    "plt.axvline(x=anower.income.mean(),\n",
    "            color='green', alpha=1, label='anower_mean')\n",
    "plt.legend(loc='upper right')\n",
    "plt.xlim(549,6543)\n",
    "plt.title('All')\n",
    "plt.show()"
   ]
  },
  {
   "cell_type": "markdown",
   "metadata": {},
   "source": [
    "Разлиичия очень небольшое в пользу Москвы, ещё немного и можно было бы сказать, что различия весомые - это видно по т-тесту\n",
    "\n",
    "pvalue - 0.52, а альфа - 0.5, будь наша выборка ещё на 2 процента различнее или заданное альфа - 6%, можно было бв опровергнуть нулевую гипотезу\n",
    "\n",
    "А это значит, что нулевая гипотеза по этим данным не может быть отвергнута"
   ]
  },
  {
   "cell_type": "markdown",
   "metadata": {},
   "source": [
    "### Вывод"
   ]
  },
  {
   "cell_type": "markdown",
   "metadata": {},
   "source": [
    "Мы провели исследовательский анализ данных: провели сравнение данных тарифов Смарт и Ультра, выявили их различия и схожесть\n",
    "\n",
    "Определили нулевые и альтернативные гипотезы и провели тесты для опровержения нулевой гиаотезы в пользу альтернативной\n",
    "\n",
    "Тесты опровергли нулевую гипотезу - Средняя выручка пользователей тарифов «Ультра» и «Смарт» одинаковы\n",
    "\n",
    "Но подтвердили нулевую гипотезу - Средняя выручка пользователей из Москвы и пользователей из других регионов одинакова"
   ]
  },
  {
   "cell_type": "markdown",
   "metadata": {},
   "source": [
    "## Общий вывод"
   ]
  },
  {
   "cell_type": "markdown",
   "metadata": {},
   "source": [
    "Данные имели максимально удобный вид для исследовательского анализа, датафреймы не имели пропусков и дубликатов, но имели некорректные типы данных в каждой таблице с датами\n",
    "\n",
    "Для более удобного анализа данных, мы объеденили таблицы в одну, добавили необходимые столбцы, разделили твблицу на две по тарифам и далее имели все необходимые данные для проведения исследовательского анализа\n",
    "\n",
    "В нашем распоряжении были данные 500 пользователей «Мегалайна» это небольшая выборка с разной дисперсией и разным количеством клиентов для тарифов - на этом основовался выбор т-теста для проверки двух гипотез\n",
    "\n",
    "В исследовательском анализе мы обнаружили, что:\n",
    "\n",
    "1. Тарифом Смарт пользуется больше людей\n",
    "2. С тарифом Смарт люди в среднем чаще выходят за границы тарифа\n",
    "3. В основном с каждым месяцом медианная стоимость тарифа смарт увеличивается и концу года она в два раза больше\n",
    "4. С тарифом Ультра люди почти не выходят за границы тарифа\n",
    "\n",
    "5. В среднем с тарифом Смарт люди расходуют больше трафика:\n",
    "\n",
    "х \n",
    "\n",
    "среднее количество минут разговора тарифа Смарт: 395.49160593792243\n",
    "\n",
    "среднее количество минут разговора тарифа Ультра: 514.8393270241859\n",
    "\n",
    "х\n",
    "\n",
    "среднее количество смс тарифа Смарт: 38.71644120707596\n",
    "\n",
    "среднее количество смс тарифа Ультра: 61.161006289308176\n",
    "\n",
    "х\n",
    "\n",
    "среднее количество мегабайт интернета тарифа Смарт: 16215.661849192107\n",
    "\n",
    "среднее количество мегабайт интернета тарифа Ультра: 19668.48526153847\n",
    "\n",
    "х\n",
    "\n",
    "6. Выдвинули две нулевых и альтернативных гипотезы:\n",
    "\n",
    "Нулевая гипотеза №1: Средняя выручка пользователей тарифов «Ультра» и «Смарт» одинаковы - `средняя выручка тарифа Ультра больше выручки тарифа Смарт - оправержена`\n",
    "\n",
    "Альтернативная гипотеза №1: Средняя выручка пользователей тарифов «Ультра» и «Смарт» различаются - `подтверждена`\n",
    "\n",
    "Нулевая гипотеза №2:  - Средняя выручка пользователей из Москвы такая же как выручка пользователей из других регионов - `подтверждена`\n",
    "\n",
    "Альтернативная гипотеза №2: Средняя выручка пользователей из Москвы отличается от выручки пользователей из других регионов - `опровержена`\n",
    "\n",
    "Нулевая гипотеза №1 -  была опровергнута, №2 - не удалось опровергнуть, поэтому в первом случае стоит продолжать исследования в пользу альтернативной гипотезы, а во втором - стоит продолжать изучать нулевую гипотезу, ведь то, что она не опровергнута - не значит, что она подтверждена\n",
    "\n",
    "\n"
   ]
  },
  {
   "cell_type": "markdown",
   "metadata": {},
   "source": [
    "Так как наша первая нулевая гипотеза была отвергнута - мы будем исходить из того, что верна альтернативная гипотеза\n",
    "\n",
    "Она гласит, что средняя выручка тарифа Ультра больше, следовательно и наиболее выгодный тариф по выручуке - Ультра, но для того, чтобы определить какой тариф выгоднее, нужно понимпть из чего складывается прибыль компании\n",
    "\n",
    "Если прибыль зависит от того как много людей вышло за рамки тарифа, то из анализа поведения клиентов можно заметить, что тариф Смарт был бы наиболее выгодным для компании\n",
    "\n",
    "Если же наша компания имеет какие-то льготы на использование интернета, кол-ва смс или длину звонков или же они наоборот платят за это большой налог или имеют наложеную максимальную квоту, выйдя за пределы которой, тратят на это много денег,то им будет более выгоден тариф Ультра в первом случае и Смарт во втором"
   ]
  }
 ],
 "metadata": {
  "ExecuteTimeLog": [
   {
    "duration": 1356,
    "start_time": "2022-04-07T12:23:30.448Z"
   },
   {
    "duration": 0,
    "start_time": "2022-04-07T12:23:31.806Z"
   },
   {
    "duration": 0,
    "start_time": "2022-04-07T12:23:31.807Z"
   },
   {
    "duration": 0,
    "start_time": "2022-04-07T12:23:31.808Z"
   },
   {
    "duration": 0,
    "start_time": "2022-04-07T12:23:31.809Z"
   },
   {
    "duration": 0,
    "start_time": "2022-04-07T12:23:31.810Z"
   },
   {
    "duration": 0,
    "start_time": "2022-04-07T12:23:31.811Z"
   },
   {
    "duration": 0,
    "start_time": "2022-04-07T12:23:31.811Z"
   },
   {
    "duration": 0,
    "start_time": "2022-04-07T12:23:31.813Z"
   },
   {
    "duration": 0,
    "start_time": "2022-04-07T12:23:31.814Z"
   },
   {
    "duration": 0,
    "start_time": "2022-04-07T12:23:31.815Z"
   },
   {
    "duration": 0,
    "start_time": "2022-04-07T12:23:31.816Z"
   },
   {
    "duration": 0,
    "start_time": "2022-04-07T12:23:31.816Z"
   },
   {
    "duration": 0,
    "start_time": "2022-04-07T12:23:31.817Z"
   },
   {
    "duration": 0,
    "start_time": "2022-04-07T12:23:31.818Z"
   },
   {
    "duration": 0,
    "start_time": "2022-04-07T12:23:31.819Z"
   },
   {
    "duration": 0,
    "start_time": "2022-04-07T12:23:31.820Z"
   },
   {
    "duration": 0,
    "start_time": "2022-04-07T12:23:31.821Z"
   },
   {
    "duration": 0,
    "start_time": "2022-04-07T12:23:31.822Z"
   },
   {
    "duration": 0,
    "start_time": "2022-04-07T12:23:31.823Z"
   },
   {
    "duration": 0,
    "start_time": "2022-04-07T12:23:31.824Z"
   },
   {
    "duration": 0,
    "start_time": "2022-04-07T12:23:31.825Z"
   },
   {
    "duration": 0,
    "start_time": "2022-04-07T12:23:31.826Z"
   },
   {
    "duration": 0,
    "start_time": "2022-04-07T12:23:31.827Z"
   },
   {
    "duration": 0,
    "start_time": "2022-04-07T12:23:31.828Z"
   },
   {
    "duration": 0,
    "start_time": "2022-04-07T12:23:31.829Z"
   },
   {
    "duration": 6,
    "start_time": "2022-04-07T12:24:17.368Z"
   },
   {
    "duration": 337,
    "start_time": "2022-04-07T12:24:48.625Z"
   },
   {
    "duration": 257,
    "start_time": "2022-04-07T12:25:33.555Z"
   },
   {
    "duration": 201,
    "start_time": "2022-04-07T12:26:13.155Z"
   },
   {
    "duration": 90,
    "start_time": "2022-04-07T12:26:50.292Z"
   },
   {
    "duration": 110,
    "start_time": "2022-04-07T12:27:30.358Z"
   },
   {
    "duration": 1438,
    "start_time": "2022-04-07T12:27:45.671Z"
   },
   {
    "duration": 285,
    "start_time": "2022-04-07T12:27:47.110Z"
   },
   {
    "duration": 208,
    "start_time": "2022-04-07T12:27:47.397Z"
   },
   {
    "duration": 87,
    "start_time": "2022-04-07T12:27:47.608Z"
   },
   {
    "duration": 96,
    "start_time": "2022-04-07T12:27:47.696Z"
   },
   {
    "duration": 5,
    "start_time": "2022-04-07T12:27:47.794Z"
   },
   {
    "duration": 109,
    "start_time": "2022-04-07T12:27:47.801Z"
   },
   {
    "duration": 4,
    "start_time": "2022-04-07T12:27:47.912Z"
   },
   {
    "duration": 151,
    "start_time": "2022-04-07T12:27:47.918Z"
   },
   {
    "duration": 96,
    "start_time": "2022-04-07T12:27:48.072Z"
   },
   {
    "duration": 95,
    "start_time": "2022-04-07T12:27:48.169Z"
   },
   {
    "duration": 1822,
    "start_time": "2022-04-07T12:27:48.266Z"
   },
   {
    "duration": 23,
    "start_time": "2022-04-07T12:27:50.090Z"
   },
   {
    "duration": 12,
    "start_time": "2022-04-07T12:27:50.114Z"
   },
   {
    "duration": 9,
    "start_time": "2022-04-07T12:27:50.127Z"
   },
   {
    "duration": 317,
    "start_time": "2022-04-07T12:27:50.163Z"
   },
   {
    "duration": 361,
    "start_time": "2022-04-07T12:27:50.482Z"
   },
   {
    "duration": 342,
    "start_time": "2022-04-07T12:27:50.845Z"
   },
   {
    "duration": 464,
    "start_time": "2022-04-07T12:27:51.188Z"
   },
   {
    "duration": 4,
    "start_time": "2022-04-07T12:27:51.654Z"
   },
   {
    "duration": 314,
    "start_time": "2022-04-07T12:27:51.663Z"
   },
   {
    "duration": 412,
    "start_time": "2022-04-07T12:27:51.979Z"
   },
   {
    "duration": 6,
    "start_time": "2022-04-07T12:27:52.393Z"
   },
   {
    "duration": 365,
    "start_time": "2022-04-07T12:27:52.401Z"
   },
   {
    "duration": 5,
    "start_time": "2022-04-07T12:27:52.767Z"
   },
   {
    "duration": 328,
    "start_time": "2022-04-07T12:27:52.773Z"
   },
   {
    "duration": 6,
    "start_time": "2022-04-07T12:36:30.714Z"
   },
   {
    "duration": 12,
    "start_time": "2022-04-07T12:46:29.756Z"
   },
   {
    "duration": 21,
    "start_time": "2022-04-07T12:52:34.938Z"
   },
   {
    "duration": 176,
    "start_time": "2022-04-07T12:53:36.672Z"
   },
   {
    "duration": 5,
    "start_time": "2022-04-07T12:58:45.032Z"
   },
   {
    "duration": 4,
    "start_time": "2022-04-07T12:58:49.753Z"
   },
   {
    "duration": 2399,
    "start_time": "2022-04-07T13:15:51.456Z"
   },
   {
    "duration": 908,
    "start_time": "2022-04-07T13:15:53.857Z"
   },
   {
    "duration": 606,
    "start_time": "2022-04-07T13:15:54.767Z"
   },
   {
    "duration": 138,
    "start_time": "2022-04-07T13:15:55.376Z"
   },
   {
    "duration": 141,
    "start_time": "2022-04-07T13:15:55.516Z"
   },
   {
    "duration": 16,
    "start_time": "2022-04-07T13:15:55.670Z"
   },
   {
    "duration": 138,
    "start_time": "2022-04-07T13:15:55.689Z"
   },
   {
    "duration": 5,
    "start_time": "2022-04-07T13:15:55.829Z"
   },
   {
    "duration": 108,
    "start_time": "2022-04-07T13:15:55.835Z"
   },
   {
    "duration": 55,
    "start_time": "2022-04-07T13:15:55.945Z"
   },
   {
    "duration": 42,
    "start_time": "2022-04-07T13:15:56.003Z"
   },
   {
    "duration": 1293,
    "start_time": "2022-04-07T13:15:56.048Z"
   },
   {
    "duration": 39,
    "start_time": "2022-04-07T13:15:57.343Z"
   },
   {
    "duration": 15,
    "start_time": "2022-04-07T13:15:57.384Z"
   },
   {
    "duration": 17,
    "start_time": "2022-04-07T13:15:57.401Z"
   },
   {
    "duration": 385,
    "start_time": "2022-04-07T13:15:57.420Z"
   },
   {
    "duration": 377,
    "start_time": "2022-04-07T13:15:57.807Z"
   },
   {
    "duration": 406,
    "start_time": "2022-04-07T13:15:58.187Z"
   },
   {
    "duration": 468,
    "start_time": "2022-04-07T13:15:58.595Z"
   },
   {
    "duration": 6,
    "start_time": "2022-04-07T13:15:59.066Z"
   },
   {
    "duration": 383,
    "start_time": "2022-04-07T13:15:59.073Z"
   },
   {
    "duration": 383,
    "start_time": "2022-04-07T13:15:59.457Z"
   },
   {
    "duration": 4,
    "start_time": "2022-04-07T13:15:59.842Z"
   },
   {
    "duration": 301,
    "start_time": "2022-04-07T13:15:59.848Z"
   },
   {
    "duration": 8,
    "start_time": "2022-04-07T13:16:00.162Z"
   },
   {
    "duration": 387,
    "start_time": "2022-04-07T13:16:00.173Z"
   },
   {
    "duration": 1730,
    "start_time": "2022-04-07T13:25:48.684Z"
   },
   {
    "duration": 24,
    "start_time": "2022-04-07T13:26:00.040Z"
   },
   {
    "duration": 7,
    "start_time": "2022-04-07T13:26:10.048Z"
   },
   {
    "duration": 5,
    "start_time": "2022-04-07T13:26:24.706Z"
   },
   {
    "duration": 23,
    "start_time": "2022-04-07T13:26:32.438Z"
   },
   {
    "duration": 42,
    "start_time": "2022-04-07T15:09:16.473Z"
   },
   {
    "duration": 1504,
    "start_time": "2022-04-07T15:09:23.277Z"
   },
   {
    "duration": 247,
    "start_time": "2022-04-07T15:09:24.783Z"
   },
   {
    "duration": 186,
    "start_time": "2022-04-07T15:09:25.031Z"
   },
   {
    "duration": 86,
    "start_time": "2022-04-07T15:09:25.219Z"
   },
   {
    "duration": 93,
    "start_time": "2022-04-07T15:09:25.306Z"
   },
   {
    "duration": 5,
    "start_time": "2022-04-07T15:09:25.401Z"
   },
   {
    "duration": 102,
    "start_time": "2022-04-07T15:09:25.408Z"
   },
   {
    "duration": 4,
    "start_time": "2022-04-07T15:09:25.512Z"
   },
   {
    "duration": 75,
    "start_time": "2022-04-07T15:09:25.517Z"
   },
   {
    "duration": 51,
    "start_time": "2022-04-07T15:09:25.594Z"
   },
   {
    "duration": 38,
    "start_time": "2022-04-07T15:09:25.647Z"
   },
   {
    "duration": 1201,
    "start_time": "2022-04-07T15:09:25.686Z"
   },
   {
    "duration": 21,
    "start_time": "2022-04-07T15:09:26.888Z"
   },
   {
    "duration": 23,
    "start_time": "2022-04-07T15:09:26.911Z"
   },
   {
    "duration": 9,
    "start_time": "2022-04-07T15:09:26.935Z"
   },
   {
    "duration": 27,
    "start_time": "2022-04-07T15:09:26.945Z"
   },
   {
    "duration": 309,
    "start_time": "2022-04-07T15:09:26.974Z"
   },
   {
    "duration": 383,
    "start_time": "2022-04-07T15:09:27.285Z"
   },
   {
    "duration": 338,
    "start_time": "2022-04-07T15:09:27.670Z"
   },
   {
    "duration": 408,
    "start_time": "2022-04-07T15:09:28.010Z"
   },
   {
    "duration": 14,
    "start_time": "2022-04-07T15:09:28.420Z"
   },
   {
    "duration": 302,
    "start_time": "2022-04-07T15:09:28.435Z"
   },
   {
    "duration": 358,
    "start_time": "2022-04-07T15:09:28.739Z"
   },
   {
    "duration": 4,
    "start_time": "2022-04-07T15:09:29.098Z"
   },
   {
    "duration": 289,
    "start_time": "2022-04-07T15:09:29.104Z"
   },
   {
    "duration": 5,
    "start_time": "2022-04-07T15:09:29.395Z"
   },
   {
    "duration": 312,
    "start_time": "2022-04-07T15:09:29.402Z"
   },
   {
    "duration": 1425,
    "start_time": "2022-04-07T15:11:53.719Z"
   },
   {
    "duration": 240,
    "start_time": "2022-04-07T15:11:55.146Z"
   },
   {
    "duration": 191,
    "start_time": "2022-04-07T15:11:55.387Z"
   },
   {
    "duration": 82,
    "start_time": "2022-04-07T15:11:55.580Z"
   },
   {
    "duration": 93,
    "start_time": "2022-04-07T15:11:55.663Z"
   },
   {
    "duration": 5,
    "start_time": "2022-04-07T15:11:55.757Z"
   },
   {
    "duration": 120,
    "start_time": "2022-04-07T15:11:55.764Z"
   },
   {
    "duration": 4,
    "start_time": "2022-04-07T15:11:55.886Z"
   },
   {
    "duration": 84,
    "start_time": "2022-04-07T15:11:55.891Z"
   },
   {
    "duration": 38,
    "start_time": "2022-04-07T15:11:55.978Z"
   },
   {
    "duration": 45,
    "start_time": "2022-04-07T15:11:56.017Z"
   },
   {
    "duration": 1270,
    "start_time": "2022-04-07T15:11:56.064Z"
   },
   {
    "duration": 27,
    "start_time": "2022-04-07T15:11:57.336Z"
   },
   {
    "duration": 14,
    "start_time": "2022-04-07T15:11:57.365Z"
   },
   {
    "duration": 11,
    "start_time": "2022-04-07T15:11:57.380Z"
   },
   {
    "duration": 437,
    "start_time": "2022-04-07T15:11:57.392Z"
   },
   {
    "duration": 493,
    "start_time": "2022-04-07T15:11:57.831Z"
   },
   {
    "duration": 406,
    "start_time": "2022-04-07T15:11:58.330Z"
   },
   {
    "duration": 435,
    "start_time": "2022-04-07T15:11:58.738Z"
   },
   {
    "duration": 5,
    "start_time": "2022-04-07T15:11:59.174Z"
   },
   {
    "duration": 323,
    "start_time": "2022-04-07T15:11:59.180Z"
   },
   {
    "duration": 337,
    "start_time": "2022-04-07T15:11:59.505Z"
   },
   {
    "duration": 5,
    "start_time": "2022-04-07T15:11:59.844Z"
   },
   {
    "duration": 342,
    "start_time": "2022-04-07T15:11:59.851Z"
   },
   {
    "duration": 5,
    "start_time": "2022-04-07T15:12:00.194Z"
   },
   {
    "duration": 311,
    "start_time": "2022-04-07T15:12:00.200Z"
   },
   {
    "duration": 85,
    "start_time": "2022-04-07T15:20:24.127Z"
   },
   {
    "duration": 155,
    "start_time": "2022-04-07T15:20:27.624Z"
   },
   {
    "duration": 1365,
    "start_time": "2022-04-07T15:46:22.491Z"
   },
   {
    "duration": 272,
    "start_time": "2022-04-07T15:46:23.858Z"
   },
   {
    "duration": 188,
    "start_time": "2022-04-07T15:46:24.134Z"
   },
   {
    "duration": 94,
    "start_time": "2022-04-07T15:46:24.323Z"
   },
   {
    "duration": 98,
    "start_time": "2022-04-07T15:46:24.418Z"
   },
   {
    "duration": 5,
    "start_time": "2022-04-07T15:46:24.518Z"
   },
   {
    "duration": 114,
    "start_time": "2022-04-07T15:46:24.524Z"
   },
   {
    "duration": 9,
    "start_time": "2022-04-07T15:46:24.639Z"
   },
   {
    "duration": 78,
    "start_time": "2022-04-07T15:46:24.650Z"
   },
   {
    "duration": 44,
    "start_time": "2022-04-07T15:46:24.730Z"
   },
   {
    "duration": 36,
    "start_time": "2022-04-07T15:46:24.775Z"
   },
   {
    "duration": 1108,
    "start_time": "2022-04-07T15:46:24.812Z"
   },
   {
    "duration": 35,
    "start_time": "2022-04-07T15:46:25.921Z"
   },
   {
    "duration": 11,
    "start_time": "2022-04-07T15:46:25.960Z"
   },
   {
    "duration": 10,
    "start_time": "2022-04-07T15:46:25.973Z"
   },
   {
    "duration": 349,
    "start_time": "2022-04-07T15:46:25.985Z"
   },
   {
    "duration": 358,
    "start_time": "2022-04-07T15:46:26.335Z"
   },
   {
    "duration": 340,
    "start_time": "2022-04-07T15:46:26.694Z"
   },
   {
    "duration": 425,
    "start_time": "2022-04-07T15:46:27.035Z"
   },
   {
    "duration": 6,
    "start_time": "2022-04-07T15:46:27.462Z"
   },
   {
    "duration": 340,
    "start_time": "2022-04-07T15:46:27.469Z"
   },
   {
    "duration": 350,
    "start_time": "2022-04-07T15:46:27.811Z"
   },
   {
    "duration": 5,
    "start_time": "2022-04-07T15:46:28.163Z"
   },
   {
    "duration": 328,
    "start_time": "2022-04-07T15:46:28.170Z"
   },
   {
    "duration": 4,
    "start_time": "2022-04-07T15:46:28.500Z"
   },
   {
    "duration": 312,
    "start_time": "2022-04-07T15:46:28.506Z"
   },
   {
    "duration": 1678,
    "start_time": "2022-04-07T23:43:35.174Z"
   },
   {
    "duration": 317,
    "start_time": "2022-04-07T23:43:36.854Z"
   },
   {
    "duration": 246,
    "start_time": "2022-04-07T23:43:37.180Z"
   },
   {
    "duration": 120,
    "start_time": "2022-04-07T23:43:37.427Z"
   },
   {
    "duration": 145,
    "start_time": "2022-04-07T23:43:37.548Z"
   },
   {
    "duration": 6,
    "start_time": "2022-04-07T23:43:37.694Z"
   },
   {
    "duration": 122,
    "start_time": "2022-04-07T23:43:37.701Z"
   },
   {
    "duration": 5,
    "start_time": "2022-04-07T23:43:37.824Z"
   },
   {
    "duration": 115,
    "start_time": "2022-04-07T23:43:37.830Z"
   },
   {
    "duration": 16,
    "start_time": "2022-04-07T23:44:06.245Z"
   },
   {
    "duration": 13,
    "start_time": "2022-04-07T23:47:53.447Z"
   },
   {
    "duration": 4,
    "start_time": "2022-04-07T23:48:08.220Z"
   },
   {
    "duration": 80,
    "start_time": "2022-04-07T23:48:28.143Z"
   },
   {
    "duration": 10,
    "start_time": "2022-04-07T23:55:00.623Z"
   },
   {
    "duration": 1573,
    "start_time": "2022-04-07T23:55:14.780Z"
   },
   {
    "duration": 309,
    "start_time": "2022-04-07T23:55:16.355Z"
   },
   {
    "duration": 250,
    "start_time": "2022-04-07T23:55:16.665Z"
   },
   {
    "duration": 117,
    "start_time": "2022-04-07T23:55:16.917Z"
   },
   {
    "duration": 130,
    "start_time": "2022-04-07T23:55:17.035Z"
   },
   {
    "duration": 6,
    "start_time": "2022-04-07T23:55:17.166Z"
   },
   {
    "duration": 119,
    "start_time": "2022-04-07T23:55:17.173Z"
   },
   {
    "duration": 5,
    "start_time": "2022-04-07T23:55:17.293Z"
   },
   {
    "duration": 9,
    "start_time": "2022-04-07T23:55:17.299Z"
   },
   {
    "duration": 84,
    "start_time": "2022-04-07T23:55:17.309Z"
   },
   {
    "duration": 40,
    "start_time": "2022-04-07T23:55:17.394Z"
   },
   {
    "duration": 52,
    "start_time": "2022-04-07T23:55:17.436Z"
   },
   {
    "duration": 34,
    "start_time": "2022-04-07T23:55:19.501Z"
   },
   {
    "duration": 118,
    "start_time": "2022-04-08T00:06:20.247Z"
   },
   {
    "duration": 31,
    "start_time": "2022-04-08T00:06:36.873Z"
   },
   {
    "duration": 16,
    "start_time": "2022-04-08T00:09:09.371Z"
   },
   {
    "duration": 4,
    "start_time": "2022-04-08T00:11:58.214Z"
   },
   {
    "duration": 15,
    "start_time": "2022-04-08T00:21:36.098Z"
   },
   {
    "duration": 18,
    "start_time": "2022-04-08T00:29:07.818Z"
   },
   {
    "duration": 27,
    "start_time": "2022-04-08T00:29:16.198Z"
   },
   {
    "duration": 34,
    "start_time": "2022-04-08T00:31:14.388Z"
   },
   {
    "duration": 36,
    "start_time": "2022-04-08T00:33:33.269Z"
   },
   {
    "duration": 3061,
    "start_time": "2022-04-08T00:38:40.892Z"
   },
   {
    "duration": 38,
    "start_time": "2022-04-08T00:39:00.310Z"
   },
   {
    "duration": 940,
    "start_time": "2022-04-08T00:39:44.851Z"
   },
   {
    "duration": 922,
    "start_time": "2022-04-08T00:41:34.499Z"
   },
   {
    "duration": 737,
    "start_time": "2022-04-08T00:43:28.189Z"
   },
   {
    "duration": 687,
    "start_time": "2022-04-08T00:45:51.373Z"
   },
   {
    "duration": 809,
    "start_time": "2022-04-08T00:46:06.946Z"
   },
   {
    "duration": 380,
    "start_time": "2022-04-08T01:10:06.195Z"
   },
   {
    "duration": 313,
    "start_time": "2022-04-08T01:10:06.581Z"
   },
   {
    "duration": 241,
    "start_time": "2022-04-08T01:10:06.896Z"
   },
   {
    "duration": 121,
    "start_time": "2022-04-08T01:10:07.139Z"
   },
   {
    "duration": 143,
    "start_time": "2022-04-08T01:10:07.261Z"
   },
   {
    "duration": 5,
    "start_time": "2022-04-08T01:10:07.406Z"
   },
   {
    "duration": 118,
    "start_time": "2022-04-08T01:10:07.412Z"
   },
   {
    "duration": 5,
    "start_time": "2022-04-08T01:10:07.531Z"
   },
   {
    "duration": 6,
    "start_time": "2022-04-08T01:10:07.537Z"
   },
   {
    "duration": 65,
    "start_time": "2022-04-08T01:10:07.546Z"
   },
   {
    "duration": 37,
    "start_time": "2022-04-08T01:10:07.612Z"
   },
   {
    "duration": 51,
    "start_time": "2022-04-08T01:10:07.650Z"
   },
   {
    "duration": 18,
    "start_time": "2022-04-08T01:10:07.702Z"
   },
   {
    "duration": 36,
    "start_time": "2022-04-08T01:10:07.721Z"
   },
   {
    "duration": 886,
    "start_time": "2022-04-08T01:10:07.758Z"
   },
   {
    "duration": 19,
    "start_time": "2022-04-08T01:10:08.645Z"
   },
   {
    "duration": 22,
    "start_time": "2022-04-08T01:10:08.666Z"
   },
   {
    "duration": 8,
    "start_time": "2022-04-08T01:10:08.690Z"
   },
   {
    "duration": 302,
    "start_time": "2022-04-08T01:10:08.700Z"
   },
   {
    "duration": 367,
    "start_time": "2022-04-08T01:10:09.003Z"
   },
   {
    "duration": 323,
    "start_time": "2022-04-08T01:10:09.371Z"
   },
   {
    "duration": 476,
    "start_time": "2022-04-08T01:10:09.695Z"
   },
   {
    "duration": 339,
    "start_time": "2022-04-08T01:10:11.780Z"
   },
   {
    "duration": 664,
    "start_time": "2022-04-08T01:23:43.085Z"
   },
   {
    "duration": 364,
    "start_time": "2022-04-08T01:39:56.228Z"
   },
   {
    "duration": 389,
    "start_time": "2022-04-08T01:40:28.496Z"
   },
   {
    "duration": 395,
    "start_time": "2022-04-08T01:41:06.599Z"
   },
   {
    "duration": 322,
    "start_time": "2022-04-08T01:41:37.848Z"
   },
   {
    "duration": 337,
    "start_time": "2022-04-08T01:41:50.626Z"
   },
   {
    "duration": 314,
    "start_time": "2022-04-08T01:43:32.272Z"
   },
   {
    "duration": 356,
    "start_time": "2022-04-08T01:47:14.369Z"
   },
   {
    "duration": 297,
    "start_time": "2022-04-08T01:47:14.726Z"
   },
   {
    "duration": 228,
    "start_time": "2022-04-08T01:47:15.025Z"
   },
   {
    "duration": 132,
    "start_time": "2022-04-08T01:47:15.255Z"
   },
   {
    "duration": 137,
    "start_time": "2022-04-08T01:47:15.389Z"
   },
   {
    "duration": 5,
    "start_time": "2022-04-08T01:47:15.528Z"
   },
   {
    "duration": 108,
    "start_time": "2022-04-08T01:47:15.535Z"
   },
   {
    "duration": 5,
    "start_time": "2022-04-08T01:47:15.645Z"
   },
   {
    "duration": 7,
    "start_time": "2022-04-08T01:47:15.652Z"
   },
   {
    "duration": 70,
    "start_time": "2022-04-08T01:47:15.661Z"
   },
   {
    "duration": 38,
    "start_time": "2022-04-08T01:47:15.733Z"
   },
   {
    "duration": 35,
    "start_time": "2022-04-08T01:47:15.781Z"
   },
   {
    "duration": 16,
    "start_time": "2022-04-08T01:47:15.818Z"
   },
   {
    "duration": 54,
    "start_time": "2022-04-08T01:47:15.835Z"
   },
   {
    "duration": 1035,
    "start_time": "2022-04-08T01:47:15.890Z"
   },
   {
    "duration": 22,
    "start_time": "2022-04-08T01:47:16.926Z"
   },
   {
    "duration": 32,
    "start_time": "2022-04-08T01:47:16.949Z"
   },
   {
    "duration": 8,
    "start_time": "2022-04-08T01:47:16.983Z"
   },
   {
    "duration": 291,
    "start_time": "2022-04-08T01:47:16.993Z"
   },
   {
    "duration": 454,
    "start_time": "2022-04-08T01:47:17.286Z"
   },
   {
    "duration": 328,
    "start_time": "2022-04-08T01:47:17.741Z"
   },
   {
    "duration": 326,
    "start_time": "2022-04-08T01:47:18.080Z"
   },
   {
    "duration": 199,
    "start_time": "2022-04-08T01:47:18.408Z"
   },
   {
    "duration": 0,
    "start_time": "2022-04-08T01:47:18.609Z"
   },
   {
    "duration": 648,
    "start_time": "2022-04-08T01:47:41.017Z"
   },
   {
    "duration": 427,
    "start_time": "2022-04-08T01:48:10.942Z"
   },
   {
    "duration": 662,
    "start_time": "2022-04-08T01:48:23.336Z"
   },
   {
    "duration": 1025,
    "start_time": "2022-04-08T01:49:32.560Z"
   },
   {
    "duration": 5,
    "start_time": "2022-04-08T01:50:17.061Z"
   },
   {
    "duration": 413,
    "start_time": "2022-04-08T01:57:23.468Z"
   },
   {
    "duration": 12,
    "start_time": "2022-04-08T01:57:29.168Z"
   },
   {
    "duration": 10,
    "start_time": "2022-04-08T01:57:49.764Z"
   },
   {
    "duration": 300,
    "start_time": "2022-04-08T01:58:28.753Z"
   },
   {
    "duration": 336,
    "start_time": "2022-04-08T02:01:55.490Z"
   },
   {
    "duration": 4,
    "start_time": "2022-04-08T02:02:04.004Z"
   },
   {
    "duration": 4,
    "start_time": "2022-04-08T02:02:09.848Z"
   },
   {
    "duration": 308,
    "start_time": "2022-04-08T02:02:17.349Z"
   },
   {
    "duration": 5,
    "start_time": "2022-04-08T02:03:09.441Z"
   },
   {
    "duration": 4,
    "start_time": "2022-04-08T02:03:20.262Z"
   },
   {
    "duration": 344,
    "start_time": "2022-04-08T02:05:14.043Z"
   },
   {
    "duration": 349,
    "start_time": "2022-04-08T02:05:29.900Z"
   },
   {
    "duration": 3408,
    "start_time": "2022-04-08T17:21:19.941Z"
   },
   {
    "duration": 594,
    "start_time": "2022-04-08T17:21:23.352Z"
   },
   {
    "duration": 354,
    "start_time": "2022-04-08T17:21:23.948Z"
   },
   {
    "duration": 93,
    "start_time": "2022-04-08T17:21:24.304Z"
   },
   {
    "duration": 102,
    "start_time": "2022-04-08T17:21:24.398Z"
   },
   {
    "duration": 7,
    "start_time": "2022-04-08T17:21:24.502Z"
   },
   {
    "duration": 139,
    "start_time": "2022-04-08T17:21:24.511Z"
   },
   {
    "duration": 5,
    "start_time": "2022-04-08T17:21:24.652Z"
   },
   {
    "duration": 17,
    "start_time": "2022-04-08T17:21:24.659Z"
   },
   {
    "duration": 95,
    "start_time": "2022-04-08T17:21:24.679Z"
   },
   {
    "duration": 48,
    "start_time": "2022-04-08T17:21:24.776Z"
   },
   {
    "duration": 47,
    "start_time": "2022-04-08T17:21:24.839Z"
   },
   {
    "duration": 23,
    "start_time": "2022-04-08T17:21:24.888Z"
   },
   {
    "duration": 73,
    "start_time": "2022-04-08T17:21:24.914Z"
   },
   {
    "duration": 2157,
    "start_time": "2022-04-08T17:21:24.989Z"
   },
   {
    "duration": 93,
    "start_time": "2022-04-08T17:21:27.148Z"
   },
   {
    "duration": 19,
    "start_time": "2022-04-08T17:21:27.243Z"
   },
   {
    "duration": 17,
    "start_time": "2022-04-08T17:21:27.265Z"
   },
   {
    "duration": 1136,
    "start_time": "2022-04-08T17:21:27.339Z"
   },
   {
    "duration": 780,
    "start_time": "2022-04-08T17:21:28.477Z"
   },
   {
    "duration": 561,
    "start_time": "2022-04-08T17:21:29.259Z"
   },
   {
    "duration": 490,
    "start_time": "2022-04-08T17:21:29.822Z"
   },
   {
    "duration": 1141,
    "start_time": "2022-04-08T17:21:30.315Z"
   },
   {
    "duration": 5,
    "start_time": "2022-04-08T17:21:31.458Z"
   },
   {
    "duration": 374,
    "start_time": "2022-04-08T17:21:31.465Z"
   },
   {
    "duration": 418,
    "start_time": "2022-04-08T17:21:31.841Z"
   },
   {
    "duration": 6,
    "start_time": "2022-04-08T17:21:32.261Z"
   },
   {
    "duration": 456,
    "start_time": "2022-04-08T17:21:32.271Z"
   },
   {
    "duration": 9,
    "start_time": "2022-04-08T17:21:32.729Z"
   },
   {
    "duration": 408,
    "start_time": "2022-04-08T17:21:32.740Z"
   },
   {
    "duration": 5,
    "start_time": "2022-04-08T17:23:12.801Z"
   },
   {
    "duration": 5,
    "start_time": "2022-04-08T17:23:15.395Z"
   },
   {
    "duration": 4,
    "start_time": "2022-04-08T17:23:18.243Z"
   },
   {
    "duration": 2092,
    "start_time": "2022-04-08T17:23:36.747Z"
   },
   {
    "duration": 539,
    "start_time": "2022-04-08T17:23:38.842Z"
   },
   {
    "duration": 379,
    "start_time": "2022-04-08T17:23:39.383Z"
   },
   {
    "duration": 91,
    "start_time": "2022-04-08T17:23:39.764Z"
   },
   {
    "duration": 104,
    "start_time": "2022-04-08T17:23:39.857Z"
   },
   {
    "duration": 7,
    "start_time": "2022-04-08T17:23:39.963Z"
   },
   {
    "duration": 206,
    "start_time": "2022-04-08T17:23:39.971Z"
   },
   {
    "duration": 6,
    "start_time": "2022-04-08T17:23:40.179Z"
   },
   {
    "duration": 14,
    "start_time": "2022-04-08T17:23:40.186Z"
   },
   {
    "duration": 103,
    "start_time": "2022-04-08T17:23:40.203Z"
   },
   {
    "duration": 61,
    "start_time": "2022-04-08T17:23:40.308Z"
   },
   {
    "duration": 47,
    "start_time": "2022-04-08T17:23:40.371Z"
   },
   {
    "duration": 36,
    "start_time": "2022-04-08T17:23:40.420Z"
   },
   {
    "duration": 48,
    "start_time": "2022-04-08T17:23:40.458Z"
   },
   {
    "duration": 1139,
    "start_time": "2022-04-08T17:23:40.509Z"
   },
   {
    "duration": 26,
    "start_time": "2022-04-08T17:23:41.650Z"
   },
   {
    "duration": 18,
    "start_time": "2022-04-08T17:23:41.678Z"
   },
   {
    "duration": 42,
    "start_time": "2022-04-08T17:23:41.698Z"
   },
   {
    "duration": 372,
    "start_time": "2022-04-08T17:23:41.742Z"
   },
   {
    "duration": 550,
    "start_time": "2022-04-08T17:23:42.116Z"
   },
   {
    "duration": 472,
    "start_time": "2022-04-08T17:23:42.668Z"
   },
   {
    "duration": 512,
    "start_time": "2022-04-08T17:23:43.143Z"
   },
   {
    "duration": 1219,
    "start_time": "2022-04-08T17:23:43.657Z"
   },
   {
    "duration": 6,
    "start_time": "2022-04-08T17:23:44.878Z"
   },
   {
    "duration": 383,
    "start_time": "2022-04-08T17:23:44.886Z"
   },
   {
    "duration": 402,
    "start_time": "2022-04-08T17:23:45.270Z"
   },
   {
    "duration": 6,
    "start_time": "2022-04-08T17:23:45.674Z"
   },
   {
    "duration": 438,
    "start_time": "2022-04-08T17:23:45.683Z"
   },
   {
    "duration": 6,
    "start_time": "2022-04-08T17:23:46.123Z"
   },
   {
    "duration": 416,
    "start_time": "2022-04-08T17:23:46.130Z"
   },
   {
    "duration": 3329,
    "start_time": "2022-04-08T17:24:09.641Z"
   },
   {
    "duration": 341,
    "start_time": "2022-04-08T17:24:12.972Z"
   },
   {
    "duration": 245,
    "start_time": "2022-04-08T17:24:13.315Z"
   },
   {
    "duration": 98,
    "start_time": "2022-04-08T17:24:13.562Z"
   },
   {
    "duration": 97,
    "start_time": "2022-04-08T17:24:13.663Z"
   },
   {
    "duration": 7,
    "start_time": "2022-04-08T17:24:13.762Z"
   },
   {
    "duration": 145,
    "start_time": "2022-04-08T17:24:13.771Z"
   },
   {
    "duration": 6,
    "start_time": "2022-04-08T17:24:13.918Z"
   },
   {
    "duration": 16,
    "start_time": "2022-04-08T17:24:13.926Z"
   },
   {
    "duration": 104,
    "start_time": "2022-04-08T17:24:13.944Z"
   },
   {
    "duration": 49,
    "start_time": "2022-04-08T17:24:14.050Z"
   },
   {
    "duration": 66,
    "start_time": "2022-04-08T17:24:14.102Z"
   },
   {
    "duration": 21,
    "start_time": "2022-04-08T17:24:14.171Z"
   },
   {
    "duration": 68,
    "start_time": "2022-04-08T17:24:14.197Z"
   },
   {
    "duration": 1073,
    "start_time": "2022-04-08T17:24:14.268Z"
   },
   {
    "duration": 25,
    "start_time": "2022-04-08T17:24:15.343Z"
   },
   {
    "duration": 13,
    "start_time": "2022-04-08T17:24:15.371Z"
   },
   {
    "duration": 12,
    "start_time": "2022-04-08T17:24:15.386Z"
   },
   {
    "duration": 382,
    "start_time": "2022-04-08T17:24:15.399Z"
   },
   {
    "duration": 422,
    "start_time": "2022-04-08T17:24:15.783Z"
   },
   {
    "duration": 419,
    "start_time": "2022-04-08T17:24:16.207Z"
   },
   {
    "duration": 519,
    "start_time": "2022-04-08T17:24:16.639Z"
   },
   {
    "duration": 1212,
    "start_time": "2022-04-08T17:24:17.160Z"
   },
   {
    "duration": 5,
    "start_time": "2022-04-08T17:24:18.375Z"
   },
   {
    "duration": 455,
    "start_time": "2022-04-08T17:24:18.383Z"
   },
   {
    "duration": 420,
    "start_time": "2022-04-08T17:24:18.840Z"
   },
   {
    "duration": 6,
    "start_time": "2022-04-08T17:24:19.262Z"
   },
   {
    "duration": 441,
    "start_time": "2022-04-08T17:24:19.269Z"
   },
   {
    "duration": 6,
    "start_time": "2022-04-08T17:24:19.712Z"
   },
   {
    "duration": 384,
    "start_time": "2022-04-08T17:24:19.719Z"
   },
   {
    "duration": 2808,
    "start_time": "2022-04-08T17:24:45.671Z"
   },
   {
    "duration": 777,
    "start_time": "2022-04-08T17:24:48.481Z"
   },
   {
    "duration": 258,
    "start_time": "2022-04-08T17:24:49.260Z"
   },
   {
    "duration": 90,
    "start_time": "2022-04-08T17:24:49.521Z"
   },
   {
    "duration": 101,
    "start_time": "2022-04-08T17:24:49.613Z"
   },
   {
    "duration": 8,
    "start_time": "2022-04-08T17:24:49.716Z"
   },
   {
    "duration": 150,
    "start_time": "2022-04-08T17:24:49.726Z"
   },
   {
    "duration": 6,
    "start_time": "2022-04-08T17:24:49.878Z"
   },
   {
    "duration": 11,
    "start_time": "2022-04-08T17:24:49.886Z"
   },
   {
    "duration": 20,
    "start_time": "2022-04-08T17:24:49.901Z"
   },
   {
    "duration": 110,
    "start_time": "2022-04-08T17:24:49.922Z"
   },
   {
    "duration": 53,
    "start_time": "2022-04-08T17:24:50.033Z"
   },
   {
    "duration": 67,
    "start_time": "2022-04-08T17:24:50.088Z"
   },
   {
    "duration": 21,
    "start_time": "2022-04-08T17:24:50.157Z"
   },
   {
    "duration": 71,
    "start_time": "2022-04-08T17:24:50.180Z"
   },
   {
    "duration": 1030,
    "start_time": "2022-04-08T17:24:50.252Z"
   },
   {
    "duration": 22,
    "start_time": "2022-04-08T17:24:51.284Z"
   },
   {
    "duration": 34,
    "start_time": "2022-04-08T17:24:51.308Z"
   },
   {
    "duration": 15,
    "start_time": "2022-04-08T17:24:51.344Z"
   },
   {
    "duration": 418,
    "start_time": "2022-04-08T17:24:51.361Z"
   },
   {
    "duration": 544,
    "start_time": "2022-04-08T17:24:51.781Z"
   },
   {
    "duration": 512,
    "start_time": "2022-04-08T17:24:52.328Z"
   },
   {
    "duration": 496,
    "start_time": "2022-04-08T17:24:52.842Z"
   },
   {
    "duration": 1221,
    "start_time": "2022-04-08T17:24:53.340Z"
   },
   {
    "duration": 6,
    "start_time": "2022-04-08T17:24:54.563Z"
   },
   {
    "duration": 364,
    "start_time": "2022-04-08T17:24:54.571Z"
   },
   {
    "duration": 465,
    "start_time": "2022-04-08T17:24:54.939Z"
   },
   {
    "duration": 6,
    "start_time": "2022-04-08T17:24:55.407Z"
   },
   {
    "duration": 463,
    "start_time": "2022-04-08T17:24:55.415Z"
   },
   {
    "duration": 5,
    "start_time": "2022-04-08T17:24:55.880Z"
   },
   {
    "duration": 371,
    "start_time": "2022-04-08T17:24:55.887Z"
   },
   {
    "duration": 1768,
    "start_time": "2022-04-08T17:25:11.670Z"
   },
   {
    "duration": 539,
    "start_time": "2022-04-08T17:25:13.441Z"
   },
   {
    "duration": 386,
    "start_time": "2022-04-08T17:25:13.982Z"
   },
   {
    "duration": 94,
    "start_time": "2022-04-08T17:25:14.371Z"
   },
   {
    "duration": 116,
    "start_time": "2022-04-08T17:25:14.467Z"
   },
   {
    "duration": 57,
    "start_time": "2022-04-08T17:25:14.585Z"
   },
   {
    "duration": 414,
    "start_time": "2022-04-08T17:25:14.644Z"
   },
   {
    "duration": 7,
    "start_time": "2022-04-08T17:25:15.061Z"
   },
   {
    "duration": 40,
    "start_time": "2022-04-08T17:25:15.069Z"
   },
   {
    "duration": 26,
    "start_time": "2022-04-08T17:25:15.113Z"
   },
   {
    "duration": 102,
    "start_time": "2022-04-08T17:25:15.141Z"
   },
   {
    "duration": 53,
    "start_time": "2022-04-08T17:25:15.245Z"
   },
   {
    "duration": 66,
    "start_time": "2022-04-08T17:25:15.300Z"
   },
   {
    "duration": 21,
    "start_time": "2022-04-08T17:25:15.368Z"
   },
   {
    "duration": 65,
    "start_time": "2022-04-08T17:25:15.392Z"
   },
   {
    "duration": 1071,
    "start_time": "2022-04-08T17:25:15.460Z"
   },
   {
    "duration": 23,
    "start_time": "2022-04-08T17:25:16.538Z"
   },
   {
    "duration": 19,
    "start_time": "2022-04-08T17:25:16.563Z"
   },
   {
    "duration": 11,
    "start_time": "2022-04-08T17:25:16.584Z"
   },
   {
    "duration": 387,
    "start_time": "2022-04-08T17:25:16.597Z"
   },
   {
    "duration": 409,
    "start_time": "2022-04-08T17:25:16.986Z"
   },
   {
    "duration": 370,
    "start_time": "2022-04-08T17:25:17.397Z"
   },
   {
    "duration": 474,
    "start_time": "2022-04-08T17:25:17.769Z"
   },
   {
    "duration": 1167,
    "start_time": "2022-04-08T17:25:18.245Z"
   },
   {
    "duration": 7,
    "start_time": "2022-04-08T17:25:19.414Z"
   },
   {
    "duration": 478,
    "start_time": "2022-04-08T17:25:19.423Z"
   },
   {
    "duration": 519,
    "start_time": "2022-04-08T17:25:19.903Z"
   },
   {
    "duration": 13,
    "start_time": "2022-04-08T17:25:20.427Z"
   },
   {
    "duration": 548,
    "start_time": "2022-04-08T17:25:20.443Z"
   },
   {
    "duration": 5,
    "start_time": "2022-04-08T17:25:20.993Z"
   },
   {
    "duration": 356,
    "start_time": "2022-04-08T17:25:21.000Z"
   },
   {
    "duration": 3052,
    "start_time": "2022-04-08T17:25:31.708Z"
   },
   {
    "duration": 721,
    "start_time": "2022-04-08T17:25:34.763Z"
   },
   {
    "duration": 534,
    "start_time": "2022-04-08T17:25:35.540Z"
   },
   {
    "duration": 96,
    "start_time": "2022-04-08T17:25:36.078Z"
   },
   {
    "duration": 111,
    "start_time": "2022-04-08T17:25:36.177Z"
   },
   {
    "duration": 54,
    "start_time": "2022-04-08T17:25:36.291Z"
   },
   {
    "duration": 222,
    "start_time": "2022-04-08T17:25:36.347Z"
   },
   {
    "duration": 6,
    "start_time": "2022-04-08T17:25:36.571Z"
   },
   {
    "duration": 12,
    "start_time": "2022-04-08T17:25:36.579Z"
   },
   {
    "duration": 104,
    "start_time": "2022-04-08T17:25:36.595Z"
   },
   {
    "duration": 55,
    "start_time": "2022-04-08T17:25:36.701Z"
   },
   {
    "duration": 45,
    "start_time": "2022-04-08T17:25:36.758Z"
   },
   {
    "duration": 38,
    "start_time": "2022-04-08T17:25:36.805Z"
   },
   {
    "duration": 49,
    "start_time": "2022-04-08T17:25:36.845Z"
   },
   {
    "duration": 971,
    "start_time": "2022-04-08T17:25:36.897Z"
   },
   {
    "duration": 26,
    "start_time": "2022-04-08T17:25:37.870Z"
   },
   {
    "duration": 15,
    "start_time": "2022-04-08T17:25:37.898Z"
   },
   {
    "duration": 12,
    "start_time": "2022-04-08T17:25:37.939Z"
   },
   {
    "duration": 367,
    "start_time": "2022-04-08T17:25:37.953Z"
   },
   {
    "duration": 399,
    "start_time": "2022-04-08T17:25:38.322Z"
   },
   {
    "duration": 401,
    "start_time": "2022-04-08T17:25:38.723Z"
   },
   {
    "duration": 502,
    "start_time": "2022-04-08T17:25:39.126Z"
   },
   {
    "duration": 1213,
    "start_time": "2022-04-08T17:25:39.638Z"
   },
   {
    "duration": 5,
    "start_time": "2022-04-08T17:25:40.854Z"
   },
   {
    "duration": 403,
    "start_time": "2022-04-08T17:25:40.861Z"
   },
   {
    "duration": 413,
    "start_time": "2022-04-08T17:25:41.266Z"
   },
   {
    "duration": 5,
    "start_time": "2022-04-08T17:25:41.682Z"
   },
   {
    "duration": 435,
    "start_time": "2022-04-08T17:25:41.692Z"
   },
   {
    "duration": 16,
    "start_time": "2022-04-08T17:25:42.129Z"
   },
   {
    "duration": 416,
    "start_time": "2022-04-08T17:25:42.147Z"
   },
   {
    "duration": 2243,
    "start_time": "2022-04-08T20:18:04.319Z"
   },
   {
    "duration": 394,
    "start_time": "2022-04-08T20:18:06.565Z"
   },
   {
    "duration": 306,
    "start_time": "2022-04-08T20:18:06.961Z"
   },
   {
    "duration": 136,
    "start_time": "2022-04-08T20:18:07.270Z"
   },
   {
    "duration": 158,
    "start_time": "2022-04-08T20:18:07.409Z"
   },
   {
    "duration": 9,
    "start_time": "2022-04-08T20:18:07.569Z"
   },
   {
    "duration": 189,
    "start_time": "2022-04-08T20:18:07.580Z"
   },
   {
    "duration": 7,
    "start_time": "2022-04-08T20:18:07.771Z"
   },
   {
    "duration": 7,
    "start_time": "2022-04-08T20:18:07.780Z"
   },
   {
    "duration": 129,
    "start_time": "2022-04-08T20:18:07.790Z"
   },
   {
    "duration": 66,
    "start_time": "2022-04-08T20:18:07.921Z"
   },
   {
    "duration": 73,
    "start_time": "2022-04-08T20:18:07.989Z"
   },
   {
    "duration": 28,
    "start_time": "2022-04-08T20:18:08.064Z"
   },
   {
    "duration": 118,
    "start_time": "2022-04-08T20:18:08.142Z"
   },
   {
    "duration": 2908,
    "start_time": "2022-04-08T20:18:08.263Z"
   },
   {
    "duration": 35,
    "start_time": "2022-04-08T20:18:11.173Z"
   },
   {
    "duration": 43,
    "start_time": "2022-04-08T20:18:11.211Z"
   },
   {
    "duration": 17,
    "start_time": "2022-04-08T20:18:11.257Z"
   },
   {
    "duration": 567,
    "start_time": "2022-04-08T20:18:11.276Z"
   },
   {
    "duration": 600,
    "start_time": "2022-04-08T20:18:11.845Z"
   },
   {
    "duration": 515,
    "start_time": "2022-04-08T20:18:12.447Z"
   },
   {
    "duration": 629,
    "start_time": "2022-04-08T20:18:12.964Z"
   },
   {
    "duration": 1560,
    "start_time": "2022-04-08T20:18:13.595Z"
   },
   {
    "duration": 8,
    "start_time": "2022-04-08T20:18:15.158Z"
   },
   {
    "duration": 490,
    "start_time": "2022-04-08T20:18:15.169Z"
   },
   {
    "duration": 570,
    "start_time": "2022-04-08T20:18:15.661Z"
   },
   {
    "duration": 12,
    "start_time": "2022-04-08T20:18:16.232Z"
   },
   {
    "duration": 569,
    "start_time": "2022-04-08T20:18:16.247Z"
   },
   {
    "duration": 6,
    "start_time": "2022-04-08T20:18:16.819Z"
   },
   {
    "duration": 504,
    "start_time": "2022-04-08T20:18:16.842Z"
   },
   {
    "duration": 290,
    "start_time": "2022-04-08T20:26:20.104Z"
   },
   {
    "duration": 1968,
    "start_time": "2022-04-08T22:10:22.220Z"
   },
   {
    "duration": 390,
    "start_time": "2022-04-08T22:10:24.191Z"
   },
   {
    "duration": 303,
    "start_time": "2022-04-08T22:10:24.583Z"
   },
   {
    "duration": 143,
    "start_time": "2022-04-08T22:10:24.888Z"
   },
   {
    "duration": 152,
    "start_time": "2022-04-08T22:10:25.033Z"
   },
   {
    "duration": 11,
    "start_time": "2022-04-08T22:10:25.187Z"
   },
   {
    "duration": 176,
    "start_time": "2022-04-08T22:10:25.200Z"
   },
   {
    "duration": 7,
    "start_time": "2022-04-08T22:10:25.379Z"
   },
   {
    "duration": 19,
    "start_time": "2022-04-08T22:10:25.387Z"
   },
   {
    "duration": 117,
    "start_time": "2022-04-08T22:10:25.409Z"
   },
   {
    "duration": 60,
    "start_time": "2022-04-08T22:10:25.528Z"
   },
   {
    "duration": 73,
    "start_time": "2022-04-08T22:10:25.590Z"
   },
   {
    "duration": 29,
    "start_time": "2022-04-08T22:10:25.665Z"
   },
   {
    "duration": 87,
    "start_time": "2022-04-08T22:10:25.696Z"
   },
   {
    "duration": 1624,
    "start_time": "2022-04-08T22:10:25.785Z"
   },
   {
    "duration": 47,
    "start_time": "2022-04-08T22:10:27.411Z"
   },
   {
    "duration": 16,
    "start_time": "2022-04-08T22:10:27.460Z"
   },
   {
    "duration": 14,
    "start_time": "2022-04-08T22:10:27.478Z"
   },
   {
    "duration": 560,
    "start_time": "2022-04-08T22:10:27.494Z"
   },
   {
    "duration": 567,
    "start_time": "2022-04-08T22:10:28.056Z"
   },
   {
    "duration": 528,
    "start_time": "2022-04-08T22:10:28.626Z"
   },
   {
    "duration": 590,
    "start_time": "2022-04-08T22:10:29.156Z"
   },
   {
    "duration": 1516,
    "start_time": "2022-04-08T22:10:29.748Z"
   },
   {
    "duration": 7,
    "start_time": "2022-04-08T22:10:31.266Z"
   },
   {
    "duration": 499,
    "start_time": "2022-04-08T22:10:31.275Z"
   },
   {
    "duration": 545,
    "start_time": "2022-04-08T22:10:31.776Z"
   },
   {
    "duration": 7,
    "start_time": "2022-04-08T22:10:32.323Z"
   },
   {
    "duration": 566,
    "start_time": "2022-04-08T22:10:32.345Z"
   },
   {
    "duration": 6,
    "start_time": "2022-04-08T22:10:32.914Z"
   },
   {
    "duration": 528,
    "start_time": "2022-04-08T22:10:32.922Z"
   },
   {
    "duration": 71,
    "start_time": "2022-04-09T11:06:20.946Z"
   },
   {
    "duration": 13,
    "start_time": "2022-04-09T11:06:52.784Z"
   },
   {
    "duration": 13,
    "start_time": "2022-04-10T06:35:43.749Z"
   },
   {
    "duration": 1871,
    "start_time": "2022-04-10T06:49:28.459Z"
   },
   {
    "duration": 375,
    "start_time": "2022-04-10T06:49:30.333Z"
   },
   {
    "duration": 264,
    "start_time": "2022-04-10T06:49:30.709Z"
   },
   {
    "duration": 126,
    "start_time": "2022-04-10T06:49:30.976Z"
   },
   {
    "duration": 217,
    "start_time": "2022-04-10T06:49:31.103Z"
   },
   {
    "duration": 7,
    "start_time": "2022-04-10T06:49:31.321Z"
   },
   {
    "duration": 133,
    "start_time": "2022-04-10T06:49:31.330Z"
   },
   {
    "duration": 5,
    "start_time": "2022-04-10T06:49:31.465Z"
   },
   {
    "duration": 4,
    "start_time": "2022-04-10T06:50:34.755Z"
   },
   {
    "duration": 80,
    "start_time": "2022-04-10T06:51:52.214Z"
   },
   {
    "duration": 47,
    "start_time": "2022-04-10T06:53:09.394Z"
   },
   {
    "duration": 40,
    "start_time": "2022-04-10T06:53:32.472Z"
   },
   {
    "duration": 19,
    "start_time": "2022-04-10T06:54:03.037Z"
   },
   {
    "duration": 42,
    "start_time": "2022-04-10T06:54:26.147Z"
   },
   {
    "duration": 1026,
    "start_time": "2022-04-10T06:56:44.141Z"
   },
   {
    "duration": 24,
    "start_time": "2022-04-10T06:58:53.441Z"
   },
   {
    "duration": 13,
    "start_time": "2022-04-10T07:00:25.591Z"
   },
   {
    "duration": 11,
    "start_time": "2022-04-10T07:00:33.547Z"
   },
   {
    "duration": 312,
    "start_time": "2022-04-10T07:01:31.318Z"
   },
   {
    "duration": 3,
    "start_time": "2022-04-10T07:02:54.955Z"
   },
   {
    "duration": 398,
    "start_time": "2022-04-10T07:03:03.266Z"
   },
   {
    "duration": 361,
    "start_time": "2022-04-10T07:03:29.331Z"
   },
   {
    "duration": 445,
    "start_time": "2022-04-10T07:03:41.823Z"
   },
   {
    "duration": 998,
    "start_time": "2022-04-10T07:04:43.627Z"
   },
   {
    "duration": 5,
    "start_time": "2022-04-10T07:08:44.507Z"
   },
   {
    "duration": 284,
    "start_time": "2022-04-10T07:09:03.194Z"
   },
   {
    "duration": 353,
    "start_time": "2022-04-10T07:20:04.550Z"
   },
   {
    "duration": 4,
    "start_time": "2022-04-10T07:20:31.201Z"
   },
   {
    "duration": 379,
    "start_time": "2022-04-10T07:20:55.799Z"
   },
   {
    "duration": 4,
    "start_time": "2022-04-10T07:21:05.348Z"
   },
   {
    "duration": 325,
    "start_time": "2022-04-10T07:26:40.978Z"
   },
   {
    "duration": 1590,
    "start_time": "2022-04-10T10:10:44.158Z"
   },
   {
    "duration": 289,
    "start_time": "2022-04-10T10:10:45.750Z"
   },
   {
    "duration": 226,
    "start_time": "2022-04-10T10:10:46.040Z"
   },
   {
    "duration": 84,
    "start_time": "2022-04-10T10:10:46.269Z"
   },
   {
    "duration": 111,
    "start_time": "2022-04-10T10:10:46.354Z"
   },
   {
    "duration": 8,
    "start_time": "2022-04-10T10:10:46.467Z"
   },
   {
    "duration": 137,
    "start_time": "2022-04-10T10:10:46.477Z"
   },
   {
    "duration": 5,
    "start_time": "2022-04-10T10:10:46.615Z"
   },
   {
    "duration": 7,
    "start_time": "2022-04-10T10:10:46.621Z"
   },
   {
    "duration": 4,
    "start_time": "2022-04-10T10:10:46.630Z"
   },
   {
    "duration": 98,
    "start_time": "2022-04-10T10:10:46.636Z"
   },
   {
    "duration": 64,
    "start_time": "2022-04-10T10:10:46.735Z"
   },
   {
    "duration": 38,
    "start_time": "2022-04-10T10:10:46.800Z"
   },
   {
    "duration": 39,
    "start_time": "2022-04-10T10:10:46.840Z"
   },
   {
    "duration": 41,
    "start_time": "2022-04-10T10:10:46.880Z"
   },
   {
    "duration": 2086,
    "start_time": "2022-04-10T10:10:46.923Z"
   },
   {
    "duration": 21,
    "start_time": "2022-04-10T10:10:49.011Z"
   },
   {
    "duration": 35,
    "start_time": "2022-04-10T10:10:49.034Z"
   },
   {
    "duration": 13,
    "start_time": "2022-04-10T10:10:49.071Z"
   },
   {
    "duration": 396,
    "start_time": "2022-04-10T10:10:49.085Z"
   },
   {
    "duration": 3,
    "start_time": "2022-04-10T10:10:49.484Z"
   },
   {
    "duration": 574,
    "start_time": "2022-04-10T10:10:49.490Z"
   },
   {
    "duration": 604,
    "start_time": "2022-04-10T10:10:50.067Z"
   },
   {
    "duration": 815,
    "start_time": "2022-04-10T10:10:50.674Z"
   },
   {
    "duration": 1203,
    "start_time": "2022-04-10T10:10:51.491Z"
   },
   {
    "duration": 5,
    "start_time": "2022-04-10T10:10:52.695Z"
   },
   {
    "duration": 336,
    "start_time": "2022-04-10T10:10:52.702Z"
   },
   {
    "duration": 380,
    "start_time": "2022-04-10T10:10:53.041Z"
   },
   {
    "duration": 5,
    "start_time": "2022-04-10T10:10:53.423Z"
   },
   {
    "duration": 418,
    "start_time": "2022-04-10T10:10:53.429Z"
   },
   {
    "duration": 15,
    "start_time": "2022-04-10T10:10:53.848Z"
   },
   {
    "duration": 396,
    "start_time": "2022-04-10T10:10:53.865Z"
   },
   {
    "duration": 1515,
    "start_time": "2022-04-10T10:12:55.223Z"
   },
   {
    "duration": 293,
    "start_time": "2022-04-10T10:12:56.739Z"
   },
   {
    "duration": 217,
    "start_time": "2022-04-10T10:12:57.033Z"
   },
   {
    "duration": 96,
    "start_time": "2022-04-10T10:12:57.253Z"
   },
   {
    "duration": 101,
    "start_time": "2022-04-10T10:12:57.351Z"
   },
   {
    "duration": 12,
    "start_time": "2022-04-10T10:12:57.454Z"
   },
   {
    "duration": 126,
    "start_time": "2022-04-10T10:12:57.468Z"
   },
   {
    "duration": 5,
    "start_time": "2022-04-10T10:12:57.595Z"
   },
   {
    "duration": 9,
    "start_time": "2022-04-10T10:12:57.601Z"
   },
   {
    "duration": 11,
    "start_time": "2022-04-10T10:12:57.612Z"
   },
   {
    "duration": 90,
    "start_time": "2022-04-10T10:12:57.625Z"
   },
   {
    "duration": 42,
    "start_time": "2022-04-10T10:12:57.717Z"
   },
   {
    "duration": 42,
    "start_time": "2022-04-10T10:12:57.761Z"
   },
   {
    "duration": 17,
    "start_time": "2022-04-10T10:12:57.805Z"
   },
   {
    "duration": 68,
    "start_time": "2022-04-10T10:12:57.824Z"
   },
   {
    "duration": 1011,
    "start_time": "2022-04-10T10:12:57.893Z"
   },
   {
    "duration": 23,
    "start_time": "2022-04-10T10:12:58.905Z"
   },
   {
    "duration": 11,
    "start_time": "2022-04-10T10:12:58.929Z"
   },
   {
    "duration": 17,
    "start_time": "2022-04-10T10:12:58.962Z"
   },
   {
    "duration": 327,
    "start_time": "2022-04-10T10:12:58.980Z"
   },
   {
    "duration": 2,
    "start_time": "2022-04-10T10:12:59.309Z"
   },
   {
    "duration": 397,
    "start_time": "2022-04-10T10:12:59.312Z"
   },
   {
    "duration": 373,
    "start_time": "2022-04-10T10:12:59.710Z"
   },
   {
    "duration": 483,
    "start_time": "2022-04-10T10:13:00.085Z"
   },
   {
    "duration": 1101,
    "start_time": "2022-04-10T10:13:00.571Z"
   },
   {
    "duration": 5,
    "start_time": "2022-04-10T10:13:01.674Z"
   },
   {
    "duration": 353,
    "start_time": "2022-04-10T10:13:01.681Z"
   },
   {
    "duration": 356,
    "start_time": "2022-04-10T10:13:02.038Z"
   },
   {
    "duration": 5,
    "start_time": "2022-04-10T10:13:02.395Z"
   },
   {
    "duration": 424,
    "start_time": "2022-04-10T10:13:02.401Z"
   },
   {
    "duration": 5,
    "start_time": "2022-04-10T10:13:02.826Z"
   },
   {
    "duration": 361,
    "start_time": "2022-04-10T10:13:02.833Z"
   }
  ],
  "kernelspec": {
   "display_name": "Python 3 (ipykernel)",
   "language": "python",
   "name": "python3"
  },
  "language_info": {
   "codemirror_mode": {
    "name": "ipython",
    "version": 3
   },
   "file_extension": ".py",
   "mimetype": "text/x-python",
   "name": "python",
   "nbconvert_exporter": "python",
   "pygments_lexer": "ipython3",
   "version": "3.9.12"
  },
  "latex_envs": {
   "LaTeX_envs_menu_present": true,
   "autoclose": true,
   "autocomplete": true,
   "bibliofile": "biblio.bib",
   "cite_by": "apalike",
   "current_citInitial": 1,
   "eqLabelWithNumbers": true,
   "eqNumInitial": 1,
   "hotkeys": {
    "equation": "Ctrl-E",
    "itemize": "Ctrl-I"
   },
   "labels_anchors": false,
   "latex_user_defs": false,
   "report_style_numbering": false,
   "user_envs_cfg": false
  },
  "nbTranslate": {
   "displayLangs": [
    "ru",
    "en"
   ],
   "hotkey": "alt-t",
   "langInMainMenu": true,
   "sourceLang": "en",
   "targetLang": "ru",
   "useGoogleTranslate": true
  },
  "toc": {
   "base_numbering": 1,
   "nav_menu": {},
   "number_sections": true,
   "sideBar": true,
   "skip_h1_title": true,
   "title_cell": "Содержание",
   "title_sidebar": "Contents",
   "toc_cell": true,
   "toc_position": {
    "height": "calc(100% - 180px)",
    "left": "10px",
    "top": "150px",
    "width": "237px"
   },
   "toc_section_display": true,
   "toc_window_display": true
  }
 },
 "nbformat": 4,
 "nbformat_minor": 4
}
